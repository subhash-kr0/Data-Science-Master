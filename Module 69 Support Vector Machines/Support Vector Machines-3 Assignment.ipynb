{
 "cells": [
  {
   "attachments": {},
   "cell_type": "markdown",
   "metadata": {},
   "source": [
    "[Assignment pdf link](08%20Apr_AssQ.pdf)"
   ]
  },
  {
   "attachments": {},
   "cell_type": "markdown",
   "metadata": {},
   "source": [
    "<a id=\"1\"></a>\n",
    "\n",
    "# <p style=\"padding:10px;background-color:#87CEEB ;margin:10;color:#000000;font-family:newtimeroman;font-size:100%;text-align:center;border-radius: 10px 10px ;overflow:hidden;font-weight:50\">Question 1</p>"
   ]
  },
  {
   "attachments": {},
   "cell_type": "markdown",
   "metadata": {},
   "source": [
    "## Question 1 : In order to predict house price based on several characteristics, such as location, square footage, number of bedrooms, etc., you are developing an SVM regression model. Which regression metric in this situation would be the best to employ?\n",
    "---"
   ]
  },
  {
   "attachments": {},
   "cell_type": "markdown",
   "metadata": {},
   "source": [
    "## Answer :"
   ]
  },
  {
   "attachments": {},
   "cell_type": "markdown",
   "metadata": {},
   "source": [
    "### When developing an SVM regression model to predict house prices based on several characteristics, the choice of regression metric would depend on the specific requirements of the problem and the characteristics of the dataset. Here are some regression metrics that could be used to evaluate the performance of the SVM regression model:\n",
    "\n",
    "1. `Mean Absolute Error (MAE)`: This metric measures the average absolute difference between the predicted and actual values. It is useful when the dataset contains outliers that may affect the performance of other metrics. A lower MAE value indicates better performance.\n",
    "\n",
    "2. `Mean Squared Error (MSE)`: This metric measures the average squared difference between the predicted and actual values. It penalizes larger errors more heavily than smaller errors. A lower MSE value indicates better performance.\n",
    "\n",
    "3. `Root Mean Squared Error (RMSE)`: This metric is similar to MSE but takes the square root of the MSE to make the units of the error metric the same as the target variable. It is useful when the target variable has a specific unit, such as dollars for house prices. A lower RMSE value indicates better performance.\n",
    "\n",
    "4. `R-squared (R2)`: This metric measures the proportion of the variance in the target variable that is explained by the model. It ranges from 0 to 1, with higher values indicating better performance. R2 can be useful for comparing the performance of different models.\n",
    "\n",
    "5. `R-squared adjusted`: The R2_adj metric penalizes the inclusion of unnecessary predictor variables that do not contribute significantly to the model's performance. It is useful for preventing overfitting and providing a more accurate measure of the model's performance.\n",
    "\n",
    "The R2_adj is calculated using the formula:\n",
    "\n",
    "R2_adj = 1 - [(1 - R2) * (n - 1) / (n - k - 1)]\n",
    "\n",
    "### In general, MAE, MSE, and RMSE are commonly used regression metrics that are easy to interpret and compare across different models. R2 can also be useful for providing an overall measure of model performance. The specific choice of regression metric would depend on the requirements of the problem and the characteristics of the dataset."
   ]
  },
  {
   "attachments": {},
   "cell_type": "markdown",
   "metadata": {},
   "source": [
    "<a id=\"2\"></a>\n",
    "\n",
    "# <p style=\"padding:10px;background-color:#87CEEB ;margin:10;color:#000000;font-family:newtimeroman;font-size:100%;text-align:center;border-radius: 10px 10px ;overflow:hidden;font-weight:50\">Question 2</p>"
   ]
  },
  {
   "attachments": {},
   "cell_type": "markdown",
   "metadata": {},
   "source": [
    "## Question 2 : You have built an SVM regression model and are trying to decide between using MSE or R-squared as your evaluation metric. Which metric would be more appropriate if your goal is to predict the actual price of a house as accurately as possible.\n",
    "---"
   ]
  },
  {
   "attachments": {},
   "cell_type": "markdown",
   "metadata": {},
   "source": [
    "## Answer :"
   ]
  },
  {
   "attachments": {},
   "cell_type": "markdown",
   "metadata": {},
   "source": [
    "### If the goal is to predict the actual price of a house as accurately as possible, the Mean Squared Error (MSE) would be a more appropriate evaluation metric than R-squared (R2).\n",
    "\n",
    "### MSE measures the average squared difference between the predicted and actual values, which means it directly reflects how far the model's predictions are from the actual house prices. A lower MSE value indicates that the model's predictions are closer to the actual house prices, and therefore, a lower MSE implies higher accuracy.\n",
    "\n",
    "### On the other hand, R2 measures the proportion of the variance in the target variable that is explained by the model. While a high R2 value is generally desirable, it does not necessarily indicate that the model's predictions are close to the actual house prices. A model with a high R2 value may still have a high MSE and, therefore, could provide inaccurate predictions of house prices.\n",
    "\n",
    "### Therefore, if the primary goal is to predict the actual price of a house as accurately as possible, the MSE metric would be more appropriate as it directly reflects the accuracy of the model's predictions."
   ]
  },
  {
   "attachments": {},
   "cell_type": "markdown",
   "metadata": {},
   "source": [
    "<a id=\"3\"></a>\n",
    "\n",
    "# <p style=\"padding:10px;background-color:#87CEEB ;margin:10;color:#000000;font-family:newtimeroman;font-size:100%;text-align:center;border-radius: 10px 10px ;overflow:hidden;font-weight:50\">Question 3</p>"
   ]
  },
  {
   "attachments": {},
   "cell_type": "markdown",
   "metadata": {},
   "source": [
    "## Question 3 : You have a dataset with a significant number of outliers and are trying to select an appropriate regression metric to use with your SVM model. Which metric would be the most appropriate in this scenario?\n",
    "---"
   ]
  },
  {
   "attachments": {},
   "cell_type": "markdown",
   "metadata": {},
   "source": [
    "## Answer :"
   ]
  },
  {
   "attachments": {},
   "cell_type": "markdown",
   "metadata": {},
   "source": [
    "### If the dataset contains a significant number of outliers, the most appropriate regression metric to use with your SVM model would be the Mean Absolute Error (MAE).\n",
    "\n",
    "### MAE measures the average absolute difference between the predicted and actual values. Unlike the Mean Squared Error (MSE), which penalizes larger errors more heavily than smaller errors, MAE treats all errors equally, making it less sensitive to outliers in the dataset.\n",
    "\n",
    "### Since outliers can significantly affect the performance of other regression metrics such as MSE, MAE is a better choice when working with datasets that contain a significant number of outliers. MAE provides a more robust evaluation of the model's performance, and it is less affected by extreme values in the target variable.\n",
    "\n",
    "### Therefore, if your dataset contains a significant number of outliers, it is recommended to use the MAE metric to evaluate the performance of your SVM regression model."
   ]
  },
  {
   "attachments": {},
   "cell_type": "markdown",
   "metadata": {},
   "source": [
    "<a id=\"4\"></a>\n",
    "\n",
    "# <p style=\"padding:10px;background-color:#87CEEB ;margin:10;color:#000000;font-family:newtimeroman;font-size:100%;text-align:center;border-radius: 10px 10px ;overflow:hidden;font-weight:50\">Question 4</p>"
   ]
  },
  {
   "attachments": {},
   "cell_type": "markdown",
   "metadata": {},
   "source": [
    "## Question 4: You have built an SVM regression model using a polynomial kernel and are trying to select the best metric to evaluate its performance. You have calculated both MSE and RMSE and found that both values are very close. Which metric should you choose to use in this case?\n",
    "---"
   ]
  },
  {
   "attachments": {},
   "cell_type": "markdown",
   "metadata": {},
   "source": [
    "## Answer :"
   ]
  },
  {
   "attachments": {},
   "cell_type": "markdown",
   "metadata": {},
   "source": [
    "### If both the Mean Squared Error (MSE) and Root Mean Squared Error (RMSE) values are very close, either metric can be used to evaluate the performance of the SVM regression model using a polynomial kernel.\n",
    "\n",
    "### MSE and RMSE are both commonly used regression metrics, and they measure the same thing: the difference between the predicted and actual values. RMSE is simply the square root of MSE, which means that it penalizes larger errors more heavily than smaller errors.\n",
    "\n",
    "### In some cases, RMSE is preferred over MSE because it has the same unit as the target variable, which makes it more interpretable. However, if the difference between the two metrics is negligible, then it may not matter which one is used.\n",
    "\n",
    "### Therefore, in this case, you can choose either MSE or RMSE to evaluate the performance of the SVM regression model using a polynomial kernel, as both metrics are very close and provide a similar evaluation of the model's performance."
   ]
  },
  {
   "attachments": {},
   "cell_type": "markdown",
   "metadata": {},
   "source": [
    "<a id=\"5\"></a>\n",
    "\n",
    "# <p style=\"padding:10px;background-color:#87CEEB ;margin:10;color:#000000;font-family:newtimeroman;font-size:100%;text-align:center;border-radius: 10px 10px ;overflow:hidden;font-weight:50\">Question 5</p>"
   ]
  },
  {
   "attachments": {},
   "cell_type": "markdown",
   "metadata": {},
   "source": [
    "## Question 5 : You are comparing the performance of different SVM regression models using different kernels (linear,polynomial, and RBF) and are trying to select the best evaluation metric. Which metric would be most appropriate if your goal is to measure how well the model explains the variance in the target variable?\n",
    "---"
   ]
  },
  {
   "attachments": {},
   "cell_type": "markdown",
   "metadata": {},
   "source": [
    "## Answer :"
   ]
  },
  {
   "attachments": {},
   "cell_type": "markdown",
   "metadata": {},
   "source": [
    "### If your goal is to measure how well the SVM regression model explains the variance in the target variable, then the most appropriate evaluation metric would be the Coefficient of Determination or R-squared (R²).\n",
    "\n",
    "### The R² score measures the proportion of variance in the target variable that is explained by the model. It provides a measure of how well the model fits the data, with a value ranging from 0 to 1. A higher R² score indicates a better fit, with a score of 1 indicating a perfect fit.\n",
    "\n",
    "### R² is a commonly used metric in regression analysis and is particularly useful when comparing the performance of different models with different kernels. Since R² measures how well the model explains the variance in the target variable, it allows you to compare models with different kernels based on their ability to fit the data.\n",
    "\n",
    "### Therefore, if you are comparing the performance of different SVM regression models with different kernels and want to measure how well the models explain the variance in the target variable, R² would be the most appropriate evaluation metric."
   ]
  }
 ],
 "metadata": {
  "kernelspec": {
   "display_name": "venv",
   "language": "python",
   "name": "python3"
  },
  "language_info": {
   "name": "python",
   "version": "3.10.7"
  },
  "orig_nbformat": 4
 },
 "nbformat": 4,
 "nbformat_minor": 2
}

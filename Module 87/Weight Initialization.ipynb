{
 "cells": [
  {
   "cell_type": "markdown",
   "metadata": {
    "id": "slytvx4y3FGj"
   },
   "source": [
    "# Understanding Weight Initialization\n"
   ]
  },
  {
   "cell_type": "markdown",
   "metadata": {
    "id": "FhVdKwBA3Gp_"
   },
   "source": [
    "### Q1. Explain the importance of weight initialization in artificial neural networks. Why is it necessary to initialize the weights carefully?"
   ]
  },
  {
   "cell_type": "markdown",
   "metadata": {
    "id": "qJD5cX0akdRL"
   },
   "source": [
    "Weight initialization is a critical aspect of training artificial neural networks (ANNs) and has a significant impact on the network's convergence speed, training stability, and overall performance and it is also important for the following reaasons:\n",
    "\n",
    "1. **Avoiding Vanishing and Exploding Gradients**:\n",
    "   - When weights are initialized with very small values, it can lead to vanishing gradients during training. This means that the gradients of the loss function with respect to the weights become extremely small, causing slow convergence and making it challenging for the network to learn.\n",
    "   - Conversely, initializing weights with very large values can lead to exploding gradients, where gradients become extremely large, causing numerical instability during training.\n",
    "\n",
    "2. **Accelerating Convergence**:\n",
    "   - Proper weight initialization can accelerate the convergence of neural networks. When weights are initialized close to the optimal values, the network requires fewer iterations to reach a good solution.\n",
    "   - Faster convergence reduces training time and computational resources, making the training process more efficient.\n",
    "\n",
    "3. **Breaking Symmetry**:\n",
    "   - In neural networks with multiple neurons in a layer, if all the weights are initialized to the same value, neurons in that layer will have symmetric gradients during backpropagation. As a result, they will update their weights in the same way during training.\n",
    "   - By initializing weights differently, we can break this symmetry, allowing neurons to learn distinct features from the input data.\n",
    "\n",
    "4. **Improving Generalization**:\n",
    "   - Proper weight initialization can lead to better generalization, where the network performs well on unseen data. When weights are initialized appropriately, the network is more likely to converge to a good solution that generalizes to different examples.\n",
    "\n",
    "### Some Weight Initialization Techniques:\n",
    "- **Random Initialization**: Initializing weights with small random values from a normal or uniform distribution is a common practice. This helps break symmetry and avoids the vanishing gradient problem. Examples include using tf.keras.initializers.RandomNormal or tf.keras.initializers.RandomUniform in TensorFlow.\n",
    "\n",
    "- **Xavier/Glorot Initialization**: This method sets weights based on the number of input and output units in the layer. It helps balance the variance of activations and gradients throughout the network. Xavier initialization is often used for sigmoid and hyperbolic tangent (tanh) activation functions.\n",
    "\n",
    "- **He Initialization**: This method is designed for ReLU (Rectified Linear Unit) activation functions. It initializes weights with a higher variance to prevent the vanishing gradient problem associated with ReLU.\n"
   ]
  },
  {
   "cell_type": "markdown",
   "metadata": {
    "id": "b_st63lM3J04"
   },
   "source": [
    "### Q2. Describe the challenges associated with improper weight initialization. How do these issues affect model training and convergence ?"
   ]
  },
  {
   "cell_type": "markdown",
   "metadata": {
    "id": "3nQe8jUMlr9D"
   },
   "source": [
    "Improper weight initialization in artificial neural networks can lead to various challenges that significantly affect model training and convergence. Some of the key challenges associated with improper weight initialization are:\n",
    "\n",
    "1. **Vanishing Gradients**:\n",
    "   - **Issue**: When weights are initialized with very small values (e.g., close to zero), it can lead to vanishing gradients. This means that the gradients of the loss function with respect to the weights become extremely small during backpropagation.\n",
    "   - **Effect**: Small gradients slow down weight updates, making convergence very slow. The network struggles to learn, and training may get stuck in a suboptimal solution.\n",
    "\n",
    "2. **Exploding Gradients**:\n",
    "   - **Issue**: On the opposite end, initializing weights with very large values can result in exploding gradients. Gradients become extremely large during backpropagation.\n",
    "   - **Effect**: Large gradients can lead to numerical instability during training. This may cause weight updates to become too large and lead to divergence, where the loss increases instead of decreasing.\n",
    "\n",
    "3. **Symmetry**:\n",
    "   - **Issue**: If all the weights in a layer are initialized with the same value, neurons in that layer will have symmetric gradients during backpropagation.\n",
    "   - **Effect**: Neurons learn the same features and exhibit the same behavior, limiting the network's representational capacity. Breaking this symmetry is essential for the network to learn diverse features.\n",
    "\n",
    "4. **Slow Convergence**:\n",
    "   - **Issue**: Improper weight initialization can lead to slow convergence, where the network requires many epochs to reach a reasonable solution.\n",
    "   - **Effect**: Training time increases significantly, and in some cases, it may become impractical to train deep networks.\n",
    "\n",
    "5. **Suboptimal Solutions**:\n",
    "   - **Issue**: If weights are not initialized close to an appropriate range, the network may converge to suboptimal solutions with higher training error.\n",
    "   - **Effect**: The network may not achieve its full potential in terms of performance, leading to poor generalization on unseen data.\n",
    "\n",
    "6. **Dying Neurons**:\n",
    "   - **Issue**: If weights are initialized in a way that neurons receive inputs that result in zero activations, some neurons may become \"dead\" or inactive during training.\n",
    "   - **Effect**: These neurons never contribute to the learning process and do not adapt, reducing the network's capacity.\n",
    "\n",
    "To mitigate these challenges and facilitate successful training, it's crucial to select an appropriate weight initialization strategy based on the activation functions used in the network. Common initialization techniques, such as Xavier/Glorot initialization for sigmoid and tanh activations or He initialization for ReLU activations, are designed to address these issues by setting the initial weights to values that help balance the gradients and activations during training. Proper weight initialization not only accelerates convergence but also ensures that the network can effectively learn and represent complex patterns in the data, leading to improved model performance and better generalization to unseen examples."
   ]
  },
  {
   "cell_type": "markdown",
   "metadata": {
    "id": "HORbTdUU3Mi0"
   },
   "source": [
    "### Q3. Discuss the concept of variance and how it relates to weight initialization. Why is it crucial to consider the variance of weights during initialization?"
   ]
  },
  {
   "cell_type": "markdown",
   "metadata": {
    "id": "I87HK52dqiB3"
   },
   "source": [
    "Variance, in the context of weight initialization for artificial neural networks, is a statistical measure that quantifies the spread or dispersion of values within a set of weights in a neural network layer. It plays a crucial role in the training and behavior of neural networks, and considering the variance of weights during initialization is of paramount importance.\n",
    "\n",
    "### Reasons why variance is Important:\n",
    "\n",
    "1. **Impact on Activation Scale**:\n",
    "   - The variance of weights directly affects the scale of activations in a neural network layer. It determines how spread out or concentrated the activation values will be.\n",
    "   - High variance in weights can result in large activations, while low variance can lead to small activations.\n",
    "   - Activation values that are too small may cause vanishing gradients, impeding learning. Conversely, large activation values may lead to exploding gradients, causing training instability.\n",
    "\n",
    "2. **Balancing Gradients**:\n",
    "   - Proper weight initialization aims to balance the variance of activations and gradients throughout the network.\n",
    "   - An ideal weight initialization method sets the initial weights such that the gradients during backpropagation neither vanish (become too small) nor explode (become too large).\n",
    "   - Balancing gradients through appropriate weight variance helps ensure stable and efficient training.\n",
    "\n",
    "3. **Speed of Convergence**:\n",
    "   - The variance of weights can significantly impact the speed of convergence during training. Proper initialization methods can expedite convergence by providing a favorable starting point.\n",
    "   - Faster convergence means that the neural network requires fewer training iterations to reach a satisfactory solution, reducing computational resources and training time.\n",
    "\n",
    "4. **Generalization**:\n",
    "   - Weight variance can also influence a neural network's ability to generalize to unseen data. An appropriate initialization strategy encourages the network to converge to a solution that generalizes well.\n",
    "   - Overly large initial weights may lead to overfitting, where the network fits the training data too closely but performs poorly on new data. Overly small initial weights may lead to underfitting, where the network fails to capture the underlying patterns in the data.\n"
   ]
  },
  {
   "cell_type": "markdown",
   "metadata": {
    "id": "ANvSfNFI3SAl"
   },
   "source": [
    "# Weight Initialization Techniques\n"
   ]
  },
  {
   "cell_type": "markdown",
   "metadata": {
    "id": "MSt8RUjT3Tpw"
   },
   "source": [
    "### Q4. Explain the concept of zero initialization.Discuss its potential limitations and when it can be appropriate to use?\n"
   ]
  },
  {
   "cell_type": "markdown",
   "metadata": {
    "id": "QsWREA6-reA6"
   },
   "source": [
    "Zero initialization is a weight initialization technique where all the weights in a neural network are set to zero during initialization. While it may seem straightforward and easy to implement, zero initialization has some significant limitations, and it is not typically the recommended choice for weight initialization.\n",
    "\n",
    "**Zero Initialization**:\n",
    "- In zero initialization, all weights, biases, or parameters of the neural network are set to exactly zero.\n",
    "- Mathematically, this means initializing each weight, denoted as \\(W\\), as \\(W = 0\\).\n",
    "\n",
    "**Potential Limitations of Zero Initialization**:\n",
    "\n",
    "1. **Symmetry**: When all weights are initialized to zero, it creates a symmetry problem during training. During backpropagation, all neurons in a layer will have the same gradient, and they will all update their weights in the same way. As a result, the neurons remain symmetric, and the network cannot learn diverse features or representations.\n",
    "\n",
    "2. **Vanishing Gradients**: Zero initialization can lead to the vanishing gradient problem. If all weights are initialized to zero, the gradients of the loss with respect to the weights will also be zero. This results in extremely slow convergence and makes it challenging for the network to learn complex patterns in the data.\n",
    "\n",
    "3. **Loss of Expressiveness**: A neural network with all weights set to zero lacks the capacity to capture the diversity of patterns and relationships in the data. It severely limits the expressiveness and representational power of the network.\n",
    "\n",
    "**When Zero Initialization Can Be Appropriate**:\n",
    "\n",
    "\n",
    "1. **Custom Weight Initialization**: In some research or specialized applications, researchers may experiment with custom weight initialization methods, including zero initialization, to investigate their effects on specific problems or architectures.\n",
    "\n",
    "2. **Fine-Tuning Pretrained Models**: In transfer learning scenarios, when fine-tuning a pretrained model, the pretrained weights are usually not initialized to zero. However, the head or top layers (e.g., the classification layer) may be initialized with zeros or small random values and then trained to adapt to the specific task.\n",
    "\n",
    "3. **Exploratory Analysis**: Zero initialization can be used for exploratory purposes to understand how a neural network behaves when gradients are severely limited. This can provide insights into the challenges of training and help researchers appreciate the importance of proper weight initialization techniques.\n",
    "\n",
    "In most practical applications, especially when training deep neural networks from scratch, it is advisable to use more sophisticated weight initialization methods, such as Xavier/Glorot initialization or He initialization, which are designed to address the challenges associated with zero initialization, including vanishing gradients and symmetry problems. These methods help networks converge faster and perform better on a wide range of tasks."
   ]
  },
  {
   "cell_type": "markdown",
   "metadata": {
    "id": "nNnn_8gt3V9c"
   },
   "source": [
    "### Q5. Describe the process of random initialization. How can random initialization be adjusted to mitigate potential issues like saturation or vanishing/exploding gradients ?\n"
   ]
  },
  {
   "cell_type": "markdown",
   "metadata": {
    "id": "ncp7vH2Pu3KN"
   },
   "source": [
    "Random initialization is a weight initialization technique commonly used in artificial neural networks to set the initial values of weights and biases to random values. The process involves generating random numbers from a specified distribution and using those values as initial weights. Random initialization can be adjusted to mitigate potential issues like saturation or vanishing/exploding gradients by selecting appropriate distribution parameters and scaling factors.\n",
    "\n",
    "**Process of Random Initialization**:\n",
    "\n",
    "1. **Select a Random Distribution**: Typically, random initialization involves selecting a probability distribution from which to draw random values. Common distributions used include:\n",
    "   - Normal (Gaussian) Distribution: Values are drawn from a Gaussian distribution with mean (μ) and standard deviation (σ).\n",
    "   - Uniform Distribution: Values are drawn uniformly from a specified range, such as [0, 1].\n",
    "\n",
    "2. **Set Distribution Parameters**: Specify the parameters of the selected distribution, such as mean (μ) and standard deviation (σ) for a normal distribution, or the minimum and maximum values for a uniform distribution.\n",
    "\n",
    "3. **Generate Random Values**: Use a random number generator to generate random values according to the chosen distribution and parameters. These values become the initial weights and biases for the neural network.\n",
    "\n",
    "**Adjustments to Mitigate Issues**:\n",
    "\n",
    "To mitigate potential issues like saturation or vanishing/exploding gradients during random initialization, several adjustments can be made:\n",
    "\n",
    "1. **Scaling by Variance**:\n",
    "   - Scaling the random initialization by the square root of the number of input units (fan-in) can help control the variance of activations in a layer.\n",
    "   - For example, in Xavier/Glorot initialization, the weights are drawn from a Gaussian distribution with mean 0 and variance (2 / (fan-in + fan-out)).\n",
    "\n",
    "2. **Scaling by Fan-Out**:\n",
    "   - In some cases, scaling the initialization by the number of output units (fan-out) may be more appropriate. This is often used with the hyperbolic tangent (tanh) activation function.\n",
    "   - For example, in LeCun initialization, the weights are drawn from a Gaussian distribution with mean 0 and variance (1 / fan-out).\n",
    "\n",
    "3. **Choosing the Right Distribution**:\n",
    "   - Depending on the activation function used, different random distributions may be more suitable. For example, ReLU activations often benefit from initializing weights with small positive values to avoid dead neurons.\n",
    "\n",
    "4. **Uniform Initialization with Proper Scaling**:\n",
    "   - If using a uniform distribution for initialization, it's important to scale the range appropriately to prevent saturation or vanishing/exploding gradients.\n",
    "   - For example, in He initialization for ReLU activations, the weights are drawn from a uniform distribution within the range [-a, a], where a =      √(2 / fan-in).\n",
    "\n",
    "5. **Bias Initialization**:\n",
    "   - It's common to initialize biases to small positive values (e.g., 0.1) or set them to zero, depending on the specific activation functions and network architecture.\n",
    "\n",
    "Random initialization, when adjusted correctly, helps address the challenges associated with improper weight initialization, such as vanishing and exploding gradients. Proper scaling and distribution selection ensure that activations remain within a desirable range during training, leading to faster convergence and better network performance."
   ]
  },
  {
   "cell_type": "markdown",
   "metadata": {
    "id": "ip9v08Go3YBg"
   },
   "source": [
    "### Q6. Discuss the concept of Xavier/Glorot initialization. Explain how it addresses the challenges of improper weight initialization and the underlying theory behind it ?\n"
   ]
  },
  {
   "cell_type": "markdown",
   "metadata": {
    "id": "T1Vk9jyzzXx5"
   },
   "source": [
    "Xavier (also known as Glorot) initialization is a weight initialization technique designed to address the challenges of improper weight initialization in deep neural networks. It was proposed by Xavier Glorot and Yoshua Bengio in their 2010 paper titled \"Understanding the difficulty of training deep feedforward neural networks.\" Xavier initialization aims to set the initial weights in such a way that the variance of activations remains roughly constant across layers, which helps mitigate problems like vanishing and exploding gradients.\n",
    "\n",
    "**Xavier/Glorot Initialization Process**:\n",
    "\n",
    "1. **Select a Distribution**: Xavier initialization typically uses a normal (Gaussian) distribution with mean 0.\n",
    "\n",
    "2. **Calculate the Variance (Var)**: The variance of the selected distribution is calculated based on the number of input units (n_in) and output units (n_out) in the layer. The formula for calculating the variance is as follows:\n",
    "\n",
    "   Var = 2 / ((n_in) + (n_out))\n",
    "\n",
    "3. **Set the Initial Weights**: The initial weights are drawn from the selected normal distribution with mean 0 and variance (Var). In other words, the weights are randomly initialized with values sampled from this distribution.\n",
    "\n",
    "**Effectiveness of Xavier/Glorot Initialization**:\n",
    "\n",
    "The Xavier/Glorot initialization is based on maintaining the variance of activations across layers during forward and backward propagation. This variance preservation is essential for the efficient training of deep neural networks.\n",
    "\n",
    "1. **Balancing Gradients**: In backpropagation, gradients are propagated backward through the network. To ensure stable and efficient training, it is crucial that the variance of the gradients remains relatively constant across layers. If the variance is too small, gradients may vanish, and if it's too large, they may explode.\n",
    "\n",
    "2. **Balancing Activations**: Xavier initialization aims to maintain the variance of activations. If the weights are initialized with a large variance, the activations become too large, leading to saturation of activation functions like sigmoid and hyperbolic tangent (tanh). Conversely, if the weights have a small variance, activations may become too small, resulting in slow convergence.\n",
    "\n",
    "3. **Scaling by Fan-In and Fan-Out**: The choice of the variance formula **Var = 2 / ((n_in) + (n_out))** is based on balancing the contributions from the fan-in (number of input units) and fan-out (number of output units). This ensures that the network behaves consistently across different layers and architectures.\n",
    "\n",
    "Xavier initialization sets the initial weights of a neural network in a manner that helps overcome issues like vanishing and exploding gradients. It promotes stable and efficient training by ensuring that the variance of activations and gradients remains within desirable bounds. It is particularly suitable for layers with activation functions like sigmoid and hyperbolic tangent (tanh). However, for layers using the rectified linear unit (ReLU) activation function, He initialization is often preferred, as it is tailored to the characteristics of ReLU activations."
   ]
  },
  {
   "cell_type": "markdown",
   "metadata": {
    "id": "0mPvdBoj3aKt"
   },
   "source": [
    "### Q7. Explain the concept of He initialization. How does it differ from Xavier initialization, and when is it preferred ?"
   ]
  },
  {
   "cell_type": "markdown",
   "metadata": {
    "id": "Hz31tyA11WVN"
   },
   "source": [
    "He initialization is a weight initialization technique designed to address challenges in training deep neural networks, particularly when the rectified linear unit (ReLU) activation function is used. It was proposed by Kaiming He et al. in their 2015 paper titled \"Delving Deep into Rectifiers: Surpassing Human-Level Performance on ImageNet Classification.\"\n",
    "\n",
    "**He Initialization Process**:\n",
    "\n",
    "1. **Select a Distribution**: He initialization typically uses a normal (Gaussian) distribution with mean 0.\n",
    "\n",
    "2. **Calculate the Variance (Var)**: The variance of the selected distribution is calculated based on the number of input units (n_in) in the layer. The formula for calculating the variance is as follows:\n",
    "\n",
    "   Var = 2 / (n_in)\n",
    "\n",
    "3. **Set the Initial Weights**: The initial weights are drawn from the selected normal distribution with mean 0 and variance (Var). In other words, the weights are randomly initialized with values sampled from this distribution.\n",
    "\n",
    "**Differences Between He Initialization and Xavier Initialization**:\n",
    "\n",
    "1. **Variance Calculation**:\n",
    "   - The key difference between He initialization and Xavier initialization lies in how they calculate the variance for weight initialization.\n",
    "   - Xavier initialization considers both the number of input units (n_in) and output units (n_out) in the layer, using the formula **Var = 2 / ((n_in) + (n_out))**.\n",
    "   - He initialization, on the other hand, only considers the number of input units (n_in) and uses the formula **Var = 2 / (n_in)**. This results in a larger variance compared to Xavier initialization.\n",
    "\n",
    "2. **Activation Functions**:\n",
    "   - Xavier initialization was originally designed for activation functions like sigmoid and hyperbolic tangent (tanh), where the range of activations is between -1 and 1.\n",
    "   - He initialization is specifically tailored for ReLU (Rectified Linear Unit) and its variants (e.g., Leaky ReLU), which have a different activation range (from 0 to infinity).\n",
    "\n",
    "**When Is He Initialization Preferred?**:\n",
    "\n",
    "1. **ReLU Activation**: When the network uses the ReLU activation function or its variants (e.g., Leaky ReLU), He initialization is recommended. ReLU-based activations are widely used in modern deep learning architectures, and He initialization helps prevent issues like vanishing gradients.\n",
    "\n",
    "2. **Deep Networks**: He initialization is particularly well-suited for deep neural networks with many layers. As networks become deeper, the risk of vanishing gradients increases, making He initialization a valuable choice for training.\n",
    "\n",
    "3. **Convolutional Neural Networks (CNNs)**: CNNs often use ReLU activations, and He initialization has become a standard choice for initializing the weights of convolutional layers in CNN architectures.\n",
    "\n",
    "He initialization, is a weight initialization technique optimized for ReLU activations. It sets the initial weights with a larger variance, allowing the network to overcome the vanishing gradient problem commonly associated with ReLU-based activations. While Xavier initialization remains a useful choice for certain activation functions, He initialization is preferred in scenarios where ReLU is the primary activation function."
   ]
  },
  {
   "cell_type": "markdown",
   "metadata": {
    "id": "_nX5bbs53eo6"
   },
   "source": [
    "# Applying Weight Initialization\n"
   ]
  },
  {
   "cell_type": "markdown",
   "metadata": {
    "id": "OtBsdFl53giB"
   },
   "source": [
    "### Q1. Implement different weight initialization techniques (zero initialization, random initialization, Xavier initialization, and He initialization) in a neural network using a framework of your choice. Train the model on a suitable dataset and compare the performance of the initialized models\n"
   ]
  },
  {
   "cell_type": "code",
   "execution_count": 1,
   "metadata": {
    "id": "bDbmc2ldSB-f"
   },
   "outputs": [],
   "source": [
    "#Importing the libraries\n",
    "import keras\n",
    "import tensorflow as tf\n",
    "import pandas as pd\n",
    "import numpy as np\n",
    "import matplotlib.pyplot as plt\n",
    "import seaborn as sns"
   ]
  },
  {
   "cell_type": "code",
   "execution_count": 2,
   "metadata": {
    "colab": {
     "base_uri": "https://localhost:8080/"
    },
    "id": "dlIk_0FSSJ5z",
    "outputId": "a4532a4d-55d0-4dc5-d326-198b376f6a70"
   },
   "outputs": [
    {
     "name": "stdout",
     "output_type": "stream",
     "text": [
      "Tensorflow Version 2.13.0\n",
      "Keras Version 2.13.1\n"
     ]
    }
   ],
   "source": [
    "#Printing their versions\n",
    "print(f\"Tensorflow Version {tf.__version__}\")\n",
    "print(f\"Keras Version {keras.__version__}\")"
   ]
  },
  {
   "cell_type": "markdown",
   "metadata": {
    "id": "fzL-XCZa4C6m"
   },
   "source": [
    "Using Mnist Dataset for this :\n",
    "https://keras.io/api/datasets/mnist/"
   ]
  },
  {
   "cell_type": "code",
   "execution_count": 3,
   "metadata": {
    "id": "PGCYxF_F4LOo"
   },
   "outputs": [],
   "source": [
    "#Load the dataset\n",
    "mnist = keras.datasets.mnist\n",
    "\n",
    "(X_train_full , y_train_full) , (X_test , y_test) = mnist.load_data()"
   ]
  },
  {
   "cell_type": "code",
   "execution_count": 4,
   "metadata": {
    "colab": {
     "base_uri": "https://localhost:8080/"
    },
    "id": "PJJsLhuJ4nK7",
    "outputId": "61e54499-a31b-4f58-b7e0-256bc59f687f"
   },
   "outputs": [
    {
     "data": {
      "text/plain": [
       "((10000, 28, 28), (60000, 28, 28))"
      ]
     },
     "execution_count": 4,
     "metadata": {},
     "output_type": "execute_result"
    }
   ],
   "source": [
    "X_test.shape , X_train_full.shape"
   ]
  },
  {
   "cell_type": "code",
   "execution_count": 5,
   "metadata": {
    "id": "UtZMd2ay4tB7"
   },
   "outputs": [],
   "source": [
    "#Create a validation set from the full training data\n",
    "# Scale the data between 0 to 1 by dividing it by 255. as its an unsigned data between 0-255 range\n",
    "X_valid , X_train = (X_train_full[:7500]/255),(X_train_full[7500:]/255)\n",
    "X_test = X_test / 255\n",
    "# Scaling is not needed for out o/p feature\n",
    "y_valid , y_train = (y_train_full[:7500]),(y_train_full[7500:])"
   ]
  },
  {
   "cell_type": "code",
   "execution_count": 6,
   "metadata": {
    "colab": {
     "base_uri": "https://localhost:8080/"
    },
    "id": "NnkO8pBT5wn-",
    "outputId": "72b3286a-d3bf-48be-fa75-09a6d38ef6ea"
   },
   "outputs": [
    {
     "data": {
      "text/plain": [
       "((52500, 28, 28), (52500,))"
      ]
     },
     "execution_count": 6,
     "metadata": {},
     "output_type": "execute_result"
    }
   ],
   "source": [
    "X_train.shape , y_train.shape"
   ]
  },
  {
   "cell_type": "code",
   "execution_count": 7,
   "metadata": {
    "colab": {
     "base_uri": "https://localhost:8080/"
    },
    "id": "sonpl_5Q5xLI",
    "outputId": "4f30496a-4e06-48ac-9c27-41176d39c0ef"
   },
   "outputs": [
    {
     "data": {
      "text/plain": [
       "((10000, 28, 28), (10000,))"
      ]
     },
     "execution_count": 7,
     "metadata": {},
     "output_type": "execute_result"
    }
   ],
   "source": [
    "X_test.shape , y_test.shape"
   ]
  },
  {
   "cell_type": "code",
   "execution_count": 8,
   "metadata": {
    "colab": {
     "base_uri": "https://localhost:8080/"
    },
    "id": "TL30HVtJ5rpf",
    "outputId": "62893f76-3fa5-40ad-9f57-4c5fb41775f3"
   },
   "outputs": [
    {
     "data": {
      "text/plain": [
       "((7500, 28, 28), (7500,))"
      ]
     },
     "execution_count": 8,
     "metadata": {},
     "output_type": "execute_result"
    }
   ],
   "source": [
    "X_valid.shape , y_valid.shape"
   ]
  },
  {
   "cell_type": "code",
   "execution_count": 9,
   "metadata": {
    "colab": {
     "base_uri": "https://localhost:8080/",
     "height": 448
    },
    "id": "R1Tq_ZL951Pr",
    "outputId": "673fa368-650f-4439-a38d-0a7bcbd41b18"
   },
   "outputs": [
    {
     "data": {
      "text/plain": [
       "<matplotlib.image.AxesImage at 0x7ac6492b99c0>"
      ]
     },
     "execution_count": 9,
     "metadata": {},
     "output_type": "execute_result"
    },
    {
     "data": {
      "image/png": "[encoded data removed]",
      "text/plain": [
       "<Figure size 640x480 with 1 Axes>"
      ]
     },
     "metadata": {},
     "output_type": "display_data"
    }
   ],
   "source": [
    "#Viewing a random data\n",
    "plt.imshow(X_train[0],cmap=\"binary\")"
   ]
  },
  {
   "cell_type": "code",
   "execution_count": 10,
   "metadata": {
    "colab": {
     "base_uri": "https://localhost:8080/"
    },
    "id": "ycN6Z3mk59V0",
    "outputId": "3c343e09-01ff-48f0-f884-8acd9dcc4167"
   },
   "outputs": [
    {
     "name": "stdout",
     "output_type": "stream",
     "text": [
      "Epoch 1/10\n",
      "1641/1641 [==============================] - 16s 7ms/step - loss: 2.3017 - accuracy: 0.1113 - val_loss: 2.3010 - val_accuracy: 0.1123\n",
      "Epoch 2/10\n",
      "1641/1641 [==============================] - 13s 8ms/step - loss: 2.3014 - accuracy: 0.1124 - val_loss: 2.3009 - val_accuracy: 0.1123\n",
      "Epoch 3/10\n",
      "1641/1641 [==============================] - 7s 4ms/step - loss: 2.3014 - accuracy: 0.1124 - val_loss: 2.3012 - val_accuracy: 0.1123\n",
      "Epoch 4/10\n",
      "1641/1641 [==============================] - 7s 4ms/step - loss: 2.3014 - accuracy: 0.1124 - val_loss: 2.3009 - val_accuracy: 0.1123\n",
      "Epoch 5/10\n",
      "1641/1641 [==============================] - 6s 4ms/step - loss: 2.3014 - accuracy: 0.1124 - val_loss: 2.3009 - val_accuracy: 0.1123\n",
      "Epoch 6/10\n",
      "1641/1641 [==============================] - 8s 5ms/step - loss: 2.3014 - accuracy: 0.1124 - val_loss: 2.3010 - val_accuracy: 0.1123\n",
      "Epoch 7/10\n",
      "1641/1641 [==============================] - 7s 4ms/step - loss: 2.3014 - accuracy: 0.1124 - val_loss: 2.3010 - val_accuracy: 0.1123\n",
      "Epoch 8/10\n",
      "1641/1641 [==============================] - 7s 4ms/step - loss: 2.3014 - accuracy: 0.1124 - val_loss: 2.3010 - val_accuracy: 0.1123\n",
      "Epoch 9/10\n",
      "1641/1641 [==============================] - 6s 4ms/step - loss: 2.3014 - accuracy: 0.1124 - val_loss: 2.3011 - val_accuracy: 0.1123\n",
      "Epoch 10/10\n",
      "1641/1641 [==============================] - 9s 5ms/step - loss: 2.3014 - accuracy: 0.1124 - val_loss: 2.3009 - val_accuracy: 0.1123\n"
     ]
    }
   ],
   "source": [
    "#Creating Layers of NN with zero initializer\n",
    "\n",
    "LAYERS = [keras.layers.Flatten(input_shape =[28,28],name=\"InputLayer\"),\n",
    "          keras.layers.Dense(300,activation=\"relu\",kernel_initializer='zeros',name=\"HiddenLayer2\"),\n",
    "          keras.layers.Dense(100,activation=\"relu\",kernel_initializer='zeros',name=\"HiddenLayer3\"),\n",
    "          keras.layers.Dense(10,activation=\"softmax\",kernel_initializer='zeros',name=\"OutputLayer\")\n",
    "          ]\n",
    "\n",
    "#Creating a Sequential model with the zero initializer\n",
    "zero_initializer_model = keras.models.Sequential(LAYERS)\n",
    "\n",
    "# Compile and train the model\n",
    "zero_initializer_model.compile(optimizer='adam', loss='sparse_categorical_crossentropy', metrics=['accuracy'])\n",
    "zero_initializer_history = zero_initializer_model.fit(X_train, y_train, validation_data=(X_valid, y_valid), epochs=10)"
   ]
  },
  {
   "cell_type": "code",
   "execution_count": 11,
   "metadata": {
    "colab": {
     "base_uri": "https://localhost:8080/"
    },
    "id": "BYL67LtU6QF_",
    "outputId": "07239c3d-a8fe-4d11-e417-4bca2840821d"
   },
   "outputs": [
    {
     "name": "stdout",
     "output_type": "stream",
     "text": [
      "Epoch 1/10\n",
      "1641/1641 [==============================] - 8s 4ms/step - loss: 0.2675 - accuracy: 0.9221 - val_loss: 0.1391 - val_accuracy: 0.9579\n",
      "Epoch 2/10\n",
      "1641/1641 [==============================] - 6s 3ms/step - loss: 0.1034 - accuracy: 0.9686 - val_loss: 0.0954 - val_accuracy: 0.9720\n",
      "Epoch 3/10\n",
      "1641/1641 [==============================] - 6s 4ms/step - loss: 0.0685 - accuracy: 0.9784 - val_loss: 0.0833 - val_accuracy: 0.9768\n",
      "Epoch 4/10\n",
      "1641/1641 [==============================] - 7s 4ms/step - loss: 0.0479 - accuracy: 0.9848 - val_loss: 0.0797 - val_accuracy: 0.9781\n",
      "Epoch 5/10\n",
      "1641/1641 [==============================] - 7s 4ms/step - loss: 0.0383 - accuracy: 0.9872 - val_loss: 0.0961 - val_accuracy: 0.9737\n",
      "Epoch 6/10\n",
      "1641/1641 [==============================] - 6s 4ms/step - loss: 0.0299 - accuracy: 0.9905 - val_loss: 0.0811 - val_accuracy: 0.9777\n",
      "Epoch 7/10\n",
      "1641/1641 [==============================] - 7s 4ms/step - loss: 0.0253 - accuracy: 0.9915 - val_loss: 0.0797 - val_accuracy: 0.9805\n",
      "Epoch 8/10\n",
      "1641/1641 [==============================] - 6s 4ms/step - loss: 0.0204 - accuracy: 0.9933 - val_loss: 0.0855 - val_accuracy: 0.9795\n",
      "Epoch 9/10\n",
      "1641/1641 [==============================] - 6s 4ms/step - loss: 0.0171 - accuracy: 0.9945 - val_loss: 0.0894 - val_accuracy: 0.9784\n",
      "Epoch 10/10\n",
      "1641/1641 [==============================] - 6s 3ms/step - loss: 0.0159 - accuracy: 0.9948 - val_loss: 0.0931 - val_accuracy: 0.9797\n"
     ]
    }
   ],
   "source": [
    "#Creating Layers of NN with Random Uniform\n",
    "\n",
    "\n",
    "LAYER = [keras.layers.Flatten(input_shape =[28,28],name=\"InputLayer\"),\n",
    "          keras.layers.Dense(300,activation=\"relu\",kernel_initializer='random_uniform',name=\"HiddenLayer2\"),\n",
    "          keras.layers.Dense(100,activation=\"relu\",kernel_initializer='random_uniform',name=\"HiddenLayer3\"),\n",
    "          keras.layers.Dense(10,activation=\"softmax\",kernel_initializer='random_uniform',name=\"OutputLayer\")\n",
    "          ]\n",
    "\n",
    "#Creating a Sequential model with the Random Uniform initializer\n",
    "random_uniform_initializer_model = keras.models.Sequential(LAYER)\n",
    "\n",
    "# Compile and train the model\n",
    "random_uniform_initializer_model.compile(optimizer='adam', loss='sparse_categorical_crossentropy', metrics=['accuracy'])\n",
    "random_uniform_initializer_history = random_uniform_initializer_model.fit(X_train, y_train, validation_data=(X_valid, y_valid), epochs=10)"
   ]
  },
  {
   "cell_type": "code",
   "execution_count": 12,
   "metadata": {
    "colab": {
     "base_uri": "https://localhost:8080/"
    },
    "id": "StD9IV0LCqZS",
    "outputId": "bff6f3cf-aae5-48d8-db5a-9fcedbea9d92"
   },
   "outputs": [
    {
     "name": "stdout",
     "output_type": "stream",
     "text": [
      "Epoch 1/10\n",
      "1641/1641 [==============================] - 8s 4ms/step - loss: 0.2132 - accuracy: 0.9358 - val_loss: 0.1282 - val_accuracy: 0.9619\n",
      "Epoch 2/10\n",
      "1641/1641 [==============================] - 6s 4ms/step - loss: 0.0870 - accuracy: 0.9724 - val_loss: 0.0981 - val_accuracy: 0.9715\n",
      "Epoch 3/10\n",
      "1641/1641 [==============================] - 8s 5ms/step - loss: 0.0591 - accuracy: 0.9811 - val_loss: 0.0894 - val_accuracy: 0.9725\n",
      "Epoch 4/10\n",
      "1641/1641 [==============================] - 7s 5ms/step - loss: 0.0455 - accuracy: 0.9848 - val_loss: 0.0697 - val_accuracy: 0.9793\n",
      "Epoch 5/10\n",
      "1641/1641 [==============================] - 8s 5ms/step - loss: 0.0348 - accuracy: 0.9886 - val_loss: 0.0789 - val_accuracy: 0.9765\n",
      "Epoch 6/10\n",
      "1641/1641 [==============================] - 7s 4ms/step - loss: 0.0273 - accuracy: 0.9912 - val_loss: 0.0947 - val_accuracy: 0.9755\n",
      "Epoch 7/10\n",
      "1641/1641 [==============================] - 6s 4ms/step - loss: 0.0249 - accuracy: 0.9912 - val_loss: 0.0822 - val_accuracy: 0.9800\n",
      "Epoch 8/10\n",
      "1641/1641 [==============================] - 6s 4ms/step - loss: 0.0186 - accuracy: 0.9938 - val_loss: 0.0831 - val_accuracy: 0.9817\n",
      "Epoch 9/10\n",
      "1641/1641 [==============================] - 6s 4ms/step - loss: 0.0188 - accuracy: 0.9940 - val_loss: 0.1107 - val_accuracy: 0.9757\n",
      "Epoch 10/10\n",
      "1641/1641 [==============================] - 6s 4ms/step - loss: 0.0164 - accuracy: 0.9944 - val_loss: 0.0935 - val_accuracy: 0.9795\n"
     ]
    }
   ],
   "source": [
    "#Creating Layers of NN with Glorot Normal\n",
    "\n",
    "\n",
    "LAYERR = [keras.layers.Flatten(input_shape =[28,28],name=\"InputLayer\"),\n",
    "          keras.layers.Dense(300,activation=\"relu\",kernel_initializer='glorot_normal',name=\"HiddenLayer2\"),\n",
    "          keras.layers.Dense(100,activation=\"relu\",kernel_initializer='glorot_normal',name=\"HiddenLayer3\"),\n",
    "          keras.layers.Dense(10,activation=\"softmax\",kernel_initializer='glorot_normal',name=\"OutputLayer\")\n",
    "          ]\n",
    "\n",
    "#Creating a Sequential model with the  Glorot Normal initializer\n",
    "glorot_normal_initializer_model = keras.models.Sequential(LAYERR)\n",
    "\n",
    "# Compile and train the model\n",
    "glorot_normal_initializer_model.compile(optimizer='adam', loss='sparse_categorical_crossentropy', metrics=['accuracy'])\n",
    "glorot_normal_initializer_history = glorot_normal_initializer_model.fit(X_train, y_train, validation_data=(X_valid, y_valid), epochs=10)"
   ]
  },
  {
   "cell_type": "code",
   "execution_count": 13,
   "metadata": {
    "colab": {
     "base_uri": "https://localhost:8080/"
    },
    "id": "PcDQhvfsDC5B",
    "outputId": "a64fdee5-becf-4ede-fdbb-924c10a8a965"
   },
   "outputs": [
    {
     "name": "stdout",
     "output_type": "stream",
     "text": [
      "Epoch 1/10\n",
      "1641/1641 [==============================] - 8s 4ms/step - loss: 0.2159 - accuracy: 0.9353 - val_loss: 0.1130 - val_accuracy: 0.9639\n",
      "Epoch 2/10\n",
      "1641/1641 [==============================] - 6s 4ms/step - loss: 0.0867 - accuracy: 0.9726 - val_loss: 0.0877 - val_accuracy: 0.9741\n",
      "Epoch 3/10\n",
      "1641/1641 [==============================] - 6s 4ms/step - loss: 0.0606 - accuracy: 0.9808 - val_loss: 0.0861 - val_accuracy: 0.9731\n",
      "Epoch 4/10\n",
      "1641/1641 [==============================] - 6s 4ms/step - loss: 0.0439 - accuracy: 0.9857 - val_loss: 0.1016 - val_accuracy: 0.9687\n",
      "Epoch 5/10\n",
      "1641/1641 [==============================] - 6s 4ms/step - loss: 0.0356 - accuracy: 0.9878 - val_loss: 0.0850 - val_accuracy: 0.9763\n",
      "Epoch 6/10\n",
      "1641/1641 [==============================] - 6s 4ms/step - loss: 0.0280 - accuracy: 0.9909 - val_loss: 0.0830 - val_accuracy: 0.9811\n",
      "Epoch 7/10\n",
      "1641/1641 [==============================] - 7s 4ms/step - loss: 0.0259 - accuracy: 0.9912 - val_loss: 0.0940 - val_accuracy: 0.9768\n",
      "Epoch 8/10\n",
      "1641/1641 [==============================] - 6s 3ms/step - loss: 0.0206 - accuracy: 0.9934 - val_loss: 0.0891 - val_accuracy: 0.9788\n",
      "Epoch 9/10\n",
      "1641/1641 [==============================] - 8s 5ms/step - loss: 0.0189 - accuracy: 0.9940 - val_loss: 0.1020 - val_accuracy: 0.9783\n",
      "Epoch 10/10\n",
      "1641/1641 [==============================] - 6s 4ms/step - loss: 0.0167 - accuracy: 0.9944 - val_loss: 0.0930 - val_accuracy: 0.9803\n"
     ]
    }
   ],
   "source": [
    "#Creating Layers of NN with He Normal\n",
    "\n",
    "\n",
    "LAYERRS = [keras.layers.Flatten(input_shape =[28,28],name=\"InputLayer\"),\n",
    "          keras.layers.Dense(300,activation=\"relu\",kernel_initializer='he_normal',name=\"HiddenLayer2\"),\n",
    "          keras.layers.Dense(100,activation=\"relu\",kernel_initializer='he_normal',name=\"HiddenLayer3\"),\n",
    "          keras.layers.Dense(10,activation=\"softmax\",kernel_initializer='he_normal',name=\"OutputLayer\")\n",
    "          ]\n",
    "\n",
    "#Creating a Sequential model with the He Normal initializer\n",
    "he_normal_initializer_model = keras.models.Sequential(LAYERRS)\n",
    "\n",
    "# Compile and train the model\n",
    "he_normal_initializer_model.compile(optimizer='adam', loss='sparse_categorical_crossentropy', metrics=['accuracy'])\n",
    "he_normal_initializer_history = he_normal_initializer_model.fit(X_train, y_train, validation_data=(X_valid, y_valid), epochs=10)"
   ]
  },
  {
   "cell_type": "code",
   "execution_count": 14,
   "metadata": {
    "id": "aiN3KJyJEkQD"
   },
   "outputs": [],
   "source": [
    "zero_initializer_df = pd.DataFrame(zero_initializer_history.history)\n",
    "random_uniform_initializer_df = pd.DataFrame(random_uniform_initializer_history.history)\n",
    "glorot_normal_initializer_df = pd.DataFrame(glorot_normal_initializer_history.history)\n",
    "he_normal_df = pd.DataFrame(he_normal_initializer_history.history)"
   ]
  },
  {
   "cell_type": "code",
   "execution_count": 15,
   "metadata": {
    "colab": {
     "base_uri": "https://localhost:8080/",
     "height": 363
    },
    "id": "kqjHE3QzFPLC",
    "outputId": "4e130112-8541-4f0c-ce6e-5233cc4c3f1e"
   },
   "outputs": [
    {
     "data": {
      "text/html": [
       "\n",
       "  <div id=\"df-2a9939ae-edaa-4eec-8076-a09a4f85b269\" class=\"colab-df-container\">\n",
       "    <div>\n",
       "<style scoped>\n",
       "    .dataframe tbody tr th:only-of-type {\n",
       "        vertical-align: middle;\n",
       "    }\n",
       "\n",
       "    .dataframe tbody tr th {\n",
       "        vertical-align: top;\n",
       "    }\n",
       "\n",
       "    .dataframe thead th {\n",
       "        text-align: right;\n",
       "    }\n",
       "</style>\n",
       "<table border=\"1\" class=\"dataframe\">\n",
       "  <thead>\n",
       "    <tr style=\"text-align: right;\">\n",
       "      <th></th>\n",
       "      <th>loss</th>\n",
       "      <th>accuracy</th>\n",
       "      <th>val_loss</th>\n",
       "      <th>val_accuracy</th>\n",
       "    </tr>\n",
       "  </thead>\n",
       "  <tbody>\n",
       "    <tr>\n",
       "      <th>0</th>\n",
       "      <td>2.301660</td>\n",
       "      <td>0.111333</td>\n",
       "      <td>2.301003</td>\n",
       "      <td>0.112267</td>\n",
       "    </tr>\n",
       "    <tr>\n",
       "      <th>1</th>\n",
       "      <td>2.301399</td>\n",
       "      <td>0.112381</td>\n",
       "      <td>2.300886</td>\n",
       "      <td>0.112267</td>\n",
       "    </tr>\n",
       "    <tr>\n",
       "      <th>2</th>\n",
       "      <td>2.301387</td>\n",
       "      <td>0.112381</td>\n",
       "      <td>2.301177</td>\n",
       "      <td>0.112267</td>\n",
       "    </tr>\n",
       "    <tr>\n",
       "      <th>3</th>\n",
       "      <td>2.301405</td>\n",
       "      <td>0.112381</td>\n",
       "      <td>2.300933</td>\n",
       "      <td>0.112267</td>\n",
       "    </tr>\n",
       "    <tr>\n",
       "      <th>4</th>\n",
       "      <td>2.301373</td>\n",
       "      <td>0.112381</td>\n",
       "      <td>2.300912</td>\n",
       "      <td>0.112267</td>\n",
       "    </tr>\n",
       "    <tr>\n",
       "      <th>5</th>\n",
       "      <td>2.301385</td>\n",
       "      <td>0.112381</td>\n",
       "      <td>2.301029</td>\n",
       "      <td>0.112267</td>\n",
       "    </tr>\n",
       "    <tr>\n",
       "      <th>6</th>\n",
       "      <td>2.301398</td>\n",
       "      <td>0.112381</td>\n",
       "      <td>2.300980</td>\n",
       "      <td>0.112267</td>\n",
       "    </tr>\n",
       "    <tr>\n",
       "      <th>7</th>\n",
       "      <td>2.301389</td>\n",
       "      <td>0.112381</td>\n",
       "      <td>2.300983</td>\n",
       "      <td>0.112267</td>\n",
       "    </tr>\n",
       "    <tr>\n",
       "      <th>8</th>\n",
       "      <td>2.301395</td>\n",
       "      <td>0.112381</td>\n",
       "      <td>2.301100</td>\n",
       "      <td>0.112267</td>\n",
       "    </tr>\n",
       "    <tr>\n",
       "      <th>9</th>\n",
       "      <td>2.301371</td>\n",
       "      <td>0.112381</td>\n",
       "      <td>2.300942</td>\n",
       "      <td>0.112267</td>\n",
       "    </tr>\n",
       "  </tbody>\n",
       "</table>\n",
       "</div>\n",
       "    <div class=\"colab-df-buttons\">\n",
       "\n",
       "  <div class=\"colab-df-container\">\n",
       "    <button class=\"colab-df-convert\" onclick=\"convertToInteractive('df-2a9939ae-edaa-4eec-8076-a09a4f85b269')\"\n",
       "            title=\"Convert this dataframe to an interactive table.\"\n",
       "            style=\"display:none;\">\n",
       "\n",
       "  <svg xmlns=\"http://www.w3.org/2000/svg\" height=\"24px\" viewBox=\"0 -960 960 960\">\n",
       "    <path d=\"M120-120v-720h720v720H120Zm60-500h600v-160H180v160Zm220 220h160v-160H400v160Zm0 220h160v-160H400v160ZM180-400h160v-160H180v160Zm440 0h160v-160H620v160ZM180-180h160v-160H180v160Zm440 0h160v-160H620v160Z\"/>\n",
       "  </svg>\n",
       "    </button>\n",
       "\n",
       "  <style>\n",
       "    .colab-df-container {\n",
       "      display:flex;\n",
       "      gap: 12px;\n",
       "    }\n",
       "\n",
       "    .colab-df-convert {\n",
       "      background-color: #E8F0FE;\n",
       "      border: none;\n",
       "      border-radius: 50%;\n",
       "      cursor: pointer;\n",
       "      display: none;\n",
       "      fill: #1967D2;\n",
       "      height: 32px;\n",
       "      padding: 0 0 0 0;\n",
       "      width: 32px;\n",
       "    }\n",
       "\n",
       "    .colab-df-convert:hover {\n",
       "      background-color: #E2EBFA;\n",
       "      box-shadow: 0px 1px 2px rgba(60, 64, 67, 0.3), 0px 1px 3px 1px rgba(60, 64, 67, 0.15);\n",
       "      fill: #174EA6;\n",
       "    }\n",
       "\n",
       "    .colab-df-buttons div {\n",
       "      margin-bottom: 4px;\n",
       "    }\n",
       "\n",
       "    [theme=dark] .colab-df-convert {\n",
       "      background-color: #3B4455;\n",
       "      fill: #D2E3FC;\n",
       "    }\n",
       "\n",
       "    [theme=dark] .colab-df-convert:hover {\n",
       "      background-color: #434B5C;\n",
       "      box-shadow: 0px 1px 3px 1px rgba(0, 0, 0, 0.15);\n",
       "      filter: drop-shadow(0px 1px 2px rgba(0, 0, 0, 0.3));\n",
       "      fill: #FFFFFF;\n",
       "    }\n",
       "  </style>\n",
       "\n",
       "    <script>\n",
       "      const buttonEl =\n",
       "        document.querySelector('#df-2a9939ae-edaa-4eec-8076-a09a4f85b269 button.colab-df-convert');\n",
       "      buttonEl.style.display =\n",
       "        google.colab.kernel.accessAllowed ? 'block' : 'none';\n",
       "\n",
       "      async function convertToInteractive(key) {\n",
       "        const element = document.querySelector('#df-2a9939ae-edaa-4eec-8076-a09a4f85b269');\n",
       "        const dataTable =\n",
       "          await google.colab.kernel.invokeFunction('convertToInteractive',\n",
       "                                                    [key], {});\n",
       "        if (!dataTable) return;\n",
       "\n",
       "        const docLinkHtml = 'Like what you see? Visit the ' +\n",
       "          '<a target=\"_blank\" href=https://colab.research.google.com/notebooks/data_table.ipynb>data table notebook</a>'\n",
       "          + ' to learn more about interactive tables.';\n",
       "        element.innerHTML = '';\n",
       "        dataTable['output_type'] = 'display_data';\n",
       "        await google.colab.output.renderOutput(dataTable, element);\n",
       "        const docLink = document.createElement('div');\n",
       "        docLink.innerHTML = docLinkHtml;\n",
       "        element.appendChild(docLink);\n",
       "      }\n",
       "    </script>\n",
       "  </div>\n",
       "\n",
       "\n",
       "<div id=\"df-00228847-0a3f-4509-88a4-45fe1f53d349\">\n",
       "  <button class=\"colab-df-quickchart\" onclick=\"quickchart('df-00228847-0a3f-4509-88a4-45fe1f53d349')\"\n",
       "            title=\"Suggest charts.\"\n",
       "            style=\"display:none;\">\n",
       "\n",
       "<svg xmlns=\"http://www.w3.org/2000/svg\" height=\"24px\"viewBox=\"0 0 24 24\"\n",
       "     width=\"24px\">\n",
       "    <g>\n",
       "        <path d=\"M19 3H5c-1.1 0-2 .9-2 2v14c0 1.1.9 2 2 2h14c1.1 0 2-.9 2-2V5c0-1.1-.9-2-2-2zM9 17H7v-7h2v7zm4 0h-2V7h2v10zm4 0h-2v-4h2v4z\"/>\n",
       "    </g>\n",
       "</svg>\n",
       "  </button>\n",
       "\n",
       "<style>\n",
       "  .colab-df-quickchart {\n",
       "      --bg-color: #E8F0FE;\n",
       "      --fill-color: #1967D2;\n",
       "      --hover-bg-color: #E2EBFA;\n",
       "      --hover-fill-color: #174EA6;\n",
       "      --disabled-fill-color: #AAA;\n",
       "      --disabled-bg-color: #DDD;\n",
       "  }\n",
       "\n",
       "  [theme=dark] .colab-df-quickchart {\n",
       "      --bg-color: #3B4455;\n",
       "      --fill-color: #D2E3FC;\n",
       "      --hover-bg-color: #434B5C;\n",
       "      --hover-fill-color: #FFFFFF;\n",
       "      --disabled-bg-color: #3B4455;\n",
       "      --disabled-fill-color: #666;\n",
       "  }\n",
       "\n",
       "  .colab-df-quickchart {\n",
       "    background-color: var(--bg-color);\n",
       "    border: none;\n",
       "    border-radius: 50%;\n",
       "    cursor: pointer;\n",
       "    display: none;\n",
       "    fill: var(--fill-color);\n",
       "    height: 32px;\n",
       "    padding: 0;\n",
       "    width: 32px;\n",
       "  }\n",
       "\n",
       "  .colab-df-quickchart:hover {\n",
       "    background-color: var(--hover-bg-color);\n",
       "    box-shadow: 0 1px 2px rgba(60, 64, 67, 0.3), 0 1px 3px 1px rgba(60, 64, 67, 0.15);\n",
       "    fill: var(--button-hover-fill-color);\n",
       "  }\n",
       "\n",
       "  .colab-df-quickchart-complete:disabled,\n",
       "  .colab-df-quickchart-complete:disabled:hover {\n",
       "    background-color: var(--disabled-bg-color);\n",
       "    fill: var(--disabled-fill-color);\n",
       "    box-shadow: none;\n",
       "  }\n",
       "\n",
       "  .colab-df-spinner {\n",
       "    border: 2px solid var(--fill-color);\n",
       "    border-color: transparent;\n",
       "    border-bottom-color: var(--fill-color);\n",
       "    animation:\n",
       "      spin 1s steps(1) infinite;\n",
       "  }\n",
       "\n",
       "  @keyframes spin {\n",
       "    0% {\n",
       "      border-color: transparent;\n",
       "      border-bottom-color: var(--fill-color);\n",
       "      border-left-color: var(--fill-color);\n",
       "    }\n",
       "    20% {\n",
       "      border-color: transparent;\n",
       "      border-left-color: var(--fill-color);\n",
       "      border-top-color: var(--fill-color);\n",
       "    }\n",
       "    30% {\n",
       "      border-color: transparent;\n",
       "      border-left-color: var(--fill-color);\n",
       "      border-top-color: var(--fill-color);\n",
       "      border-right-color: var(--fill-color);\n",
       "    }\n",
       "    40% {\n",
       "      border-color: transparent;\n",
       "      border-right-color: var(--fill-color);\n",
       "      border-top-color: var(--fill-color);\n",
       "    }\n",
       "    60% {\n",
       "      border-color: transparent;\n",
       "      border-right-color: var(--fill-color);\n",
       "    }\n",
       "    80% {\n",
       "      border-color: transparent;\n",
       "      border-right-color: var(--fill-color);\n",
       "      border-bottom-color: var(--fill-color);\n",
       "    }\n",
       "    90% {\n",
       "      border-color: transparent;\n",
       "      border-bottom-color: var(--fill-color);\n",
       "    }\n",
       "  }\n",
       "</style>\n",
       "\n",
       "  <script>\n",
       "    async function quickchart(key) {\n",
       "      const quickchartButtonEl =\n",
       "        document.querySelector('#' + key + ' button');\n",
       "      quickchartButtonEl.disabled = true;  // To prevent multiple clicks.\n",
       "      quickchartButtonEl.classList.add('colab-df-spinner');\n",
       "      try {\n",
       "        const charts = await google.colab.kernel.invokeFunction(\n",
       "            'suggestCharts', [key], {});\n",
       "      } catch (error) {\n",
       "        console.error('Error during call to suggestCharts:', error);\n",
       "      }\n",
       "      quickchartButtonEl.classList.remove('colab-df-spinner');\n",
       "      quickchartButtonEl.classList.add('colab-df-quickchart-complete');\n",
       "    }\n",
       "    (() => {\n",
       "      let quickchartButtonEl =\n",
       "        document.querySelector('#df-00228847-0a3f-4509-88a4-45fe1f53d349 button');\n",
       "      quickchartButtonEl.style.display =\n",
       "        google.colab.kernel.accessAllowed ? 'block' : 'none';\n",
       "    })();\n",
       "  </script>\n",
       "</div>\n",
       "    </div>\n",
       "  </div>\n"
      ],
      "text/plain": [
       "       loss  accuracy  val_loss  val_accuracy\n",
       "0  2.301660  0.111333  2.301003      0.112267\n",
       "1  2.301399  0.112381  2.300886      0.112267\n",
       "2  2.301387  0.112381  2.301177      0.112267\n",
       "3  2.301405  0.112381  2.300933      0.112267\n",
       "4  2.301373  0.112381  2.300912      0.112267\n",
       "5  2.301385  0.112381  2.301029      0.112267\n",
       "6  2.301398  0.112381  2.300980      0.112267\n",
       "7  2.301389  0.112381  2.300983      0.112267\n",
       "8  2.301395  0.112381  2.301100      0.112267\n",
       "9  2.301371  0.112381  2.300942      0.112267"
      ]
     },
     "execution_count": 15,
     "metadata": {},
     "output_type": "execute_result"
    }
   ],
   "source": [
    "zero_initializer_df"
   ]
  },
  {
   "cell_type": "code",
   "execution_count": 16,
   "metadata": {
    "colab": {
     "base_uri": "https://localhost:8080/",
     "height": 363
    },
    "id": "RkOLF6HrFSBl",
    "outputId": "d1402084-c94d-48a6-db85-87d437a6277c"
   },
   "outputs": [
    {
     "data": {
      "text/html": [
       "\n",
       "  <div id=\"df-e5f7aa2a-b98d-46e2-aeb4-4312a083b89c\" class=\"colab-df-container\">\n",
       "    <div>\n",
       "<style scoped>\n",
       "    .dataframe tbody tr th:only-of-type {\n",
       "        vertical-align: middle;\n",
       "    }\n",
       "\n",
       "    .dataframe tbody tr th {\n",
       "        vertical-align: top;\n",
       "    }\n",
       "\n",
       "    .dataframe thead th {\n",
       "        text-align: right;\n",
       "    }\n",
       "</style>\n",
       "<table border=\"1\" class=\"dataframe\">\n",
       "  <thead>\n",
       "    <tr style=\"text-align: right;\">\n",
       "      <th></th>\n",
       "      <th>loss</th>\n",
       "      <th>accuracy</th>\n",
       "      <th>val_loss</th>\n",
       "      <th>val_accuracy</th>\n",
       "    </tr>\n",
       "  </thead>\n",
       "  <tbody>\n",
       "    <tr>\n",
       "      <th>0</th>\n",
       "      <td>0.267501</td>\n",
       "      <td>0.922095</td>\n",
       "      <td>0.139130</td>\n",
       "      <td>0.957867</td>\n",
       "    </tr>\n",
       "    <tr>\n",
       "      <th>1</th>\n",
       "      <td>0.103398</td>\n",
       "      <td>0.968610</td>\n",
       "      <td>0.095375</td>\n",
       "      <td>0.972000</td>\n",
       "    </tr>\n",
       "    <tr>\n",
       "      <th>2</th>\n",
       "      <td>0.068518</td>\n",
       "      <td>0.978381</td>\n",
       "      <td>0.083288</td>\n",
       "      <td>0.976800</td>\n",
       "    </tr>\n",
       "    <tr>\n",
       "      <th>3</th>\n",
       "      <td>0.047899</td>\n",
       "      <td>0.984762</td>\n",
       "      <td>0.079685</td>\n",
       "      <td>0.978133</td>\n",
       "    </tr>\n",
       "    <tr>\n",
       "      <th>4</th>\n",
       "      <td>0.038348</td>\n",
       "      <td>0.987181</td>\n",
       "      <td>0.096105</td>\n",
       "      <td>0.973733</td>\n",
       "    </tr>\n",
       "    <tr>\n",
       "      <th>5</th>\n",
       "      <td>0.029878</td>\n",
       "      <td>0.990457</td>\n",
       "      <td>0.081121</td>\n",
       "      <td>0.977733</td>\n",
       "    </tr>\n",
       "    <tr>\n",
       "      <th>6</th>\n",
       "      <td>0.025317</td>\n",
       "      <td>0.991486</td>\n",
       "      <td>0.079673</td>\n",
       "      <td>0.980533</td>\n",
       "    </tr>\n",
       "    <tr>\n",
       "      <th>7</th>\n",
       "      <td>0.020375</td>\n",
       "      <td>0.993333</td>\n",
       "      <td>0.085489</td>\n",
       "      <td>0.979467</td>\n",
       "    </tr>\n",
       "    <tr>\n",
       "      <th>8</th>\n",
       "      <td>0.017148</td>\n",
       "      <td>0.994514</td>\n",
       "      <td>0.089433</td>\n",
       "      <td>0.978400</td>\n",
       "    </tr>\n",
       "    <tr>\n",
       "      <th>9</th>\n",
       "      <td>0.015881</td>\n",
       "      <td>0.994762</td>\n",
       "      <td>0.093050</td>\n",
       "      <td>0.979733</td>\n",
       "    </tr>\n",
       "  </tbody>\n",
       "</table>\n",
       "</div>\n",
       "    <div class=\"colab-df-buttons\">\n",
       "\n",
       "  <div class=\"colab-df-container\">\n",
       "    <button class=\"colab-df-convert\" onclick=\"convertToInteractive('df-e5f7aa2a-b98d-46e2-aeb4-4312a083b89c')\"\n",
       "            title=\"Convert this dataframe to an interactive table.\"\n",
       "            style=\"display:none;\">\n",
       "\n",
       "  <svg xmlns=\"http://www.w3.org/2000/svg\" height=\"24px\" viewBox=\"0 -960 960 960\">\n",
       "    <path d=\"M120-120v-720h720v720H120Zm60-500h600v-160H180v160Zm220 220h160v-160H400v160Zm0 220h160v-160H400v160ZM180-400h160v-160H180v160Zm440 0h160v-160H620v160ZM180-180h160v-160H180v160Zm440 0h160v-160H620v160Z\"/>\n",
       "  </svg>\n",
       "    </button>\n",
       "\n",
       "  <style>\n",
       "    .colab-df-container {\n",
       "      display:flex;\n",
       "      gap: 12px;\n",
       "    }\n",
       "\n",
       "    .colab-df-convert {\n",
       "      background-color: #E8F0FE;\n",
       "      border: none;\n",
       "      border-radius: 50%;\n",
       "      cursor: pointer;\n",
       "      display: none;\n",
       "      fill: #1967D2;\n",
       "      height: 32px;\n",
       "      padding: 0 0 0 0;\n",
       "      width: 32px;\n",
       "    }\n",
       "\n",
       "    .colab-df-convert:hover {\n",
       "      background-color: #E2EBFA;\n",
       "      box-shadow: 0px 1px 2px rgba(60, 64, 67, 0.3), 0px 1px 3px 1px rgba(60, 64, 67, 0.15);\n",
       "      fill: #174EA6;\n",
       "    }\n",
       "\n",
       "    .colab-df-buttons div {\n",
       "      margin-bottom: 4px;\n",
       "    }\n",
       "\n",
       "    [theme=dark] .colab-df-convert {\n",
       "      background-color: #3B4455;\n",
       "      fill: #D2E3FC;\n",
       "    }\n",
       "\n",
       "    [theme=dark] .colab-df-convert:hover {\n",
       "      background-color: #434B5C;\n",
       "      box-shadow: 0px 1px 3px 1px rgba(0, 0, 0, 0.15);\n",
       "      filter: drop-shadow(0px 1px 2px rgba(0, 0, 0, 0.3));\n",
       "      fill: #FFFFFF;\n",
       "    }\n",
       "  </style>\n",
       "\n",
       "    <script>\n",
       "      const buttonEl =\n",
       "        document.querySelector('#df-e5f7aa2a-b98d-46e2-aeb4-4312a083b89c button.colab-df-convert');\n",
       "      buttonEl.style.display =\n",
       "        google.colab.kernel.accessAllowed ? 'block' : 'none';\n",
       "\n",
       "      async function convertToInteractive(key) {\n",
       "        const element = document.querySelector('#df-e5f7aa2a-b98d-46e2-aeb4-4312a083b89c');\n",
       "        const dataTable =\n",
       "          await google.colab.kernel.invokeFunction('convertToInteractive',\n",
       "                                                    [key], {});\n",
       "        if (!dataTable) return;\n",
       "\n",
       "        const docLinkHtml = 'Like what you see? Visit the ' +\n",
       "          '<a target=\"_blank\" href=https://colab.research.google.com/notebooks/data_table.ipynb>data table notebook</a>'\n",
       "          + ' to learn more about interactive tables.';\n",
       "        element.innerHTML = '';\n",
       "        dataTable['output_type'] = 'display_data';\n",
       "        await google.colab.output.renderOutput(dataTable, element);\n",
       "        const docLink = document.createElement('div');\n",
       "        docLink.innerHTML = docLinkHtml;\n",
       "        element.appendChild(docLink);\n",
       "      }\n",
       "    </script>\n",
       "  </div>\n",
       "\n",
       "\n",
       "<div id=\"df-66739277-c819-453c-a053-bd605176b145\">\n",
       "  <button class=\"colab-df-quickchart\" onclick=\"quickchart('df-66739277-c819-453c-a053-bd605176b145')\"\n",
       "            title=\"Suggest charts.\"\n",
       "            style=\"display:none;\">\n",
       "\n",
       "<svg xmlns=\"http://www.w3.org/2000/svg\" height=\"24px\"viewBox=\"0 0 24 24\"\n",
       "     width=\"24px\">\n",
       "    <g>\n",
       "        <path d=\"M19 3H5c-1.1 0-2 .9-2 2v14c0 1.1.9 2 2 2h14c1.1 0 2-.9 2-2V5c0-1.1-.9-2-2-2zM9 17H7v-7h2v7zm4 0h-2V7h2v10zm4 0h-2v-4h2v4z\"/>\n",
       "    </g>\n",
       "</svg>\n",
       "  </button>\n",
       "\n",
       "<style>\n",
       "  .colab-df-quickchart {\n",
       "      --bg-color: #E8F0FE;\n",
       "      --fill-color: #1967D2;\n",
       "      --hover-bg-color: #E2EBFA;\n",
       "      --hover-fill-color: #174EA6;\n",
       "      --disabled-fill-color: #AAA;\n",
       "      --disabled-bg-color: #DDD;\n",
       "  }\n",
       "\n",
       "  [theme=dark] .colab-df-quickchart {\n",
       "      --bg-color: #3B4455;\n",
       "      --fill-color: #D2E3FC;\n",
       "      --hover-bg-color: #434B5C;\n",
       "      --hover-fill-color: #FFFFFF;\n",
       "      --disabled-bg-color: #3B4455;\n",
       "      --disabled-fill-color: #666;\n",
       "  }\n",
       "\n",
       "  .colab-df-quickchart {\n",
       "    background-color: var(--bg-color);\n",
       "    border: none;\n",
       "    border-radius: 50%;\n",
       "    cursor: pointer;\n",
       "    display: none;\n",
       "    fill: var(--fill-color);\n",
       "    height: 32px;\n",
       "    padding: 0;\n",
       "    width: 32px;\n",
       "  }\n",
       "\n",
       "  .colab-df-quickchart:hover {\n",
       "    background-color: var(--hover-bg-color);\n",
       "    box-shadow: 0 1px 2px rgba(60, 64, 67, 0.3), 0 1px 3px 1px rgba(60, 64, 67, 0.15);\n",
       "    fill: var(--button-hover-fill-color);\n",
       "  }\n",
       "\n",
       "  .colab-df-quickchart-complete:disabled,\n",
       "  .colab-df-quickchart-complete:disabled:hover {\n",
       "    background-color: var(--disabled-bg-color);\n",
       "    fill: var(--disabled-fill-color);\n",
       "    box-shadow: none;\n",
       "  }\n",
       "\n",
       "  .colab-df-spinner {\n",
       "    border: 2px solid var(--fill-color);\n",
       "    border-color: transparent;\n",
       "    border-bottom-color: var(--fill-color);\n",
       "    animation:\n",
       "      spin 1s steps(1) infinite;\n",
       "  }\n",
       "\n",
       "  @keyframes spin {\n",
       "    0% {\n",
       "      border-color: transparent;\n",
       "      border-bottom-color: var(--fill-color);\n",
       "      border-left-color: var(--fill-color);\n",
       "    }\n",
       "    20% {\n",
       "      border-color: transparent;\n",
       "      border-left-color: var(--fill-color);\n",
       "      border-top-color: var(--fill-color);\n",
       "    }\n",
       "    30% {\n",
       "      border-color: transparent;\n",
       "      border-left-color: var(--fill-color);\n",
       "      border-top-color: var(--fill-color);\n",
       "      border-right-color: var(--fill-color);\n",
       "    }\n",
       "    40% {\n",
       "      border-color: transparent;\n",
       "      border-right-color: var(--fill-color);\n",
       "      border-top-color: var(--fill-color);\n",
       "    }\n",
       "    60% {\n",
       "      border-color: transparent;\n",
       "      border-right-color: var(--fill-color);\n",
       "    }\n",
       "    80% {\n",
       "      border-color: transparent;\n",
       "      border-right-color: var(--fill-color);\n",
       "      border-bottom-color: var(--fill-color);\n",
       "    }\n",
       "    90% {\n",
       "      border-color: transparent;\n",
       "      border-bottom-color: var(--fill-color);\n",
       "    }\n",
       "  }\n",
       "</style>\n",
       "\n",
       "  <script>\n",
       "    async function quickchart(key) {\n",
       "      const quickchartButtonEl =\n",
       "        document.querySelector('#' + key + ' button');\n",
       "      quickchartButtonEl.disabled = true;  // To prevent multiple clicks.\n",
       "      quickchartButtonEl.classList.add('colab-df-spinner');\n",
       "      try {\n",
       "        const charts = await google.colab.kernel.invokeFunction(\n",
       "            'suggestCharts', [key], {});\n",
       "      } catch (error) {\n",
       "        console.error('Error during call to suggestCharts:', error);\n",
       "      }\n",
       "      quickchartButtonEl.classList.remove('colab-df-spinner');\n",
       "      quickchartButtonEl.classList.add('colab-df-quickchart-complete');\n",
       "    }\n",
       "    (() => {\n",
       "      let quickchartButtonEl =\n",
       "        document.querySelector('#df-66739277-c819-453c-a053-bd605176b145 button');\n",
       "      quickchartButtonEl.style.display =\n",
       "        google.colab.kernel.accessAllowed ? 'block' : 'none';\n",
       "    })();\n",
       "  </script>\n",
       "</div>\n",
       "    </div>\n",
       "  </div>\n"
      ],
      "text/plain": [
       "       loss  accuracy  val_loss  val_accuracy\n",
       "0  0.267501  0.922095  0.139130      0.957867\n",
       "1  0.103398  0.968610  0.095375      0.972000\n",
       "2  0.068518  0.978381  0.083288      0.976800\n",
       "3  0.047899  0.984762  0.079685      0.978133\n",
       "4  0.038348  0.987181  0.096105      0.973733\n",
       "5  0.029878  0.990457  0.081121      0.977733\n",
       "6  0.025317  0.991486  0.079673      0.980533\n",
       "7  0.020375  0.993333  0.085489      0.979467\n",
       "8  0.017148  0.994514  0.089433      0.978400\n",
       "9  0.015881  0.994762  0.093050      0.979733"
      ]
     },
     "execution_count": 16,
     "metadata": {},
     "output_type": "execute_result"
    }
   ],
   "source": [
    "random_uniform_initializer_df"
   ]
  },
  {
   "cell_type": "code",
   "execution_count": 17,
   "metadata": {
    "colab": {
     "base_uri": "https://localhost:8080/",
     "height": 363
    },
    "id": "B8WcSvkzFTss",
    "outputId": "9bbc9b77-2279-4c8a-c2ea-e74048eeac0d"
   },
   "outputs": [
    {
     "data": {
      "text/html": [
       "\n",
       "  <div id=\"df-a34eaadc-dac4-46a0-bce5-0d8bc1078b38\" class=\"colab-df-container\">\n",
       "    <div>\n",
       "<style scoped>\n",
       "    .dataframe tbody tr th:only-of-type {\n",
       "        vertical-align: middle;\n",
       "    }\n",
       "\n",
       "    .dataframe tbody tr th {\n",
       "        vertical-align: top;\n",
       "    }\n",
       "\n",
       "    .dataframe thead th {\n",
       "        text-align: right;\n",
       "    }\n",
       "</style>\n",
       "<table border=\"1\" class=\"dataframe\">\n",
       "  <thead>\n",
       "    <tr style=\"text-align: right;\">\n",
       "      <th></th>\n",
       "      <th>loss</th>\n",
       "      <th>accuracy</th>\n",
       "      <th>val_loss</th>\n",
       "      <th>val_accuracy</th>\n",
       "    </tr>\n",
       "  </thead>\n",
       "  <tbody>\n",
       "    <tr>\n",
       "      <th>0</th>\n",
       "      <td>0.213243</td>\n",
       "      <td>0.935752</td>\n",
       "      <td>0.128176</td>\n",
       "      <td>0.961867</td>\n",
       "    </tr>\n",
       "    <tr>\n",
       "      <th>1</th>\n",
       "      <td>0.087008</td>\n",
       "      <td>0.972381</td>\n",
       "      <td>0.098126</td>\n",
       "      <td>0.971467</td>\n",
       "    </tr>\n",
       "    <tr>\n",
       "      <th>2</th>\n",
       "      <td>0.059083</td>\n",
       "      <td>0.981105</td>\n",
       "      <td>0.089365</td>\n",
       "      <td>0.972533</td>\n",
       "    </tr>\n",
       "    <tr>\n",
       "      <th>3</th>\n",
       "      <td>0.045540</td>\n",
       "      <td>0.984800</td>\n",
       "      <td>0.069718</td>\n",
       "      <td>0.979333</td>\n",
       "    </tr>\n",
       "    <tr>\n",
       "      <th>4</th>\n",
       "      <td>0.034751</td>\n",
       "      <td>0.988648</td>\n",
       "      <td>0.078928</td>\n",
       "      <td>0.976533</td>\n",
       "    </tr>\n",
       "    <tr>\n",
       "      <th>5</th>\n",
       "      <td>0.027266</td>\n",
       "      <td>0.991238</td>\n",
       "      <td>0.094715</td>\n",
       "      <td>0.975467</td>\n",
       "    </tr>\n",
       "    <tr>\n",
       "      <th>6</th>\n",
       "      <td>0.024911</td>\n",
       "      <td>0.991219</td>\n",
       "      <td>0.082247</td>\n",
       "      <td>0.980000</td>\n",
       "    </tr>\n",
       "    <tr>\n",
       "      <th>7</th>\n",
       "      <td>0.018589</td>\n",
       "      <td>0.993752</td>\n",
       "      <td>0.083092</td>\n",
       "      <td>0.981733</td>\n",
       "    </tr>\n",
       "    <tr>\n",
       "      <th>8</th>\n",
       "      <td>0.018807</td>\n",
       "      <td>0.994000</td>\n",
       "      <td>0.110745</td>\n",
       "      <td>0.975733</td>\n",
       "    </tr>\n",
       "    <tr>\n",
       "      <th>9</th>\n",
       "      <td>0.016428</td>\n",
       "      <td>0.994400</td>\n",
       "      <td>0.093523</td>\n",
       "      <td>0.979467</td>\n",
       "    </tr>\n",
       "  </tbody>\n",
       "</table>\n",
       "</div>\n",
       "    <div class=\"colab-df-buttons\">\n",
       "\n",
       "  <div class=\"colab-df-container\">\n",
       "    <button class=\"colab-df-convert\" onclick=\"convertToInteractive('df-a34eaadc-dac4-46a0-bce5-0d8bc1078b38')\"\n",
       "            title=\"Convert this dataframe to an interactive table.\"\n",
       "            style=\"display:none;\">\n",
       "\n",
       "  <svg xmlns=\"http://www.w3.org/2000/svg\" height=\"24px\" viewBox=\"0 -960 960 960\">\n",
       "    <path d=\"M120-120v-720h720v720H120Zm60-500h600v-160H180v160Zm220 220h160v-160H400v160Zm0 220h160v-160H400v160ZM180-400h160v-160H180v160Zm440 0h160v-160H620v160ZM180-180h160v-160H180v160Zm440 0h160v-160H620v160Z\"/>\n",
       "  </svg>\n",
       "    </button>\n",
       "\n",
       "  <style>\n",
       "    .colab-df-container {\n",
       "      display:flex;\n",
       "      gap: 12px;\n",
       "    }\n",
       "\n",
       "    .colab-df-convert {\n",
       "      background-color: #E8F0FE;\n",
       "      border: none;\n",
       "      border-radius: 50%;\n",
       "      cursor: pointer;\n",
       "      display: none;\n",
       "      fill: #1967D2;\n",
       "      height: 32px;\n",
       "      padding: 0 0 0 0;\n",
       "      width: 32px;\n",
       "    }\n",
       "\n",
       "    .colab-df-convert:hover {\n",
       "      background-color: #E2EBFA;\n",
       "      box-shadow: 0px 1px 2px rgba(60, 64, 67, 0.3), 0px 1px 3px 1px rgba(60, 64, 67, 0.15);\n",
       "      fill: #174EA6;\n",
       "    }\n",
       "\n",
       "    .colab-df-buttons div {\n",
       "      margin-bottom: 4px;\n",
       "    }\n",
       "\n",
       "    [theme=dark] .colab-df-convert {\n",
       "      background-color: #3B4455;\n",
       "      fill: #D2E3FC;\n",
       "    }\n",
       "\n",
       "    [theme=dark] .colab-df-convert:hover {\n",
       "      background-color: #434B5C;\n",
       "      box-shadow: 0px 1px 3px 1px rgba(0, 0, 0, 0.15);\n",
       "      filter: drop-shadow(0px 1px 2px rgba(0, 0, 0, 0.3));\n",
       "      fill: #FFFFFF;\n",
       "    }\n",
       "  </style>\n",
       "\n",
       "    <script>\n",
       "      const buttonEl =\n",
       "        document.querySelector('#df-a34eaadc-dac4-46a0-bce5-0d8bc1078b38 button.colab-df-convert');\n",
       "      buttonEl.style.display =\n",
       "        google.colab.kernel.accessAllowed ? 'block' : 'none';\n",
       "\n",
       "      async function convertToInteractive(key) {\n",
       "        const element = document.querySelector('#df-a34eaadc-dac4-46a0-bce5-0d8bc1078b38');\n",
       "        const dataTable =\n",
       "          await google.colab.kernel.invokeFunction('convertToInteractive',\n",
       "                                                    [key], {});\n",
       "        if (!dataTable) return;\n",
       "\n",
       "        const docLinkHtml = 'Like what you see? Visit the ' +\n",
       "          '<a target=\"_blank\" href=https://colab.research.google.com/notebooks/data_table.ipynb>data table notebook</a>'\n",
       "          + ' to learn more about interactive tables.';\n",
       "        element.innerHTML = '';\n",
       "        dataTable['output_type'] = 'display_data';\n",
       "        await google.colab.output.renderOutput(dataTable, element);\n",
       "        const docLink = document.createElement('div');\n",
       "        docLink.innerHTML = docLinkHtml;\n",
       "        element.appendChild(docLink);\n",
       "      }\n",
       "    </script>\n",
       "  </div>\n",
       "\n",
       "\n",
       "<div id=\"df-7968a5cc-2a0b-4ba6-9104-4e3f8d0bb9dd\">\n",
       "  <button class=\"colab-df-quickchart\" onclick=\"quickchart('df-7968a5cc-2a0b-4ba6-9104-4e3f8d0bb9dd')\"\n",
       "            title=\"Suggest charts.\"\n",
       "            style=\"display:none;\">\n",
       "\n",
       "<svg xmlns=\"http://www.w3.org/2000/svg\" height=\"24px\"viewBox=\"0 0 24 24\"\n",
       "     width=\"24px\">\n",
       "    <g>\n",
       "        <path d=\"M19 3H5c-1.1 0-2 .9-2 2v14c0 1.1.9 2 2 2h14c1.1 0 2-.9 2-2V5c0-1.1-.9-2-2-2zM9 17H7v-7h2v7zm4 0h-2V7h2v10zm4 0h-2v-4h2v4z\"/>\n",
       "    </g>\n",
       "</svg>\n",
       "  </button>\n",
       "\n",
       "<style>\n",
       "  .colab-df-quickchart {\n",
       "      --bg-color: #E8F0FE;\n",
       "      --fill-color: #1967D2;\n",
       "      --hover-bg-color: #E2EBFA;\n",
       "      --hover-fill-color: #174EA6;\n",
       "      --disabled-fill-color: #AAA;\n",
       "      --disabled-bg-color: #DDD;\n",
       "  }\n",
       "\n",
       "  [theme=dark] .colab-df-quickchart {\n",
       "      --bg-color: #3B4455;\n",
       "      --fill-color: #D2E3FC;\n",
       "      --hover-bg-color: #434B5C;\n",
       "      --hover-fill-color: #FFFFFF;\n",
       "      --disabled-bg-color: #3B4455;\n",
       "      --disabled-fill-color: #666;\n",
       "  }\n",
       "\n",
       "  .colab-df-quickchart {\n",
       "    background-color: var(--bg-color);\n",
       "    border: none;\n",
       "    border-radius: 50%;\n",
       "    cursor: pointer;\n",
       "    display: none;\n",
       "    fill: var(--fill-color);\n",
       "    height: 32px;\n",
       "    padding: 0;\n",
       "    width: 32px;\n",
       "  }\n",
       "\n",
       "  .colab-df-quickchart:hover {\n",
       "    background-color: var(--hover-bg-color);\n",
       "    box-shadow: 0 1px 2px rgba(60, 64, 67, 0.3), 0 1px 3px 1px rgba(60, 64, 67, 0.15);\n",
       "    fill: var(--button-hover-fill-color);\n",
       "  }\n",
       "\n",
       "  .colab-df-quickchart-complete:disabled,\n",
       "  .colab-df-quickchart-complete:disabled:hover {\n",
       "    background-color: var(--disabled-bg-color);\n",
       "    fill: var(--disabled-fill-color);\n",
       "    box-shadow: none;\n",
       "  }\n",
       "\n",
       "  .colab-df-spinner {\n",
       "    border: 2px solid var(--fill-color);\n",
       "    border-color: transparent;\n",
       "    border-bottom-color: var(--fill-color);\n",
       "    animation:\n",
       "      spin 1s steps(1) infinite;\n",
       "  }\n",
       "\n",
       "  @keyframes spin {\n",
       "    0% {\n",
       "      border-color: transparent;\n",
       "      border-bottom-color: var(--fill-color);\n",
       "      border-left-color: var(--fill-color);\n",
       "    }\n",
       "    20% {\n",
       "      border-color: transparent;\n",
       "      border-left-color: var(--fill-color);\n",
       "      border-top-color: var(--fill-color);\n",
       "    }\n",
       "    30% {\n",
       "      border-color: transparent;\n",
       "      border-left-color: var(--fill-color);\n",
       "      border-top-color: var(--fill-color);\n",
       "      border-right-color: var(--fill-color);\n",
       "    }\n",
       "    40% {\n",
       "      border-color: transparent;\n",
       "      border-right-color: var(--fill-color);\n",
       "      border-top-color: var(--fill-color);\n",
       "    }\n",
       "    60% {\n",
       "      border-color: transparent;\n",
       "      border-right-color: var(--fill-color);\n",
       "    }\n",
       "    80% {\n",
       "      border-color: transparent;\n",
       "      border-right-color: var(--fill-color);\n",
       "      border-bottom-color: var(--fill-color);\n",
       "    }\n",
       "    90% {\n",
       "      border-color: transparent;\n",
       "      border-bottom-color: var(--fill-color);\n",
       "    }\n",
       "  }\n",
       "</style>\n",
       "\n",
       "  <script>\n",
       "    async function quickchart(key) {\n",
       "      const quickchartButtonEl =\n",
       "        document.querySelector('#' + key + ' button');\n",
       "      quickchartButtonEl.disabled = true;  // To prevent multiple clicks.\n",
       "      quickchartButtonEl.classList.add('colab-df-spinner');\n",
       "      try {\n",
       "        const charts = await google.colab.kernel.invokeFunction(\n",
       "            'suggestCharts', [key], {});\n",
       "      } catch (error) {\n",
       "        console.error('Error during call to suggestCharts:', error);\n",
       "      }\n",
       "      quickchartButtonEl.classList.remove('colab-df-spinner');\n",
       "      quickchartButtonEl.classList.add('colab-df-quickchart-complete');\n",
       "    }\n",
       "    (() => {\n",
       "      let quickchartButtonEl =\n",
       "        document.querySelector('#df-7968a5cc-2a0b-4ba6-9104-4e3f8d0bb9dd button');\n",
       "      quickchartButtonEl.style.display =\n",
       "        google.colab.kernel.accessAllowed ? 'block' : 'none';\n",
       "    })();\n",
       "  </script>\n",
       "</div>\n",
       "    </div>\n",
       "  </div>\n"
      ],
      "text/plain": [
       "       loss  accuracy  val_loss  val_accuracy\n",
       "0  0.213243  0.935752  0.128176      0.961867\n",
       "1  0.087008  0.972381  0.098126      0.971467\n",
       "2  0.059083  0.981105  0.089365      0.972533\n",
       "3  0.045540  0.984800  0.069718      0.979333\n",
       "4  0.034751  0.988648  0.078928      0.976533\n",
       "5  0.027266  0.991238  0.094715      0.975467\n",
       "6  0.024911  0.991219  0.082247      0.980000\n",
       "7  0.018589  0.993752  0.083092      0.981733\n",
       "8  0.018807  0.994000  0.110745      0.975733\n",
       "9  0.016428  0.994400  0.093523      0.979467"
      ]
     },
     "execution_count": 17,
     "metadata": {},
     "output_type": "execute_result"
    }
   ],
   "source": [
    "glorot_normal_initializer_df"
   ]
  },
  {
   "cell_type": "code",
   "execution_count": 18,
   "metadata": {
    "colab": {
     "base_uri": "https://localhost:8080/",
     "height": 363
    },
    "id": "DAXPOuc9FU0l",
    "outputId": "686dce37-6050-42ed-9bb3-5eede2977f21"
   },
   "outputs": [
    {
     "data": {
      "text/html": [
       "\n",
       "  <div id=\"df-92d7e4e7-29d0-4c34-8794-9aa38d0583e1\" class=\"colab-df-container\">\n",
       "    <div>\n",
       "<style scoped>\n",
       "    .dataframe tbody tr th:only-of-type {\n",
       "        vertical-align: middle;\n",
       "    }\n",
       "\n",
       "    .dataframe tbody tr th {\n",
       "        vertical-align: top;\n",
       "    }\n",
       "\n",
       "    .dataframe thead th {\n",
       "        text-align: right;\n",
       "    }\n",
       "</style>\n",
       "<table border=\"1\" class=\"dataframe\">\n",
       "  <thead>\n",
       "    <tr style=\"text-align: right;\">\n",
       "      <th></th>\n",
       "      <th>loss</th>\n",
       "      <th>accuracy</th>\n",
       "      <th>val_loss</th>\n",
       "      <th>val_accuracy</th>\n",
       "    </tr>\n",
       "  </thead>\n",
       "  <tbody>\n",
       "    <tr>\n",
       "      <th>0</th>\n",
       "      <td>0.215907</td>\n",
       "      <td>0.935333</td>\n",
       "      <td>0.112996</td>\n",
       "      <td>0.963867</td>\n",
       "    </tr>\n",
       "    <tr>\n",
       "      <th>1</th>\n",
       "      <td>0.086705</td>\n",
       "      <td>0.972610</td>\n",
       "      <td>0.087694</td>\n",
       "      <td>0.974133</td>\n",
       "    </tr>\n",
       "    <tr>\n",
       "      <th>2</th>\n",
       "      <td>0.060625</td>\n",
       "      <td>0.980819</td>\n",
       "      <td>0.086134</td>\n",
       "      <td>0.973067</td>\n",
       "    </tr>\n",
       "    <tr>\n",
       "      <th>3</th>\n",
       "      <td>0.043914</td>\n",
       "      <td>0.985695</td>\n",
       "      <td>0.101642</td>\n",
       "      <td>0.968667</td>\n",
       "    </tr>\n",
       "    <tr>\n",
       "      <th>4</th>\n",
       "      <td>0.035615</td>\n",
       "      <td>0.987810</td>\n",
       "      <td>0.085005</td>\n",
       "      <td>0.976267</td>\n",
       "    </tr>\n",
       "    <tr>\n",
       "      <th>5</th>\n",
       "      <td>0.027954</td>\n",
       "      <td>0.990914</td>\n",
       "      <td>0.083007</td>\n",
       "      <td>0.981067</td>\n",
       "    </tr>\n",
       "    <tr>\n",
       "      <th>6</th>\n",
       "      <td>0.025879</td>\n",
       "      <td>0.991238</td>\n",
       "      <td>0.093966</td>\n",
       "      <td>0.976800</td>\n",
       "    </tr>\n",
       "    <tr>\n",
       "      <th>7</th>\n",
       "      <td>0.020566</td>\n",
       "      <td>0.993391</td>\n",
       "      <td>0.089147</td>\n",
       "      <td>0.978800</td>\n",
       "    </tr>\n",
       "    <tr>\n",
       "      <th>8</th>\n",
       "      <td>0.018872</td>\n",
       "      <td>0.993962</td>\n",
       "      <td>0.102028</td>\n",
       "      <td>0.978267</td>\n",
       "    </tr>\n",
       "    <tr>\n",
       "      <th>9</th>\n",
       "      <td>0.016666</td>\n",
       "      <td>0.994362</td>\n",
       "      <td>0.093026</td>\n",
       "      <td>0.980267</td>\n",
       "    </tr>\n",
       "  </tbody>\n",
       "</table>\n",
       "</div>\n",
       "    <div class=\"colab-df-buttons\">\n",
       "\n",
       "  <div class=\"colab-df-container\">\n",
       "    <button class=\"colab-df-convert\" onclick=\"convertToInteractive('df-92d7e4e7-29d0-4c34-8794-9aa38d0583e1')\"\n",
       "            title=\"Convert this dataframe to an interactive table.\"\n",
       "            style=\"display:none;\">\n",
       "\n",
       "  <svg xmlns=\"http://www.w3.org/2000/svg\" height=\"24px\" viewBox=\"0 -960 960 960\">\n",
       "    <path d=\"M120-120v-720h720v720H120Zm60-500h600v-160H180v160Zm220 220h160v-160H400v160Zm0 220h160v-160H400v160ZM180-400h160v-160H180v160Zm440 0h160v-160H620v160ZM180-180h160v-160H180v160Zm440 0h160v-160H620v160Z\"/>\n",
       "  </svg>\n",
       "    </button>\n",
       "\n",
       "  <style>\n",
       "    .colab-df-container {\n",
       "      display:flex;\n",
       "      gap: 12px;\n",
       "    }\n",
       "\n",
       "    .colab-df-convert {\n",
       "      background-color: #E8F0FE;\n",
       "      border: none;\n",
       "      border-radius: 50%;\n",
       "      cursor: pointer;\n",
       "      display: none;\n",
       "      fill: #1967D2;\n",
       "      height: 32px;\n",
       "      padding: 0 0 0 0;\n",
       "      width: 32px;\n",
       "    }\n",
       "\n",
       "    .colab-df-convert:hover {\n",
       "      background-color: #E2EBFA;\n",
       "      box-shadow: 0px 1px 2px rgba(60, 64, 67, 0.3), 0px 1px 3px 1px rgba(60, 64, 67, 0.15);\n",
       "      fill: #174EA6;\n",
       "    }\n",
       "\n",
       "    .colab-df-buttons div {\n",
       "      margin-bottom: 4px;\n",
       "    }\n",
       "\n",
       "    [theme=dark] .colab-df-convert {\n",
       "      background-color: #3B4455;\n",
       "      fill: #D2E3FC;\n",
       "    }\n",
       "\n",
       "    [theme=dark] .colab-df-convert:hover {\n",
       "      background-color: #434B5C;\n",
       "      box-shadow: 0px 1px 3px 1px rgba(0, 0, 0, 0.15);\n",
       "      filter: drop-shadow(0px 1px 2px rgba(0, 0, 0, 0.3));\n",
       "      fill: #FFFFFF;\n",
       "    }\n",
       "  </style>\n",
       "\n",
       "    <script>\n",
       "      const buttonEl =\n",
       "        document.querySelector('#df-92d7e4e7-29d0-4c34-8794-9aa38d0583e1 button.colab-df-convert');\n",
       "      buttonEl.style.display =\n",
       "        google.colab.kernel.accessAllowed ? 'block' : 'none';\n",
       "\n",
       "      async function convertToInteractive(key) {\n",
       "        const element = document.querySelector('#df-92d7e4e7-29d0-4c34-8794-9aa38d0583e1');\n",
       "        const dataTable =\n",
       "          await google.colab.kernel.invokeFunction('convertToInteractive',\n",
       "                                                    [key], {});\n",
       "        if (!dataTable) return;\n",
       "\n",
       "        const docLinkHtml = 'Like what you see? Visit the ' +\n",
       "          '<a target=\"_blank\" href=https://colab.research.google.com/notebooks/data_table.ipynb>data table notebook</a>'\n",
       "          + ' to learn more about interactive tables.';\n",
       "        element.innerHTML = '';\n",
       "        dataTable['output_type'] = 'display_data';\n",
       "        await google.colab.output.renderOutput(dataTable, element);\n",
       "        const docLink = document.createElement('div');\n",
       "        docLink.innerHTML = docLinkHtml;\n",
       "        element.appendChild(docLink);\n",
       "      }\n",
       "    </script>\n",
       "  </div>\n",
       "\n",
       "\n",
       "<div id=\"df-0ad791b7-84df-482c-8741-d2bed9867049\">\n",
       "  <button class=\"colab-df-quickchart\" onclick=\"quickchart('df-0ad791b7-84df-482c-8741-d2bed9867049')\"\n",
       "            title=\"Suggest charts.\"\n",
       "            style=\"display:none;\">\n",
       "\n",
       "<svg xmlns=\"http://www.w3.org/2000/svg\" height=\"24px\"viewBox=\"0 0 24 24\"\n",
       "     width=\"24px\">\n",
       "    <g>\n",
       "        <path d=\"M19 3H5c-1.1 0-2 .9-2 2v14c0 1.1.9 2 2 2h14c1.1 0 2-.9 2-2V5c0-1.1-.9-2-2-2zM9 17H7v-7h2v7zm4 0h-2V7h2v10zm4 0h-2v-4h2v4z\"/>\n",
       "    </g>\n",
       "</svg>\n",
       "  </button>\n",
       "\n",
       "<style>\n",
       "  .colab-df-quickchart {\n",
       "      --bg-color: #E8F0FE;\n",
       "      --fill-color: #1967D2;\n",
       "      --hover-bg-color: #E2EBFA;\n",
       "      --hover-fill-color: #174EA6;\n",
       "      --disabled-fill-color: #AAA;\n",
       "      --disabled-bg-color: #DDD;\n",
       "  }\n",
       "\n",
       "  [theme=dark] .colab-df-quickchart {\n",
       "      --bg-color: #3B4455;\n",
       "      --fill-color: #D2E3FC;\n",
       "      --hover-bg-color: #434B5C;\n",
       "      --hover-fill-color: #FFFFFF;\n",
       "      --disabled-bg-color: #3B4455;\n",
       "      --disabled-fill-color: #666;\n",
       "  }\n",
       "\n",
       "  .colab-df-quickchart {\n",
       "    background-color: var(--bg-color);\n",
       "    border: none;\n",
       "    border-radius: 50%;\n",
       "    cursor: pointer;\n",
       "    display: none;\n",
       "    fill: var(--fill-color);\n",
       "    height: 32px;\n",
       "    padding: 0;\n",
       "    width: 32px;\n",
       "  }\n",
       "\n",
       "  .colab-df-quickchart:hover {\n",
       "    background-color: var(--hover-bg-color);\n",
       "    box-shadow: 0 1px 2px rgba(60, 64, 67, 0.3), 0 1px 3px 1px rgba(60, 64, 67, 0.15);\n",
       "    fill: var(--button-hover-fill-color);\n",
       "  }\n",
       "\n",
       "  .colab-df-quickchart-complete:disabled,\n",
       "  .colab-df-quickchart-complete:disabled:hover {\n",
       "    background-color: var(--disabled-bg-color);\n",
       "    fill: var(--disabled-fill-color);\n",
       "    box-shadow: none;\n",
       "  }\n",
       "\n",
       "  .colab-df-spinner {\n",
       "    border: 2px solid var(--fill-color);\n",
       "    border-color: transparent;\n",
       "    border-bottom-color: var(--fill-color);\n",
       "    animation:\n",
       "      spin 1s steps(1) infinite;\n",
       "  }\n",
       "\n",
       "  @keyframes spin {\n",
       "    0% {\n",
       "      border-color: transparent;\n",
       "      border-bottom-color: var(--fill-color);\n",
       "      border-left-color: var(--fill-color);\n",
       "    }\n",
       "    20% {\n",
       "      border-color: transparent;\n",
       "      border-left-color: var(--fill-color);\n",
       "      border-top-color: var(--fill-color);\n",
       "    }\n",
       "    30% {\n",
       "      border-color: transparent;\n",
       "      border-left-color: var(--fill-color);\n",
       "      border-top-color: var(--fill-color);\n",
       "      border-right-color: var(--fill-color);\n",
       "    }\n",
       "    40% {\n",
       "      border-color: transparent;\n",
       "      border-right-color: var(--fill-color);\n",
       "      border-top-color: var(--fill-color);\n",
       "    }\n",
       "    60% {\n",
       "      border-color: transparent;\n",
       "      border-right-color: var(--fill-color);\n",
       "    }\n",
       "    80% {\n",
       "      border-color: transparent;\n",
       "      border-right-color: var(--fill-color);\n",
       "      border-bottom-color: var(--fill-color);\n",
       "    }\n",
       "    90% {\n",
       "      border-color: transparent;\n",
       "      border-bottom-color: var(--fill-color);\n",
       "    }\n",
       "  }\n",
       "</style>\n",
       "\n",
       "  <script>\n",
       "    async function quickchart(key) {\n",
       "      const quickchartButtonEl =\n",
       "        document.querySelector('#' + key + ' button');\n",
       "      quickchartButtonEl.disabled = true;  // To prevent multiple clicks.\n",
       "      quickchartButtonEl.classList.add('colab-df-spinner');\n",
       "      try {\n",
       "        const charts = await google.colab.kernel.invokeFunction(\n",
       "            'suggestCharts', [key], {});\n",
       "      } catch (error) {\n",
       "        console.error('Error during call to suggestCharts:', error);\n",
       "      }\n",
       "      quickchartButtonEl.classList.remove('colab-df-spinner');\n",
       "      quickchartButtonEl.classList.add('colab-df-quickchart-complete');\n",
       "    }\n",
       "    (() => {\n",
       "      let quickchartButtonEl =\n",
       "        document.querySelector('#df-0ad791b7-84df-482c-8741-d2bed9867049 button');\n",
       "      quickchartButtonEl.style.display =\n",
       "        google.colab.kernel.accessAllowed ? 'block' : 'none';\n",
       "    })();\n",
       "  </script>\n",
       "</div>\n",
       "    </div>\n",
       "  </div>\n"
      ],
      "text/plain": [
       "       loss  accuracy  val_loss  val_accuracy\n",
       "0  0.215907  0.935333  0.112996      0.963867\n",
       "1  0.086705  0.972610  0.087694      0.974133\n",
       "2  0.060625  0.980819  0.086134      0.973067\n",
       "3  0.043914  0.985695  0.101642      0.968667\n",
       "4  0.035615  0.987810  0.085005      0.976267\n",
       "5  0.027954  0.990914  0.083007      0.981067\n",
       "6  0.025879  0.991238  0.093966      0.976800\n",
       "7  0.020566  0.993391  0.089147      0.978800\n",
       "8  0.018872  0.993962  0.102028      0.978267\n",
       "9  0.016666  0.994362  0.093026      0.980267"
      ]
     },
     "execution_count": 18,
     "metadata": {},
     "output_type": "execute_result"
    }
   ],
   "source": [
    "he_normal_df"
   ]
  },
  {
   "cell_type": "markdown",
   "metadata": {
    "id": "iZd1nzWGHck0"
   },
   "source": [
    "### Plotting training accuracy for each initializer"
   ]
  },
  {
   "cell_type": "code",
   "execution_count": 19,
   "metadata": {
    "colab": {
     "base_uri": "https://localhost:8080/",
     "height": 449
    },
    "id": "2fGUNcWkFWFw",
    "outputId": "0b6620bd-dcba-4655-d190-ed9114d1d2a6"
   },
   "outputs": [
    {
     "data": {
      "image/png": "[encoded data removed]",
      "text/plain": [
       "<Figure size 640x480 with 1 Axes>"
      ]
     },
     "metadata": {},
     "output_type": "display_data"
    }
   ],
   "source": [
    "#plt.plot(zero_initializer_df['accuracy'], label='Zero Initializer Training Accuracy')\n",
    "plt.plot(random_uniform_initializer_df['accuracy'], label='Random Uniform Initializer Training Accuracy')\n",
    "plt.plot(glorot_normal_initializer_df['accuracy'], label='Glorot Normal Initializer Training Accuracy')\n",
    "plt.plot(he_normal_df['accuracy'], label='He Normal Initializer Training Accuracy')\n",
    "plt.xlabel('Epochs')\n",
    "plt.ylabel('Training Accuracy')\n",
    "plt.legend(loc='lower right')\n",
    "plt.show()"
   ]
  },
  {
   "cell_type": "code",
   "execution_count": 20,
   "metadata": {
    "colab": {
     "base_uri": "https://localhost:8080/",
     "height": 449
    },
    "id": "2JZtYuAZGPXy",
    "outputId": "ffcca21b-df6d-42b0-bb0b-9afe9960cecd"
   },
   "outputs": [
    {
     "data": {
      "image/png": "[encoded data removed]",
      "text/plain": [
       "<Figure size 640x480 with 1 Axes>"
      ]
     },
     "metadata": {},
     "output_type": "display_data"
    }
   ],
   "source": [
    "plt.plot(zero_initializer_df['accuracy'], label='Zero Initializer Training Accuracy')\n",
    "plt.xlabel('Epochs')\n",
    "plt.ylabel('Accuracy')\n",
    "plt.legend(loc='lower right')\n",
    "plt.show()"
   ]
  },
  {
   "cell_type": "markdown",
   "metadata": {
    "id": "xgfJp7TnHju5"
   },
   "source": [
    "### Plotting Validation accuracy for each initializer"
   ]
  },
  {
   "cell_type": "code",
   "execution_count": 21,
   "metadata": {
    "colab": {
     "base_uri": "https://localhost:8080/",
     "height": 449
    },
    "id": "LePOAPs7GcHm",
    "outputId": "71d5b3dc-a8b2-47fc-9935-43808927661b"
   },
   "outputs": [
    {
     "data": {
      "image/png": "[encoded data removed]",
      "text/plain": [
       "<Figure size 640x480 with 1 Axes>"
      ]
     },
     "metadata": {},
     "output_type": "display_data"
    }
   ],
   "source": [
    "#plt.plot(zero_initializer_df['val_accuracy'], label='Zero Initializer Validation Accuracy')\n",
    "plt.plot(random_uniform_initializer_df['val_accuracy'], label='Random Uniform Initializer Validation Accuracy')\n",
    "plt.plot(glorot_normal_initializer_df['val_accuracy'], label='Glorot Normal Initializer Validation Accuracy')\n",
    "plt.plot(he_normal_df['val_accuracy'], label='He Normal Initializer Validation Accuracy')\n",
    "plt.xlabel('Epochs')\n",
    "plt.ylabel('Validation Accuracy')\n",
    "plt.legend(loc='lower right')\n",
    "plt.show()"
   ]
  },
  {
   "cell_type": "code",
   "execution_count": 22,
   "metadata": {
    "colab": {
     "base_uri": "https://localhost:8080/",
     "height": 449
    },
    "id": "ZhuigE2LG4vG",
    "outputId": "99833fe2-6d38-427c-fca2-666185f35e45"
   },
   "outputs": [
    {
     "data": {
      "image/png": "[encoded data removed]",
      "text/plain": [
       "<Figure size 640x480 with 1 Axes>"
      ]
     },
     "metadata": {},
     "output_type": "display_data"
    }
   ],
   "source": [
    "plt.plot(zero_initializer_df['val_accuracy'], label='Zero Initializer Validation Accuracy')\n",
    "plt.xlabel('Epochs')\n",
    "plt.ylabel('Validation Accuracy')\n",
    "plt.legend(loc='lower right')\n",
    "plt.show()"
   ]
  },
  {
   "cell_type": "markdown",
   "metadata": {
    "id": "B6aPJsYoHnvM"
   },
   "source": [
    "### Plotting Validation Loss for each initializer"
   ]
  },
  {
   "cell_type": "code",
   "execution_count": 23,
   "metadata": {
    "colab": {
     "base_uri": "https://localhost:8080/",
     "height": 449
    },
    "id": "6IlCqZqaG-Un",
    "outputId": "a619fa68-e7c0-46b4-cfcf-a15a3947dbd5"
   },
   "outputs": [
    {
     "data": {
      "image/png": "[encoded data removed]",
      "text/plain": [
       "<Figure size 640x480 with 1 Axes>"
      ]
     },
     "metadata": {},
     "output_type": "display_data"
    }
   ],
   "source": [
    "#plt.plot(zero_initializer_df['val_loss'], label='Zero Initializer Validation Loss')\n",
    "plt.plot(random_uniform_initializer_df['val_loss'], label='Random Uniform Initializer Validation Loss')\n",
    "plt.plot(glorot_normal_initializer_df['val_loss'], label='Glorot Normal Initializer Validation Loss')\n",
    "plt.plot(he_normal_df['val_loss'], label='He Normal Initializer Validation Loss')\n",
    "plt.xlabel('Epochs')\n",
    "plt.ylabel('Validation Loss')\n",
    "plt.legend(loc='upper right')\n",
    "plt.show()"
   ]
  },
  {
   "cell_type": "code",
   "execution_count": 24,
   "metadata": {
    "colab": {
     "base_uri": "https://localhost:8080/",
     "height": 449
    },
    "id": "pPZtngJnHSwW",
    "outputId": "0acb4474-6a99-477c-8540-8e42f7b85b3f"
   },
   "outputs": [
    {
     "data": {
      "image/png": "[encoded data removed]",
      "text/plain": [
       "<Figure size 640x480 with 1 Axes>"
      ]
     },
     "metadata": {},
     "output_type": "display_data"
    }
   ],
   "source": [
    "plt.plot(zero_initializer_df['val_loss'], label='Zero Initializer Validation Loss')\n",
    "plt.xlabel('Epochs')\n",
    "plt.ylabel('Validation Loss')\n",
    "plt.legend(loc='upper right')\n",
    "plt.show()"
   ]
  },
  {
   "cell_type": "markdown",
   "metadata": {
    "id": "NmHie2kKHxf2"
   },
   "source": [
    "### Plotting Training Loss for each initializer"
   ]
  },
  {
   "cell_type": "code",
   "execution_count": 25,
   "metadata": {
    "colab": {
     "base_uri": "https://localhost:8080/",
     "height": 449
    },
    "id": "eb0uj5pvHYFo",
    "outputId": "d567245b-98cb-4f74-8dde-fb812d235dda"
   },
   "outputs": [
    {
     "data": {
      "image/png": "[encoded data removed]",
      "text/plain": [
       "<Figure size 640x480 with 1 Axes>"
      ]
     },
     "metadata": {},
     "output_type": "display_data"
    }
   ],
   "source": [
    "#plt.plot(zero_initializer_df['loss'], label='Zero Initializer Training Loss')\n",
    "plt.plot(random_uniform_initializer_df['loss'], label='Random Uniform Initializer Training Loss')\n",
    "plt.plot(glorot_normal_initializer_df['loss'], label='Glorot Normal Initializer Training Loss')\n",
    "plt.plot(he_normal_df['loss'], label='He Normal Initializer Training Loss')\n",
    "plt.xlabel('Epochs')\n",
    "plt.ylabel('Training Loss')\n",
    "plt.legend(loc='upper right')\n",
    "plt.show()"
   ]
  },
  {
   "cell_type": "code",
   "execution_count": 26,
   "metadata": {
    "colab": {
     "base_uri": "https://localhost:8080/",
     "height": 465
    },
    "id": "OmrVWNYJIEJ5",
    "outputId": "a49ce969-9191-409e-9850-cedc90dc0c3f"
   },
   "outputs": [
    {
     "data": {
      "image/png": "[encoded data removed]",
      "text/plain": [
       "<Figure size 640x480 with 1 Axes>"
      ]
     },
     "metadata": {},
     "output_type": "display_data"
    }
   ],
   "source": [
    "plt.plot(zero_initializer_df['loss'], label='Zero Initializer Training Loss')\n",
    "plt.xlabel('Epochs')\n",
    "plt.ylabel('Training Loss')\n",
    "plt.legend(loc='upper right')\n",
    "plt.show()"
   ]
  },
  {
   "cell_type": "markdown",
   "metadata": {
    "id": "Qr7glnz9IQNv"
   },
   "source": [
    "### Q2. Discuss the considerations and tradeoffs when choosing the appropriate weight initialization technique for a given neural network architecture and task."
   ]
  },
  {
   "cell_type": "markdown",
   "metadata": {
    "id": "8kI44ip1IWOY"
   },
   "source": [
    "Some considerations to keep in mind when selecting a weight initialization techniques are:\n",
    "\n",
    "**1. Activation Function**:\n",
    "   - **ReLU and Its Variants**: When using activation functions like ReLU, Leaky ReLU, or Parametric ReLU (PReLU), initialization methods like He initialization are often preferred. These activations tend to benefit from larger initial weights to prevent vanishing gradients.\n",
    "\n",
    "   - **Sigmoid and Tanh**: For activation functions like sigmoid and hyperbolic tangent (tanh), Xavier/Glorot initialization is a suitable choice. These activations have a smaller range, so it's essential to initialize weights in a way that keeps activations within this range.\n",
    "\n",
    "**2. Network Depth**:\n",
    "   - For deep neural networks with many layers, it's crucial to use weight initialization techniques that can mitigate the vanishing or exploding gradient problem. He initialization and variants of Xavier initialization are designed with deep networks in mind.\n",
    "\n",
    "**3. Problem Complexity**:\n",
    "   - Consider the complexity of the problem you're solving. Complex tasks may benefit from more advanced weight initialization techniques to help the model learn intricate patterns in the data.\n",
    "\n",
    "**4. Architectural Considerations**:\n",
    "   - If your neural network architecture includes skip connections, residual blocks, or other complex structures, you may need to experiment with different weight initialization methods to find the most suitable one for your specific architecture.\n",
    "\n",
    "**5. Learning Rate**:\n",
    "   - The learning rate used during training can interact with weight initialization. Smaller learning rates may be more forgiving with improper initialization, but larger learning rates may require more careful initialization to prevent divergence.\n",
    "\n",
    "**6. Data Preprocessing**:\n",
    "   - The preprocessing of input data can affect the choice of weight initialization. If you're normalizing or standardizing input data, consider how it impacts the activations and whether the chosen initialization method complements the preprocessing.\n",
    "\n",
    "**7. Experimental Evaluation**:\n",
    "   - It's often a good practice to experiment with multiple weight initialization techniques during model development. Train the model with different initializations and evaluate their performance on validation data to identify which method works best for your specific problem.\n",
    "\n",
    "**8. Regularization Techniques**:\n",
    "   - If you plan to use regularization techniques like dropout or weight decay, they can interact with weight initialization. Be mindful of how these regularization techniques impact the training dynamics and the choice of initialization.\n",
    "\n",
    "**9. Computational Resources**:\n",
    "   - Some weight initialization methods may require more computational resources than others. If you have constraints on training time or resources, consider the computational cost of initialization techniques.\n",
    "\n",
    "**10. Transfer Learning**:\n",
    "   - If you're performing transfer learning with a pretrained model, you may inherit the weight initialization from the pretrained model's last layer. In such cases, consider compatibility with the pretrained model's initialization.\n",
    "\n",
    "Selecting the appropriate weight initialization technique is a crucial step in neural network design. It involves considering factors like activation functions, network depth, problem complexity, architecture, learning rate, data preprocessing, regularization, and computational resources. It often requires experimentation and tuning to find the initialization method that best suits your specific task and model."
   ]
  }
 ],
 "metadata": {
  "accelerator": "GPU",
  "colab": {
   "gpuType": "T4",
   "provenance": []
  },
  "kernelspec": {
   "display_name": "Python 3 (ipykernel)",
   "language": "python",
   "name": "python3"
  },
  "language_info": {
   "codemirror_mode": {
    "name": "ipython",
    "version": 3
   },
   "file_extension": ".py",
   "mimetype": "text/x-python",
   "name": "python",
   "nbconvert_exporter": "python",
   "pygments_lexer": "ipython3",
   "version": "3.10.5"
  }
 },
 "nbformat": 4,
 "nbformat_minor": 1
}

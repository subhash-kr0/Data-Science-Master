{
 "cells": [
  {
   "cell_type": "markdown",
   "metadata": {},
   "source": [
    "# Understanding Regularization"
   ]
  },
  {
   "cell_type": "markdown",
   "metadata": {
    "id": "wQ1ZuGOITz3s"
   },
   "source": [
    "## Q1. What is regularization in the context of deep learning? Why is it important?"
   ]
  },
  {
   "cell_type": "markdown",
   "metadata": {
    "id": "-h2v4popP_sr"
   },
   "source": [
    "**Regularization** refers to a set of techniques that are used to prevent a neural network from overfitting the training data. Overfitting occurs when a model learns to fit the training data extremely well but fails to generalize to unseen or new data. Regularization techniques are essential for improving a model's ability to generalize to new data and avoid overfitting.\n",
    "\n",
    "### Importance of Regularization:\n",
    "\n",
    "1. **Preventing Overfitting:** The primary goal of regularization is to prevent overfitting. Overfit models have high complexity and tend to capture noise in the training data, leading to poor generalization. Regularization techniques constrain the model's capacity and steer it towards learning meaningful patterns.\n",
    "\n",
    "2. **Improved Generalization:** By reducing overfitting, regularization helps models generalize better to unseen data. This is crucial for real-world applications where the model encounters data it hasn't seen during training.\n",
    "\n",
    "3. **Stability:** Regularization techniques often make the training process more stable. Without regularization, models can exhibit erratic behavior, such as drastic changes in weights during training.\n",
    "\n",
    "4. **Reducing Model Complexity:** Deep neural networks have a large number of parameters, which can make them prone to overfitting. Regularization techniques help in reducing the effective complexity of the model, making it more manageable.\n",
    "\n",
    "### Types of Regularization\n",
    "\n",
    "1. **L1 Regularization (Lasso):** Adds a penalty term based on the absolute values of the weights, encouraging sparsity by driving some weights to exactly zero. It can be used for feature selection.\n",
    "\n",
    "2. **L2 Regularization (Ridge):** Adds a penalty term based on the squared values of the weights, discouraging large weights and promoting smoother decision boundaries.\n",
    "\n",
    "3. **Dropout:** During training, randomly deactivates a fraction of neurons, introducing noise and promoting robustness.\n",
    "\n",
    "4. **Early Stopping:** Monitors the model's performance on a validation dataset and stops training when performance starts to degrade.\n",
    "\n",
    "5. **Data Augmentation:** Increases the size of the training dataset by applying random transformations to the input data (e.g., rotation, translation, or cropping).\n",
    "\n",
    "6. **Weight Constraints:** Limits the magnitude of weights by imposing constraints (e.g., weight clipping).\n",
    "\n",
    "7. **Ensemble Methods:** Combines predictions from multiple neural networks to improve generalization (e.g., bagging, boosting).\n",
    "\n",
    "8. **Noise Injection:** Adds random noise to input data or during training to increase robustness.\n",
    "\n",
    "9. **Batch Normalization:** Stabilizes and accelerates training, indirectly acting as regularization by introducing noise and reducing sensitivity to initialization.\n",
    "\n",
    "10. **Gradient Clipping:** Limits the magnitude of gradients during training to prevent exploding gradients.\n",
    "\n",
    "11. **Label Smoothing:** Smooths one-hot encoded labels to make them less extreme, reducing overfitting.\n",
    "\n",
    "12. **Mixup:** Combines pairs of training samples and their labels to create new samples, encouraging the model to interpolate between examples.\n",
    "\n",
    "\n",
    "Regularization techniques can be used individually or in combination to achieve the desired level of regularization for a specific problem. The choice of regularization method and its hyperparameters depends on the dataset, model architecture, and the degree of overfitting observed during training. By applying regularization effectively, deep learning models can strike a balance between fitting the training data well and generalizing to unseen data."
   ]
  },
  {
   "cell_type": "markdown",
   "metadata": {
    "id": "4Gw-H2pOTyH7"
   },
   "source": [
    "## Q2. Explain the bias-variance tradeoff and how regularization helps in addressing this tradeoff?"
   ]
  },
  {
   "cell_type": "markdown",
   "metadata": {
    "id": "jjK51UKffea7"
   },
   "source": [
    "The **bias-variance tradeoff** is a fundamental concept in machine learning that relates to a model's ability to generalize from training data to unseen or new data. It describes the balance between two sources of error that affect the performance of a machine learning model:\n",
    "\n",
    "1. **Bias:** Bias refers to the error introduced by approximating a real-world problem that may be complex by a too simplistic model. High bias can lead to underfitting, where the model fails to capture the underlying patterns in the data. Models with high bias have limited expressive power and make strong assumptions about the data.\n",
    "\n",
    "2. **Variance:** Variance refers to the error introduced by the model's sensitivity to small fluctuations or noise in the training data. High variance can lead to overfitting, where the model fits the training data extremely well but fails to generalize to new data. Models with high variance are often overly complex and capture noise in the data.\n",
    "\n",
    "**The tradeoff symbolizes:**\n",
    "\n",
    "- **High Bias, Low Variance:** Models with high bias and low variance are simple and make strong assumptions about the data. They may underfit the training data.\n",
    "\n",
    "- **Low Bias, High Variance:** Models with low bias and high variance are complex and can fit the training data very closely. They may overfit the training data.\n",
    "\n",
    "- **Balanced Tradeoff:** Ideally, you want to strike a balance between bias and variance. You want a model that is complex enough to capture the underlying patterns in the data but not so complex that it fits the noise.\n",
    "\n",
    "**How Regularization Helps in Addressing the Bias-Variance Tradeoff:**\n",
    "\n",
    "Regularization techniques are used to control model complexity and help in addressing the bias-variance tradeoff:\n",
    "\n",
    "1. **Bias Reduction:** Regularization methods like L2 (Ridge) and L1 (Lasso) regularization add a penalty term to the loss function that discourages large weight values. This encourages the model to have smaller, more balanced weights and, in turn, reduces bias. It prevents the model from being too simplistic and helps it capture more complex patterns in the data.\n",
    "\n",
    "2. **Variance Reduction:** Regularization methods also help reduce variance by preventing the model from fitting the training data too closely. By adding a penalty for large weights, the model becomes less sensitive to noise in the training data. This results in a smoother decision boundary, which leads to better generalization to new data.\n",
    "\n",
    "3. **Optimal Balance:** By tuning the strength of regularization (e.g., the regularization parameter, lambda), you can find the optimal balance between bias and variance for your specific problem. Regularization allows you to control the model's complexity, making it possible to strike the right balance.\n",
    "\n",
    "4. **Preventing Overfitting:** Regularization techniques like dropout and early stopping can directly prevent overfitting by reducing the model's capacity to memorize the training data.\n",
    "\n",
    "Regularization techniques are a crucial tool in machine learning for addressing the bias-variance tradeoff. They help control model complexity, reduce overfitting, and enable models to generalize better to new data by finding an optimal balance between bias and variance."
   ]
  },
  {
   "cell_type": "markdown",
   "metadata": {
    "id": "qwGT1HofT_NT"
   },
   "source": [
    "## Q3. Describe the concept of L1 and L2 regularization. How do they differ in terms of penalty calculation and their effects on the model?"
   ]
  },
  {
   "cell_type": "markdown",
   "metadata": {
    "id": "AJCDt9HfffCP"
   },
   "source": [
    "**L1 and L2 regularization** are two common techniques used to prevent overfitting in machine learning models by adding a penalty term to the loss function. They differ in how they calculate and apply these penalty terms, resulting in different effects on the model's weights and, consequently, its behavior.\n",
    "\n",
    "**L1 Regularization (Lasso):**\n",
    "\n",
    "1. **Penalty Calculation:** L1 regularization adds a penalty term to the loss function that is proportional to the absolute values of the model's weights. It is calculated as the sum of the absolute values of the weights:\n",
    "\n",
    "   Penalty(L1) = λ * Σ|Wi|\n",
    "\n",
    "   - λ (lambda) is the regularization strength, a hyperparameter you can tune.\n",
    "   - Wi represents the weights of the model.\n",
    "\n",
    "2. **Effect on the Model:** L1 regularization encourages sparsity in the model by driving many weights to exactly zero. This means that L1 regularization can be used for feature selection because it effectively eliminates less important features from the model. Sparse models are simpler and more interpretable.\n",
    "\n",
    "3. **Use Cases:**\n",
    "   - L1 regularization is often used when you have a large number of features, and you suspect that only a subset of them is relevant to the task. It helps in feature selection by setting irrelevant feature weights to zero.\n",
    "\n",
    "**L2 Regularization (Ridge):**\n",
    "\n",
    "1. **Penalty Calculation:** L2 regularization adds a penalty term to the loss function that is proportional to the square of the model's weights. It is calculated as the sum of the squared values of the weights:\n",
    "\n",
    "   Penalty(L2) = λ * Σ(Wi^2)\n",
    "\n",
    "   - λ (lambda) is the regularization strength, a hyperparameter you can tune.\n",
    "   - Wi represents the weights of the model.\n",
    "\n",
    "2. **Effect on the Model:** L2 regularization encourages the weights of the model to be small but does not force them to be exactly zero. It distributes the penalty across all weights, making them small and preventing extreme values. This results in a smoother decision boundary.\n",
    "\n",
    "3. **Use Cases:**\n",
    "   - L2 regularization is a good choice when you want to prevent the model from having large weight values that might lead to overfitting. It helps in controlling the model's complexity by making all features contribute to the prediction.\n",
    "\n",
    "**Differences Between L1 and L2 Regularization:**\n",
    "\n",
    "1. **Effect on Weights:**\n",
    "   - L1 regularization tends to lead to sparse weight vectors with many weights set to exactly zero.\n",
    "   - L2 regularization shrinks all weights toward zero but rarely results in exactly zero weights.\n",
    "\n",
    "2. **Feature Selection:**\n",
    "   - L1 regularization can be used for feature selection because it encourages some features to have zero weights, effectively eliminating them from the model.\n",
    "   - L2 regularization does not perform feature selection in the same way and typically keeps all features in the model.\n",
    "\n",
    "3. **Smoothness of Decision Boundary:**\n",
    "   - L2 regularization results in smoother decision boundaries due to its ability to distribute the penalty across all weights.\n",
    "   - L1 regularization can lead to less smooth decision boundaries due to the sparsity it induces.\n",
    "\n",
    "A combination of L1 and L2 regularization, known as **Elastic Net regularization**, can also be used to benefit from both feature selection (L1) and weight shrinkage (L2)."
   ]
  },
  {
   "cell_type": "markdown",
   "metadata": {
    "id": "hQwiS3RjT_HQ"
   },
   "source": [
    "## Q4. Explain the concept of Batch Normalization and its role as a form of regularization. How does Batch Normalization help in preventing overfitting?"
   ]
  },
  {
   "cell_type": "markdown",
   "metadata": {
    "id": "vFKCJ-ozT--b"
   },
   "source": [
    "**Batch Normalization (BatchNorm)** is a technique used in deep neural networks to stabilize and accelerate the training process. It normalizes the activations in a layer by scaling and shifting them, which helps prevent issues like vanishing gradients and accelerates convergence. While BatchNorm is primarily used for improving training dynamics, it also has an implicit regularization effect that helps in preventing overfitting.\n",
    "\n",
    "**Concept of Batch Normalization:**\n",
    "\n",
    "1. **Normalization:** In BatchNorm, during each mini-batch of training data, the activations (outputs) of a layer are normalized. This means that the mean and standard deviation of the activations within the mini-batch are calculated.\n",
    "\n",
    "2. **Scaling and Shifting:** After normalization, the activations are scaled by a learnable parameter (gamma) and shifted by another learnable parameter (beta). These parameters allow the model to learn the optimal scaling and shifting for the activations.\n",
    "\n",
    "3. **Batch Statistics:** The statistics (mean and standard deviation) used for normalization are specific to the current mini-batch. During inference (when making predictions), running averages of these statistics are used, which provide more stable estimates of the population statistics.\n",
    "\n",
    "**Role as a Form of Regularization:**\n",
    "\n",
    "1. **Noise Injection:** Because BatchNorm normalizes activations within each mini-batch, it introduces some noise during training. This noise can help the model generalize better to the data by acting as a form of regularization. The model learns to adapt to the noise, making it more robust to small variations in the input data.\n",
    "\n",
    "2. **Reduced Internal Covariate Shift:** BatchNorm reduces the internal covariate shift, which is the change in the distribution of activations within a network as training progresses. This can stabilize training and reduce the need for lower learning rates and careful weight initialization. By reducing internal covariate shift, BatchNorm indirectly helps in preventing overfitting.\n",
    "\n",
    "3. **Smoothing Decision Boundaries:** BatchNorm encourages smoother decision boundaries because it ensures that the activations have a consistent distribution within each mini-batch. This can make the model less sensitive to the noise in the training data and help it generalize better.\n",
    "\n",
    "4. **Regularization via Scaling:** The gamma parameter, which scales the normalized activations, can act as a form of regularization. If gamma is forced to be close to 1, it encourages the model to rely more on the raw activations, preventing over-regularization.\n",
    "\n",
    "5. **Enables Use of Higher Learning Rates:** BatchNorm often allows the use of higher learning rates during training, which can speed up convergence. Faster convergence can help prevent overfitting by reducing the number of training iterations.\n",
    "\n",
    "Batch Normalization not only improves the training dynamics of deep neural networks but also provides implicit regularization by introducing noise, reducing internal covariate shift, and encouraging smoother decision boundaries. It helps make models more robust and less prone to overfitting, especially in deep architectures. However, it's worth noting that while BatchNorm can help prevent overfitting to some extent, it may not be a complete replacement for other explicit regularization techniques like L1 or L2 regularization, dropout, or early stopping, depending on the specific problem and dataset."
   ]
  },
  {
   "cell_type": "markdown",
   "metadata": {},
   "source": [
    "# Regularization Techniques"
   ]
  },
  {
   "cell_type": "markdown",
   "metadata": {
    "id": "9pSRlLzA828C"
   },
   "source": [
    "## Q5. Explain Dropout regularization and how it works to reduce overfitting.\n"
   ]
  },
  {
   "cell_type": "markdown",
   "metadata": {
    "id": "khm0YINiDsun"
   },
   "source": [
    "**Dropout regularization** is a powerful technique used in neural networks to prevent overfitting. It works by randomly deactivating (dropping out) a fraction of neurons during each forward and backward pass of training. Dropout encourages the network to learn redundant representations, making it more robust and less prone to overfitting.\n",
    "\n",
    "**How Dropout Regularization Works:**\n",
    "\n",
    "1. **Training Phase:**\n",
    "   - During training, at each forward pass (iteration), dropout randomly selects a subset of neurons to be \"dropped out\" or deactivated. These neurons are effectively set to zero for that particular pass.\n",
    "   - The probability of a neuron being dropped out is determined by a hyperparameter called the dropout rate (usually set between 0.2 and 0.5).\n",
    "   - Dropout is applied independently to each neuron, meaning different neurons may be dropped out in different iterations.\n",
    "\n",
    "2. **Testing Phase:**\n",
    "   - During testing or inference, dropout is not applied, and all neurons are active.\n",
    "   - To ensure the expected output of the model remains the same as during training, the weights of the neurons that were dropped out during training are typically scaled down by the dropout rate during testing. This is done to maintain the overall scale of the activations.\n",
    "\n",
    "**Dropout regularization** reduces overfitting by randomly deactivating a fraction of neurons during training, introducing noise, and preventing the model from relying too heavily on specific neurons. This encourages robustness, ensemble learning, and smoother decision boundaries, ultimately improving generalization."
   ]
  },
  {
   "cell_type": "markdown",
   "metadata": {
    "id": "ghDtAjlPEAPj"
   },
   "source": [
    "## Q6. Discuss the impact of Dropout on model training and inference.\n"
   ]
  },
  {
   "cell_type": "markdown",
   "metadata": {
    "id": "BZ0thLAhEIFY"
   },
   "source": [
    "**Impact of Dropout on Model Training and Inference**\n",
    "\n",
    "- **Training Phase:**\n",
    "   - During training, at each forward pass (iteration), dropout randomly selects a subset of neurons to be \"dropped out\" or deactivated. These neurons are effectively set to zero for that particular pass.\n",
    "   - The probability of a neuron being dropped out is determined by a hyperparameter called the dropout rate (usually set between 0.2 and 0.5).\n",
    "   - Dropout is applied independently to each neuron, meaning different neurons may be dropped out in different iterations.\n",
    "\n",
    "- **Inference Phase:**\n",
    "  - During inference, Dropout is turned off, and all neurons are active.\n",
    "  - To maintain the expected output scale, the weights of neurons that were dropped out during training are typically scaled down by the dropout rate during inference.\n",
    "  - The model, having trained with Dropout, tends to generalize better to new, unseen data during inference.\n"
   ]
  },
  {
   "cell_type": "markdown",
   "metadata": {
    "id": "eVm0yu4xEEYq"
   },
   "source": [
    "## Q7. Describe the concept of Early Stopping as a form of regularization. How does it help prevent overfitting during the training process ?\n"
   ]
  },
  {
   "cell_type": "markdown",
   "metadata": {
    "id": "aJ2V9IN9EI71"
   },
   "source": [
    "**Early stopping** is a regularization technique used to prevent overfitting during the training process of machine learning models, including neural networks. It involves monitoring the model's performance on a validation dataset during training and stopping the training process when the model's performance on the validation dataset starts to degrade. Here's how early stopping works and how it helps prevent overfitting:\n",
    "\n",
    "**How Early Stopping Works:**\n",
    "\n",
    "1. **Training Process:** During the training process, the model is iteratively updated to minimize a loss function based on the training data. The training data is used to adjust the model's weights and biases.\n",
    "\n",
    "2. **Validation Dataset:** A separate validation dataset, which is not used for training, is set aside. This dataset represents unseen data that the model has not encountered during training.\n",
    "\n",
    "3. **Monitoring Performance:** Periodically, typically after each epoch (complete pass through the training data), the model's performance is evaluated on the validation dataset. Common evaluation metrics include accuracy, loss, or other relevant metrics depending on the problem.\n",
    "\n",
    "4. **Early Stopping Criterion:** An early stopping criterion is defined, such as \"stop training if validation loss increases for N consecutive epochs\" or \"stop training if validation accuracy does not improve for N consecutive epochs.\"\n",
    "\n",
    "5. **Termination:** If the early stopping criterion is met, training is terminated before reaching the predefined number of epochs. The model with the best performance on the validation dataset up to that point is typically saved.\n",
    "\n",
    "**Early stopping** prevents overfitting by monitoring the model's performance on a validation dataset during training and stopping when validation performance starts to degrade. This ensures that the model generalizes well to new data and avoids learning noise or irrelevant patterns in the training data."
   ]
  },
  {
   "cell_type": "markdown",
   "metadata": {
    "id": "nAGv6-9UEHLC"
   },
   "source": [
    "## Q8. Explain the concept of Batch Normalization and its role as a form of regularization. How does Batch Normalization help in preventing overfitting?"
   ]
  },
  {
   "cell_type": "markdown",
   "metadata": {
    "id": "oQCLAVOUEJvG"
   },
   "source": [
    "**Batch Normalization (BatchNorm)** is a technique used in deep neural networks to stabilize and accelerate the training process. While its primary purpose is not regularization, BatchNorm has a side effect that can be considered a form of regularization.\n",
    "\n",
    "**Concept of Batch Normalization:**\n",
    "\n",
    "1. **Normalization:** BatchNorm normalizes the activations (outputs) of a layer within each mini-batch of training data. This means it calculates the mean and standard deviation of the activations within the mini-batch.\n",
    "\n",
    "2. **Scaling and Shifting:** After normalization, BatchNorm scales the normalized activations by a learnable parameter (gamma) and shifts them by another learnable parameter (beta). These parameters allow the model to learn the optimal scaling and shifting for the activations.\n",
    "\n",
    "3. **Batch Statistics:** During training, BatchNorm calculates batch-specific statistics (mean and standard deviation). During inference, running averages of these statistics are used for normalization. This ensures that the model's behavior is consistent during training and inference.\n",
    "\n",
    "**Role as a Form of Regularization:**\n",
    "\n",
    "While BatchNorm's primary purpose is to stabilize training, it has some regularization effects:\n",
    "\n",
    "1. **Noise Injection:** BatchNorm introduces noise during training because it normalizes activations within each mini-batch. This noise can act as a form of regularization by making the model more robust and less prone to overfitting.\n",
    "\n",
    "2. **Reduced Internal Covariate Shift:** BatchNorm reduces the internal covariate shift, which is the change in the distribution of activations within a network as training progresses. By maintaining a more consistent distribution, BatchNorm stabilizes training and reduces the need for lower learning rates and careful weight initialization.\n",
    "\n",
    "3. **Smoothing Decision Boundaries:** BatchNorm encourages smoother decision boundaries because it ensures that activations have a consistent distribution within each mini-batch. Smoother decision boundaries improve generalization to new data and reduce overfitting.\n",
    "\n",
    "4. **Reduced Sensitivity to Initialization:** BatchNorm makes models less sensitive to the choice of weight initialization and learning rate, which can aid in preventing overfitting.\n",
    "\n",
    "**Batch Normalization** helps prevent overfitting by introducing noise, reducing internal covariate shift, and promoting smoother decision boundaries during training, ultimately making models more robust and less prone to overfitting."
   ]
  },
  {
   "cell_type": "markdown",
   "metadata": {},
   "source": [
    "# Applying Regularization"
   ]
  },
  {
   "cell_type": "markdown",
   "metadata": {
    "id": "5sGb7FaVJYmT"
   },
   "source": [
    "## Q9. Implement Dropout regularization in a deep learning model using a framework of your choice. Evaluate its impact on model performance and compare it with a model without Dropout\n"
   ]
  },
  {
   "cell_type": "code",
   "execution_count": 1,
   "metadata": {
    "id": "jHeTkXM6JfZA"
   },
   "outputs": [],
   "source": [
    "#Importing the libraries\n",
    "import keras\n",
    "import tensorflow as tf\n",
    "import pandas as pd\n",
    "import numpy as np\n",
    "import matplotlib.pyplot as plt\n",
    "import seaborn as sns\n",
    "from sklearn.model_selection import train_test_split"
   ]
  },
  {
   "cell_type": "code",
   "execution_count": 2,
   "metadata": {
    "colab": {
     "base_uri": "https://localhost:8080/"
    },
    "id": "FBmeiW18KNZN",
    "outputId": "e51b6506-75de-48cf-ed4c-6d6cb9cdca11"
   },
   "outputs": [
    {
     "name": "stdout",
     "output_type": "stream",
     "text": [
      "Tensorflow Version 2.13.0\n",
      "Keras Version 2.13.1\n"
     ]
    }
   ],
   "source": [
    "#Printing their versions\n",
    "print(f\"Tensorflow Version {tf.__version__}\")\n",
    "print(f\"Keras Version {keras.__version__}\")"
   ]
  },
  {
   "cell_type": "markdown",
   "metadata": {
    "id": "l0Od6USQZpSB"
   },
   "source": [
    "Dataset used : https://keras.io/api/datasets/fashion_mnist/"
   ]
  },
  {
   "cell_type": "code",
   "execution_count": 3,
   "metadata": {
    "id": "ODCCKibwZNgZ"
   },
   "outputs": [],
   "source": [
    "fash_mnist = keras.datasets.fashion_mnist"
   ]
  },
  {
   "cell_type": "code",
   "execution_count": 4,
   "metadata": {
    "id": "cs1O0b_wZUFK"
   },
   "outputs": [],
   "source": [
    "(X_train_full,y_train_full),(X_test,y_test) = fash_mnist.load_data()"
   ]
  },
  {
   "cell_type": "code",
   "execution_count": 5,
   "metadata": {
    "colab": {
     "base_uri": "https://localhost:8080/"
    },
    "id": "fMlmS1AfZtzO",
    "outputId": "98aeb38a-6d3d-40d1-f583-743319f6ec90"
   },
   "outputs": [
    {
     "data": {
      "text/plain": [
       "((10000, 28, 28), (60000, 28, 28))"
      ]
     },
     "execution_count": 5,
     "metadata": {},
     "output_type": "execute_result"
    }
   ],
   "source": [
    "X_test.shape , X_train_full.shape"
   ]
  },
  {
   "cell_type": "code",
   "execution_count": 6,
   "metadata": {
    "id": "_j1dcYGaaNGl"
   },
   "outputs": [],
   "source": [
    "# create a validation data set from the full training data\n",
    "# Scale the data between 0 to 1 by dividing it by 255. as its an unsigned data between 0-255 range\n",
    "X_valid, X_train = (X_train_full[:5000] / 255) ,(X_train_full[5000:] / 255 )\n",
    "y_valid, y_train = y_train_full[:5000]  , y_train_full[5000:]\n",
    "\n",
    "# scale the test set as well\n",
    "X_test = X_test / 255"
   ]
  },
  {
   "cell_type": "code",
   "execution_count": 7,
   "metadata": {
    "colab": {
     "base_uri": "https://localhost:8080/",
     "height": 430
    },
    "id": "uCkgIh3QaPxX",
    "outputId": "31ffc99a-aeee-4347-9d93-68a545ee71e4"
   },
   "outputs": [
    {
     "data": {
      "image/png": "[encoded data removed]",
      "text/plain": [
       "<Figure size 640x480 with 1 Axes>"
      ]
     },
     "metadata": {},
     "output_type": "display_data"
    }
   ],
   "source": [
    "# Lets view some data\n",
    "plt.imshow(X_train[2],cmap=\"binary\")\n",
    "plt.show()"
   ]
  },
  {
   "cell_type": "markdown",
   "metadata": {
    "id": "Q3WBmRYPdbbd"
   },
   "source": [
    "### Without Dropout Layer"
   ]
  },
  {
   "cell_type": "code",
   "execution_count": 8,
   "metadata": {
    "colab": {
     "base_uri": "https://localhost:8080/"
    },
    "id": "3cHt2GIsdFkd",
    "outputId": "c1cf59f2-1a46-455a-da34-852bd0b84aaa"
   },
   "outputs": [
    {
     "name": "stdout",
     "output_type": "stream",
     "text": [
      "Model: \"sequential\"\n",
      "_________________________________________________________________\n",
      " Layer (type)                Output Shape              Param #   \n",
      "=================================================================\n",
      " flatten (Flatten)           (None, 784)               0         \n",
      "                                                                 \n",
      " dense (Dense)               (None, 500)               392500    \n",
      "                                                                 \n",
      " dense_1 (Dense)             (None, 300)               150300    \n",
      "                                                                 \n",
      " dense_2 (Dense)             (None, 10)                3010      \n",
      "                                                                 \n",
      "=================================================================\n",
      "Total params: 545810 (2.08 MB)\n",
      "Trainable params: 545810 (2.08 MB)\n",
      "Non-trainable params: 0 (0.00 Byte)\n",
      "_________________________________________________________________\n"
     ]
    }
   ],
   "source": [
    "#Model Built without using Dropout Layer\n",
    "layer = [keras.layers.Flatten(input_shape=[28, 28]),\n",
    "         keras.layers.Dense(500, activation=\"relu\"),\n",
    "         keras.layers.Dense(300, activation=\"relu\"),\n",
    "         keras.layers.Dense(10, activation=\"softmax\")]\n",
    "\n",
    "model = keras.models.Sequential(layer)\n",
    "\n",
    "model.summary()"
   ]
  },
  {
   "cell_type": "code",
   "execution_count": 9,
   "metadata": {
    "colab": {
     "base_uri": "https://localhost:8080/"
    },
    "id": "c3HQHbdddQyf",
    "outputId": "3fa9a04b-1874-4e0c-9502-06206c0a6bf7"
   },
   "outputs": [
    {
     "name": "stdout",
     "output_type": "stream",
     "text": [
      "Epoch 1/10\n",
      "1719/1719 - 11s - loss: 0.6927 - accuracy: 0.7722 - val_loss: 0.4954 - val_accuracy: 0.8374 - 11s/epoch - 7ms/step\n",
      "Epoch 2/10\n",
      "1719/1719 - 8s - loss: 0.4799 - accuracy: 0.8344 - val_loss: 0.4316 - val_accuracy: 0.8536 - 8s/epoch - 5ms/step\n",
      "Epoch 3/10\n",
      "1719/1719 - 5s - loss: 0.4385 - accuracy: 0.8468 - val_loss: 0.4370 - val_accuracy: 0.8506 - 5s/epoch - 3ms/step\n",
      "Epoch 4/10\n",
      "1719/1719 - 4s - loss: 0.4107 - accuracy: 0.8568 - val_loss: 0.3981 - val_accuracy: 0.8646 - 4s/epoch - 2ms/step\n",
      "Epoch 5/10\n",
      "1719/1719 - 5s - loss: 0.3913 - accuracy: 0.8625 - val_loss: 0.3869 - val_accuracy: 0.8624 - 5s/epoch - 3ms/step\n",
      "Epoch 6/10\n",
      "1719/1719 - 4s - loss: 0.3739 - accuracy: 0.8683 - val_loss: 0.3733 - val_accuracy: 0.8714 - 4s/epoch - 2ms/step\n",
      "Epoch 7/10\n",
      "1719/1719 - 4s - loss: 0.3615 - accuracy: 0.8725 - val_loss: 0.3656 - val_accuracy: 0.8740 - 4s/epoch - 2ms/step\n",
      "Epoch 8/10\n",
      "1719/1719 - 5s - loss: 0.3489 - accuracy: 0.8764 - val_loss: 0.3816 - val_accuracy: 0.8620 - 5s/epoch - 3ms/step\n",
      "Epoch 9/10\n",
      "1719/1719 - 4s - loss: 0.3392 - accuracy: 0.8803 - val_loss: 0.3547 - val_accuracy: 0.8744 - 4s/epoch - 2ms/step\n",
      "Epoch 10/10\n",
      "1719/1719 - 5s - loss: 0.3288 - accuracy: 0.8832 - val_loss: 0.3407 - val_accuracy: 0.8764 - 5s/epoch - 3ms/step\n"
     ]
    }
   ],
   "source": [
    "model.compile(loss=\"sparse_categorical_crossentropy\", optimizer=\"SGD\", metrics=[\"accuracy\"])\n",
    "\n",
    "history = model.fit(X_train, y_train,\n",
    "                    epochs=10,\n",
    "                    validation_data=(X_valid, y_valid),\n",
    "                    verbose=2)"
   ]
  },
  {
   "cell_type": "markdown",
   "metadata": {
    "id": "nJ9is6AedglE"
   },
   "source": [
    "### With Dropout Layer"
   ]
  },
  {
   "cell_type": "code",
   "execution_count": 10,
   "metadata": {
    "colab": {
     "base_uri": "https://localhost:8080/"
    },
    "id": "7gkmkXmSac_V",
    "outputId": "0a3efcbd-4e44-4778-c073-ac1ccb70045e"
   },
   "outputs": [
    {
     "name": "stdout",
     "output_type": "stream",
     "text": [
      "Model: \"sequential_1\"\n",
      "_________________________________________________________________\n",
      " Layer (type)                Output Shape              Param #   \n",
      "=================================================================\n",
      " flatten_1 (Flatten)         (None, 784)               0         \n",
      "                                                                 \n",
      " dense_3 (Dense)             (None, 500)               392500    \n",
      "                                                                 \n",
      " dropout (Dropout)           (None, 500)               0         \n",
      "                                                                 \n",
      " dense_4 (Dense)             (None, 300)               150300    \n",
      "                                                                 \n",
      " dropout_1 (Dropout)         (None, 300)               0         \n",
      "                                                                 \n",
      " dense_5 (Dense)             (None, 10)                3010      \n",
      "                                                                 \n",
      "=================================================================\n",
      "Total params: 545810 (2.08 MB)\n",
      "Trainable params: 545810 (2.08 MB)\n",
      "Non-trainable params: 0 (0.00 Byte)\n",
      "_________________________________________________________________\n"
     ]
    }
   ],
   "source": [
    "#Model Built using Dropout Layer\n",
    "layers = [keras.layers.Flatten(input_shape=[28, 28]),\n",
    "         keras.layers.Dense(500, activation=\"relu\"),\n",
    "         keras.layers.Dropout(rate=0.2),\n",
    "         keras.layers.Dense(300, activation=\"relu\"),\n",
    "         keras.layers.Dropout(rate=0.15),\n",
    "         keras.layers.Dense(10, activation=\"softmax\")]\n",
    "\n",
    "model_dropout = keras.models.Sequential(layers)\n",
    "\n",
    "model_dropout.summary()"
   ]
  },
  {
   "cell_type": "code",
   "execution_count": 11,
   "metadata": {
    "colab": {
     "base_uri": "https://localhost:8080/"
    },
    "id": "WV3S08FUb2lz",
    "outputId": "ea3ac3be-f9bd-4693-fa06-6aed15b97c2d"
   },
   "outputs": [
    {
     "name": "stdout",
     "output_type": "stream",
     "text": [
      "Epoch 1/10\n",
      "1719/1719 - 5s - loss: 0.7723 - accuracy: 0.7399 - val_loss: 0.4993 - val_accuracy: 0.8368 - 5s/epoch - 3ms/step\n",
      "Epoch 2/10\n",
      "1719/1719 - 5s - loss: 0.5250 - accuracy: 0.8181 - val_loss: 0.4339 - val_accuracy: 0.8558 - 5s/epoch - 3ms/step\n",
      "Epoch 3/10\n",
      "1719/1719 - 5s - loss: 0.4713 - accuracy: 0.8360 - val_loss: 0.4181 - val_accuracy: 0.8564 - 5s/epoch - 3ms/step\n",
      "Epoch 4/10\n",
      "1719/1719 - 5s - loss: 0.4370 - accuracy: 0.8463 - val_loss: 0.3877 - val_accuracy: 0.8652 - 5s/epoch - 3ms/step\n",
      "Epoch 5/10\n",
      "1719/1719 - 5s - loss: 0.4147 - accuracy: 0.8546 - val_loss: 0.3799 - val_accuracy: 0.8686 - 5s/epoch - 3ms/step\n",
      "Epoch 6/10\n",
      "1719/1719 - 4s - loss: 0.3971 - accuracy: 0.8578 - val_loss: 0.3623 - val_accuracy: 0.8730 - 4s/epoch - 3ms/step\n",
      "Epoch 7/10\n",
      "1719/1719 - 5s - loss: 0.3835 - accuracy: 0.8639 - val_loss: 0.3484 - val_accuracy: 0.8774 - 5s/epoch - 3ms/step\n",
      "Epoch 8/10\n",
      "1719/1719 - 5s - loss: 0.3696 - accuracy: 0.8679 - val_loss: 0.3434 - val_accuracy: 0.8782 - 5s/epoch - 3ms/step\n",
      "Epoch 9/10\n",
      "1719/1719 - 4s - loss: 0.3604 - accuracy: 0.8701 - val_loss: 0.3391 - val_accuracy: 0.8798 - 4s/epoch - 3ms/step\n",
      "Epoch 10/10\n",
      "1719/1719 - 7s - loss: 0.3514 - accuracy: 0.8733 - val_loss: 0.3367 - val_accuracy: 0.8822 - 7s/epoch - 4ms/step\n"
     ]
    }
   ],
   "source": [
    "model_dropout.compile(loss=\"sparse_categorical_crossentropy\", optimizer=\"SGD\", metrics=[\"accuracy\"])\n",
    "\n",
    "dropout_history = model_dropout.fit(X_train, y_train,\n",
    "                    epochs=10,\n",
    "                    validation_data=(X_valid, y_valid),\n",
    "                    verbose=2)"
   ]
  },
  {
   "cell_type": "markdown",
   "metadata": {
    "id": "MR_jWKFldmOV"
   },
   "source": [
    "### Performance Comparision With & Without Using Dropout Layer"
   ]
  },
  {
   "cell_type": "code",
   "execution_count": 12,
   "metadata": {
    "id": "CgTuF5-gd1fb"
   },
   "outputs": [],
   "source": [
    "without_dropout_df = pd.DataFrame(history.history)\n",
    "dropout_df = pd.DataFrame(dropout_history.history)"
   ]
  },
  {
   "cell_type": "code",
   "execution_count": 13,
   "metadata": {
    "colab": {
     "base_uri": "https://localhost:8080/",
     "height": 363
    },
    "id": "pKIML0h7eTL4",
    "outputId": "6f88c559-03eb-4401-a07a-743708816fbe"
   },
   "outputs": [
    {
     "data": {
      "text/html": [
       "\n",
       "  <div id=\"df-dfbe078a-d54b-4e77-9e81-c444274fb832\" class=\"colab-df-container\">\n",
       "    <div>\n",
       "<style scoped>\n",
       "    .dataframe tbody tr th:only-of-type {\n",
       "        vertical-align: middle;\n",
       "    }\n",
       "\n",
       "    .dataframe tbody tr th {\n",
       "        vertical-align: top;\n",
       "    }\n",
       "\n",
       "    .dataframe thead th {\n",
       "        text-align: right;\n",
       "    }\n",
       "</style>\n",
       "<table border=\"1\" class=\"dataframe\">\n",
       "  <thead>\n",
       "    <tr style=\"text-align: right;\">\n",
       "      <th></th>\n",
       "      <th>loss</th>\n",
       "      <th>accuracy</th>\n",
       "      <th>val_loss</th>\n",
       "      <th>val_accuracy</th>\n",
       "    </tr>\n",
       "  </thead>\n",
       "  <tbody>\n",
       "    <tr>\n",
       "      <th>0</th>\n",
       "      <td>0.692731</td>\n",
       "      <td>0.772218</td>\n",
       "      <td>0.495440</td>\n",
       "      <td>0.8374</td>\n",
       "    </tr>\n",
       "    <tr>\n",
       "      <th>1</th>\n",
       "      <td>0.479916</td>\n",
       "      <td>0.834418</td>\n",
       "      <td>0.431557</td>\n",
       "      <td>0.8536</td>\n",
       "    </tr>\n",
       "    <tr>\n",
       "      <th>2</th>\n",
       "      <td>0.438453</td>\n",
       "      <td>0.846818</td>\n",
       "      <td>0.437032</td>\n",
       "      <td>0.8506</td>\n",
       "    </tr>\n",
       "    <tr>\n",
       "      <th>3</th>\n",
       "      <td>0.410739</td>\n",
       "      <td>0.856818</td>\n",
       "      <td>0.398125</td>\n",
       "      <td>0.8646</td>\n",
       "    </tr>\n",
       "    <tr>\n",
       "      <th>4</th>\n",
       "      <td>0.391290</td>\n",
       "      <td>0.862473</td>\n",
       "      <td>0.386907</td>\n",
       "      <td>0.8624</td>\n",
       "    </tr>\n",
       "    <tr>\n",
       "      <th>5</th>\n",
       "      <td>0.373912</td>\n",
       "      <td>0.868273</td>\n",
       "      <td>0.373260</td>\n",
       "      <td>0.8714</td>\n",
       "    </tr>\n",
       "    <tr>\n",
       "      <th>6</th>\n",
       "      <td>0.361538</td>\n",
       "      <td>0.872455</td>\n",
       "      <td>0.365598</td>\n",
       "      <td>0.8740</td>\n",
       "    </tr>\n",
       "    <tr>\n",
       "      <th>7</th>\n",
       "      <td>0.348932</td>\n",
       "      <td>0.876436</td>\n",
       "      <td>0.381600</td>\n",
       "      <td>0.8620</td>\n",
       "    </tr>\n",
       "    <tr>\n",
       "      <th>8</th>\n",
       "      <td>0.339205</td>\n",
       "      <td>0.880255</td>\n",
       "      <td>0.354705</td>\n",
       "      <td>0.8744</td>\n",
       "    </tr>\n",
       "    <tr>\n",
       "      <th>9</th>\n",
       "      <td>0.328835</td>\n",
       "      <td>0.883218</td>\n",
       "      <td>0.340658</td>\n",
       "      <td>0.8764</td>\n",
       "    </tr>\n",
       "  </tbody>\n",
       "</table>\n",
       "</div>\n",
       "    <div class=\"colab-df-buttons\">\n",
       "\n",
       "  <div class=\"colab-df-container\">\n",
       "    <button class=\"colab-df-convert\" onclick=\"convertToInteractive('df-dfbe078a-d54b-4e77-9e81-c444274fb832')\"\n",
       "            title=\"Convert this dataframe to an interactive table.\"\n",
       "            style=\"display:none;\">\n",
       "\n",
       "  <svg xmlns=\"http://www.w3.org/2000/svg\" height=\"24px\" viewBox=\"0 -960 960 960\">\n",
       "    <path d=\"M120-120v-720h720v720H120Zm60-500h600v-160H180v160Zm220 220h160v-160H400v160Zm0 220h160v-160H400v160ZM180-400h160v-160H180v160Zm440 0h160v-160H620v160ZM180-180h160v-160H180v160Zm440 0h160v-160H620v160Z\"/>\n",
       "  </svg>\n",
       "    </button>\n",
       "\n",
       "  <style>\n",
       "    .colab-df-container {\n",
       "      display:flex;\n",
       "      gap: 12px;\n",
       "    }\n",
       "\n",
       "    .colab-df-convert {\n",
       "      background-color: #E8F0FE;\n",
       "      border: none;\n",
       "      border-radius: 50%;\n",
       "      cursor: pointer;\n",
       "      display: none;\n",
       "      fill: #1967D2;\n",
       "      height: 32px;\n",
       "      padding: 0 0 0 0;\n",
       "      width: 32px;\n",
       "    }\n",
       "\n",
       "    .colab-df-convert:hover {\n",
       "      background-color: #E2EBFA;\n",
       "      box-shadow: 0px 1px 2px rgba(60, 64, 67, 0.3), 0px 1px 3px 1px rgba(60, 64, 67, 0.15);\n",
       "      fill: #174EA6;\n",
       "    }\n",
       "\n",
       "    .colab-df-buttons div {\n",
       "      margin-bottom: 4px;\n",
       "    }\n",
       "\n",
       "    [theme=dark] .colab-df-convert {\n",
       "      background-color: #3B4455;\n",
       "      fill: #D2E3FC;\n",
       "    }\n",
       "\n",
       "    [theme=dark] .colab-df-convert:hover {\n",
       "      background-color: #434B5C;\n",
       "      box-shadow: 0px 1px 3px 1px rgba(0, 0, 0, 0.15);\n",
       "      filter: drop-shadow(0px 1px 2px rgba(0, 0, 0, 0.3));\n",
       "      fill: #FFFFFF;\n",
       "    }\n",
       "  </style>\n",
       "\n",
       "    <script>\n",
       "      const buttonEl =\n",
       "        document.querySelector('#df-dfbe078a-d54b-4e77-9e81-c444274fb832 button.colab-df-convert');\n",
       "      buttonEl.style.display =\n",
       "        google.colab.kernel.accessAllowed ? 'block' : 'none';\n",
       "\n",
       "      async function convertToInteractive(key) {\n",
       "        const element = document.querySelector('#df-dfbe078a-d54b-4e77-9e81-c444274fb832');\n",
       "        const dataTable =\n",
       "          await google.colab.kernel.invokeFunction('convertToInteractive',\n",
       "                                                    [key], {});\n",
       "        if (!dataTable) return;\n",
       "\n",
       "        const docLinkHtml = 'Like what you see? Visit the ' +\n",
       "          '<a target=\"_blank\" href=https://colab.research.google.com/notebooks/data_table.ipynb>data table notebook</a>'\n",
       "          + ' to learn more about interactive tables.';\n",
       "        element.innerHTML = '';\n",
       "        dataTable['output_type'] = 'display_data';\n",
       "        await google.colab.output.renderOutput(dataTable, element);\n",
       "        const docLink = document.createElement('div');\n",
       "        docLink.innerHTML = docLinkHtml;\n",
       "        element.appendChild(docLink);\n",
       "      }\n",
       "    </script>\n",
       "  </div>\n",
       "\n",
       "\n",
       "<div id=\"df-cbdd7f66-b083-4523-9e30-086e5cfbfe13\">\n",
       "  <button class=\"colab-df-quickchart\" onclick=\"quickchart('df-cbdd7f66-b083-4523-9e30-086e5cfbfe13')\"\n",
       "            title=\"Suggest charts.\"\n",
       "            style=\"display:none;\">\n",
       "\n",
       "<svg xmlns=\"http://www.w3.org/2000/svg\" height=\"24px\"viewBox=\"0 0 24 24\"\n",
       "     width=\"24px\">\n",
       "    <g>\n",
       "        <path d=\"M19 3H5c-1.1 0-2 .9-2 2v14c0 1.1.9 2 2 2h14c1.1 0 2-.9 2-2V5c0-1.1-.9-2-2-2zM9 17H7v-7h2v7zm4 0h-2V7h2v10zm4 0h-2v-4h2v4z\"/>\n",
       "    </g>\n",
       "</svg>\n",
       "  </button>\n",
       "\n",
       "<style>\n",
       "  .colab-df-quickchart {\n",
       "      --bg-color: #E8F0FE;\n",
       "      --fill-color: #1967D2;\n",
       "      --hover-bg-color: #E2EBFA;\n",
       "      --hover-fill-color: #174EA6;\n",
       "      --disabled-fill-color: #AAA;\n",
       "      --disabled-bg-color: #DDD;\n",
       "  }\n",
       "\n",
       "  [theme=dark] .colab-df-quickchart {\n",
       "      --bg-color: #3B4455;\n",
       "      --fill-color: #D2E3FC;\n",
       "      --hover-bg-color: #434B5C;\n",
       "      --hover-fill-color: #FFFFFF;\n",
       "      --disabled-bg-color: #3B4455;\n",
       "      --disabled-fill-color: #666;\n",
       "  }\n",
       "\n",
       "  .colab-df-quickchart {\n",
       "    background-color: var(--bg-color);\n",
       "    border: none;\n",
       "    border-radius: 50%;\n",
       "    cursor: pointer;\n",
       "    display: none;\n",
       "    fill: var(--fill-color);\n",
       "    height: 32px;\n",
       "    padding: 0;\n",
       "    width: 32px;\n",
       "  }\n",
       "\n",
       "  .colab-df-quickchart:hover {\n",
       "    background-color: var(--hover-bg-color);\n",
       "    box-shadow: 0 1px 2px rgba(60, 64, 67, 0.3), 0 1px 3px 1px rgba(60, 64, 67, 0.15);\n",
       "    fill: var(--button-hover-fill-color);\n",
       "  }\n",
       "\n",
       "  .colab-df-quickchart-complete:disabled,\n",
       "  .colab-df-quickchart-complete:disabled:hover {\n",
       "    background-color: var(--disabled-bg-color);\n",
       "    fill: var(--disabled-fill-color);\n",
       "    box-shadow: none;\n",
       "  }\n",
       "\n",
       "  .colab-df-spinner {\n",
       "    border: 2px solid var(--fill-color);\n",
       "    border-color: transparent;\n",
       "    border-bottom-color: var(--fill-color);\n",
       "    animation:\n",
       "      spin 1s steps(1) infinite;\n",
       "  }\n",
       "\n",
       "  @keyframes spin {\n",
       "    0% {\n",
       "      border-color: transparent;\n",
       "      border-bottom-color: var(--fill-color);\n",
       "      border-left-color: var(--fill-color);\n",
       "    }\n",
       "    20% {\n",
       "      border-color: transparent;\n",
       "      border-left-color: var(--fill-color);\n",
       "      border-top-color: var(--fill-color);\n",
       "    }\n",
       "    30% {\n",
       "      border-color: transparent;\n",
       "      border-left-color: var(--fill-color);\n",
       "      border-top-color: var(--fill-color);\n",
       "      border-right-color: var(--fill-color);\n",
       "    }\n",
       "    40% {\n",
       "      border-color: transparent;\n",
       "      border-right-color: var(--fill-color);\n",
       "      border-top-color: var(--fill-color);\n",
       "    }\n",
       "    60% {\n",
       "      border-color: transparent;\n",
       "      border-right-color: var(--fill-color);\n",
       "    }\n",
       "    80% {\n",
       "      border-color: transparent;\n",
       "      border-right-color: var(--fill-color);\n",
       "      border-bottom-color: var(--fill-color);\n",
       "    }\n",
       "    90% {\n",
       "      border-color: transparent;\n",
       "      border-bottom-color: var(--fill-color);\n",
       "    }\n",
       "  }\n",
       "</style>\n",
       "\n",
       "  <script>\n",
       "    async function quickchart(key) {\n",
       "      const quickchartButtonEl =\n",
       "        document.querySelector('#' + key + ' button');\n",
       "      quickchartButtonEl.disabled = true;  // To prevent multiple clicks.\n",
       "      quickchartButtonEl.classList.add('colab-df-spinner');\n",
       "      try {\n",
       "        const charts = await google.colab.kernel.invokeFunction(\n",
       "            'suggestCharts', [key], {});\n",
       "      } catch (error) {\n",
       "        console.error('Error during call to suggestCharts:', error);\n",
       "      }\n",
       "      quickchartButtonEl.classList.remove('colab-df-spinner');\n",
       "      quickchartButtonEl.classList.add('colab-df-quickchart-complete');\n",
       "    }\n",
       "    (() => {\n",
       "      let quickchartButtonEl =\n",
       "        document.querySelector('#df-cbdd7f66-b083-4523-9e30-086e5cfbfe13 button');\n",
       "      quickchartButtonEl.style.display =\n",
       "        google.colab.kernel.accessAllowed ? 'block' : 'none';\n",
       "    })();\n",
       "  </script>\n",
       "</div>\n",
       "    </div>\n",
       "  </div>\n"
      ],
      "text/plain": [
       "       loss  accuracy  val_loss  val_accuracy\n",
       "0  0.692731  0.772218  0.495440        0.8374\n",
       "1  0.479916  0.834418  0.431557        0.8536\n",
       "2  0.438453  0.846818  0.437032        0.8506\n",
       "3  0.410739  0.856818  0.398125        0.8646\n",
       "4  0.391290  0.862473  0.386907        0.8624\n",
       "5  0.373912  0.868273  0.373260        0.8714\n",
       "6  0.361538  0.872455  0.365598        0.8740\n",
       "7  0.348932  0.876436  0.381600        0.8620\n",
       "8  0.339205  0.880255  0.354705        0.8744\n",
       "9  0.328835  0.883218  0.340658        0.8764"
      ]
     },
     "execution_count": 13,
     "metadata": {},
     "output_type": "execute_result"
    }
   ],
   "source": [
    "without_dropout_df"
   ]
  },
  {
   "cell_type": "code",
   "execution_count": 14,
   "metadata": {
    "colab": {
     "base_uri": "https://localhost:8080/",
     "height": 363
    },
    "id": "UsdmonWaeV17",
    "outputId": "9737f463-6f1d-49e2-a2f4-1ea15c346722"
   },
   "outputs": [
    {
     "data": {
      "text/html": [
       "\n",
       "  <div id=\"df-46e05f80-ea13-4251-a423-0da21ca35315\" class=\"colab-df-container\">\n",
       "    <div>\n",
       "<style scoped>\n",
       "    .dataframe tbody tr th:only-of-type {\n",
       "        vertical-align: middle;\n",
       "    }\n",
       "\n",
       "    .dataframe tbody tr th {\n",
       "        vertical-align: top;\n",
       "    }\n",
       "\n",
       "    .dataframe thead th {\n",
       "        text-align: right;\n",
       "    }\n",
       "</style>\n",
       "<table border=\"1\" class=\"dataframe\">\n",
       "  <thead>\n",
       "    <tr style=\"text-align: right;\">\n",
       "      <th></th>\n",
       "      <th>loss</th>\n",
       "      <th>accuracy</th>\n",
       "      <th>val_loss</th>\n",
       "      <th>val_accuracy</th>\n",
       "    </tr>\n",
       "  </thead>\n",
       "  <tbody>\n",
       "    <tr>\n",
       "      <th>0</th>\n",
       "      <td>0.772306</td>\n",
       "      <td>0.739891</td>\n",
       "      <td>0.499319</td>\n",
       "      <td>0.8368</td>\n",
       "    </tr>\n",
       "    <tr>\n",
       "      <th>1</th>\n",
       "      <td>0.525014</td>\n",
       "      <td>0.818145</td>\n",
       "      <td>0.433870</td>\n",
       "      <td>0.8558</td>\n",
       "    </tr>\n",
       "    <tr>\n",
       "      <th>2</th>\n",
       "      <td>0.471258</td>\n",
       "      <td>0.836000</td>\n",
       "      <td>0.418133</td>\n",
       "      <td>0.8564</td>\n",
       "    </tr>\n",
       "    <tr>\n",
       "      <th>3</th>\n",
       "      <td>0.437035</td>\n",
       "      <td>0.846291</td>\n",
       "      <td>0.387697</td>\n",
       "      <td>0.8652</td>\n",
       "    </tr>\n",
       "    <tr>\n",
       "      <th>4</th>\n",
       "      <td>0.414730</td>\n",
       "      <td>0.854618</td>\n",
       "      <td>0.379885</td>\n",
       "      <td>0.8686</td>\n",
       "    </tr>\n",
       "    <tr>\n",
       "      <th>5</th>\n",
       "      <td>0.397086</td>\n",
       "      <td>0.857836</td>\n",
       "      <td>0.362279</td>\n",
       "      <td>0.8730</td>\n",
       "    </tr>\n",
       "    <tr>\n",
       "      <th>6</th>\n",
       "      <td>0.383460</td>\n",
       "      <td>0.863927</td>\n",
       "      <td>0.348375</td>\n",
       "      <td>0.8774</td>\n",
       "    </tr>\n",
       "    <tr>\n",
       "      <th>7</th>\n",
       "      <td>0.369640</td>\n",
       "      <td>0.867927</td>\n",
       "      <td>0.343438</td>\n",
       "      <td>0.8782</td>\n",
       "    </tr>\n",
       "    <tr>\n",
       "      <th>8</th>\n",
       "      <td>0.360426</td>\n",
       "      <td>0.870109</td>\n",
       "      <td>0.339115</td>\n",
       "      <td>0.8798</td>\n",
       "    </tr>\n",
       "    <tr>\n",
       "      <th>9</th>\n",
       "      <td>0.351441</td>\n",
       "      <td>0.873273</td>\n",
       "      <td>0.336660</td>\n",
       "      <td>0.8822</td>\n",
       "    </tr>\n",
       "  </tbody>\n",
       "</table>\n",
       "</div>\n",
       "    <div class=\"colab-df-buttons\">\n",
       "\n",
       "  <div class=\"colab-df-container\">\n",
       "    <button class=\"colab-df-convert\" onclick=\"convertToInteractive('df-46e05f80-ea13-4251-a423-0da21ca35315')\"\n",
       "            title=\"Convert this dataframe to an interactive table.\"\n",
       "            style=\"display:none;\">\n",
       "\n",
       "  <svg xmlns=\"http://www.w3.org/2000/svg\" height=\"24px\" viewBox=\"0 -960 960 960\">\n",
       "    <path d=\"M120-120v-720h720v720H120Zm60-500h600v-160H180v160Zm220 220h160v-160H400v160Zm0 220h160v-160H400v160ZM180-400h160v-160H180v160Zm440 0h160v-160H620v160ZM180-180h160v-160H180v160Zm440 0h160v-160H620v160Z\"/>\n",
       "  </svg>\n",
       "    </button>\n",
       "\n",
       "  <style>\n",
       "    .colab-df-container {\n",
       "      display:flex;\n",
       "      gap: 12px;\n",
       "    }\n",
       "\n",
       "    .colab-df-convert {\n",
       "      background-color: #E8F0FE;\n",
       "      border: none;\n",
       "      border-radius: 50%;\n",
       "      cursor: pointer;\n",
       "      display: none;\n",
       "      fill: #1967D2;\n",
       "      height: 32px;\n",
       "      padding: 0 0 0 0;\n",
       "      width: 32px;\n",
       "    }\n",
       "\n",
       "    .colab-df-convert:hover {\n",
       "      background-color: #E2EBFA;\n",
       "      box-shadow: 0px 1px 2px rgba(60, 64, 67, 0.3), 0px 1px 3px 1px rgba(60, 64, 67, 0.15);\n",
       "      fill: #174EA6;\n",
       "    }\n",
       "\n",
       "    .colab-df-buttons div {\n",
       "      margin-bottom: 4px;\n",
       "    }\n",
       "\n",
       "    [theme=dark] .colab-df-convert {\n",
       "      background-color: #3B4455;\n",
       "      fill: #D2E3FC;\n",
       "    }\n",
       "\n",
       "    [theme=dark] .colab-df-convert:hover {\n",
       "      background-color: #434B5C;\n",
       "      box-shadow: 0px 1px 3px 1px rgba(0, 0, 0, 0.15);\n",
       "      filter: drop-shadow(0px 1px 2px rgba(0, 0, 0, 0.3));\n",
       "      fill: #FFFFFF;\n",
       "    }\n",
       "  </style>\n",
       "\n",
       "    <script>\n",
       "      const buttonEl =\n",
       "        document.querySelector('#df-46e05f80-ea13-4251-a423-0da21ca35315 button.colab-df-convert');\n",
       "      buttonEl.style.display =\n",
       "        google.colab.kernel.accessAllowed ? 'block' : 'none';\n",
       "\n",
       "      async function convertToInteractive(key) {\n",
       "        const element = document.querySelector('#df-46e05f80-ea13-4251-a423-0da21ca35315');\n",
       "        const dataTable =\n",
       "          await google.colab.kernel.invokeFunction('convertToInteractive',\n",
       "                                                    [key], {});\n",
       "        if (!dataTable) return;\n",
       "\n",
       "        const docLinkHtml = 'Like what you see? Visit the ' +\n",
       "          '<a target=\"_blank\" href=https://colab.research.google.com/notebooks/data_table.ipynb>data table notebook</a>'\n",
       "          + ' to learn more about interactive tables.';\n",
       "        element.innerHTML = '';\n",
       "        dataTable['output_type'] = 'display_data';\n",
       "        await google.colab.output.renderOutput(dataTable, element);\n",
       "        const docLink = document.createElement('div');\n",
       "        docLink.innerHTML = docLinkHtml;\n",
       "        element.appendChild(docLink);\n",
       "      }\n",
       "    </script>\n",
       "  </div>\n",
       "\n",
       "\n",
       "<div id=\"df-207c8729-33fb-4e42-a5ec-af54f87554ca\">\n",
       "  <button class=\"colab-df-quickchart\" onclick=\"quickchart('df-207c8729-33fb-4e42-a5ec-af54f87554ca')\"\n",
       "            title=\"Suggest charts.\"\n",
       "            style=\"display:none;\">\n",
       "\n",
       "<svg xmlns=\"http://www.w3.org/2000/svg\" height=\"24px\"viewBox=\"0 0 24 24\"\n",
       "     width=\"24px\">\n",
       "    <g>\n",
       "        <path d=\"M19 3H5c-1.1 0-2 .9-2 2v14c0 1.1.9 2 2 2h14c1.1 0 2-.9 2-2V5c0-1.1-.9-2-2-2zM9 17H7v-7h2v7zm4 0h-2V7h2v10zm4 0h-2v-4h2v4z\"/>\n",
       "    </g>\n",
       "</svg>\n",
       "  </button>\n",
       "\n",
       "<style>\n",
       "  .colab-df-quickchart {\n",
       "      --bg-color: #E8F0FE;\n",
       "      --fill-color: #1967D2;\n",
       "      --hover-bg-color: #E2EBFA;\n",
       "      --hover-fill-color: #174EA6;\n",
       "      --disabled-fill-color: #AAA;\n",
       "      --disabled-bg-color: #DDD;\n",
       "  }\n",
       "\n",
       "  [theme=dark] .colab-df-quickchart {\n",
       "      --bg-color: #3B4455;\n",
       "      --fill-color: #D2E3FC;\n",
       "      --hover-bg-color: #434B5C;\n",
       "      --hover-fill-color: #FFFFFF;\n",
       "      --disabled-bg-color: #3B4455;\n",
       "      --disabled-fill-color: #666;\n",
       "  }\n",
       "\n",
       "  .colab-df-quickchart {\n",
       "    background-color: var(--bg-color);\n",
       "    border: none;\n",
       "    border-radius: 50%;\n",
       "    cursor: pointer;\n",
       "    display: none;\n",
       "    fill: var(--fill-color);\n",
       "    height: 32px;\n",
       "    padding: 0;\n",
       "    width: 32px;\n",
       "  }\n",
       "\n",
       "  .colab-df-quickchart:hover {\n",
       "    background-color: var(--hover-bg-color);\n",
       "    box-shadow: 0 1px 2px rgba(60, 64, 67, 0.3), 0 1px 3px 1px rgba(60, 64, 67, 0.15);\n",
       "    fill: var(--button-hover-fill-color);\n",
       "  }\n",
       "\n",
       "  .colab-df-quickchart-complete:disabled,\n",
       "  .colab-df-quickchart-complete:disabled:hover {\n",
       "    background-color: var(--disabled-bg-color);\n",
       "    fill: var(--disabled-fill-color);\n",
       "    box-shadow: none;\n",
       "  }\n",
       "\n",
       "  .colab-df-spinner {\n",
       "    border: 2px solid var(--fill-color);\n",
       "    border-color: transparent;\n",
       "    border-bottom-color: var(--fill-color);\n",
       "    animation:\n",
       "      spin 1s steps(1) infinite;\n",
       "  }\n",
       "\n",
       "  @keyframes spin {\n",
       "    0% {\n",
       "      border-color: transparent;\n",
       "      border-bottom-color: var(--fill-color);\n",
       "      border-left-color: var(--fill-color);\n",
       "    }\n",
       "    20% {\n",
       "      border-color: transparent;\n",
       "      border-left-color: var(--fill-color);\n",
       "      border-top-color: var(--fill-color);\n",
       "    }\n",
       "    30% {\n",
       "      border-color: transparent;\n",
       "      border-left-color: var(--fill-color);\n",
       "      border-top-color: var(--fill-color);\n",
       "      border-right-color: var(--fill-color);\n",
       "    }\n",
       "    40% {\n",
       "      border-color: transparent;\n",
       "      border-right-color: var(--fill-color);\n",
       "      border-top-color: var(--fill-color);\n",
       "    }\n",
       "    60% {\n",
       "      border-color: transparent;\n",
       "      border-right-color: var(--fill-color);\n",
       "    }\n",
       "    80% {\n",
       "      border-color: transparent;\n",
       "      border-right-color: var(--fill-color);\n",
       "      border-bottom-color: var(--fill-color);\n",
       "    }\n",
       "    90% {\n",
       "      border-color: transparent;\n",
       "      border-bottom-color: var(--fill-color);\n",
       "    }\n",
       "  }\n",
       "</style>\n",
       "\n",
       "  <script>\n",
       "    async function quickchart(key) {\n",
       "      const quickchartButtonEl =\n",
       "        document.querySelector('#' + key + ' button');\n",
       "      quickchartButtonEl.disabled = true;  // To prevent multiple clicks.\n",
       "      quickchartButtonEl.classList.add('colab-df-spinner');\n",
       "      try {\n",
       "        const charts = await google.colab.kernel.invokeFunction(\n",
       "            'suggestCharts', [key], {});\n",
       "      } catch (error) {\n",
       "        console.error('Error during call to suggestCharts:', error);\n",
       "      }\n",
       "      quickchartButtonEl.classList.remove('colab-df-spinner');\n",
       "      quickchartButtonEl.classList.add('colab-df-quickchart-complete');\n",
       "    }\n",
       "    (() => {\n",
       "      let quickchartButtonEl =\n",
       "        document.querySelector('#df-207c8729-33fb-4e42-a5ec-af54f87554ca button');\n",
       "      quickchartButtonEl.style.display =\n",
       "        google.colab.kernel.accessAllowed ? 'block' : 'none';\n",
       "    })();\n",
       "  </script>\n",
       "</div>\n",
       "    </div>\n",
       "  </div>\n"
      ],
      "text/plain": [
       "       loss  accuracy  val_loss  val_accuracy\n",
       "0  0.772306  0.739891  0.499319        0.8368\n",
       "1  0.525014  0.818145  0.433870        0.8558\n",
       "2  0.471258  0.836000  0.418133        0.8564\n",
       "3  0.437035  0.846291  0.387697        0.8652\n",
       "4  0.414730  0.854618  0.379885        0.8686\n",
       "5  0.397086  0.857836  0.362279        0.8730\n",
       "6  0.383460  0.863927  0.348375        0.8774\n",
       "7  0.369640  0.867927  0.343438        0.8782\n",
       "8  0.360426  0.870109  0.339115        0.8798\n",
       "9  0.351441  0.873273  0.336660        0.8822"
      ]
     },
     "execution_count": 14,
     "metadata": {},
     "output_type": "execute_result"
    }
   ],
   "source": [
    "dropout_df"
   ]
  },
  {
   "cell_type": "code",
   "execution_count": 15,
   "metadata": {
    "colab": {
     "base_uri": "https://localhost:8080/",
     "height": 449
    },
    "id": "IjJ0tJ5-ek_o",
    "outputId": "0d606d30-b55f-4f38-c633-34fc1f2d93b2"
   },
   "outputs": [
    {
     "data": {
      "image/png": "[encoded data removed]",
      "text/plain": [
       "<Figure size 640x480 with 1 Axes>"
      ]
     },
     "metadata": {},
     "output_type": "display_data"
    }
   ],
   "source": [
    "# Plot training accuracy with and without dropout layer\n",
    "plt.plot(without_dropout_df['accuracy'], label='Without Drop Layer Accuracy')\n",
    "plt.plot(dropout_df['accuracy'], label='With Drop Layer Accuracy')\n",
    "plt.xlabel('Epochs')\n",
    "plt.ylabel('Accuracy')\n",
    "plt.legend(loc='lower right')\n",
    "plt.show()"
   ]
  },
  {
   "cell_type": "code",
   "execution_count": 16,
   "metadata": {
    "colab": {
     "base_uri": "https://localhost:8080/",
     "height": 449
    },
    "id": "ecxhJchwet4Y",
    "outputId": "884c03d2-732a-4f4f-9dec-faf98ee63b41"
   },
   "outputs": [
    {
     "data": {
      "image/png": "[encoded data removed]",
      "text/plain": [
       "<Figure size 640x480 with 1 Axes>"
      ]
     },
     "metadata": {},
     "output_type": "display_data"
    }
   ],
   "source": [
    "# Plot validation accuracy with and without dropout layer\n",
    "plt.plot(without_dropout_df['val_accuracy'], label='Without Drop Layer Accuracy')\n",
    "plt.plot(dropout_df['val_accuracy'], label='With Drop Layer Accuracy')\n",
    "plt.xlabel('Epochs')\n",
    "plt.ylabel('Validation Accuracy')\n",
    "plt.legend(loc='lower right')\n",
    "plt.show()"
   ]
  },
  {
   "cell_type": "code",
   "execution_count": 17,
   "metadata": {
    "colab": {
     "base_uri": "https://localhost:8080/",
     "height": 449
    },
    "id": "vylK0-sceubo",
    "outputId": "b0150c66-d606-49cd-d97f-aa9668219182"
   },
   "outputs": [
    {
     "data": {
      "image/png": "[encoded data removed]",
      "text/plain": [
       "<Figure size 640x480 with 1 Axes>"
      ]
     },
     "metadata": {},
     "output_type": "display_data"
    }
   ],
   "source": [
    "# Plot training loss with and without dropout layer\n",
    "plt.plot(without_dropout_df['loss'], label='Without Drop Layer Loss')\n",
    "plt.plot(dropout_df['loss'], label='With Drop Layer Loss')\n",
    "plt.xlabel('Epochs')\n",
    "plt.ylabel('Loss')\n",
    "plt.legend(loc='lower right')\n",
    "plt.show()"
   ]
  },
  {
   "cell_type": "code",
   "execution_count": 18,
   "metadata": {
    "colab": {
     "base_uri": "https://localhost:8080/",
     "height": 449
    },
    "id": "DZi6snnsewzd",
    "outputId": "71e71650-d751-4d2d-ad60-c4c143b62550"
   },
   "outputs": [
    {
     "data": {
      "image/png": "[encoded data removed]",
      "text/plain": [
       "<Figure size 640x480 with 1 Axes>"
      ]
     },
     "metadata": {},
     "output_type": "display_data"
    }
   ],
   "source": [
    "# Plot validation loss with and without dropout layer\n",
    "plt.plot(without_dropout_df['val_loss'], label='Without Drop Layer Loss')\n",
    "plt.plot(dropout_df['val_loss'], label='With Drop Layer Loss')\n",
    "plt.xlabel('Epochs')\n",
    "plt.ylabel('Validation Loss')\n",
    "plt.legend(loc='lower right')\n",
    "plt.show()"
   ]
  },
  {
   "cell_type": "markdown",
   "metadata": {
    "id": "-T7PN4jkJehx"
   },
   "source": [
    "## Q10. Discuss the considerations and tradeoffs when choosing the appropriate regularization technique for a given deep learning task."
   ]
  },
  {
   "cell_type": "markdown",
   "metadata": {
    "id": "rgxZnCGDfr74"
   },
   "source": [
    "The Considerations for choosing the appropriate regularization technique for a deep learning task are:\n",
    "\n",
    "1. **Data Size:**\n",
    "   - If you have a small dataset, regularization is crucial to prevent overfitting. Techniques like dropout, L1/L2 regularization, and early stopping can be effective.\n",
    "   - For large datasets, regularization may be less critical, and you might prioritize other factors such as model capacity.\n",
    "\n",
    "2. **Model Complexity:**\n",
    "   - More complex models (e.g., deep neural networks) are more prone to overfitting and may require stronger regularization.\n",
    "   - Simpler models (e.g., linear models) may not require as much regularization.\n",
    "\n",
    "3. **Type of Data:**\n",
    "   - The nature of the data can influence regularization choice. For image data, data augmentation and dropout are common. For text data, dropout and LSTMs with recurrent dropout can be useful.\n",
    "   - For structured/tabular data, L1/L2 regularization or dropout on dense layers may be effective.\n",
    "\n",
    "4. **Overfitting Risk:**\n",
    "   - Assess the risk of overfitting based on the problem complexity and the available data. If overfitting is likely, stronger regularization may be needed.\n",
    "\n",
    "5. **Interpretability:**\n",
    "   - Some regularization techniques, like L1 regularization, lead to sparsity and feature selection, making the model more interpretable. Consider the interpretability requirements of your application.\n",
    "\n",
    "6. **Training Time:**\n",
    "   - Some regularization techniques, like dropout, can increase training time due to the stochastic nature of training. Consider computational resources and time constraints.\n",
    "\n",
    "7. **Hyperparameter Tuning:**\n",
    "   - Regularization techniques often have hyperparameters (e.g., dropout rate, regularization strength). Tuning these hyperparameters is essential to finding the right balance between underfitting and overfitting.\n",
    "\n",
    "8. **Ensemble Methods:**\n",
    "   - Consider using ensemble methods like bagging or boosting, which can act as regularization by combining multiple models' predictions.\n",
    "\n",
    "9. **Domain Knowledge:**\n",
    "   - Consider domain-specific knowledge. Some techniques may align better with domain-specific insights.\n",
    "\n",
    "10. **Validation Performance:**\n",
    "    - Monitor validation performance and adjust regularization during training. Early stopping can be used to determine when to stop training to prevent overfitting.\n",
    "\n",
    "11. **Balancing Act:**\n",
    "    - Regularization is a balancing act between bias and variance. Strong regularization reduces overfitting but may increase bias, while weak regularization may not be sufficient to prevent overfitting.\n",
    "\n",
    "\n"
   ]
  }
 ],
 "metadata": {
  "accelerator": "GPU",
  "colab": {
   "gpuType": "T4",
   "provenance": []
  },
  "kernelspec": {
   "display_name": "Python 3 (ipykernel)",
   "language": "python",
   "name": "python3"
  },
  "language_info": {
   "codemirror_mode": {
    "name": "ipython",
    "version": 3
   },
   "file_extension": ".py",
   "mimetype": "text/x-python",
   "name": "python",
   "nbconvert_exporter": "python",
   "pygments_lexer": "ipython3",
   "version": "3.10.5"
  }
 },
 "nbformat": 4,
 "nbformat_minor": 1
}

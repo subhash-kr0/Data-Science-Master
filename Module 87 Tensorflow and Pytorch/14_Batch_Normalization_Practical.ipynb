{
  "nbformat": 4,
  "nbformat_minor": 0,
  "metadata": {
    "colab": {
      "provenance": []
    },
    "kernelspec": {
      "name": "python3",
      "display_name": "Python 3"
    },
    "language_info": {
      "name": "python"
    },
    "accelerator": "GPU"
  },
  "cells": [
    {
      "cell_type": "markdown",
      "metadata": {
        "id": "argDJ5SI7rie"
      },
      "source": [
        "#Deep Learning With Computer Vision And Advanced NLP (DL_CV_NLP)\n",
        "\n",
        "$$ Revision Notes $$\n",
        "$$ A-Note-by-**Bappy Ahmed** $$"
      ]
    },
    {
      "cell_type": "markdown",
      "metadata": {
        "id": "AkCAr6-L7tZs"
      },
      "source": [
        "# Observing results before and after applying Batch Normalization:"
      ]
    },
    {
      "cell_type": "markdown",
      "metadata": {
        "id": "7xj1COeO795V"
      },
      "source": [
        "## Before applying Batch Normalization:"
      ]
    },
    {
      "cell_type": "code",
      "metadata": {
        "colab": {
          "base_uri": "https://localhost:8080/"
        },
        "id": "XbrlzuRD7Zts",
        "outputId": "3860f222-f33b-4bca-a03c-17bbf464a78f"
      },
      "source": [
        "# Importing necessary libraries\n",
        "import os\n",
        "import tensorflow as tf\n",
        "import numpy as np\n",
        "import matplotlib.pyplot as plt\n",
        "import seaborn as sns\n",
        "import time\n",
        "plt.style.use(\"fivethirtyeight\")\n",
        "%load_ext tensorboard"
      ],
      "execution_count": null,
      "outputs": [
        {
          "output_type": "stream",
          "text": [
            "The tensorboard extension is already loaded. To reload it, use:\n",
            "  %reload_ext tensorboard\n"
          ],
          "name": "stdout"
        }
      ]
    },
    {
      "cell_type": "code",
      "metadata": {
        "id": "t8-eHTUe9mQU"
      },
      "source": [
        "# Loading the data of fashion_mnist\n",
        "(X_train_full, y_train_full), (X_test, y_test) = tf.keras.datasets.fashion_mnist.load_data()\n",
        "X_train_full = X_train_full / 255.0\n",
        "X_test = X_test / 255.0\n",
        "X_valid, X_train = X_train_full[:5000], X_train_full[5000:]\n",
        "y_valid, y_train = y_train_full[:5000], y_train_full[5000:]"
      ],
      "execution_count": null,
      "outputs": []
    },
    {
      "cell_type": "code",
      "metadata": {
        "id": "ponVbIjs9vzl"
      },
      "source": [
        "# Creating layer of model\n",
        "tf.random.set_seed(42) #For getting similar output (optional)\n",
        "np.random.seed(42) #For getting similar output (optional)\n",
        "\n",
        "LAYERS = [ tf.keras.layers.Flatten(input_shape=[28, 28]),\n",
        "    tf.keras.layers.Dense(300, kernel_initializer=\"he_normal\"),\n",
        "    tf.keras.layers.LeakyReLU(),\n",
        "    tf.keras.layers.Dense(100, kernel_initializer=\"he_normal\"),\n",
        "    tf.keras.layers.LeakyReLU(),\n",
        "    tf.keras.layers.Dense(10, activation=\"softmax\")]\n",
        "\n",
        "\n",
        "model = tf.keras.models.Sequential(LAYERS)"
      ],
      "execution_count": null,
      "outputs": []
    },
    {
      "cell_type": "code",
      "metadata": {
        "colab": {
          "base_uri": "https://localhost:8080/"
        },
        "id": "t1UyJM_297eJ",
        "outputId": "b6210918-0233-402f-f620-ac80b61a3490"
      },
      "source": [
        "# Compiling the model\n",
        "model.compile(loss=\"sparse_categorical_crossentropy\",\n",
        "              optimizer=tf.keras.optimizers.SGD(lr=1e-3),\n",
        "              metrics=[\"accuracy\"])"
      ],
      "execution_count": null,
      "outputs": [
        {
          "output_type": "stream",
          "text": [
            "/usr/local/lib/python3.7/dist-packages/tensorflow/python/keras/optimizer_v2/optimizer_v2.py:375: UserWarning: The `lr` argument is deprecated, use `learning_rate` instead.\n",
            "  \"The `lr` argument is deprecated, use `learning_rate` instead.\")\n"
          ],
          "name": "stderr"
        }
      ]
    },
    {
      "cell_type": "code",
      "metadata": {
        "colab": {
          "base_uri": "https://localhost:8080/"
        },
        "id": "AjB8QJbc-Cly",
        "outputId": "517e6506-6f6c-4ba5-90a4-ef80001df158"
      },
      "source": [
        "model.summary()"
      ],
      "execution_count": null,
      "outputs": [
        {
          "output_type": "stream",
          "text": [
            "Model: \"sequential_2\"\n",
            "_________________________________________________________________\n",
            "Layer (type)                 Output Shape              Param #   \n",
            "=================================================================\n",
            "flatten_2 (Flatten)          (None, 784)               0         \n",
            "_________________________________________________________________\n",
            "dense_6 (Dense)              (None, 300)               235500    \n",
            "_________________________________________________________________\n",
            "leaky_re_lu_2 (LeakyReLU)    (None, 300)               0         \n",
            "_________________________________________________________________\n",
            "dense_7 (Dense)              (None, 100)               30100     \n",
            "_________________________________________________________________\n",
            "leaky_re_lu_3 (LeakyReLU)    (None, 100)               0         \n",
            "_________________________________________________________________\n",
            "dense_8 (Dense)              (None, 10)                1010      \n",
            "=================================================================\n",
            "Total params: 266,610\n",
            "Trainable params: 266,610\n",
            "Non-trainable params: 0\n",
            "_________________________________________________________________\n"
          ],
          "name": "stdout"
        }
      ]
    },
    {
      "cell_type": "code",
      "metadata": {
        "colab": {
          "base_uri": "https://localhost:8080/"
        },
        "id": "jk4W6X7u-Eua",
        "outputId": "7830d63d-1368-4cc9-ac5b-8617a4b615e8"
      },
      "source": [
        "# now training & calculating the training time.\n",
        "\n",
        "# starting time\n",
        "start = time.time()\n",
        "\n",
        "\n",
        "history = model.fit(X_train, y_train, epochs=10,\n",
        "                    validation_data=(X_valid, y_valid), verbose=2)\n",
        "\n",
        "#ending time\n",
        "end = time.time()\n",
        "\n",
        "# total time taken\n",
        "print(f\"Runtime of the program is {end - start}\")"
      ],
      "execution_count": null,
      "outputs": [
        {
          "output_type": "stream",
          "text": [
            "Epoch 1/10\n",
            "1719/1719 - 3s - loss: 1.2819 - accuracy: 0.6229 - val_loss: 0.8886 - val_accuracy: 0.7160\n",
            "Epoch 2/10\n",
            "1719/1719 - 3s - loss: 0.7955 - accuracy: 0.7362 - val_loss: 0.7130 - val_accuracy: 0.7658\n",
            "Epoch 3/10\n",
            "1719/1719 - 3s - loss: 0.6816 - accuracy: 0.7720 - val_loss: 0.6427 - val_accuracy: 0.7898\n",
            "Epoch 4/10\n",
            "1719/1719 - 3s - loss: 0.6217 - accuracy: 0.7944 - val_loss: 0.5900 - val_accuracy: 0.8064\n",
            "Epoch 5/10\n",
            "1719/1719 - 3s - loss: 0.5832 - accuracy: 0.8074 - val_loss: 0.5582 - val_accuracy: 0.8202\n",
            "Epoch 6/10\n",
            "1719/1719 - 3s - loss: 0.5553 - accuracy: 0.8156 - val_loss: 0.5350 - val_accuracy: 0.8236\n",
            "Epoch 7/10\n",
            "1719/1719 - 3s - loss: 0.5338 - accuracy: 0.8225 - val_loss: 0.5157 - val_accuracy: 0.8304\n",
            "Epoch 8/10\n",
            "1719/1719 - 3s - loss: 0.5173 - accuracy: 0.8272 - val_loss: 0.5079 - val_accuracy: 0.8284\n",
            "Epoch 9/10\n",
            "1719/1719 - 3s - loss: 0.5040 - accuracy: 0.8289 - val_loss: 0.4895 - val_accuracy: 0.8388\n",
            "Epoch 10/10\n",
            "1719/1719 - 3s - loss: 0.4924 - accuracy: 0.8321 - val_loss: 0.4817 - val_accuracy: 0.8396\n",
            "Runtime of the program is 26.928571701049805\n"
          ],
          "name": "stdout"
        }
      ]
    },
    {
      "cell_type": "markdown",
      "metadata": {
        "id": "KbS7mKSY-f1s"
      },
      "source": [
        "## Conclution:\n",
        "- Runtime of the program is 26.92 sec\n",
        "- accuracy: 0.8321"
      ]
    },
    {
      "cell_type": "markdown",
      "metadata": {
        "id": "KikeCcGG-v96"
      },
      "source": [
        "# After applying Batch Normalization:"
      ]
    },
    {
      "cell_type": "code",
      "metadata": {
        "id": "xK0XIan2-Rt7"
      },
      "source": [
        "# delete the previous model\n",
        "del model"
      ],
      "execution_count": null,
      "outputs": []
    },
    {
      "cell_type": "code",
      "metadata": {
        "id": "qWwcEwyoBAWk"
      },
      "source": [
        "# Defing new model with batch normalization\n",
        "LAYERS_BN = [\n",
        "    tf.keras.layers.Flatten(input_shape=[28, 28]),\n",
        "    tf.keras.layers.BatchNormalization(),\n",
        "    tf.keras.layers.Dense(300, activation=\"relu\"),\n",
        "    tf.keras.layers.BatchNormalization(),\n",
        "    tf.keras.layers.Dense(100, activation=\"relu\"),\n",
        "    tf.keras.layers.BatchNormalization(),\n",
        "    tf.keras.layers.Dense(10, activation=\"softmax\")\n",
        "]\n",
        "\n",
        "model = tf.keras.models.Sequential(LAYERS_BN)"
      ],
      "execution_count": null,
      "outputs": []
    },
    {
      "cell_type": "code",
      "metadata": {
        "colab": {
          "base_uri": "https://localhost:8080/"
        },
        "id": "FgRYNOYABM4b",
        "outputId": "60abf211-8337-4f65-ff10-f6eb220655ca"
      },
      "source": [
        "model.summary()"
      ],
      "execution_count": null,
      "outputs": [
        {
          "output_type": "stream",
          "text": [
            "Model: \"sequential_3\"\n",
            "_________________________________________________________________\n",
            "Layer (type)                 Output Shape              Param #   \n",
            "=================================================================\n",
            "flatten_3 (Flatten)          (None, 784)               0         \n",
            "_________________________________________________________________\n",
            "batch_normalization_3 (Batch (None, 784)               3136      \n",
            "_________________________________________________________________\n",
            "dense_9 (Dense)              (None, 300)               235500    \n",
            "_________________________________________________________________\n",
            "batch_normalization_4 (Batch (None, 300)               1200      \n",
            "_________________________________________________________________\n",
            "dense_10 (Dense)             (None, 100)               30100     \n",
            "_________________________________________________________________\n",
            "batch_normalization_5 (Batch (None, 100)               400       \n",
            "_________________________________________________________________\n",
            "dense_11 (Dense)             (None, 10)                1010      \n",
            "=================================================================\n",
            "Total params: 271,346\n",
            "Trainable params: 268,978\n",
            "Non-trainable params: 2,368\n",
            "_________________________________________________________________\n"
          ],
          "name": "stdout"
        }
      ]
    },
    {
      "cell_type": "code",
      "metadata": {
        "id": "bHehWqPkBdUJ"
      },
      "source": [
        "bn1 = model.layers[1]"
      ],
      "execution_count": null,
      "outputs": []
    },
    {
      "cell_type": "code",
      "metadata": {
        "colab": {
          "base_uri": "https://localhost:8080/"
        },
        "id": "jkBC1bKlBPnr",
        "outputId": "310cc398-ae99-45fe-a5e6-b4c9a69c2914"
      },
      "source": [
        "for variable in bn1.variables:\n",
        "  print(variable.name, variable.trainable)"
      ],
      "execution_count": null,
      "outputs": [
        {
          "output_type": "stream",
          "text": [
            "batch_normalization_3/gamma:0 True\n",
            "batch_normalization_3/beta:0 True\n",
            "batch_normalization_3/moving_mean:0 False\n",
            "batch_normalization_3/moving_variance:0 False\n"
          ],
          "name": "stdout"
        }
      ]
    },
    {
      "cell_type": "code",
      "metadata": {
        "colab": {
          "base_uri": "https://localhost:8080/"
        },
        "id": "yjWyHpgxBUzW",
        "outputId": "9406a69d-92f3-4936-e88a-faf4f268448e"
      },
      "source": [
        "model.compile(loss=\"sparse_categorical_crossentropy\",\n",
        "              optimizer=tf.keras.optimizers.SGD(lr=1e-3),\n",
        "              metrics=[\"accuracy\"])"
      ],
      "execution_count": null,
      "outputs": [
        {
          "output_type": "stream",
          "text": [
            "/usr/local/lib/python3.7/dist-packages/tensorflow/python/keras/optimizer_v2/optimizer_v2.py:375: UserWarning: The `lr` argument is deprecated, use `learning_rate` instead.\n",
            "  \"The `lr` argument is deprecated, use `learning_rate` instead.\")\n"
          ],
          "name": "stderr"
        }
      ]
    },
    {
      "cell_type": "code",
      "metadata": {
        "colab": {
          "base_uri": "https://localhost:8080/"
        },
        "id": "T4ZzmZCBBklH",
        "outputId": "ad17f00c-ef66-498e-a18c-d7addc6d93b1"
      },
      "source": [
        "# now training & calculating the training time.\n",
        "\n",
        "# starting time\n",
        "start = time.time()\n",
        "\n",
        "\n",
        "history = model.fit(X_train, y_train, epochs=10,\n",
        "                    validation_data=(X_valid, y_valid), verbose=2)\n",
        "\n",
        "#ending time\n",
        "end = time.time()\n",
        "\n",
        "# total time taken\n",
        "print(f\"Runtime of the program is {end - start}\")"
      ],
      "execution_count": null,
      "outputs": [
        {
          "output_type": "stream",
          "text": [
            "Epoch 1/10\n",
            "1719/1719 - 5s - loss: 0.8293 - accuracy: 0.7221 - val_loss: 0.5539 - val_accuracy: 0.8160\n",
            "Epoch 2/10\n",
            "1719/1719 - 4s - loss: 0.5703 - accuracy: 0.8035 - val_loss: 0.4792 - val_accuracy: 0.8374\n",
            "Epoch 3/10\n",
            "1719/1719 - 4s - loss: 0.5161 - accuracy: 0.8214 - val_loss: 0.4424 - val_accuracy: 0.8488\n",
            "Epoch 4/10\n",
            "1719/1719 - 4s - loss: 0.4789 - accuracy: 0.8316 - val_loss: 0.4212 - val_accuracy: 0.8560\n",
            "Epoch 5/10\n",
            "1719/1719 - 4s - loss: 0.4548 - accuracy: 0.8406 - val_loss: 0.4051 - val_accuracy: 0.8612\n",
            "Epoch 6/10\n",
            "1719/1719 - 4s - loss: 0.4386 - accuracy: 0.8445 - val_loss: 0.3932 - val_accuracy: 0.8632\n",
            "Epoch 7/10\n",
            "1719/1719 - 4s - loss: 0.4254 - accuracy: 0.8505 - val_loss: 0.3829 - val_accuracy: 0.8646\n",
            "Epoch 8/10\n",
            "1719/1719 - 4s - loss: 0.4123 - accuracy: 0.8538 - val_loss: 0.3760 - val_accuracy: 0.8666\n",
            "Epoch 9/10\n",
            "1719/1719 - 4s - loss: 0.4027 - accuracy: 0.8579 - val_loss: 0.3690 - val_accuracy: 0.8674\n",
            "Epoch 10/10\n",
            "1719/1719 - 4s - loss: 0.3925 - accuracy: 0.8616 - val_loss: 0.3630 - val_accuracy: 0.8670\n",
            "Runtime of the program is 44.893683433532715\n"
          ],
          "name": "stdout"
        }
      ]
    },
    {
      "cell_type": "markdown",
      "metadata": {
        "id": "fusR_corCyYp"
      },
      "source": [
        "## Conclution:\n",
        "- Runtime of the program is 44.89 sec\n",
        "- accuracy: 0.8616"
      ]
    },
    {
      "cell_type": "markdown",
      "metadata": {
        "id": "k6IgyIlDC-wY"
      },
      "source": [
        "# Comparison:\n",
        "\n",
        "## Before applying\n",
        "- Runtime of the program is 26.92 sec\n",
        "- accuracy: 0.8321\n",
        "\n",
        "## After applying\n",
        "- Runtime of the program is 44.89 sec\n",
        "- accuracy: 0.8616"
      ]
    },
    {
      "cell_type": "markdown",
      "metadata": {
        "id": "bOsygrAYDSXn"
      },
      "source": [
        "**Note**: As we can see although it has been taken a little long time due to the some extra parameters added but it has been improved the accurary score after applying BN. In big problem it performs more."
      ]
    },
    {
      "cell_type": "code",
      "metadata": {
        "id": "YaERfFNIB3tu"
      },
      "source": [],
      "execution_count": null,
      "outputs": []
    }
  ]
}
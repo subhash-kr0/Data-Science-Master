{
 "cells": [
  {
   "cell_type": "markdown",
   "metadata": {
    "id": "M6wunOf4L6GC"
   },
   "source": [
    "# Theoretical Questions"
   ]
  },
  {
   "cell_type": "markdown",
   "metadata": {
    "id": "W79sIUK2A3LH"
   },
   "source": [
    "## Q1. What are the different data structures used in Tensorflow? Give some examples"
   ]
  },
  {
   "cell_type": "markdown",
   "metadata": {
    "id": "cwAlD2EY-hKC"
   },
   "source": [
    "TensorFlow is a deep learning framework which primarily operates on tensors, which are multi-dimensional arrays.TensorFlow also provides various data structures and abstractions for handling and manipulating data and some of the commonly used data structures are :\n",
    "\n",
    "1. **Tensors**: Tensors are the fundamental data structure in TensorFlow. They can be of different ranks (0D, 1D, 2D, 3D, etc.) and are similar to multi-dimensional arrays. Tensors can hold numerical data, and they are used for input data, model parameters, and output predictions.\n",
    "\n",
    "2. **Variables**: TensorFlow Variables are used to hold and update model parameters during training. Unlike constants, variables can be modified and updated during training iterations.\n",
    "\n",
    "3. **Sparse Tensors**: Sparse tensors are used to represent tensors with a large number of elements that are mostly zero. They are memory-efficient and can speed up certain operations, such as gradient computation in sparse neural networks.\n",
    "\n",
    "4. **Ragged Tensors**: Ragged tensors are used to represent data with varying lengths, such as sequences of variable-length sentences or lists of different-sized feature vectors.\n",
    "\n",
    "\n",
    "5. **Tensor Arrays**: Tensor arrays are TensorFlow data structures that allow dynamic and varying-sized tensors to be constructed iteratively. They are often used in dynamic RNNs and custom training loops.\n",
    "\n",
    "\n",
    "6. **Queues**: TensorFlow provides several queue implementations for managing data input pipelines. These are used in multi-threaded data loading scenarios.\n",
    "\n",
    "\n"
   ]
  },
  {
   "cell_type": "code",
   "execution_count": 1,
   "metadata": {
    "colab": {
     "base_uri": "https://localhost:8080/"
    },
    "id": "V545JTE4-9-T",
    "outputId": "8852af9a-4409-456c-d864-072362dfdba6"
   },
   "outputs": [
    {
     "data": {
      "text/plain": [
       "(<tf.Tensor: shape=(), dtype=int32, numpy=5>,\n",
       " <tf.Tensor: shape=(3,), dtype=int32, numpy=array([1, 2, 3], dtype=int32)>,\n",
       " <tf.Tensor: shape=(2, 2), dtype=int32, numpy=\n",
       " array([[1, 2],\n",
       "        [3, 4]], dtype=int32)>)"
      ]
     },
     "execution_count": 1,
     "metadata": {},
     "output_type": "execute_result"
    }
   ],
   "source": [
    "#Implementation of Tensorflow Data Structures\n",
    "import tensorflow as tf\n",
    "\n",
    "# Creating tensors\n",
    "scalar = tf.constant(5)  # 0D tensor (scalar)\n",
    "vector = tf.constant([1, 2, 3])  # 1D tensor (vector)\n",
    "matrix = tf.constant([[1, 2], [3, 4]])  # 2D tensor (matrix)\n",
    "\n",
    "scalar , vector , matrix"
   ]
  },
  {
   "cell_type": "code",
   "execution_count": 2,
   "metadata": {
    "colab": {
     "base_uri": "https://localhost:8080/"
    },
    "id": "OpgeSW6iAUSv",
    "outputId": "24b17786-c2af-4d9f-ac0c-b29bbab701df"
   },
   "outputs": [
    {
     "data": {
      "text/plain": [
       "<tf.Variable 'Variable:0' shape=(3, 3) dtype=float32, numpy=\n",
       "array([[ 0.0580597 ,  0.48727727, -2.0676227 ],\n",
       "       [ 1.7840085 ,  0.46448132,  0.29605016],\n",
       "       [ 0.42834678,  0.01660138,  0.918976  ]], dtype=float32)>"
      ]
     },
     "execution_count": 2,
     "metadata": {},
     "output_type": "execute_result"
    }
   ],
   "source": [
    "# Creating a variable\n",
    "weights = tf.Variable(tf.random.normal(shape=(3, 3)))\n",
    "weights"
   ]
  },
  {
   "cell_type": "code",
   "execution_count": 3,
   "metadata": {
    "colab": {
     "base_uri": "https://localhost:8080/"
    },
    "id": "nU3HsFc0AY-g",
    "outputId": "e3aa32aa-8bb2-4d94-f8ee-888a928d6eb2"
   },
   "outputs": [
    {
     "data": {
      "text/plain": [
       "(<tf.Tensor: shape=(2, 2), dtype=int64, numpy=\n",
       " array([[0, 1],\n",
       "        [2, 3]])>,\n",
       " <tf.Tensor: shape=(2,), dtype=float32, numpy=array([4., 5.], dtype=float32)>,\n",
       " <tf.Tensor: shape=(2,), dtype=int64, numpy=array([3, 4])>,\n",
       " SparseTensor(indices=tf.Tensor(\n",
       " [[0 1]\n",
       "  [2 3]], shape=(2, 2), dtype=int64), values=tf.Tensor([4. 5.], shape=(2,), dtype=float32), dense_shape=tf.Tensor([3 4], shape=(2,), dtype=int64)))"
      ]
     },
     "execution_count": 3,
     "metadata": {},
     "output_type": "execute_result"
    }
   ],
   "source": [
    "# Creating a sparse tensor\n",
    "indices = tf.constant([[0, 1], [2, 3]],dtype=tf.int64)\n",
    "values = tf.constant([4.0, 5.0])\n",
    "shape = tf.constant([3, 4],dtype=tf.int64)\n",
    "sparse_tensor = tf.sparse.SparseTensor(indices, values, shape)\n",
    "\n",
    "indices , values , shape , sparse_tensor"
   ]
  },
  {
   "cell_type": "code",
   "execution_count": 4,
   "metadata": {
    "colab": {
     "base_uri": "https://localhost:8080/"
    },
    "id": "vucPGjXwAfoO",
    "outputId": "d31fb2b4-535f-4191-988c-1d49497ad0d3"
   },
   "outputs": [
    {
     "data": {
      "text/plain": [
       "<tf.RaggedTensor [[1, 2], [3, 4, 5], [6]]>"
      ]
     },
     "execution_count": 4,
     "metadata": {},
     "output_type": "execute_result"
    }
   ],
   "source": [
    "# Creating a ragged tensor\n",
    "ragged_tensor = tf.ragged.constant([[1, 2], [3, 4, 5], [6]])\n",
    "ragged_tensor"
   ]
  },
  {
   "cell_type": "code",
   "execution_count": 5,
   "metadata": {
    "colab": {
     "base_uri": "https://localhost:8080/"
    },
    "id": "_J4clRVtAj8P",
    "outputId": "f186f51e-0427-4a48-9bcf-3f3ea5251b34"
   },
   "outputs": [
    {
     "data": {
      "text/plain": [
       "<tensorflow.python.ops.tensor_array_ops.TensorArray at 0x7b8788a37760>"
      ]
     },
     "execution_count": 5,
     "metadata": {},
     "output_type": "execute_result"
    }
   ],
   "source": [
    "# Creating a tensor array\n",
    "tensor_array = tf.TensorArray(dtype=tf.float32, size=0, dynamic_size=True)\n",
    "tensor_array"
   ]
  },
  {
   "cell_type": "code",
   "execution_count": 6,
   "metadata": {
    "colab": {
     "base_uri": "https://localhost:8080/"
    },
    "id": "N7qjyk-uAomh",
    "outputId": "b656e8fe-1d9b-4e23-f3be-a550a9b99218"
   },
   "outputs": [
    {
     "data": {
      "text/plain": [
       "<tensorflow.python.ops.data_flow_ops.FIFOQueue at 0x7b8788a377f0>"
      ]
     },
     "execution_count": 6,
     "metadata": {},
     "output_type": "execute_result"
    }
   ],
   "source": [
    "# Creating a FIFO queue\n",
    "queue = tf.queue.FIFOQueue(capacity=10, dtypes=tf.float32)\n",
    "queue"
   ]
  },
  {
   "cell_type": "markdown",
   "metadata": {
    "id": "9whiL2M9A8Oj"
   },
   "source": [
    "## Q2. How does the TensorFlow constant differ from a TensorFlow variable? Explain with an example"
   ]
  },
  {
   "cell_type": "markdown",
   "metadata": {
    "id": "kI0zy9TgEB0V"
   },
   "source": [
    "1. **TensorFlow Constants**:\n",
    "\n",
    "   - Constants are used to represent fixed values in TensorFlow.\n",
    "   - Once you create a constant, its value cannot be changed. It remains constant throughout the execution of the program.\n",
    "   - Constants are typically used for values that should not be modified during training, such as hyperparameters or fixed input data.\n",
    "   - They are stored in memory, but their values do not get updated during training.\n",
    "\n",
    "   \n",
    "\n",
    "2. **TensorFlow Variables**:\n",
    "\n",
    "   - Variables are used to represent modifiable tensors in TensorFlow.\n",
    "   - Variables are commonly used to store and update model parameters (weights and biases) during training.\n",
    "   - Unlike constants, the values of variables can be changed using operations like `assign` or by training them using optimization algorithms.\n",
    "   - Variables are usually initialized with initial values, and their values evolve during training.\n",
    "\n",
    "The key difference between TensorFlow constants and variables is that constants have fixed values that do not change during execution, while variables are mutable and can change their values over time, making them suitable for representing model parameters during training."
   ]
  },
  {
   "cell_type": "code",
   "execution_count": 7,
   "metadata": {
    "colab": {
     "base_uri": "https://localhost:8080/"
    },
    "id": "q2_J0tx9EEtV",
    "outputId": "0f35dbc7-bc34-441d-b9cd-3a7f47587058"
   },
   "outputs": [
    {
     "name": "stdout",
     "output_type": "stream",
     "text": [
      "Error !! Attempting to change the value of a constant\n"
     ]
    }
   ],
   "source": [
    "#Example of a TensorFlow constant\n",
    "\n",
    "import tensorflow as tf\n",
    "\n",
    "# Creating a TensorFlow constant\n",
    "constant_tensor = tf.constant([1, 2, 3])\n",
    "\n",
    "try:\n",
    "  constant_tensor.assign([4, 5, 6])\n",
    "  print(\"Try Block is Executed !!\")\n",
    "\n",
    "except Exception as e:\n",
    "  print(\"Error !! Attempting to change the value of a constant\")"
   ]
  },
  {
   "cell_type": "code",
   "execution_count": 8,
   "metadata": {
    "colab": {
     "base_uri": "https://localhost:8080/"
    },
    "id": "P7l4d9aRENLG",
    "outputId": "0cdfea4a-539e-44c6-8ab0-654f6c40ab0b"
   },
   "outputs": [
    {
     "name": "stdout",
     "output_type": "stream",
     "text": [
      "Try Block is Executed !!\n",
      "[4 5 6]\n"
     ]
    }
   ],
   "source": [
    "#Example of a TensorFlow Varibale\n",
    "\n",
    "import tensorflow as tf\n",
    "\n",
    "# Creating a TensorFlow variable\n",
    "initial_values = tf.constant([1, 2, 3])\n",
    "variable_tensor = tf.Variable(initial_values)\n",
    "\n",
    "try:\n",
    "\n",
    "  # Modifying the value of a variable\n",
    "  new_values = tf.constant([4, 5, 6])\n",
    "  variable_tensor.assign(new_values)\n",
    "  print(\"Try Block is Executed !!\")\n",
    "  # Print the updated variable\n",
    "  print(variable_tensor.numpy())\n",
    "\n",
    "except Exception as e:\n",
    "  print(\"Except Block is Executed !!\")"
   ]
  },
  {
   "cell_type": "markdown",
   "metadata": {
    "id": "shVWBVOZBBlQ"
   },
   "source": [
    "## Q3. Describe the process of matrix addition, multiplication, and element-wise operations in TensorFlow."
   ]
  },
  {
   "cell_type": "markdown",
   "metadata": {
    "id": "kSx1bcOWGqiO"
   },
   "source": [
    "These are fundamental operations in TensorFlow for working with matrices and tensors:\n",
    "\n",
    "1. **Matrix Addition**:\n",
    "\n",
    "   Matrix addition in TensorFlow is performed using the tf.add or simply the + operator. It adds corresponding elements of two tensors of the same shape. The tensors being added must have compatible shapes (same number of rows and columns).\n",
    "\n",
    "2. **Matrix Multiplication**:\n",
    "\n",
    "   Matrix multiplication in TensorFlow is performed using the tf.matmul function. This operation computes the dot product of two matrices. The inner dimensions of the matrices must match for matrix multiplication to be valid.\n",
    "\n",
    "3. **Element-Wise Operations**:\n",
    "\n",
    "   Element-wise operations in TensorFlow involve applying an operation to each element of a tensor independently. Common element-wise operations include addition, subtraction, multiplication, division, and more. These operations can be performed using standard Python operators or TensorFlow functions like tf.add, tf.subtract, tf.multiply, and tf.divide."
   ]
  },
  {
   "cell_type": "code",
   "execution_count": 9,
   "metadata": {
    "colab": {
     "base_uri": "https://localhost:8080/"
    },
    "id": "a780ubfXGsj4",
    "outputId": "4284dd12-cd33-40dc-b8f5-c52bc56523f5"
   },
   "outputs": [
    {
     "name": "stdout",
     "output_type": "stream",
     "text": [
      "Matrix 1 : \n",
      "\n",
      "[[1 2]\n",
      " [3 4]]\n",
      "\n",
      "Matrix 2 : \n",
      "\n",
      "[[5 6]\n",
      " [7 8]]\n",
      "\n",
      "Addition Using add function : \n",
      "\n",
      "[[ 6  8]\n",
      " [10 12]]\n",
      "\n",
      "Addition Using + operator : \n",
      "\n",
      "[[ 6  8]\n",
      " [10 12]]\n"
     ]
    }
   ],
   "source": [
    "import tensorflow as tf\n",
    "\n",
    "# Create two matrices\n",
    "matrix1 = tf.constant([[1, 2], [3, 4]])\n",
    "matrix2 = tf.constant([[5, 6], [7, 8]])\n",
    "\n",
    "# Perform matrix addition using add function\n",
    "result_matrix = tf.add(matrix1, matrix2)\n",
    "# Perform matrix addition using + operator\n",
    "result_matrixx = matrix1 + matrix2\n",
    "\n",
    "# Print the result\n",
    "print(f\"Matrix 1 : \\n\\n{matrix1.numpy()}\")\n",
    "print(f\"\\nMatrix 2 : \\n\\n{matrix2.numpy()}\")\n",
    "print(f\"\\nAddition Using add function : \\n\\n{result_matrix.numpy()}\")\n",
    "print(f\"\\nAddition Using + operator : \\n\\n{result_matrix.numpy()}\")\n"
   ]
  },
  {
   "cell_type": "code",
   "execution_count": 10,
   "metadata": {
    "colab": {
     "base_uri": "https://localhost:8080/"
    },
    "id": "66VJo-6uH1hO",
    "outputId": "e399e570-d93f-49f6-f4fd-202600a32c8f"
   },
   "outputs": [
    {
     "name": "stdout",
     "output_type": "stream",
     "text": [
      "Matrix 1 : \n",
      "\n",
      "[[1 2]\n",
      " [3 4]]\n",
      "\n",
      "Matrix 2 : \n",
      "\n",
      "[[5 6]\n",
      " [7 8]]\n",
      "\n",
      "Addition Using add function : \n",
      "\n",
      "[[19 22]\n",
      " [43 50]]\n"
     ]
    }
   ],
   "source": [
    "import tensorflow as tf\n",
    "\n",
    "# Create two matrices\n",
    "matrix1 = tf.constant([[1, 2], [3, 4]])\n",
    "matrix2 = tf.constant([[5, 6], [7, 8]])\n",
    "\n",
    "# Perform matrix multiplication\n",
    "result_matrix = tf.matmul(matrix1, matrix2)\n",
    "\n",
    "# Print the result\n",
    "print(f\"Matrix 1 : \\n\\n{matrix1.numpy()}\")\n",
    "print(f\"\\nMatrix 2 : \\n\\n{matrix2.numpy()}\")\n",
    "print(f\"\\nAddition Using add function : \\n\\n{result_matrix.numpy()}\")"
   ]
  },
  {
   "cell_type": "code",
   "execution_count": 11,
   "metadata": {
    "colab": {
     "base_uri": "https://localhost:8080/"
    },
    "id": "AW1uRVSFH_59",
    "outputId": "a263666f-81af-4940-ab7a-9081c09b3788"
   },
   "outputs": [
    {
     "name": "stdout",
     "output_type": "stream",
     "text": [
      "Tensor 1 : \n",
      "\n",
      "[[1 2]\n",
      " [3 4]]\n",
      "\n",
      "Scaler : \n",
      "\n",
      "2\n",
      "\n",
      "Element Wise Addition with scaler : \n",
      "\n",
      "[[3 4]\n",
      " [5 6]]\n",
      "\n",
      "Element Wise Subraction with scaler : \n",
      "\n",
      "[[-1  0]\n",
      " [ 1  2]]\n",
      "\n",
      "Element Wise Multiplication with scaler : \n",
      "\n",
      "[[2 4]\n",
      " [6 8]]\n",
      "\n",
      "Element Wise Division with scaler : \n",
      "\n",
      "[[0.5 1. ]\n",
      " [1.5 2. ]]\n",
      "\n",
      "Element Wise Square : \n",
      "\n",
      "[[ 1  4]\n",
      " [ 9 16]]\n"
     ]
    }
   ],
   "source": [
    "import tensorflow as tf\n",
    "\n",
    "# Create two tensors\n",
    "tensor1 = tf.constant([[1, 2],[3,4]])\n",
    "scaler = 2\n",
    "\n",
    "# Perform element-wise addition\n",
    "result_add = tf.add(tensor1,scaler)\n",
    "\n",
    "# Perform element-wise multiplication\n",
    "result_multiply = tf.multiply(tensor1, scaler)\n",
    "\n",
    "# Perform element-wise division\n",
    "result_div = tf.divide(tensor1, scaler)\n",
    "\n",
    "# Perform element-wise subraction\n",
    "result_subract = tf.subtract(tensor1, scaler)\n",
    "\n",
    "\n",
    "# Perform element-wise square\n",
    "result_square = tf.square(tensor1)\n",
    "\n",
    "\n",
    "# Print the result\n",
    "print(f\"Tensor 1 : \\n\\n{tensor1.numpy()}\")\n",
    "print(f\"\\nScaler : \\n\\n{scaler}\")\n",
    "print(f\"\\nElement Wise Addition with scaler : \\n\\n{result_add.numpy()}\")\n",
    "print(f\"\\nElement Wise Subraction with scaler : \\n\\n{result_subract.numpy()}\")\n",
    "print(f\"\\nElement Wise Multiplication with scaler : \\n\\n{result_multiply.numpy()}\")\n",
    "print(f\"\\nElement Wise Division with scaler : \\n\\n{result_div.numpy()}\")\n",
    "print(f\"\\nElement Wise Square : \\n\\n{result_square.numpy()}\")"
   ]
  },
  {
   "cell_type": "markdown",
   "metadata": {
    "id": "83RjTuW_LBh_"
   },
   "source": [
    "# Practical Implementation"
   ]
  },
  {
   "cell_type": "markdown",
   "metadata": {
    "id": "fv4yut_6LDgB"
   },
   "source": [
    "\n",
    "## Q4.  Create a normal matrix A with dimensions 3x3, using TensorFlow's random_normal function. Display the values of matrix A"
   ]
  },
  {
   "cell_type": "code",
   "execution_count": 12,
   "metadata": {
    "colab": {
     "base_uri": "https://localhost:8080/"
    },
    "id": "Emy89mY_Fdjo",
    "outputId": "b74f7b32-d02d-42b3-e6e1-38ef34d9a08d"
   },
   "outputs": [
    {
     "name": "stdout",
     "output_type": "stream",
     "text": [
      "TensorFlow version: 2.13.0\n"
     ]
    }
   ],
   "source": [
    "import tensorflow as tf\n",
    "\n",
    "print(\"TensorFlow version: {}\".format(tf.__version__))"
   ]
  },
  {
   "cell_type": "code",
   "execution_count": 13,
   "metadata": {
    "colab": {
     "base_uri": "https://localhost:8080/"
    },
    "id": "bGKGi0qdFeB0",
    "outputId": "aca73588-abeb-48cc-ffdf-a239e3f60154"
   },
   "outputs": [
    {
     "name": "stdout",
     "output_type": "stream",
     "text": [
      "Matrix A : \n",
      "\n",
      "[[-0.28077507 -0.1377521  -0.6763296 ]\n",
      " [ 0.02458041 -0.89358455 -0.82847327]\n",
      " [ 1.2068944   1.3810157  -1.4557977 ]]\n"
     ]
    }
   ],
   "source": [
    "A = tf.random.normal([3,3],dtype = tf.float32,seed=42)\n",
    "print(f\"Matrix A : \\n\\n{A.numpy()}\")"
   ]
  },
  {
   "cell_type": "markdown",
   "metadata": {
    "id": "j8fuwowuLTKo"
   },
   "source": [
    "## 5. Create a Gaussian matrix B with dimensions 4x4, using TensorFlow's truncated_normal function. Display the values of matrix B"
   ]
  },
  {
   "cell_type": "code",
   "execution_count": 14,
   "metadata": {
    "colab": {
     "base_uri": "https://localhost:8080/"
    },
    "id": "sU3vrg87F4Sa",
    "outputId": "baf7a26d-e9b4-43a4-b39a-935f388f06bf"
   },
   "outputs": [
    {
     "name": "stdout",
     "output_type": "stream",
     "text": [
      "Matrix B : \n",
      "\n",
      "[[-0.28077507 -0.1377521  -0.6763296   0.02458041]\n",
      " [-0.46845472 -0.00246632 -0.9745911   0.6638492 ]\n",
      " [ 0.4368011  -0.7038976   0.6426843   1.4513893 ]\n",
      " [ 1.8412819  -0.15879929 -1.0607921   1.5984018 ]]\n"
     ]
    }
   ],
   "source": [
    "B = tf.random.truncated_normal(shape=[4,4], dtype=tf.float32,seed=42)\n",
    "print(f\"Matrix B : \\n\\n{B.numpy()}\")"
   ]
  },
  {
   "cell_type": "markdown",
   "metadata": {
    "id": "DtN_8NQdLW_9"
   },
   "source": [
    "## Q6. Create a matrix C with dimensions 2x2, where the values are drawn from a normal distribution with a mean of 3 and a standard deviation of 0.5, using TensorFlow's random.normal function. Display the values of matrix C"
   ]
  },
  {
   "cell_type": "code",
   "execution_count": 15,
   "metadata": {
    "colab": {
     "base_uri": "https://localhost:8080/"
    },
    "id": "rV6df1ZAGtWI",
    "outputId": "af6b641b-3f27-47f6-ab9e-bedca92946c2"
   },
   "outputs": [
    {
     "name": "stdout",
     "output_type": "stream",
     "text": [
      "Matrix C : \n",
      "\n",
      "[[3.609005  2.8007267]\n",
      " [3.3198366 2.6839418]]\n"
     ]
    }
   ],
   "source": [
    "C = tf.random.normal([2,2],mean=3, stddev=0.5,dtype = tf.float32,seed=42)\n",
    "print(f\"Matrix C : \\n\\n{C.numpy()}\")"
   ]
  },
  {
   "cell_type": "markdown",
   "metadata": {
    "id": "xi0I06UbLaZp"
   },
   "source": [
    "## Q7. Perform matrix addition between matrix A and matrix B, and store the result in matrix D"
   ]
  },
  {
   "cell_type": "code",
   "execution_count": 16,
   "metadata": {
    "colab": {
     "base_uri": "https://localhost:8080/"
    },
    "id": "pH9nL9dGHOqk",
    "outputId": "bcea5fc0-c592-40aa-ea94-2737d8537f1a"
   },
   "outputs": [
    {
     "name": "stdout",
     "output_type": "stream",
     "text": [
      "Matrix A : \n",
      "\n",
      "[[ 1.4171269   0.806262   -0.6378367 ]\n",
      " [-0.59586287  0.9795361   0.86680996]]\n",
      "\n",
      "Matrix B : \n",
      "\n",
      "[[-0.18655936  0.21760897  0.1489197 ]\n",
      " [ 0.07509567  0.5019556   1.0746589 ]]\n",
      "\n",
      "Matrix D : \n",
      "\n",
      "[[ 1.2305676  1.023871  -0.488917 ]\n",
      " [-0.5207672  1.4814918  1.9414688]]\n"
     ]
    }
   ],
   "source": [
    "#It is impossible to add A and B as A is 3X3 Matrix and B is 4X4 matrix\n",
    "#For Matrix Addition the shape of the Matrix should be Similiar\n",
    "#So reshaping A and B\n",
    "A = tf.random.normal([2,3],dtype = tf.float32,seed=42)\n",
    "B = tf.random.truncated_normal([2,3],dtype = tf.float32,seed=42)\n",
    "\n",
    "D = A+B\n",
    "print(f\"Matrix A : \\n\\n{A.numpy()}\")\n",
    "print(f\"\\nMatrix B : \\n\\n{B.numpy()}\")\n",
    "print(f\"\\nMatrix D : \\n\\n{D.numpy()}\")"
   ]
  },
  {
   "cell_type": "markdown",
   "metadata": {
    "id": "Ge4nzcgOLeHX"
   },
   "source": [
    "## Q8. Perform matrix multiplication between matrix C and matrix D, and store the result in matrix E."
   ]
  },
  {
   "cell_type": "code",
   "execution_count": 17,
   "metadata": {
    "colab": {
     "base_uri": "https://localhost:8080/"
    },
    "id": "F6KBjku7HY4z",
    "outputId": "e6b06abe-7786-455d-be3d-76c21bcfb823"
   },
   "outputs": [
    {
     "name": "stdout",
     "output_type": "stream",
     "text": [
      "Matrix C : \n",
      "\n",
      "[[3.609005  2.8007267]\n",
      " [3.3198366 2.6839418]]\n",
      "\n",
      "Matrix D : \n",
      "\n",
      "[[ 1.2305676  1.023871  -0.488917 ]\n",
      " [-0.5207672  1.4814918  1.9414688]]\n",
      "\n",
      "Matrix E : \n",
      "\n",
      "[[2.9825978 7.844409  3.6730194]\n",
      " [2.6875744 7.3753223 3.5876646]]\n"
     ]
    }
   ],
   "source": [
    "E = tf.matmul(C,D)\n",
    "print(f\"Matrix C : \\n\\n{C.numpy()}\")\n",
    "print(f\"\\nMatrix D : \\n\\n{D.numpy()}\")\n",
    "print(f\"\\nMatrix E : \\n\\n{E.numpy()}\")"
   ]
  },
  {
   "cell_type": "markdown",
   "metadata": {
    "id": "06ZhmNTLLlpu"
   },
   "source": [
    "# Performing Additional Matrix Operations"
   ]
  },
  {
   "cell_type": "markdown",
   "metadata": {
    "id": "eJdT5zcCLk_g"
   },
   "source": [
    "\n",
    "## Q9. Create a matrix F with dimensions 3x3, initialized with random values using TensorFlow's random_uniform function\n",
    "\n",
    "\n",
    "\n"
   ]
  },
  {
   "cell_type": "code",
   "execution_count": 18,
   "metadata": {
    "colab": {
     "base_uri": "https://localhost:8080/"
    },
    "id": "3F2gEpmGjUwj",
    "outputId": "2618b1c4-d160-4d10-f39e-3ec3796dc985"
   },
   "outputs": [
    {
     "name": "stdout",
     "output_type": "stream",
     "text": [
      "Matrix F : \n",
      "\n",
      "[[0.95227146 0.67740774 0.79531825]\n",
      " [0.75578177 0.4759556  0.6310148 ]\n",
      " [0.18602037 0.11430776 0.3362218 ]]\n"
     ]
    }
   ],
   "source": [
    "F = tf.random.uniform([3,3],dtype = tf.float32,seed=42)\n",
    "print(f\"Matrix F : \\n\\n{F.numpy()}\")"
   ]
  },
  {
   "cell_type": "markdown",
   "metadata": {
    "id": "NFY7Pr2sLubK"
   },
   "source": [
    "## Q10. Calculate the transpose of matrix F and store the result in matrix G"
   ]
  },
  {
   "cell_type": "code",
   "execution_count": 19,
   "metadata": {
    "colab": {
     "base_uri": "https://localhost:8080/"
    },
    "id": "vlwG_bfWjyEh",
    "outputId": "f3cf3f7c-9e83-49b7-e245-bc9552d1a693"
   },
   "outputs": [
    {
     "name": "stdout",
     "output_type": "stream",
     "text": [
      "Matrix F : \n",
      "\n",
      "[[0.95227146 0.67740774 0.79531825]\n",
      " [0.75578177 0.4759556  0.6310148 ]\n",
      " [0.18602037 0.11430776 0.3362218 ]]\n",
      "\n",
      "Matrix G : \n",
      "\n",
      "[[0.95227146 0.75578177 0.18602037]\n",
      " [0.67740774 0.4759556  0.11430776]\n",
      " [0.79531825 0.6310148  0.3362218 ]]\n"
     ]
    }
   ],
   "source": [
    "G = tf.transpose(F)\n",
    "print(f\"Matrix F : \\n\\n{F.numpy()}\")\n",
    "print(f\"\\nMatrix G : \\n\\n{G.numpy()}\")"
   ]
  },
  {
   "cell_type": "markdown",
   "metadata": {
    "id": "RYFCTHckLwSM"
   },
   "source": [
    "## Q11. Calculate the element-wise exponential of matrix F and store the result in matrix H"
   ]
  },
  {
   "cell_type": "code",
   "execution_count": 20,
   "metadata": {
    "colab": {
     "base_uri": "https://localhost:8080/"
    },
    "id": "QNIJBgU3kF5g",
    "outputId": "66e9b71b-3cef-4113-80c3-4de4fa9e14a3"
   },
   "outputs": [
    {
     "name": "stdout",
     "output_type": "stream",
     "text": [
      "Matrix F : \n",
      "\n",
      "[[0.95227146 0.67740774 0.79531825]\n",
      " [0.75578177 0.4759556  0.6310148 ]\n",
      " [0.18602037 0.11430776 0.3362218 ]]\n",
      "\n",
      "Matrix H : \n",
      "\n",
      "[[2.5915897 1.9687675 2.2151458]\n",
      " [2.1292756 1.6095515 1.879517 ]\n",
      " [1.2044468 1.1210971 1.3996495]]\n"
     ]
    }
   ],
   "source": [
    "H = tf.exp(F)\n",
    "print(f\"Matrix F : \\n\\n{F.numpy()}\")\n",
    "print(f\"\\nMatrix H : \\n\\n{H.numpy()}\")"
   ]
  },
  {
   "cell_type": "markdown",
   "metadata": {
    "id": "FaOPI7rCLyXv"
   },
   "source": [
    "## Q12. Create a matrix I by concatenating matrix F and matrix G horizontally"
   ]
  },
  {
   "cell_type": "code",
   "execution_count": 21,
   "metadata": {
    "colab": {
     "base_uri": "https://localhost:8080/"
    },
    "id": "VQsMMDJdk64Z",
    "outputId": "c4a96fb5-178e-40e5-8a32-00a5b88eaebf"
   },
   "outputs": [
    {
     "name": "stdout",
     "output_type": "stream",
     "text": [
      "Matrix F : \n",
      "\n",
      "[[0.95227146 0.67740774 0.79531825]\n",
      " [0.75578177 0.4759556  0.6310148 ]\n",
      " [0.18602037 0.11430776 0.3362218 ]]\n",
      "\n",
      "Matrix G : \n",
      "\n",
      "[[0.95227146 0.75578177 0.18602037]\n",
      " [0.67740774 0.4759556  0.11430776]\n",
      " [0.79531825 0.6310148  0.3362218 ]]\n",
      "\n",
      "Matrix I : \n",
      "\n",
      "[[0.95227146 0.67740774 0.79531825]\n",
      " [0.75578177 0.4759556  0.6310148 ]\n",
      " [0.18602037 0.11430776 0.3362218 ]\n",
      " [0.95227146 0.75578177 0.18602037]\n",
      " [0.67740774 0.4759556  0.11430776]\n",
      " [0.79531825 0.6310148  0.3362218 ]]\n"
     ]
    }
   ],
   "source": [
    "I= tf.concat([F,G],axis=0)\n",
    "print(f\"Matrix F : \\n\\n{F.numpy()}\")\n",
    "print(f\"\\nMatrix G : \\n\\n{G.numpy()}\")\n",
    "print(f\"\\nMatrix I : \\n\\n{I.numpy()}\")"
   ]
  },
  {
   "cell_type": "markdown",
   "metadata": {
    "id": "c8CJtozLL0u1"
   },
   "source": [
    "## Q13. Create a matrix J by concatenating matrix F and matrix H vertically."
   ]
  },
  {
   "cell_type": "code",
   "execution_count": 22,
   "metadata": {
    "colab": {
     "base_uri": "https://localhost:8080/"
    },
    "id": "saDHzehVmKur",
    "outputId": "17561e9e-ed0b-494d-cfa1-c0aa76e1af64"
   },
   "outputs": [
    {
     "name": "stdout",
     "output_type": "stream",
     "text": [
      "Matrix F : \n",
      "\n",
      "[[0.95227146 0.67740774 0.79531825]\n",
      " [0.75578177 0.4759556  0.6310148 ]\n",
      " [0.18602037 0.11430776 0.3362218 ]]\n",
      "\n",
      "Matrix H : \n",
      "\n",
      "[[2.5915897 1.9687675 2.2151458]\n",
      " [2.1292756 1.6095515 1.879517 ]\n",
      " [1.2044468 1.1210971 1.3996495]]\n",
      "\n",
      "Matrix J : \n",
      "\n",
      "[[0.95227146 0.67740774 0.79531825 2.5915897  1.9687675  2.2151458 ]\n",
      " [0.75578177 0.4759556  0.6310148  2.1292756  1.6095515  1.879517  ]\n",
      " [0.18602037 0.11430776 0.3362218  1.2044468  1.1210971  1.3996495 ]]\n"
     ]
    }
   ],
   "source": [
    "J= tf.concat([F,H],axis=1)\n",
    "print(f\"Matrix F : \\n\\n{F.numpy()}\")\n",
    "print(f\"\\nMatrix H : \\n\\n{H.numpy()}\")\n",
    "print(f\"\\nMatrix J : \\n\\n{J.numpy()}\")"
   ]
  }
 ],
 "metadata": {
  "colab": {
   "provenance": []
  },
  "kernelspec": {
   "display_name": "Python 3 (ipykernel)",
   "language": "python",
   "name": "python3"
  },
  "language_info": {
   "codemirror_mode": {
    "name": "ipython",
    "version": 3
   },
   "file_extension": ".py",
   "mimetype": "text/x-python",
   "name": "python",
   "nbconvert_exporter": "python",
   "pygments_lexer": "ipython3",
   "version": "3.10.5"
  }
 },
 "nbformat": 4,
 "nbformat_minor": 1
}

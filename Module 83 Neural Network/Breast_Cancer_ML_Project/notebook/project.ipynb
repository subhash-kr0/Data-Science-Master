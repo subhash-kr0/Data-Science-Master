{
 "cells": [
  {
   "cell_type": "markdown",
   "metadata": {},
   "source": [
    "mkdir breast_cancer_ml_project\n",
    "cd breast_cancer_ml_project\n"
   ]
  },
  {
   "cell_type": "markdown",
   "metadata": {},
   "source": [
    "git init\n"
   ]
  },
  {
   "cell_type": "markdown",
   "metadata": {},
   "source": [
    "python3 -m venv venv\n",
    "source venv/bin/activate  # For Unix\n",
    "# OR\n",
    "venv\\Scripts\\activate  # For Windows\n"
   ]
  },
  {
   "cell_type": "markdown",
   "metadata": {},
   "source": [
    "## Step 2: Create the Project Folder Structure"
   ]
  },
  {
   "cell_type": "code",
   "execution_count": null,
   "metadata": {},
   "outputs": [],
   "source": [
    "import os\n",
    "\n",
    "folders = [\n",
    "    \"src\",\n",
    "    \"src/components\",\n",
    "    \"src/pipeline\",\n",
    "    \"src/utils\",\n",
    "    \"notebooks\",\n",
    "    \"tests\"\n",
    "]\n",
    "\n",
    "files = {\n",
    "    \"src/__init__.py\": \"\",\n",
    "    \"src/logger.py\": \"\",\n",
    "    \"src/exception.py\": \"\",\n",
    "    \"src/utils/__init__.py\": \"\",\n",
    "    \"src/components/__init__.py\": \"\",\n",
    "    \"src/components/data_ingestion.py\": \"\",\n",
    "    \"src/components/data_transformation.py\": \"\",\n",
    "    \"src/components/model_trainer.py\": \"\",\n",
    "    \"src/pipeline/__init__.py\": \"\",\n",
    "    \"src/pipeline/predict_pipeline.py\": \"\",\n",
    "    \"src/pipeline/train_pipeline.py\": \"\",\n",
    "    \"import_data.py\": \"\",\n",
    "    \"setup.py\": \"\",\n",
    "    \"requirements.txt\": \"\",\n",
    "    \"README.md\": \"# Breast Cancer ML Project\",\n",
    "    \".gitignore\": \"*.pyc\\n__pycache__/\\nvenv/\\n\",\n",
    "    \"LICENSE\": \"MIT License\"\n",
    "}\n",
    "\n",
    "for folder in folders:\n",
    "    os.makedirs(folder, exist_ok=True)\n",
    "\n",
    "for file, content in files.items():\n",
    "    with open(file, \"w\") as f:\n",
    "        f.write(content)\n",
    "\n",
    "print(\"Project structure created.\")\n"
   ]
  },
  {
   "cell_type": "markdown",
   "metadata": {},
   "source": [
    "Step 3: Implement Core Files"
   ]
  },
  {
   "cell_type": "code",
   "execution_count": null,
   "metadata": {},
   "outputs": [],
   "source": [
    "from setuptools import setup, find_packages\n",
    "\n",
    "setup(\n",
    "    name=\"breast_cancer_ml_project\",\n",
    "    version=\"0.1\",\n",
    "    author=\"Your Name\",\n",
    "    description=\"An ML project to predict breast cancer using sklearn dataset\",\n",
    "    packages=find_packages(),\n",
    "    install_requires=[\n",
    "        \"numpy\",\n",
    "        \"pandas\",\n",
    "        \"scikit-learn\",\n",
    "        \"joblib\",\n",
    "        \"jupyterlab\"\n",
    "    ],\n",
    ")\n"
   ]
  },
  {
   "cell_type": "code",
   "execution_count": null,
   "metadata": {},
   "outputs": [],
   "source": [
    "# requiements.txt\n",
    "\n",
    "numpy\n",
    "pandas\n",
    "scikit-learn\n",
    "joblib\n",
    "jupyterlab\n"
   ]
  }
 ],
 "metadata": {
  "language_info": {
   "name": "python"
  }
 },
 "nbformat": 4,
 "nbformat_minor": 2
}

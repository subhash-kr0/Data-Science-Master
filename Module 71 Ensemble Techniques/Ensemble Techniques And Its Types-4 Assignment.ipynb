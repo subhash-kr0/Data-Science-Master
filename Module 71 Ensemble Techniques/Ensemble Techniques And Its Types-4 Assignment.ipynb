{
 "cells": [
  {
   "attachments": {},
   "cell_type": "markdown",
   "metadata": {},
   "source": [
    "[Assignment pdf link](14%20Apr_AssQ.pdf)"
   ]
  },
  {
   "attachments": {},
   "cell_type": "markdown",
   "metadata": {},
   "source": [
    "### Build a random forest classifier to predict the risk of heart disease based on a dataset of patient information. The dataset contains 303 instances with 14 features, including age, sex, chest pain type, resting blood pressure, serum cholesterol, and maximum heart rate achieved.\n",
    "\n",
    "Dataset link : [https://drive.google.com/file/d/1bGoIE4Z2kG5nyh-fGZAJ7LH0ki3UfmSJ/view?usp=share_link](https://drive.google.com/file/d/1bGoIE4Z2kG5nyh-fGZAJ7LH0ki3UfmSJ/view?usp=share_link)\n"
   ]
  },
  {
   "attachments": {},
   "cell_type": "markdown",
   "metadata": {},
   "source": [
    "# <p style=\"padding:10px;background-color:#87CEEB ;margin:10;color:#000000;font-family:newtimeroman;font-size:100%;text-align:center;border-radius: 10px 10px ;overflow:hidden;font-weight:50\">Question 1</p>"
   ]
  },
  {
   "attachments": {},
   "cell_type": "markdown",
   "metadata": {},
   "source": [
    "## Queston 1 : Preprocess the dataset by handling missing values, encoding categorical variables, and scaling the numerical features if necessary\n",
    "---"
   ]
  },
  {
   "attachments": {},
   "cell_type": "markdown",
   "metadata": {},
   "source": [
    "## Answer :"
   ]
  },
  {
   "attachments": {},
   "cell_type": "markdown",
   "metadata": {},
   "source": [
    "### Step 1 : Read the dataset and check its basic information"
   ]
  },
  {
   "cell_type": "code",
   "execution_count": 1,
   "metadata": {},
   "outputs": [
    {
     "data": {
      "text/html": [
       "<div>\n",
       "<style scoped>\n",
       "    .dataframe tbody tr th:only-of-type {\n",
       "        vertical-align: middle;\n",
       "    }\n",
       "\n",
       "    .dataframe tbody tr th {\n",
       "        vertical-align: top;\n",
       "    }\n",
       "\n",
       "    .dataframe thead th {\n",
       "        text-align: right;\n",
       "    }\n",
       "</style>\n",
       "<table border=\"1\" class=\"dataframe\">\n",
       "  <thead>\n",
       "    <tr style=\"text-align: right;\">\n",
       "      <th></th>\n",
       "      <th>age</th>\n",
       "      <th>sex</th>\n",
       "      <th>cp</th>\n",
       "      <th>trestbps</th>\n",
       "      <th>chol</th>\n",
       "      <th>fbs</th>\n",
       "      <th>restecg</th>\n",
       "      <th>thalach</th>\n",
       "      <th>exang</th>\n",
       "      <th>oldpeak</th>\n",
       "      <th>slope</th>\n",
       "      <th>ca</th>\n",
       "      <th>thal</th>\n",
       "      <th>target</th>\n",
       "    </tr>\n",
       "  </thead>\n",
       "  <tbody>\n",
       "    <tr>\n",
       "      <th>0</th>\n",
       "      <td>63</td>\n",
       "      <td>1</td>\n",
       "      <td>3</td>\n",
       "      <td>145</td>\n",
       "      <td>233</td>\n",
       "      <td>1</td>\n",
       "      <td>0</td>\n",
       "      <td>150</td>\n",
       "      <td>0</td>\n",
       "      <td>2.3</td>\n",
       "      <td>0</td>\n",
       "      <td>0</td>\n",
       "      <td>1</td>\n",
       "      <td>1</td>\n",
       "    </tr>\n",
       "    <tr>\n",
       "      <th>1</th>\n",
       "      <td>37</td>\n",
       "      <td>1</td>\n",
       "      <td>2</td>\n",
       "      <td>130</td>\n",
       "      <td>250</td>\n",
       "      <td>0</td>\n",
       "      <td>1</td>\n",
       "      <td>187</td>\n",
       "      <td>0</td>\n",
       "      <td>3.5</td>\n",
       "      <td>0</td>\n",
       "      <td>0</td>\n",
       "      <td>2</td>\n",
       "      <td>1</td>\n",
       "    </tr>\n",
       "    <tr>\n",
       "      <th>2</th>\n",
       "      <td>41</td>\n",
       "      <td>0</td>\n",
       "      <td>1</td>\n",
       "      <td>130</td>\n",
       "      <td>204</td>\n",
       "      <td>0</td>\n",
       "      <td>0</td>\n",
       "      <td>172</td>\n",
       "      <td>0</td>\n",
       "      <td>1.4</td>\n",
       "      <td>2</td>\n",
       "      <td>0</td>\n",
       "      <td>2</td>\n",
       "      <td>1</td>\n",
       "    </tr>\n",
       "    <tr>\n",
       "      <th>3</th>\n",
       "      <td>56</td>\n",
       "      <td>1</td>\n",
       "      <td>1</td>\n",
       "      <td>120</td>\n",
       "      <td>236</td>\n",
       "      <td>0</td>\n",
       "      <td>1</td>\n",
       "      <td>178</td>\n",
       "      <td>0</td>\n",
       "      <td>0.8</td>\n",
       "      <td>2</td>\n",
       "      <td>0</td>\n",
       "      <td>2</td>\n",
       "      <td>1</td>\n",
       "    </tr>\n",
       "    <tr>\n",
       "      <th>4</th>\n",
       "      <td>57</td>\n",
       "      <td>0</td>\n",
       "      <td>0</td>\n",
       "      <td>120</td>\n",
       "      <td>354</td>\n",
       "      <td>0</td>\n",
       "      <td>1</td>\n",
       "      <td>163</td>\n",
       "      <td>1</td>\n",
       "      <td>0.6</td>\n",
       "      <td>2</td>\n",
       "      <td>0</td>\n",
       "      <td>2</td>\n",
       "      <td>1</td>\n",
       "    </tr>\n",
       "  </tbody>\n",
       "</table>\n",
       "</div>"
      ],
      "text/plain": [
       "   age  sex  cp  trestbps  chol  fbs  restecg  thalach  exang  oldpeak  slope  \\\n",
       "0   63    1   3       145   233    1        0      150      0      2.3      0   \n",
       "1   37    1   2       130   250    0        1      187      0      3.5      0   \n",
       "2   41    0   1       130   204    0        0      172      0      1.4      2   \n",
       "3   56    1   1       120   236    0        1      178      0      0.8      2   \n",
       "4   57    0   0       120   354    0        1      163      1      0.6      2   \n",
       "\n",
       "   ca  thal  target  \n",
       "0   0     1       1  \n",
       "1   0     2       1  \n",
       "2   0     2       1  \n",
       "3   0     2       1  \n",
       "4   0     2       1  "
      ]
     },
     "execution_count": 1,
     "metadata": {},
     "output_type": "execute_result"
    }
   ],
   "source": [
    "import pandas as pd\n",
    "df = pd.read_csv('./dataset.csv')\n",
    "df.head()"
   ]
  },
  {
   "cell_type": "code",
   "execution_count": 2,
   "metadata": {},
   "outputs": [
    {
     "data": {
      "text/plain": [
       "(303, 14)"
      ]
     },
     "execution_count": 2,
     "metadata": {},
     "output_type": "execute_result"
    }
   ],
   "source": [
    "df.shape"
   ]
  },
  {
   "cell_type": "code",
   "execution_count": 3,
   "metadata": {},
   "outputs": [
    {
     "name": "stdout",
     "output_type": "stream",
     "text": [
      "<class 'pandas.core.frame.DataFrame'>\n",
      "RangeIndex: 303 entries, 0 to 302\n",
      "Data columns (total 14 columns):\n",
      " #   Column    Non-Null Count  Dtype  \n",
      "---  ------    --------------  -----  \n",
      " 0   age       303 non-null    int64  \n",
      " 1   sex       303 non-null    int64  \n",
      " 2   cp        303 non-null    int64  \n",
      " 3   trestbps  303 non-null    int64  \n",
      " 4   chol      303 non-null    int64  \n",
      " 5   fbs       303 non-null    int64  \n",
      " 6   restecg   303 non-null    int64  \n",
      " 7   thalach   303 non-null    int64  \n",
      " 8   exang     303 non-null    int64  \n",
      " 9   oldpeak   303 non-null    float64\n",
      " 10  slope     303 non-null    int64  \n",
      " 11  ca        303 non-null    int64  \n",
      " 12  thal      303 non-null    int64  \n",
      " 13  target    303 non-null    int64  \n",
      "dtypes: float64(1), int64(13)\n",
      "memory usage: 33.3 KB\n"
     ]
    }
   ],
   "source": [
    "df.info()"
   ]
  },
  {
   "attachments": {},
   "cell_type": "markdown",
   "metadata": {},
   "source": [
    "### Step 2 : Check Missing Values in Dataset "
   ]
  },
  {
   "cell_type": "code",
   "execution_count": 4,
   "metadata": {},
   "outputs": [
    {
     "data": {
      "text/plain": [
       "age         0\n",
       "sex         0\n",
       "cp          0\n",
       "trestbps    0\n",
       "chol        0\n",
       "fbs         0\n",
       "restecg     0\n",
       "thalach     0\n",
       "exang       0\n",
       "oldpeak     0\n",
       "slope       0\n",
       "ca          0\n",
       "thal        0\n",
       "target      0\n",
       "dtype: int64"
      ]
     },
     "execution_count": 4,
     "metadata": {},
     "output_type": "execute_result"
    }
   ],
   "source": [
    "df.isnull().sum()"
   ]
  },
  {
   "attachments": {},
   "cell_type": "markdown",
   "metadata": {},
   "source": [
    "#### No Null Values found in dataset"
   ]
  },
  {
   "attachments": {},
   "cell_type": "markdown",
   "metadata": {},
   "source": [
    "### Step 3 : Dataset Description"
   ]
  },
  {
   "cell_type": "code",
   "execution_count": 5,
   "metadata": {},
   "outputs": [
    {
     "data": {
      "text/html": [
       "<div>\n",
       "<style scoped>\n",
       "    .dataframe tbody tr th:only-of-type {\n",
       "        vertical-align: middle;\n",
       "    }\n",
       "\n",
       "    .dataframe tbody tr th {\n",
       "        vertical-align: top;\n",
       "    }\n",
       "\n",
       "    .dataframe thead th {\n",
       "        text-align: right;\n",
       "    }\n",
       "</style>\n",
       "<table border=\"1\" class=\"dataframe\">\n",
       "  <thead>\n",
       "    <tr style=\"text-align: right;\">\n",
       "      <th></th>\n",
       "      <th>count</th>\n",
       "      <th>mean</th>\n",
       "      <th>std</th>\n",
       "      <th>min</th>\n",
       "      <th>25%</th>\n",
       "      <th>50%</th>\n",
       "      <th>75%</th>\n",
       "      <th>max</th>\n",
       "    </tr>\n",
       "  </thead>\n",
       "  <tbody>\n",
       "    <tr>\n",
       "      <th>age</th>\n",
       "      <td>303.0</td>\n",
       "      <td>54.366337</td>\n",
       "      <td>9.082101</td>\n",
       "      <td>29.0</td>\n",
       "      <td>47.5</td>\n",
       "      <td>55.0</td>\n",
       "      <td>61.0</td>\n",
       "      <td>77.0</td>\n",
       "    </tr>\n",
       "    <tr>\n",
       "      <th>sex</th>\n",
       "      <td>303.0</td>\n",
       "      <td>0.683168</td>\n",
       "      <td>0.466011</td>\n",
       "      <td>0.0</td>\n",
       "      <td>0.0</td>\n",
       "      <td>1.0</td>\n",
       "      <td>1.0</td>\n",
       "      <td>1.0</td>\n",
       "    </tr>\n",
       "    <tr>\n",
       "      <th>cp</th>\n",
       "      <td>303.0</td>\n",
       "      <td>0.966997</td>\n",
       "      <td>1.032052</td>\n",
       "      <td>0.0</td>\n",
       "      <td>0.0</td>\n",
       "      <td>1.0</td>\n",
       "      <td>2.0</td>\n",
       "      <td>3.0</td>\n",
       "    </tr>\n",
       "    <tr>\n",
       "      <th>trestbps</th>\n",
       "      <td>303.0</td>\n",
       "      <td>131.623762</td>\n",
       "      <td>17.538143</td>\n",
       "      <td>94.0</td>\n",
       "      <td>120.0</td>\n",
       "      <td>130.0</td>\n",
       "      <td>140.0</td>\n",
       "      <td>200.0</td>\n",
       "    </tr>\n",
       "    <tr>\n",
       "      <th>chol</th>\n",
       "      <td>303.0</td>\n",
       "      <td>246.264026</td>\n",
       "      <td>51.830751</td>\n",
       "      <td>126.0</td>\n",
       "      <td>211.0</td>\n",
       "      <td>240.0</td>\n",
       "      <td>274.5</td>\n",
       "      <td>564.0</td>\n",
       "    </tr>\n",
       "    <tr>\n",
       "      <th>fbs</th>\n",
       "      <td>303.0</td>\n",
       "      <td>0.148515</td>\n",
       "      <td>0.356198</td>\n",
       "      <td>0.0</td>\n",
       "      <td>0.0</td>\n",
       "      <td>0.0</td>\n",
       "      <td>0.0</td>\n",
       "      <td>1.0</td>\n",
       "    </tr>\n",
       "    <tr>\n",
       "      <th>restecg</th>\n",
       "      <td>303.0</td>\n",
       "      <td>0.528053</td>\n",
       "      <td>0.525860</td>\n",
       "      <td>0.0</td>\n",
       "      <td>0.0</td>\n",
       "      <td>1.0</td>\n",
       "      <td>1.0</td>\n",
       "      <td>2.0</td>\n",
       "    </tr>\n",
       "    <tr>\n",
       "      <th>thalach</th>\n",
       "      <td>303.0</td>\n",
       "      <td>149.646865</td>\n",
       "      <td>22.905161</td>\n",
       "      <td>71.0</td>\n",
       "      <td>133.5</td>\n",
       "      <td>153.0</td>\n",
       "      <td>166.0</td>\n",
       "      <td>202.0</td>\n",
       "    </tr>\n",
       "    <tr>\n",
       "      <th>exang</th>\n",
       "      <td>303.0</td>\n",
       "      <td>0.326733</td>\n",
       "      <td>0.469794</td>\n",
       "      <td>0.0</td>\n",
       "      <td>0.0</td>\n",
       "      <td>0.0</td>\n",
       "      <td>1.0</td>\n",
       "      <td>1.0</td>\n",
       "    </tr>\n",
       "    <tr>\n",
       "      <th>oldpeak</th>\n",
       "      <td>303.0</td>\n",
       "      <td>1.039604</td>\n",
       "      <td>1.161075</td>\n",
       "      <td>0.0</td>\n",
       "      <td>0.0</td>\n",
       "      <td>0.8</td>\n",
       "      <td>1.6</td>\n",
       "      <td>6.2</td>\n",
       "    </tr>\n",
       "    <tr>\n",
       "      <th>slope</th>\n",
       "      <td>303.0</td>\n",
       "      <td>1.399340</td>\n",
       "      <td>0.616226</td>\n",
       "      <td>0.0</td>\n",
       "      <td>1.0</td>\n",
       "      <td>1.0</td>\n",
       "      <td>2.0</td>\n",
       "      <td>2.0</td>\n",
       "    </tr>\n",
       "    <tr>\n",
       "      <th>ca</th>\n",
       "      <td>303.0</td>\n",
       "      <td>0.729373</td>\n",
       "      <td>1.022606</td>\n",
       "      <td>0.0</td>\n",
       "      <td>0.0</td>\n",
       "      <td>0.0</td>\n",
       "      <td>1.0</td>\n",
       "      <td>4.0</td>\n",
       "    </tr>\n",
       "    <tr>\n",
       "      <th>thal</th>\n",
       "      <td>303.0</td>\n",
       "      <td>2.313531</td>\n",
       "      <td>0.612277</td>\n",
       "      <td>0.0</td>\n",
       "      <td>2.0</td>\n",
       "      <td>2.0</td>\n",
       "      <td>3.0</td>\n",
       "      <td>3.0</td>\n",
       "    </tr>\n",
       "    <tr>\n",
       "      <th>target</th>\n",
       "      <td>303.0</td>\n",
       "      <td>0.544554</td>\n",
       "      <td>0.498835</td>\n",
       "      <td>0.0</td>\n",
       "      <td>0.0</td>\n",
       "      <td>1.0</td>\n",
       "      <td>1.0</td>\n",
       "      <td>1.0</td>\n",
       "    </tr>\n",
       "  </tbody>\n",
       "</table>\n",
       "</div>"
      ],
      "text/plain": [
       "          count        mean        std    min    25%    50%    75%    max\n",
       "age       303.0   54.366337   9.082101   29.0   47.5   55.0   61.0   77.0\n",
       "sex       303.0    0.683168   0.466011    0.0    0.0    1.0    1.0    1.0\n",
       "cp        303.0    0.966997   1.032052    0.0    0.0    1.0    2.0    3.0\n",
       "trestbps  303.0  131.623762  17.538143   94.0  120.0  130.0  140.0  200.0\n",
       "chol      303.0  246.264026  51.830751  126.0  211.0  240.0  274.5  564.0\n",
       "fbs       303.0    0.148515   0.356198    0.0    0.0    0.0    0.0    1.0\n",
       "restecg   303.0    0.528053   0.525860    0.0    0.0    1.0    1.0    2.0\n",
       "thalach   303.0  149.646865  22.905161   71.0  133.5  153.0  166.0  202.0\n",
       "exang     303.0    0.326733   0.469794    0.0    0.0    0.0    1.0    1.0\n",
       "oldpeak   303.0    1.039604   1.161075    0.0    0.0    0.8    1.6    6.2\n",
       "slope     303.0    1.399340   0.616226    0.0    1.0    1.0    2.0    2.0\n",
       "ca        303.0    0.729373   1.022606    0.0    0.0    0.0    1.0    4.0\n",
       "thal      303.0    2.313531   0.612277    0.0    2.0    2.0    3.0    3.0\n",
       "target    303.0    0.544554   0.498835    0.0    0.0    1.0    1.0    1.0"
      ]
     },
     "execution_count": 5,
     "metadata": {},
     "output_type": "execute_result"
    }
   ],
   "source": [
    "df.describe().T"
   ]
  },
  {
   "cell_type": "code",
   "execution_count": 6,
   "metadata": {},
   "outputs": [
    {
     "data": {
      "text/plain": [
       "sex           2\n",
       "fbs           2\n",
       "exang         2\n",
       "target        2\n",
       "restecg       3\n",
       "slope         3\n",
       "cp            4\n",
       "thal          4\n",
       "ca            5\n",
       "oldpeak      40\n",
       "age          41\n",
       "trestbps     49\n",
       "thalach      91\n",
       "chol        152\n",
       "dtype: int64"
      ]
     },
     "execution_count": 6,
     "metadata": {},
     "output_type": "execute_result"
    }
   ],
   "source": [
    "df.nunique().sort_values()"
   ]
  },
  {
   "attachments": {},
   "cell_type": "markdown",
   "metadata": {},
   "source": [
    "### No Encoding is required as all dataypes are already in numerical format also random forest does not require feature scaling"
   ]
  },
  {
   "attachments": {},
   "cell_type": "markdown",
   "metadata": {},
   "source": [
    "### Step 4 : Seperating X and Y variables "
   ]
  },
  {
   "cell_type": "code",
   "execution_count": 7,
   "metadata": {},
   "outputs": [],
   "source": [
    "X = df.drop(labels=['target'],axis=1)\n",
    "Y = df[['target']]"
   ]
  },
  {
   "cell_type": "code",
   "execution_count": 8,
   "metadata": {},
   "outputs": [
    {
     "data": {
      "text/plain": [
       "target\n",
       "1         165\n",
       "0         138\n",
       "dtype: int64"
      ]
     },
     "execution_count": 8,
     "metadata": {},
     "output_type": "execute_result"
    }
   ],
   "source": [
    "Y.value_counts()"
   ]
  },
  {
   "attachments": {},
   "cell_type": "markdown",
   "metadata": {},
   "source": [
    "# <p style=\"padding:10px;background-color:#87CEEB ;margin:10;color:#000000;font-family:newtimeroman;font-size:100%;text-align:center;border-radius: 10px 10px ;overflow:hidden;font-weight:50\">Question 2</p>"
   ]
  },
  {
   "attachments": {},
   "cell_type": "markdown",
   "metadata": {},
   "source": [
    "## Question 2 : Split the dataset into a training set (70%) and a test set (30%).\n",
    "---"
   ]
  },
  {
   "attachments": {},
   "cell_type": "markdown",
   "metadata": {},
   "source": [
    "## Answer :"
   ]
  },
  {
   "cell_type": "code",
   "execution_count": 9,
   "metadata": {},
   "outputs": [],
   "source": [
    "from sklearn.model_selection import train_test_split\n",
    "xtrain, xtest, ytrain, ytest = train_test_split(X,Y,test_size=0.3,random_state=42)"
   ]
  },
  {
   "cell_type": "code",
   "execution_count": 10,
   "metadata": {},
   "outputs": [
    {
     "data": {
      "text/plain": [
       "(212, 13)"
      ]
     },
     "execution_count": 10,
     "metadata": {},
     "output_type": "execute_result"
    }
   ],
   "source": [
    "xtrain.shape"
   ]
  },
  {
   "cell_type": "code",
   "execution_count": 11,
   "metadata": {},
   "outputs": [
    {
     "data": {
      "text/plain": [
       "(91, 13)"
      ]
     },
     "execution_count": 11,
     "metadata": {},
     "output_type": "execute_result"
    }
   ],
   "source": [
    "xtest.shape"
   ]
  },
  {
   "attachments": {},
   "cell_type": "markdown",
   "metadata": {},
   "source": [
    "# <p style=\"padding:10px;background-color:#87CEEB ;margin:10;color:#000000;font-family:newtimeroman;font-size:100%;text-align:center;border-radius: 10px 10px ;overflow:hidden;font-weight:50\">Question 3</p>"
   ]
  },
  {
   "attachments": {},
   "cell_type": "markdown",
   "metadata": {},
   "source": [
    "## Question 3 : Train a random forest classifier on the training set using 100 trees and a maximum depth of 10 for each tree. Use the default values for other hyperparameters.\n",
    "---"
   ]
  },
  {
   "attachments": {},
   "cell_type": "markdown",
   "metadata": {},
   "source": [
    "## Answer :"
   ]
  },
  {
   "cell_type": "code",
   "execution_count": 12,
   "metadata": {},
   "outputs": [
    {
     "data": {
      "text/html": [
       "<style>#sk-container-id-1 {color: black;background-color: white;}#sk-container-id-1 pre{padding: 0;}#sk-container-id-1 div.sk-toggleable {background-color: white;}#sk-container-id-1 label.sk-toggleable__label {cursor: pointer;display: block;width: 100%;margin-bottom: 0;padding: 0.3em;box-sizing: border-box;text-align: center;}#sk-container-id-1 label.sk-toggleable__label-arrow:before {content: \"▸\";float: left;margin-right: 0.25em;color: #696969;}#sk-container-id-1 label.sk-toggleable__label-arrow:hover:before {color: black;}#sk-container-id-1 div.sk-estimator:hover label.sk-toggleable__label-arrow:before {color: black;}#sk-container-id-1 div.sk-toggleable__content {max-height: 0;max-width: 0;overflow: hidden;text-align: left;background-color: #f0f8ff;}#sk-container-id-1 div.sk-toggleable__content pre {margin: 0.2em;color: black;border-radius: 0.25em;background-color: #f0f8ff;}#sk-container-id-1 input.sk-toggleable__control:checked~div.sk-toggleable__content {max-height: 200px;max-width: 100%;overflow: auto;}#sk-container-id-1 input.sk-toggleable__control:checked~label.sk-toggleable__label-arrow:before {content: \"▾\";}#sk-container-id-1 div.sk-estimator input.sk-toggleable__control:checked~label.sk-toggleable__label {background-color: #d4ebff;}#sk-container-id-1 div.sk-label input.sk-toggleable__control:checked~label.sk-toggleable__label {background-color: #d4ebff;}#sk-container-id-1 input.sk-hidden--visually {border: 0;clip: rect(1px 1px 1px 1px);clip: rect(1px, 1px, 1px, 1px);height: 1px;margin: -1px;overflow: hidden;padding: 0;position: absolute;width: 1px;}#sk-container-id-1 div.sk-estimator {font-family: monospace;background-color: #f0f8ff;border: 1px dotted black;border-radius: 0.25em;box-sizing: border-box;margin-bottom: 0.5em;}#sk-container-id-1 div.sk-estimator:hover {background-color: #d4ebff;}#sk-container-id-1 div.sk-parallel-item::after {content: \"\";width: 100%;border-bottom: 1px solid gray;flex-grow: 1;}#sk-container-id-1 div.sk-label:hover label.sk-toggleable__label {background-color: #d4ebff;}#sk-container-id-1 div.sk-serial::before {content: \"\";position: absolute;border-left: 1px solid gray;box-sizing: border-box;top: 0;bottom: 0;left: 50%;z-index: 0;}#sk-container-id-1 div.sk-serial {display: flex;flex-direction: column;align-items: center;background-color: white;padding-right: 0.2em;padding-left: 0.2em;position: relative;}#sk-container-id-1 div.sk-item {position: relative;z-index: 1;}#sk-container-id-1 div.sk-parallel {display: flex;align-items: stretch;justify-content: center;background-color: white;position: relative;}#sk-container-id-1 div.sk-item::before, #sk-container-id-1 div.sk-parallel-item::before {content: \"\";position: absolute;border-left: 1px solid gray;box-sizing: border-box;top: 0;bottom: 0;left: 50%;z-index: -1;}#sk-container-id-1 div.sk-parallel-item {display: flex;flex-direction: column;z-index: 1;position: relative;background-color: white;}#sk-container-id-1 div.sk-parallel-item:first-child::after {align-self: flex-end;width: 50%;}#sk-container-id-1 div.sk-parallel-item:last-child::after {align-self: flex-start;width: 50%;}#sk-container-id-1 div.sk-parallel-item:only-child::after {width: 0;}#sk-container-id-1 div.sk-dashed-wrapped {border: 1px dashed gray;margin: 0 0.4em 0.5em 0.4em;box-sizing: border-box;padding-bottom: 0.4em;background-color: white;}#sk-container-id-1 div.sk-label label {font-family: monospace;font-weight: bold;display: inline-block;line-height: 1.2em;}#sk-container-id-1 div.sk-label-container {text-align: center;}#sk-container-id-1 div.sk-container {/* jupyter's `normalize.less` sets `[hidden] { display: none; }` but bootstrap.min.css set `[hidden] { display: none !important; }` so we also need the `!important` here to be able to override the default hidden behavior on the sphinx rendered scikit-learn.org. See: https://github.com/scikit-learn/scikit-learn/issues/21755 */display: inline-block !important;position: relative;}#sk-container-id-1 div.sk-text-repr-fallback {display: none;}</style><div id=\"sk-container-id-1\" class=\"sk-top-container\"><div class=\"sk-text-repr-fallback\"><pre>RandomForestClassifier(max_depth=10)</pre><b>In a Jupyter environment, please rerun this cell to show the HTML representation or trust the notebook. <br />On GitHub, the HTML representation is unable to render, please try loading this page with nbviewer.org.</b></div><div class=\"sk-container\" hidden><div class=\"sk-item\"><div class=\"sk-estimator sk-toggleable\"><input class=\"sk-toggleable__control sk-hidden--visually\" id=\"sk-estimator-id-1\" type=\"checkbox\" checked><label for=\"sk-estimator-id-1\" class=\"sk-toggleable__label sk-toggleable__label-arrow\">RandomForestClassifier</label><div class=\"sk-toggleable__content\"><pre>RandomForestClassifier(max_depth=10)</pre></div></div></div></div></div>"
      ],
      "text/plain": [
       "RandomForestClassifier(max_depth=10)"
      ]
     },
     "execution_count": 12,
     "metadata": {},
     "output_type": "execute_result"
    }
   ],
   "source": [
    "from sklearn.ensemble import RandomForestClassifier\n",
    "rfc = RandomForestClassifier(n_estimators=100, max_depth=10)\n",
    "rfc.fit(xtrain,ytrain.values.flatten())"
   ]
  },
  {
   "attachments": {},
   "cell_type": "markdown",
   "metadata": {},
   "source": [
    "# <p style=\"padding:10px;background-color:#87CEEB ;margin:10;color:#000000;font-family:newtimeroman;font-size:100%;text-align:center;border-radius: 10px 10px ;overflow:hidden;font-weight:50\">Question 4</p>"
   ]
  },
  {
   "attachments": {},
   "cell_type": "markdown",
   "metadata": {},
   "source": [
    "## Question 4 : Evaluate the performance of the model on the test set using accuracy, precision, recall, and F1 score\n",
    "---"
   ]
  },
  {
   "attachments": {},
   "cell_type": "markdown",
   "metadata": {},
   "source": [
    "## Answer : "
   ]
  },
  {
   "cell_type": "code",
   "execution_count": 13,
   "metadata": {},
   "outputs": [],
   "source": [
    "# Creating a function to evaluate model\n",
    "from sklearn.metrics import accuracy_score, precision_score, recall_score, f1_score\n",
    "def evaluate_model(x,y,model):\n",
    "    ypred = model.predict(x)\n",
    "    acc = accuracy_score(y,ypred)\n",
    "    pre = precision_score(y,ypred)\n",
    "    rec = recall_score(y,ypred)\n",
    "    f1 = f1_score(y,ypred)\n",
    "    print(f'Accuracy Score  : {acc:.4f}')\n",
    "    print(f'Precision Score : {pre:.4f}')\n",
    "    print(f'Recall Score    : {rec:.4f}')\n",
    "    print(f'F1 Score        : {f1:.4f}')\n",
    "    return acc, pre, rec, f1"
   ]
  },
  {
   "cell_type": "code",
   "execution_count": 14,
   "metadata": {},
   "outputs": [
    {
     "name": "stdout",
     "output_type": "stream",
     "text": [
      "Accuracy Score  : 0.8022\n",
      "Precision Score : 0.8200\n",
      "Recall Score    : 0.8200\n",
      "F1 Score        : 0.8200\n"
     ]
    }
   ],
   "source": [
    "# Evaluate model on test data\n",
    "acc_base, pre_base, rec_base, f1_base = evaluate_model(xtest, ytest, rfc)"
   ]
  },
  {
   "cell_type": "code",
   "execution_count": 16,
   "metadata": {},
   "outputs": [
    {
     "name": "stdout",
     "output_type": "stream",
     "text": [
      "              precision    recall  f1-score   support\n",
      "\n",
      "           0       0.78      0.78      0.78        41\n",
      "           1       0.82      0.82      0.82        50\n",
      "\n",
      "    accuracy                           0.80        91\n",
      "   macro avg       0.80      0.80      0.80        91\n",
      "weighted avg       0.80      0.80      0.80        91\n",
      "\n"
     ]
    }
   ],
   "source": [
    "from sklearn.metrics import classification_report\n",
    "ypred_test = rfc.predict(xtest)\n",
    "print(classification_report(ytest,ypred_test))"
   ]
  },
  {
   "cell_type": "code",
   "execution_count": 17,
   "metadata": {},
   "outputs": [
    {
     "data": {
      "text/plain": [
       "<Axes: >"
      ]
     },
     "execution_count": 17,
     "metadata": {},
     "output_type": "execute_result"
    },
    {
     "data": {
      "image/png": "[encoded data removed]",
      "text/plain": [
       "<Figure size 640x480 with 2 Axes>"
      ]
     },
     "metadata": {},
     "output_type": "display_data"
    }
   ],
   "source": [
    "from sklearn.metrics import confusion_matrix\n",
    "import seaborn as sns\n",
    "cf = confusion_matrix(ytest,ypred_test)\n",
    "sns.heatmap(cf, annot=True, fmt='d')"
   ]
  },
  {
   "attachments": {},
   "cell_type": "markdown",
   "metadata": {},
   "source": [
    "# <p style=\"padding:10px;background-color:#87CEEB ;margin:10;color:#000000;font-family:newtimeroman;font-size:100%;text-align:center;border-radius: 10px 10px ;overflow:hidden;font-weight:50\">Question 5</p>"
   ]
  },
  {
   "attachments": {},
   "cell_type": "markdown",
   "metadata": {},
   "source": [
    "## Question 5 : Use the feature importance scores to identify the top 5 most important features in predicting heart disease risk. Visualise the feature importances using a bar chart.\n",
    "---"
   ]
  },
  {
   "attachments": {},
   "cell_type": "markdown",
   "metadata": {},
   "source": [
    "## Answer :"
   ]
  },
  {
   "cell_type": "code",
   "execution_count": 18,
   "metadata": {},
   "outputs": [
    {
     "data": {
      "text/plain": [
       "array([0.08679309, 0.02413289, 0.12789861, 0.06893361, 0.06885121,\n",
       "       0.01121818, 0.01350521, 0.11524388, 0.07047077, 0.10945536,\n",
       "       0.04820474, 0.1376403 , 0.11765215])"
      ]
     },
     "execution_count": 18,
     "metadata": {},
     "output_type": "execute_result"
    }
   ],
   "source": [
    "rfc.feature_importances_"
   ]
  },
  {
   "cell_type": "code",
   "execution_count": 19,
   "metadata": {},
   "outputs": [
    {
     "data": {
      "text/plain": [
       "array(['age', 'sex', 'cp', 'trestbps', 'chol', 'fbs', 'restecg',\n",
       "       'thalach', 'exang', 'oldpeak', 'slope', 'ca', 'thal'], dtype=object)"
      ]
     },
     "execution_count": 19,
     "metadata": {},
     "output_type": "execute_result"
    }
   ],
   "source": [
    "rfc.feature_names_in_"
   ]
  },
  {
   "cell_type": "code",
   "execution_count": 23,
   "metadata": {},
   "outputs": [
    {
     "data": {
      "text/plain": [
       "ca          0.137640\n",
       "cp          0.127899\n",
       "thal        0.117652\n",
       "thalach     0.115244\n",
       "oldpeak     0.109455\n",
       "age         0.086793\n",
       "exang       0.070471\n",
       "trestbps    0.068934\n",
       "chol        0.068851\n",
       "slope       0.048205\n",
       "sex         0.024133\n",
       "restecg     0.013505\n",
       "fbs         0.011218\n",
       "dtype: float64"
      ]
     },
     "execution_count": 23,
     "metadata": {},
     "output_type": "execute_result"
    }
   ],
   "source": [
    "imp = pd.Series(rfc.feature_importances_)\n",
    "imp.index = rfc.feature_names_in_\n",
    "imp = imp.sort_values(ascending=False)\n",
    "imp"
   ]
  },
  {
   "cell_type": "code",
   "execution_count": 26,
   "metadata": {},
   "outputs": [
    {
     "name": "stdout",
     "output_type": "stream",
     "text": [
      "Top 5 features in the data are : ['ca', 'cp', 'thal', 'thalach', 'oldpeak']\n"
     ]
    }
   ],
   "source": [
    "top5 = list(imp[0:5].index)\n",
    "print(f'Top 5 features in the data are : {top5}')"
   ]
  },
  {
   "cell_type": "code",
   "execution_count": 31,
   "metadata": {},
   "outputs": [
    {
     "data": {
      "text/plain": [
       "<Axes: title={'center': 'Feature Importances Plot'}>"
      ]
     },
     "execution_count": 31,
     "metadata": {},
     "output_type": "execute_result"
    },
    {
     "data": {
      "image/png": "[encoded data removed]",
      "text/plain": [
       "<Figure size 1600x800 with 1 Axes>"
      ]
     },
     "metadata": {},
     "output_type": "display_data"
    }
   ],
   "source": [
    "imp.plot(kind='bar',title='Feature Importances Plot', figsize=(16,8))"
   ]
  },
  {
   "attachments": {},
   "cell_type": "markdown",
   "metadata": {},
   "source": [
    "# <p style=\"padding:10px;background-color:#87CEEB ;margin:10;color:#000000;font-family:newtimeroman;font-size:100%;text-align:center;border-radius: 10px 10px ;overflow:hidden;font-weight:50\">Question 6</p>"
   ]
  },
  {
   "attachments": {},
   "cell_type": "markdown",
   "metadata": {},
   "source": [
    "## Question 6 : Tune the hyperparameters of the random forest classifier using grid search or random search. Try different values of the number of trees, maximum depth, minimum samples split, and minimum samples leaf. Use 5-fold cross-validation to evaluate the performance of each set of hyperparameters.\n",
    "---"
   ]
  },
  {
   "attachments": {},
   "cell_type": "markdown",
   "metadata": {},
   "source": [
    "## Answer :"
   ]
  },
  {
   "cell_type": "code",
   "execution_count": 32,
   "metadata": {},
   "outputs": [],
   "source": [
    "# Defining the parameters for tuning\n",
    "parameters = {\n",
    "    'n_estimators':[10,50,100,200,300,400],\n",
    "    'max_depth':[4,5,6,7,8,9,10],\n",
    "    'min_samples_leaf':[2,3,4,5,6],\n",
    "    'min_samples_split':[2,5,10]\n",
    "}"
   ]
  },
  {
   "cell_type": "code",
   "execution_count": 39,
   "metadata": {},
   "outputs": [],
   "source": [
    "# Performing Randomized Search CV\n",
    "from sklearn.model_selection import RandomizedSearchCV\n",
    "rscv = RandomizedSearchCV(RandomForestClassifier(),\n",
    "                          param_distributions=parameters,\n",
    "                          cv=5, \n",
    "                          scoring='f1',\n",
    "                          n_iter=50,\n",
    "                          verbose=3)"
   ]
  },
  {
   "cell_type": "code",
   "execution_count": 40,
   "metadata": {},
   "outputs": [
    {
     "name": "stdout",
     "output_type": "stream",
     "text": [
      "Fitting 5 folds for each of 50 candidates, totalling 250 fits\n",
      "[CV 1/5] END max_depth=4, min_samples_leaf=5, min_samples_split=5, n_estimators=10;, score=0.864 total time=   0.0s\n",
      "[CV 2/5] END max_depth=4, min_samples_leaf=5, min_samples_split=5, n_estimators=10;, score=0.833 total time=   0.0s\n",
      "[CV 3/5] END max_depth=4, min_samples_leaf=5, min_samples_split=5, n_estimators=10;, score=0.731 total time=   0.0s\n",
      "[CV 4/5] END max_depth=4, min_samples_leaf=5, min_samples_split=5, n_estimators=10;, score=0.880 total time=   0.0s\n",
      "[CV 5/5] END max_depth=4, min_samples_leaf=5, min_samples_split=5, n_estimators=10;, score=0.762 total time=   0.0s\n",
      "[CV 1/5] END max_depth=7, min_samples_leaf=4, min_samples_split=2, n_estimators=50;, score=0.889 total time=   0.0s\n",
      "[CV 2/5] END max_depth=7, min_samples_leaf=4, min_samples_split=2, n_estimators=50;, score=0.833 total time=   0.0s\n",
      "[CV 3/5] END max_depth=7, min_samples_leaf=4, min_samples_split=2, n_estimators=50;, score=0.760 total time=   0.0s\n",
      "[CV 4/5] END max_depth=7, min_samples_leaf=4, min_samples_split=2, n_estimators=50;, score=0.894 total time=   0.0s\n",
      "[CV 5/5] END max_depth=7, min_samples_leaf=4, min_samples_split=2, n_estimators=50;, score=0.800 total time=   0.0s\n",
      "[CV 1/5] END max_depth=4, min_samples_leaf=6, min_samples_split=2, n_estimators=200;, score=0.884 total time=   0.1s\n",
      "[CV 2/5] END max_depth=4, min_samples_leaf=6, min_samples_split=2, n_estimators=200;, score=0.880 total time=   0.1s\n",
      "[CV 3/5] END max_depth=4, min_samples_leaf=6, min_samples_split=2, n_estimators=200;, score=0.784 total time=   0.1s\n",
      "[CV 4/5] END max_depth=4, min_samples_leaf=6, min_samples_split=2, n_estimators=200;, score=0.917 total time=   0.1s\n",
      "[CV 5/5] END max_depth=4, min_samples_leaf=6, min_samples_split=2, n_estimators=200;, score=0.773 total time=   0.1s\n",
      "[CV 1/5] END max_depth=8, min_samples_leaf=4, min_samples_split=5, n_estimators=200;, score=0.884 total time=   0.1s\n",
      "[CV 2/5] END max_depth=8, min_samples_leaf=4, min_samples_split=5, n_estimators=200;, score=0.880 total time=   0.1s\n",
      "[CV 3/5] END max_depth=8, min_samples_leaf=4, min_samples_split=5, n_estimators=200;, score=0.784 total time=   0.1s\n",
      "[CV 4/5] END max_depth=8, min_samples_leaf=4, min_samples_split=5, n_estimators=200;, score=0.917 total time=   0.1s\n",
      "[CV 5/5] END max_depth=8, min_samples_leaf=4, min_samples_split=5, n_estimators=200;, score=0.773 total time=   0.1s\n",
      "[CV 1/5] END max_depth=4, min_samples_leaf=4, min_samples_split=5, n_estimators=300;, score=0.884 total time=   0.2s\n",
      "[CV 2/5] END max_depth=4, min_samples_leaf=4, min_samples_split=5, n_estimators=300;, score=0.880 total time=   0.2s\n",
      "[CV 3/5] END max_depth=4, min_samples_leaf=4, min_samples_split=5, n_estimators=300;, score=0.808 total time=   0.2s\n",
      "[CV 4/5] END max_depth=4, min_samples_leaf=4, min_samples_split=5, n_estimators=300;, score=0.917 total time=   0.2s\n",
      "[CV 5/5] END max_depth=4, min_samples_leaf=4, min_samples_split=5, n_estimators=300;, score=0.744 total time=   0.2s\n",
      "[CV 1/5] END max_depth=7, min_samples_leaf=5, min_samples_split=5, n_estimators=300;, score=0.884 total time=   0.2s\n",
      "[CV 2/5] END max_depth=7, min_samples_leaf=5, min_samples_split=5, n_estimators=300;, score=0.857 total time=   0.2s\n",
      "[CV 3/5] END max_depth=7, min_samples_leaf=5, min_samples_split=5, n_estimators=300;, score=0.784 total time=   0.2s\n",
      "[CV 4/5] END max_depth=7, min_samples_leaf=5, min_samples_split=5, n_estimators=300;, score=0.917 total time=   0.2s\n",
      "[CV 5/5] END max_depth=7, min_samples_leaf=5, min_samples_split=5, n_estimators=300;, score=0.762 total time=   0.2s\n",
      "[CV 1/5] END max_depth=4, min_samples_leaf=4, min_samples_split=10, n_estimators=50;, score=0.870 total time=   0.0s\n",
      "[CV 2/5] END max_depth=4, min_samples_leaf=4, min_samples_split=10, n_estimators=50;, score=0.880 total time=   0.0s\n",
      "[CV 3/5] END max_depth=4, min_samples_leaf=4, min_samples_split=10, n_estimators=50;, score=0.824 total time=   0.0s\n",
      "[CV 4/5] END max_depth=4, min_samples_leaf=4, min_samples_split=10, n_estimators=50;, score=0.894 total time=   0.0s\n",
      "[CV 5/5] END max_depth=4, min_samples_leaf=4, min_samples_split=10, n_estimators=50;, score=0.773 total time=   0.0s\n",
      "[CV 1/5] END max_depth=7, min_samples_leaf=3, min_samples_split=5, n_estimators=10;, score=0.870 total time=   0.0s\n",
      "[CV 2/5] END max_depth=7, min_samples_leaf=3, min_samples_split=5, n_estimators=10;, score=0.880 total time=   0.0s\n",
      "[CV 3/5] END max_depth=7, min_samples_leaf=3, min_samples_split=5, n_estimators=10;, score=0.720 total time=   0.0s\n",
      "[CV 4/5] END max_depth=7, min_samples_leaf=3, min_samples_split=5, n_estimators=10;, score=0.913 total time=   0.0s\n",
      "[CV 5/5] END max_depth=7, min_samples_leaf=3, min_samples_split=5, n_estimators=10;, score=0.829 total time=   0.0s\n",
      "[CV 1/5] END max_depth=10, min_samples_leaf=6, min_samples_split=5, n_estimators=10;, score=0.837 total time=   0.0s\n",
      "[CV 2/5] END max_depth=10, min_samples_leaf=6, min_samples_split=5, n_estimators=10;, score=0.833 total time=   0.0s\n",
      "[CV 3/5] END max_depth=10, min_samples_leaf=6, min_samples_split=5, n_estimators=10;, score=0.750 total time=   0.0s\n",
      "[CV 4/5] END max_depth=10, min_samples_leaf=6, min_samples_split=5, n_estimators=10;, score=0.894 total time=   0.0s\n",
      "[CV 5/5] END max_depth=10, min_samples_leaf=6, min_samples_split=5, n_estimators=10;, score=0.744 total time=   0.0s\n",
      "[CV 1/5] END max_depth=6, min_samples_leaf=5, min_samples_split=2, n_estimators=400;, score=0.884 total time=   0.3s\n",
      "[CV 2/5] END max_depth=6, min_samples_leaf=5, min_samples_split=2, n_estimators=400;, score=0.880 total time=   0.3s\n",
      "[CV 3/5] END max_depth=6, min_samples_leaf=5, min_samples_split=2, n_estimators=400;, score=0.792 total time=   0.3s\n",
      "[CV 4/5] END max_depth=6, min_samples_leaf=5, min_samples_split=2, n_estimators=400;, score=0.917 total time=   0.3s\n",
      "[CV 5/5] END max_depth=6, min_samples_leaf=5, min_samples_split=2, n_estimators=400;, score=0.773 total time=   0.4s\n",
      "[CV 1/5] END max_depth=5, min_samples_leaf=2, min_samples_split=2, n_estimators=400;, score=0.884 total time=   0.3s\n",
      "[CV 2/5] END max_depth=5, min_samples_leaf=2, min_samples_split=2, n_estimators=400;, score=0.857 total time=   0.3s\n",
      "[CV 3/5] END max_depth=5, min_samples_leaf=2, min_samples_split=2, n_estimators=400;, score=0.760 total time=   0.3s\n",
      "[CV 4/5] END max_depth=5, min_samples_leaf=2, min_samples_split=2, n_estimators=400;, score=0.917 total time=   0.3s\n",
      "[CV 5/5] END max_depth=5, min_samples_leaf=2, min_samples_split=2, n_estimators=400;, score=0.744 total time=   0.3s\n",
      "[CV 1/5] END max_depth=10, min_samples_leaf=6, min_samples_split=10, n_estimators=300;, score=0.884 total time=   0.2s\n",
      "[CV 2/5] END max_depth=10, min_samples_leaf=6, min_samples_split=10, n_estimators=300;, score=0.857 total time=   0.2s\n",
      "[CV 3/5] END max_depth=10, min_samples_leaf=6, min_samples_split=10, n_estimators=300;, score=0.784 total time=   0.2s\n",
      "[CV 4/5] END max_depth=10, min_samples_leaf=6, min_samples_split=10, n_estimators=300;, score=0.917 total time=   0.2s\n",
      "[CV 5/5] END max_depth=10, min_samples_leaf=6, min_samples_split=10, n_estimators=300;, score=0.762 total time=   0.2s\n",
      "[CV 1/5] END max_depth=6, min_samples_leaf=3, min_samples_split=10, n_estimators=50;, score=0.909 total time=   0.0s\n",
      "[CV 2/5] END max_depth=6, min_samples_leaf=3, min_samples_split=10, n_estimators=50;, score=0.833 total time=   0.0s\n",
      "[CV 3/5] END max_depth=6, min_samples_leaf=3, min_samples_split=10, n_estimators=50;, score=0.760 total time=   0.0s\n",
      "[CV 4/5] END max_depth=6, min_samples_leaf=3, min_samples_split=10, n_estimators=50;, score=0.936 total time=   0.0s\n",
      "[CV 5/5] END max_depth=6, min_samples_leaf=3, min_samples_split=10, n_estimators=50;, score=0.727 total time=   0.0s\n",
      "[CV 1/5] END max_depth=5, min_samples_leaf=2, min_samples_split=5, n_estimators=300;, score=0.884 total time=   0.2s\n",
      "[CV 2/5] END max_depth=5, min_samples_leaf=2, min_samples_split=5, n_estimators=300;, score=0.880 total time=   0.2s\n",
      "[CV 3/5] END max_depth=5, min_samples_leaf=2, min_samples_split=5, n_estimators=300;, score=0.784 total time=   0.2s\n",
      "[CV 4/5] END max_depth=5, min_samples_leaf=2, min_samples_split=5, n_estimators=300;, score=0.917 total time=   0.2s\n",
      "[CV 5/5] END max_depth=5, min_samples_leaf=2, min_samples_split=5, n_estimators=300;, score=0.744 total time=   0.2s\n",
      "[CV 1/5] END max_depth=10, min_samples_leaf=5, min_samples_split=5, n_estimators=100;, score=0.884 total time=   0.0s\n",
      "[CV 2/5] END max_depth=10, min_samples_leaf=5, min_samples_split=5, n_estimators=100;, score=0.880 total time=   0.0s\n",
      "[CV 3/5] END max_depth=10, min_samples_leaf=5, min_samples_split=5, n_estimators=100;, score=0.808 total time=   0.0s\n",
      "[CV 4/5] END max_depth=10, min_samples_leaf=5, min_samples_split=5, n_estimators=100;, score=0.917 total time=   0.0s\n",
      "[CV 5/5] END max_depth=10, min_samples_leaf=5, min_samples_split=5, n_estimators=100;, score=0.744 total time=   0.0s\n",
      "[CV 1/5] END max_depth=8, min_samples_leaf=3, min_samples_split=2, n_estimators=10;, score=0.837 total time=   0.0s\n",
      "[CV 2/5] END max_depth=8, min_samples_leaf=3, min_samples_split=2, n_estimators=10;, score=0.783 total time=   0.0s\n",
      "[CV 3/5] END max_depth=8, min_samples_leaf=3, min_samples_split=2, n_estimators=10;, score=0.875 total time=   0.0s\n",
      "[CV 4/5] END max_depth=8, min_samples_leaf=3, min_samples_split=2, n_estimators=10;, score=0.898 total time=   0.0s\n",
      "[CV 5/5] END max_depth=8, min_samples_leaf=3, min_samples_split=2, n_estimators=10;, score=0.809 total time=   0.0s\n",
      "[CV 1/5] END max_depth=5, min_samples_leaf=5, min_samples_split=10, n_estimators=200;, score=0.884 total time=   0.1s\n",
      "[CV 2/5] END max_depth=5, min_samples_leaf=5, min_samples_split=10, n_estimators=200;, score=0.857 total time=   0.1s\n",
      "[CV 3/5] END max_depth=5, min_samples_leaf=5, min_samples_split=10, n_estimators=200;, score=0.784 total time=   0.1s\n",
      "[CV 4/5] END max_depth=5, min_samples_leaf=5, min_samples_split=10, n_estimators=200;, score=0.917 total time=   0.1s\n",
      "[CV 5/5] END max_depth=5, min_samples_leaf=5, min_samples_split=10, n_estimators=200;, score=0.744 total time=   0.1s\n",
      "[CV 1/5] END max_depth=10, min_samples_leaf=2, min_samples_split=2, n_estimators=100;, score=0.884 total time=   0.0s\n",
      "[CV 2/5] END max_depth=10, min_samples_leaf=2, min_samples_split=2, n_estimators=100;, score=0.857 total time=   0.0s\n",
      "[CV 3/5] END max_depth=10, min_samples_leaf=2, min_samples_split=2, n_estimators=100;, score=0.824 total time=   0.0s\n",
      "[CV 4/5] END max_depth=10, min_samples_leaf=2, min_samples_split=2, n_estimators=100;, score=0.870 total time=   0.0s\n",
      "[CV 5/5] END max_depth=10, min_samples_leaf=2, min_samples_split=2, n_estimators=100;, score=0.791 total time=   0.0s\n",
      "[CV 1/5] END max_depth=4, min_samples_leaf=2, min_samples_split=2, n_estimators=50;, score=0.870 total time=   0.0s\n",
      "[CV 2/5] END max_depth=4, min_samples_leaf=2, min_samples_split=2, n_estimators=50;, score=0.857 total time=   0.0s\n",
      "[CV 3/5] END max_depth=4, min_samples_leaf=2, min_samples_split=2, n_estimators=50;, score=0.784 total time=   0.0s\n",
      "[CV 4/5] END max_depth=4, min_samples_leaf=2, min_samples_split=2, n_estimators=50;, score=0.936 total time=   0.0s\n",
      "[CV 5/5] END max_depth=4, min_samples_leaf=2, min_samples_split=2, n_estimators=50;, score=0.711 total time=   0.0s\n",
      "[CV 1/5] END max_depth=7, min_samples_leaf=2, min_samples_split=5, n_estimators=50;, score=0.837 total time=   0.0s\n",
      "[CV 2/5] END max_depth=7, min_samples_leaf=2, min_samples_split=5, n_estimators=50;, score=0.898 total time=   0.0s\n",
      "[CV 3/5] END max_depth=7, min_samples_leaf=2, min_samples_split=5, n_estimators=50;, score=0.769 total time=   0.0s\n",
      "[CV 4/5] END max_depth=7, min_samples_leaf=2, min_samples_split=5, n_estimators=50;, score=0.894 total time=   0.0s\n",
      "[CV 5/5] END max_depth=7, min_samples_leaf=2, min_samples_split=5, n_estimators=50;, score=0.773 total time=   0.0s\n",
      "[CV 1/5] END max_depth=6, min_samples_leaf=3, min_samples_split=10, n_estimators=200;, score=0.864 total time=   0.1s\n",
      "[CV 2/5] END max_depth=6, min_samples_leaf=3, min_samples_split=10, n_estimators=200;, score=0.880 total time=   0.1s\n",
      "[CV 3/5] END max_depth=6, min_samples_leaf=3, min_samples_split=10, n_estimators=200;, score=0.784 total time=   0.1s\n",
      "[CV 4/5] END max_depth=6, min_samples_leaf=3, min_samples_split=10, n_estimators=200;, score=0.917 total time=   0.1s\n",
      "[CV 5/5] END max_depth=6, min_samples_leaf=3, min_samples_split=10, n_estimators=200;, score=0.791 total time=   0.1s\n",
      "[CV 1/5] END max_depth=6, min_samples_leaf=2, min_samples_split=2, n_estimators=200;, score=0.864 total time=   0.1s\n",
      "[CV 2/5] END max_depth=6, min_samples_leaf=2, min_samples_split=2, n_estimators=200;, score=0.857 total time=   0.1s\n",
      "[CV 3/5] END max_depth=6, min_samples_leaf=2, min_samples_split=2, n_estimators=200;, score=0.760 total time=   0.1s\n",
      "[CV 4/5] END max_depth=6, min_samples_leaf=2, min_samples_split=2, n_estimators=200;, score=0.894 total time=   0.1s\n",
      "[CV 5/5] END max_depth=6, min_samples_leaf=2, min_samples_split=2, n_estimators=200;, score=0.791 total time=   0.1s\n",
      "[CV 1/5] END max_depth=8, min_samples_leaf=2, min_samples_split=10, n_estimators=10;, score=0.783 total time=   0.0s\n",
      "[CV 2/5] END max_depth=8, min_samples_leaf=2, min_samples_split=10, n_estimators=10;, score=0.840 total time=   0.0s\n",
      "[CV 3/5] END max_depth=8, min_samples_leaf=2, min_samples_split=10, n_estimators=10;, score=0.735 total time=   0.0s\n",
      "[CV 4/5] END max_depth=8, min_samples_leaf=2, min_samples_split=10, n_estimators=10;, score=0.894 total time=   0.0s\n",
      "[CV 5/5] END max_depth=8, min_samples_leaf=2, min_samples_split=10, n_estimators=10;, score=0.744 total time=   0.0s\n",
      "[CV 1/5] END max_depth=7, min_samples_leaf=6, min_samples_split=5, n_estimators=10;, score=0.762 total time=   0.0s\n",
      "[CV 2/5] END max_depth=7, min_samples_leaf=6, min_samples_split=5, n_estimators=10;, score=0.880 total time=   0.0s\n",
      "[CV 3/5] END max_depth=7, min_samples_leaf=6, min_samples_split=5, n_estimators=10;, score=0.792 total time=   0.0s\n",
      "[CV 4/5] END max_depth=7, min_samples_leaf=6, min_samples_split=5, n_estimators=10;, score=0.880 total time=   0.0s\n",
      "[CV 5/5] END max_depth=7, min_samples_leaf=6, min_samples_split=5, n_estimators=10;, score=0.818 total time=   0.0s\n",
      "[CV 1/5] END max_depth=8, min_samples_leaf=2, min_samples_split=2, n_estimators=50;, score=0.864 total time=   0.0s\n",
      "[CV 2/5] END max_depth=8, min_samples_leaf=2, min_samples_split=2, n_estimators=50;, score=0.857 total time=   0.0s\n",
      "[CV 3/5] END max_depth=8, min_samples_leaf=2, min_samples_split=2, n_estimators=50;, score=0.760 total time=   0.0s\n",
      "[CV 4/5] END max_depth=8, min_samples_leaf=2, min_samples_split=2, n_estimators=50;, score=0.894 total time=   0.0s\n",
      "[CV 5/5] END max_depth=8, min_samples_leaf=2, min_samples_split=2, n_estimators=50;, score=0.727 total time=   0.0s\n",
      "[CV 1/5] END max_depth=5, min_samples_leaf=5, min_samples_split=2, n_estimators=400;, score=0.884 total time=   0.3s\n",
      "[CV 2/5] END max_depth=5, min_samples_leaf=5, min_samples_split=2, n_estimators=400;, score=0.880 total time=   0.3s\n",
      "[CV 3/5] END max_depth=5, min_samples_leaf=5, min_samples_split=2, n_estimators=400;, score=0.784 total time=   0.3s\n",
      "[CV 4/5] END max_depth=5, min_samples_leaf=5, min_samples_split=2, n_estimators=400;, score=0.917 total time=   0.3s\n",
      "[CV 5/5] END max_depth=5, min_samples_leaf=5, min_samples_split=2, n_estimators=400;, score=0.744 total time=   0.3s\n",
      "[CV 1/5] END max_depth=10, min_samples_leaf=2, min_samples_split=5, n_estimators=10;, score=0.909 total time=   0.0s\n",
      "[CV 2/5] END max_depth=10, min_samples_leaf=2, min_samples_split=5, n_estimators=10;, score=0.833 total time=   0.0s\n",
      "[CV 3/5] END max_depth=10, min_samples_leaf=2, min_samples_split=5, n_estimators=10;, score=0.769 total time=   0.0s\n",
      "[CV 4/5] END max_depth=10, min_samples_leaf=2, min_samples_split=5, n_estimators=10;, score=0.917 total time=   0.0s\n",
      "[CV 5/5] END max_depth=10, min_samples_leaf=2, min_samples_split=5, n_estimators=10;, score=0.791 total time=   0.0s\n",
      "[CV 1/5] END max_depth=5, min_samples_leaf=6, min_samples_split=2, n_estimators=50;, score=0.909 total time=   0.0s\n",
      "[CV 2/5] END max_depth=5, min_samples_leaf=6, min_samples_split=2, n_estimators=50;, score=0.857 total time=   0.0s\n",
      "[CV 3/5] END max_depth=5, min_samples_leaf=6, min_samples_split=2, n_estimators=50;, score=0.824 total time=   0.0s\n",
      "[CV 4/5] END max_depth=5, min_samples_leaf=6, min_samples_split=2, n_estimators=50;, score=0.917 total time=   0.0s\n",
      "[CV 5/5] END max_depth=5, min_samples_leaf=6, min_samples_split=2, n_estimators=50;, score=0.762 total time=   0.0s\n",
      "[CV 1/5] END max_depth=9, min_samples_leaf=2, min_samples_split=10, n_estimators=400;, score=0.864 total time=   0.3s\n",
      "[CV 2/5] END max_depth=9, min_samples_leaf=2, min_samples_split=10, n_estimators=400;, score=0.857 total time=   0.3s\n",
      "[CV 3/5] END max_depth=9, min_samples_leaf=2, min_samples_split=10, n_estimators=400;, score=0.760 total time=   0.3s\n",
      "[CV 4/5] END max_depth=9, min_samples_leaf=2, min_samples_split=10, n_estimators=400;, score=0.917 total time=   0.3s\n",
      "[CV 5/5] END max_depth=9, min_samples_leaf=2, min_samples_split=10, n_estimators=400;, score=0.744 total time=   0.3s\n",
      "[CV 1/5] END max_depth=7, min_samples_leaf=3, min_samples_split=5, n_estimators=50;, score=0.870 total time=   0.0s\n",
      "[CV 2/5] END max_depth=7, min_samples_leaf=3, min_samples_split=5, n_estimators=50;, score=0.880 total time=   0.0s\n",
      "[CV 3/5] END max_depth=7, min_samples_leaf=3, min_samples_split=5, n_estimators=50;, score=0.800 total time=   0.0s\n",
      "[CV 4/5] END max_depth=7, min_samples_leaf=3, min_samples_split=5, n_estimators=50;, score=0.889 total time=   0.0s\n",
      "[CV 5/5] END max_depth=7, min_samples_leaf=3, min_samples_split=5, n_estimators=50;, score=0.762 total time=   0.0s\n",
      "[CV 1/5] END max_depth=7, min_samples_leaf=4, min_samples_split=5, n_estimators=200;, score=0.864 total time=   0.1s\n",
      "[CV 2/5] END max_depth=7, min_samples_leaf=4, min_samples_split=5, n_estimators=200;, score=0.857 total time=   0.1s\n",
      "[CV 3/5] END max_depth=7, min_samples_leaf=4, min_samples_split=5, n_estimators=200;, score=0.769 total time=   0.1s\n",
      "[CV 4/5] END max_depth=7, min_samples_leaf=4, min_samples_split=5, n_estimators=200;, score=0.917 total time=   0.1s\n",
      "[CV 5/5] END max_depth=7, min_samples_leaf=4, min_samples_split=5, n_estimators=200;, score=0.791 total time=   0.1s\n",
      "[CV 1/5] END max_depth=8, min_samples_leaf=4, min_samples_split=2, n_estimators=10;, score=0.826 total time=   0.0s\n",
      "[CV 2/5] END max_depth=8, min_samples_leaf=4, min_samples_split=2, n_estimators=10;, score=0.857 total time=   0.0s\n",
      "[CV 3/5] END max_depth=8, min_samples_leaf=4, min_samples_split=2, n_estimators=10;, score=0.755 total time=   0.0s\n",
      "[CV 4/5] END max_depth=8, min_samples_leaf=4, min_samples_split=2, n_estimators=10;, score=0.913 total time=   0.0s\n",
      "[CV 5/5] END max_depth=8, min_samples_leaf=4, min_samples_split=2, n_estimators=10;, score=0.744 total time=   0.0s\n",
      "[CV 1/5] END max_depth=5, min_samples_leaf=5, min_samples_split=2, n_estimators=300;, score=0.884 total time=   0.2s\n",
      "[CV 2/5] END max_depth=5, min_samples_leaf=5, min_samples_split=2, n_estimators=300;, score=0.880 total time=   0.2s\n",
      "[CV 3/5] END max_depth=5, min_samples_leaf=5, min_samples_split=2, n_estimators=300;, score=0.800 total time=   0.2s\n",
      "[CV 4/5] END max_depth=5, min_samples_leaf=5, min_samples_split=2, n_estimators=300;, score=0.917 total time=   0.2s\n",
      "[CV 5/5] END max_depth=5, min_samples_leaf=5, min_samples_split=2, n_estimators=300;, score=0.791 total time=   0.2s\n",
      "[CV 1/5] END max_depth=9, min_samples_leaf=5, min_samples_split=2, n_estimators=300;, score=0.884 total time=   0.2s\n",
      "[CV 2/5] END max_depth=9, min_samples_leaf=5, min_samples_split=2, n_estimators=300;, score=0.880 total time=   0.2s\n",
      "[CV 3/5] END max_depth=9, min_samples_leaf=5, min_samples_split=2, n_estimators=300;, score=0.784 total time=   0.2s\n",
      "[CV 4/5] END max_depth=9, min_samples_leaf=5, min_samples_split=2, n_estimators=300;, score=0.917 total time=   0.2s\n",
      "[CV 5/5] END max_depth=9, min_samples_leaf=5, min_samples_split=2, n_estimators=300;, score=0.744 total time=   0.2s\n",
      "[CV 1/5] END max_depth=4, min_samples_leaf=2, min_samples_split=2, n_estimators=400;, score=0.864 total time=   0.3s\n",
      "[CV 2/5] END max_depth=4, min_samples_leaf=2, min_samples_split=2, n_estimators=400;, score=0.857 total time=   0.3s\n",
      "[CV 3/5] END max_depth=4, min_samples_leaf=2, min_samples_split=2, n_estimators=400;, score=0.784 total time=   0.3s\n",
      "[CV 4/5] END max_depth=4, min_samples_leaf=2, min_samples_split=2, n_estimators=400;, score=0.917 total time=   0.3s\n",
      "[CV 5/5] END max_depth=4, min_samples_leaf=2, min_samples_split=2, n_estimators=400;, score=0.744 total time=   0.3s\n",
      "[CV 1/5] END max_depth=8, min_samples_leaf=3, min_samples_split=5, n_estimators=50;, score=0.884 total time=   0.0s\n",
      "[CV 2/5] END max_depth=8, min_samples_leaf=3, min_samples_split=5, n_estimators=50;, score=0.833 total time=   0.0s\n",
      "[CV 3/5] END max_depth=8, min_samples_leaf=3, min_samples_split=5, n_estimators=50;, score=0.808 total time=   0.0s\n",
      "[CV 4/5] END max_depth=8, min_samples_leaf=3, min_samples_split=5, n_estimators=50;, score=0.894 total time=   0.0s\n",
      "[CV 5/5] END max_depth=8, min_samples_leaf=3, min_samples_split=5, n_estimators=50;, score=0.744 total time=   0.0s\n",
      "[CV 1/5] END max_depth=9, min_samples_leaf=4, min_samples_split=10, n_estimators=50;, score=0.884 total time=   0.0s\n",
      "[CV 2/5] END max_depth=9, min_samples_leaf=4, min_samples_split=10, n_estimators=50;, score=0.880 total time=   0.0s\n",
      "[CV 3/5] END max_depth=9, min_samples_leaf=4, min_samples_split=10, n_estimators=50;, score=0.824 total time=   0.0s\n",
      "[CV 4/5] END max_depth=9, min_samples_leaf=4, min_samples_split=10, n_estimators=50;, score=0.936 total time=   0.0s\n",
      "[CV 5/5] END max_depth=9, min_samples_leaf=4, min_samples_split=10, n_estimators=50;, score=0.744 total time=   0.0s\n",
      "[CV 1/5] END max_depth=5, min_samples_leaf=6, min_samples_split=2, n_estimators=10;, score=0.909 total time=   0.0s\n",
      "[CV 2/5] END max_depth=5, min_samples_leaf=6, min_samples_split=2, n_estimators=10;, score=0.840 total time=   0.0s\n",
      "[CV 3/5] END max_depth=5, min_samples_leaf=6, min_samples_split=2, n_estimators=10;, score=0.755 total time=   0.0s\n",
      "[CV 4/5] END max_depth=5, min_samples_leaf=6, min_samples_split=2, n_estimators=10;, score=0.920 total time=   0.0s\n",
      "[CV 5/5] END max_depth=5, min_samples_leaf=6, min_samples_split=2, n_estimators=10;, score=0.864 total time=   0.0s\n",
      "[CV 1/5] END max_depth=9, min_samples_leaf=2, min_samples_split=2, n_estimators=50;, score=0.864 total time=   0.0s\n",
      "[CV 2/5] END max_depth=9, min_samples_leaf=2, min_samples_split=2, n_estimators=50;, score=0.880 total time=   0.0s\n",
      "[CV 3/5] END max_depth=9, min_samples_leaf=2, min_samples_split=2, n_estimators=50;, score=0.760 total time=   0.0s\n",
      "[CV 4/5] END max_depth=9, min_samples_leaf=2, min_samples_split=2, n_estimators=50;, score=0.894 total time=   0.0s\n",
      "[CV 5/5] END max_depth=9, min_samples_leaf=2, min_samples_split=2, n_estimators=50;, score=0.762 total time=   0.0s\n",
      "[CV 1/5] END max_depth=7, min_samples_leaf=3, min_samples_split=2, n_estimators=400;, score=0.884 total time=   0.3s\n",
      "[CV 2/5] END max_depth=7, min_samples_leaf=3, min_samples_split=2, n_estimators=400;, score=0.880 total time=   0.3s\n",
      "[CV 3/5] END max_depth=7, min_samples_leaf=3, min_samples_split=2, n_estimators=400;, score=0.776 total time=   0.3s\n",
      "[CV 4/5] END max_depth=7, min_samples_leaf=3, min_samples_split=2, n_estimators=400;, score=0.894 total time=   0.3s\n",
      "[CV 5/5] END max_depth=7, min_samples_leaf=3, min_samples_split=2, n_estimators=400;, score=0.744 total time=   0.3s\n",
      "[CV 1/5] END max_depth=8, min_samples_leaf=2, min_samples_split=5, n_estimators=200;, score=0.864 total time=   0.1s\n",
      "[CV 2/5] END max_depth=8, min_samples_leaf=2, min_samples_split=5, n_estimators=200;, score=0.857 total time=   0.1s\n",
      "[CV 3/5] END max_depth=8, min_samples_leaf=2, min_samples_split=5, n_estimators=200;, score=0.784 total time=   0.1s\n",
      "[CV 4/5] END max_depth=8, min_samples_leaf=2, min_samples_split=5, n_estimators=200;, score=0.894 total time=   0.1s\n",
      "[CV 5/5] END max_depth=8, min_samples_leaf=2, min_samples_split=5, n_estimators=200;, score=0.744 total time=   0.1s\n",
      "[CV 1/5] END max_depth=10, min_samples_leaf=5, min_samples_split=5, n_estimators=50;, score=0.884 total time=   0.0s\n",
      "[CV 2/5] END max_depth=10, min_samples_leaf=5, min_samples_split=5, n_estimators=50;, score=0.857 total time=   0.0s\n",
      "[CV 3/5] END max_depth=10, min_samples_leaf=5, min_samples_split=5, n_estimators=50;, score=0.824 total time=   0.0s\n",
      "[CV 4/5] END max_depth=10, min_samples_leaf=5, min_samples_split=5, n_estimators=50;, score=0.917 total time=   0.0s\n",
      "[CV 5/5] END max_depth=10, min_samples_leaf=5, min_samples_split=5, n_estimators=50;, score=0.727 total time=   0.0s\n",
      "[CV 1/5] END max_depth=8, min_samples_leaf=3, min_samples_split=10, n_estimators=50;, score=0.933 total time=   0.0s\n",
      "[CV 2/5] END max_depth=8, min_samples_leaf=3, min_samples_split=10, n_estimators=50;, score=0.880 total time=   0.0s\n",
      "[CV 3/5] END max_depth=8, min_samples_leaf=3, min_samples_split=10, n_estimators=50;, score=0.816 total time=   0.0s\n",
      "[CV 4/5] END max_depth=8, min_samples_leaf=3, min_samples_split=10, n_estimators=50;, score=0.913 total time=   0.0s\n",
      "[CV 5/5] END max_depth=8, min_samples_leaf=3, min_samples_split=10, n_estimators=50;, score=0.773 total time=   0.0s\n",
      "[CV 1/5] END max_depth=5, min_samples_leaf=6, min_samples_split=10, n_estimators=400;, score=0.884 total time=   0.3s\n",
      "[CV 2/5] END max_depth=5, min_samples_leaf=6, min_samples_split=10, n_estimators=400;, score=0.880 total time=   0.3s\n",
      "[CV 3/5] END max_depth=5, min_samples_leaf=6, min_samples_split=10, n_estimators=400;, score=0.808 total time=   0.3s\n",
      "[CV 4/5] END max_depth=5, min_samples_leaf=6, min_samples_split=10, n_estimators=400;, score=0.917 total time=   0.3s\n",
      "[CV 5/5] END max_depth=5, min_samples_leaf=6, min_samples_split=10, n_estimators=400;, score=0.762 total time=   0.3s\n",
      "[CV 1/5] END max_depth=8, min_samples_leaf=4, min_samples_split=10, n_estimators=100;, score=0.864 total time=   0.0s\n",
      "[CV 2/5] END max_depth=8, min_samples_leaf=4, min_samples_split=10, n_estimators=100;, score=0.857 total time=   0.0s\n",
      "[CV 3/5] END max_depth=8, min_samples_leaf=4, min_samples_split=10, n_estimators=100;, score=0.792 total time=   0.0s\n",
      "[CV 4/5] END max_depth=8, min_samples_leaf=4, min_samples_split=10, n_estimators=100;, score=0.894 total time=   0.0s\n",
      "[CV 5/5] END max_depth=8, min_samples_leaf=4, min_samples_split=10, n_estimators=100;, score=0.791 total time=   0.0s\n",
      "[CV 1/5] END max_depth=6, min_samples_leaf=4, min_samples_split=5, n_estimators=100;, score=0.857 total time=   0.0s\n",
      "[CV 2/5] END max_depth=6, min_samples_leaf=4, min_samples_split=5, n_estimators=100;, score=0.857 total time=   0.0s\n",
      "[CV 3/5] END max_depth=6, min_samples_leaf=4, min_samples_split=5, n_estimators=100;, score=0.800 total time=   0.0s\n",
      "[CV 4/5] END max_depth=6, min_samples_leaf=4, min_samples_split=5, n_estimators=100;, score=0.917 total time=   0.0s\n",
      "[CV 5/5] END max_depth=6, min_samples_leaf=4, min_samples_split=5, n_estimators=100;, score=0.773 total time=   0.0s\n",
      "[CV 1/5] END max_depth=10, min_samples_leaf=5, min_samples_split=10, n_estimators=100;, score=0.889 total time=   0.0s\n",
      "[CV 2/5] END max_depth=10, min_samples_leaf=5, min_samples_split=10, n_estimators=100;, score=0.880 total time=   0.0s\n",
      "[CV 3/5] END max_depth=10, min_samples_leaf=5, min_samples_split=10, n_estimators=100;, score=0.769 total time=   0.0s\n",
      "[CV 4/5] END max_depth=10, min_samples_leaf=5, min_samples_split=10, n_estimators=100;, score=0.917 total time=   0.0s\n",
      "[CV 5/5] END max_depth=10, min_samples_leaf=5, min_samples_split=10, n_estimators=100;, score=0.773 total time=   0.0s\n",
      "[CV 1/5] END max_depth=6, min_samples_leaf=3, min_samples_split=5, n_estimators=10;, score=0.844 total time=   0.0s\n",
      "[CV 2/5] END max_depth=6, min_samples_leaf=3, min_samples_split=5, n_estimators=10;, score=0.857 total time=   0.0s\n",
      "[CV 3/5] END max_depth=6, min_samples_leaf=3, min_samples_split=5, n_estimators=10;, score=0.809 total time=   0.0s\n",
      "[CV 4/5] END max_depth=6, min_samples_leaf=3, min_samples_split=5, n_estimators=10;, score=0.913 total time=   0.0s\n",
      "[CV 5/5] END max_depth=6, min_samples_leaf=3, min_samples_split=5, n_estimators=10;, score=0.744 total time=   0.0s\n",
      "[CV 1/5] END max_depth=4, min_samples_leaf=4, min_samples_split=10, n_estimators=10;, score=0.837 total time=   0.0s\n",
      "[CV 2/5] END max_depth=4, min_samples_leaf=4, min_samples_split=10, n_estimators=10;, score=0.857 total time=   0.0s\n",
      "[CV 3/5] END max_depth=4, min_samples_leaf=4, min_samples_split=10, n_estimators=10;, score=0.792 total time=   0.0s\n",
      "[CV 4/5] END max_depth=4, min_samples_leaf=4, min_samples_split=10, n_estimators=10;, score=0.917 total time=   0.0s\n",
      "[CV 5/5] END max_depth=4, min_samples_leaf=4, min_samples_split=10, n_estimators=10;, score=0.810 total time=   0.0s\n",
      "[CV 1/5] END max_depth=10, min_samples_leaf=3, min_samples_split=5, n_estimators=300;, score=0.884 total time=   0.2s\n",
      "[CV 2/5] END max_depth=10, min_samples_leaf=3, min_samples_split=5, n_estimators=300;, score=0.857 total time=   0.2s\n",
      "[CV 3/5] END max_depth=10, min_samples_leaf=3, min_samples_split=5, n_estimators=300;, score=0.760 total time=   0.2s\n",
      "[CV 4/5] END max_depth=10, min_samples_leaf=3, min_samples_split=5, n_estimators=300;, score=0.894 total time=   0.2s\n",
      "[CV 5/5] END max_depth=10, min_samples_leaf=3, min_samples_split=5, n_estimators=300;, score=0.762 total time=   0.2s\n"
     ]
    },
    {
     "data": {
      "text/html": [
       "<style>#sk-container-id-3 {color: black;background-color: white;}#sk-container-id-3 pre{padding: 0;}#sk-container-id-3 div.sk-toggleable {background-color: white;}#sk-container-id-3 label.sk-toggleable__label {cursor: pointer;display: block;width: 100%;margin-bottom: 0;padding: 0.3em;box-sizing: border-box;text-align: center;}#sk-container-id-3 label.sk-toggleable__label-arrow:before {content: \"▸\";float: left;margin-right: 0.25em;color: #696969;}#sk-container-id-3 label.sk-toggleable__label-arrow:hover:before {color: black;}#sk-container-id-3 div.sk-estimator:hover label.sk-toggleable__label-arrow:before {color: black;}#sk-container-id-3 div.sk-toggleable__content {max-height: 0;max-width: 0;overflow: hidden;text-align: left;background-color: #f0f8ff;}#sk-container-id-3 div.sk-toggleable__content pre {margin: 0.2em;color: black;border-radius: 0.25em;background-color: #f0f8ff;}#sk-container-id-3 input.sk-toggleable__control:checked~div.sk-toggleable__content {max-height: 200px;max-width: 100%;overflow: auto;}#sk-container-id-3 input.sk-toggleable__control:checked~label.sk-toggleable__label-arrow:before {content: \"▾\";}#sk-container-id-3 div.sk-estimator input.sk-toggleable__control:checked~label.sk-toggleable__label {background-color: #d4ebff;}#sk-container-id-3 div.sk-label input.sk-toggleable__control:checked~label.sk-toggleable__label {background-color: #d4ebff;}#sk-container-id-3 input.sk-hidden--visually {border: 0;clip: rect(1px 1px 1px 1px);clip: rect(1px, 1px, 1px, 1px);height: 1px;margin: -1px;overflow: hidden;padding: 0;position: absolute;width: 1px;}#sk-container-id-3 div.sk-estimator {font-family: monospace;background-color: #f0f8ff;border: 1px dotted black;border-radius: 0.25em;box-sizing: border-box;margin-bottom: 0.5em;}#sk-container-id-3 div.sk-estimator:hover {background-color: #d4ebff;}#sk-container-id-3 div.sk-parallel-item::after {content: \"\";width: 100%;border-bottom: 1px solid gray;flex-grow: 1;}#sk-container-id-3 div.sk-label:hover label.sk-toggleable__label {background-color: #d4ebff;}#sk-container-id-3 div.sk-serial::before {content: \"\";position: absolute;border-left: 1px solid gray;box-sizing: border-box;top: 0;bottom: 0;left: 50%;z-index: 0;}#sk-container-id-3 div.sk-serial {display: flex;flex-direction: column;align-items: center;background-color: white;padding-right: 0.2em;padding-left: 0.2em;position: relative;}#sk-container-id-3 div.sk-item {position: relative;z-index: 1;}#sk-container-id-3 div.sk-parallel {display: flex;align-items: stretch;justify-content: center;background-color: white;position: relative;}#sk-container-id-3 div.sk-item::before, #sk-container-id-3 div.sk-parallel-item::before {content: \"\";position: absolute;border-left: 1px solid gray;box-sizing: border-box;top: 0;bottom: 0;left: 50%;z-index: -1;}#sk-container-id-3 div.sk-parallel-item {display: flex;flex-direction: column;z-index: 1;position: relative;background-color: white;}#sk-container-id-3 div.sk-parallel-item:first-child::after {align-self: flex-end;width: 50%;}#sk-container-id-3 div.sk-parallel-item:last-child::after {align-self: flex-start;width: 50%;}#sk-container-id-3 div.sk-parallel-item:only-child::after {width: 0;}#sk-container-id-3 div.sk-dashed-wrapped {border: 1px dashed gray;margin: 0 0.4em 0.5em 0.4em;box-sizing: border-box;padding-bottom: 0.4em;background-color: white;}#sk-container-id-3 div.sk-label label {font-family: monospace;font-weight: bold;display: inline-block;line-height: 1.2em;}#sk-container-id-3 div.sk-label-container {text-align: center;}#sk-container-id-3 div.sk-container {/* jupyter's `normalize.less` sets `[hidden] { display: none; }` but bootstrap.min.css set `[hidden] { display: none !important; }` so we also need the `!important` here to be able to override the default hidden behavior on the sphinx rendered scikit-learn.org. See: https://github.com/scikit-learn/scikit-learn/issues/21755 */display: inline-block !important;position: relative;}#sk-container-id-3 div.sk-text-repr-fallback {display: none;}</style><div id=\"sk-container-id-3\" class=\"sk-top-container\"><div class=\"sk-text-repr-fallback\"><pre>RandomizedSearchCV(cv=5, estimator=RandomForestClassifier(), n_iter=50,\n",
       "                   param_distributions={&#x27;max_depth&#x27;: [4, 5, 6, 7, 8, 9, 10],\n",
       "                                        &#x27;min_samples_leaf&#x27;: [2, 3, 4, 5, 6],\n",
       "                                        &#x27;min_samples_split&#x27;: [2, 5, 10],\n",
       "                                        &#x27;n_estimators&#x27;: [10, 50, 100, 200, 300,\n",
       "                                                         400]},\n",
       "                   scoring=&#x27;f1&#x27;, verbose=3)</pre><b>In a Jupyter environment, please rerun this cell to show the HTML representation or trust the notebook. <br />On GitHub, the HTML representation is unable to render, please try loading this page with nbviewer.org.</b></div><div class=\"sk-container\" hidden><div class=\"sk-item sk-dashed-wrapped\"><div class=\"sk-label-container\"><div class=\"sk-label sk-toggleable\"><input class=\"sk-toggleable__control sk-hidden--visually\" id=\"sk-estimator-id-5\" type=\"checkbox\" ><label for=\"sk-estimator-id-5\" class=\"sk-toggleable__label sk-toggleable__label-arrow\">RandomizedSearchCV</label><div class=\"sk-toggleable__content\"><pre>RandomizedSearchCV(cv=5, estimator=RandomForestClassifier(), n_iter=50,\n",
       "                   param_distributions={&#x27;max_depth&#x27;: [4, 5, 6, 7, 8, 9, 10],\n",
       "                                        &#x27;min_samples_leaf&#x27;: [2, 3, 4, 5, 6],\n",
       "                                        &#x27;min_samples_split&#x27;: [2, 5, 10],\n",
       "                                        &#x27;n_estimators&#x27;: [10, 50, 100, 200, 300,\n",
       "                                                         400]},\n",
       "                   scoring=&#x27;f1&#x27;, verbose=3)</pre></div></div></div><div class=\"sk-parallel\"><div class=\"sk-parallel-item\"><div class=\"sk-item\"><div class=\"sk-label-container\"><div class=\"sk-label sk-toggleable\"><input class=\"sk-toggleable__control sk-hidden--visually\" id=\"sk-estimator-id-6\" type=\"checkbox\" ><label for=\"sk-estimator-id-6\" class=\"sk-toggleable__label sk-toggleable__label-arrow\">estimator: RandomForestClassifier</label><div class=\"sk-toggleable__content\"><pre>RandomForestClassifier()</pre></div></div></div><div class=\"sk-serial\"><div class=\"sk-item\"><div class=\"sk-estimator sk-toggleable\"><input class=\"sk-toggleable__control sk-hidden--visually\" id=\"sk-estimator-id-7\" type=\"checkbox\" ><label for=\"sk-estimator-id-7\" class=\"sk-toggleable__label sk-toggleable__label-arrow\">RandomForestClassifier</label><div class=\"sk-toggleable__content\"><pre>RandomForestClassifier()</pre></div></div></div></div></div></div></div></div></div></div>"
      ],
      "text/plain": [
       "RandomizedSearchCV(cv=5, estimator=RandomForestClassifier(), n_iter=50,\n",
       "                   param_distributions={'max_depth': [4, 5, 6, 7, 8, 9, 10],\n",
       "                                        'min_samples_leaf': [2, 3, 4, 5, 6],\n",
       "                                        'min_samples_split': [2, 5, 10],\n",
       "                                        'n_estimators': [10, 50, 100, 200, 300,\n",
       "                                                         400]},\n",
       "                   scoring='f1', verbose=3)"
      ]
     },
     "execution_count": 40,
     "metadata": {},
     "output_type": "execute_result"
    }
   ],
   "source": [
    "rscv.fit(xtrain,ytrain.values.flatten())"
   ]
  },
  {
   "cell_type": "code",
   "execution_count": 42,
   "metadata": {},
   "outputs": [
    {
     "data": {
      "text/plain": [
       "0.8630861229867441"
      ]
     },
     "execution_count": 42,
     "metadata": {},
     "output_type": "execute_result"
    }
   ],
   "source": [
    "rscv.best_score_"
   ]
  },
  {
   "attachments": {},
   "cell_type": "markdown",
   "metadata": {},
   "source": [
    "# <p style=\"padding:10px;background-color:#87CEEB ;margin:10;color:#000000;font-family:newtimeroman;font-size:100%;text-align:center;border-radius: 10px 10px ;overflow:hidden;font-weight:50\">Question 7</p>"
   ]
  },
  {
   "attachments": {},
   "cell_type": "markdown",
   "metadata": {},
   "source": [
    "## Question 7 : Report the best set of hyperparameters found by the search and the corresponding performance metrics. Compare the performance of the tuned model with the default model.\n",
    "---"
   ]
  },
  {
   "attachments": {},
   "cell_type": "markdown",
   "metadata": {},
   "source": [
    "## Answer :"
   ]
  },
  {
   "cell_type": "code",
   "execution_count": 47,
   "metadata": {},
   "outputs": [
    {
     "data": {
      "text/plain": [
       "{'n_estimators': 50,\n",
       " 'min_samples_split': 10,\n",
       " 'min_samples_leaf': 3,\n",
       " 'max_depth': 8}"
      ]
     },
     "execution_count": 47,
     "metadata": {},
     "output_type": "execute_result"
    }
   ],
   "source": [
    "# Best Parameters\n",
    "rscv.best_params_"
   ]
  },
  {
   "cell_type": "code",
   "execution_count": 48,
   "metadata": {},
   "outputs": [
    {
     "data": {
      "text/html": [
       "<style>#sk-container-id-4 {color: black;background-color: white;}#sk-container-id-4 pre{padding: 0;}#sk-container-id-4 div.sk-toggleable {background-color: white;}#sk-container-id-4 label.sk-toggleable__label {cursor: pointer;display: block;width: 100%;margin-bottom: 0;padding: 0.3em;box-sizing: border-box;text-align: center;}#sk-container-id-4 label.sk-toggleable__label-arrow:before {content: \"▸\";float: left;margin-right: 0.25em;color: #696969;}#sk-container-id-4 label.sk-toggleable__label-arrow:hover:before {color: black;}#sk-container-id-4 div.sk-estimator:hover label.sk-toggleable__label-arrow:before {color: black;}#sk-container-id-4 div.sk-toggleable__content {max-height: 0;max-width: 0;overflow: hidden;text-align: left;background-color: #f0f8ff;}#sk-container-id-4 div.sk-toggleable__content pre {margin: 0.2em;color: black;border-radius: 0.25em;background-color: #f0f8ff;}#sk-container-id-4 input.sk-toggleable__control:checked~div.sk-toggleable__content {max-height: 200px;max-width: 100%;overflow: auto;}#sk-container-id-4 input.sk-toggleable__control:checked~label.sk-toggleable__label-arrow:before {content: \"▾\";}#sk-container-id-4 div.sk-estimator input.sk-toggleable__control:checked~label.sk-toggleable__label {background-color: #d4ebff;}#sk-container-id-4 div.sk-label input.sk-toggleable__control:checked~label.sk-toggleable__label {background-color: #d4ebff;}#sk-container-id-4 input.sk-hidden--visually {border: 0;clip: rect(1px 1px 1px 1px);clip: rect(1px, 1px, 1px, 1px);height: 1px;margin: -1px;overflow: hidden;padding: 0;position: absolute;width: 1px;}#sk-container-id-4 div.sk-estimator {font-family: monospace;background-color: #f0f8ff;border: 1px dotted black;border-radius: 0.25em;box-sizing: border-box;margin-bottom: 0.5em;}#sk-container-id-4 div.sk-estimator:hover {background-color: #d4ebff;}#sk-container-id-4 div.sk-parallel-item::after {content: \"\";width: 100%;border-bottom: 1px solid gray;flex-grow: 1;}#sk-container-id-4 div.sk-label:hover label.sk-toggleable__label {background-color: #d4ebff;}#sk-container-id-4 div.sk-serial::before {content: \"\";position: absolute;border-left: 1px solid gray;box-sizing: border-box;top: 0;bottom: 0;left: 50%;z-index: 0;}#sk-container-id-4 div.sk-serial {display: flex;flex-direction: column;align-items: center;background-color: white;padding-right: 0.2em;padding-left: 0.2em;position: relative;}#sk-container-id-4 div.sk-item {position: relative;z-index: 1;}#sk-container-id-4 div.sk-parallel {display: flex;align-items: stretch;justify-content: center;background-color: white;position: relative;}#sk-container-id-4 div.sk-item::before, #sk-container-id-4 div.sk-parallel-item::before {content: \"\";position: absolute;border-left: 1px solid gray;box-sizing: border-box;top: 0;bottom: 0;left: 50%;z-index: -1;}#sk-container-id-4 div.sk-parallel-item {display: flex;flex-direction: column;z-index: 1;position: relative;background-color: white;}#sk-container-id-4 div.sk-parallel-item:first-child::after {align-self: flex-end;width: 50%;}#sk-container-id-4 div.sk-parallel-item:last-child::after {align-self: flex-start;width: 50%;}#sk-container-id-4 div.sk-parallel-item:only-child::after {width: 0;}#sk-container-id-4 div.sk-dashed-wrapped {border: 1px dashed gray;margin: 0 0.4em 0.5em 0.4em;box-sizing: border-box;padding-bottom: 0.4em;background-color: white;}#sk-container-id-4 div.sk-label label {font-family: monospace;font-weight: bold;display: inline-block;line-height: 1.2em;}#sk-container-id-4 div.sk-label-container {text-align: center;}#sk-container-id-4 div.sk-container {/* jupyter's `normalize.less` sets `[hidden] { display: none; }` but bootstrap.min.css set `[hidden] { display: none !important; }` so we also need the `!important` here to be able to override the default hidden behavior on the sphinx rendered scikit-learn.org. See: https://github.com/scikit-learn/scikit-learn/issues/21755 */display: inline-block !important;position: relative;}#sk-container-id-4 div.sk-text-repr-fallback {display: none;}</style><div id=\"sk-container-id-4\" class=\"sk-top-container\"><div class=\"sk-text-repr-fallback\"><pre>RandomForestClassifier(max_depth=8, min_samples_leaf=3, min_samples_split=10,\n",
       "                       n_estimators=50)</pre><b>In a Jupyter environment, please rerun this cell to show the HTML representation or trust the notebook. <br />On GitHub, the HTML representation is unable to render, please try loading this page with nbviewer.org.</b></div><div class=\"sk-container\" hidden><div class=\"sk-item\"><div class=\"sk-estimator sk-toggleable\"><input class=\"sk-toggleable__control sk-hidden--visually\" id=\"sk-estimator-id-8\" type=\"checkbox\" checked><label for=\"sk-estimator-id-8\" class=\"sk-toggleable__label sk-toggleable__label-arrow\">RandomForestClassifier</label><div class=\"sk-toggleable__content\"><pre>RandomForestClassifier(max_depth=8, min_samples_leaf=3, min_samples_split=10,\n",
       "                       n_estimators=50)</pre></div></div></div></div></div>"
      ],
      "text/plain": [
       "RandomForestClassifier(max_depth=8, min_samples_leaf=3, min_samples_split=10,\n",
       "                       n_estimators=50)"
      ]
     },
     "execution_count": 48,
     "metadata": {},
     "output_type": "execute_result"
    }
   ],
   "source": [
    "# Best Estimator (Model)\n",
    "rscv.best_estimator_"
   ]
  },
  {
   "cell_type": "code",
   "execution_count": 49,
   "metadata": {},
   "outputs": [
    {
     "data": {
      "text/plain": [
       "0.8630861229867441"
      ]
     },
     "execution_count": 49,
     "metadata": {},
     "output_type": "execute_result"
    }
   ],
   "source": [
    "# Best F1 Score\n",
    "rscv.best_score_"
   ]
  },
  {
   "cell_type": "code",
   "execution_count": 46,
   "metadata": {},
   "outputs": [
    {
     "name": "stdout",
     "output_type": "stream",
     "text": [
      "Results for Tuned Model :\n",
      "\n",
      "Accuracy Score  : 0.8352\n",
      "Precision Score : 0.8302\n",
      "Recall Score    : 0.8800\n",
      "F1 Score        : 0.8544\n"
     ]
    }
   ],
   "source": [
    "# Testing Accuracy on tuned model\n",
    "print('Results for Tuned Model :\\n')\n",
    "acc_tuned, pre_tuned , rec_tuned, f1_tuned = evaluate_model(xtest,ytest.values.flatten(),rscv)"
   ]
  },
  {
   "cell_type": "code",
   "execution_count": 50,
   "metadata": {},
   "outputs": [],
   "source": [
    "dct = {\n",
    "    'metrics':['accuracy','precision','recall','f1'],\n",
    "    'base model':[acc_base,pre_base,rec_base,f1_base],\n",
    "    'tuned model':[acc_tuned,pre_tuned,rec_tuned,f1_tuned]\n",
    "}"
   ]
  },
  {
   "cell_type": "code",
   "execution_count": 51,
   "metadata": {},
   "outputs": [
    {
     "data": {
      "text/html": [
       "<div>\n",
       "<style scoped>\n",
       "    .dataframe tbody tr th:only-of-type {\n",
       "        vertical-align: middle;\n",
       "    }\n",
       "\n",
       "    .dataframe tbody tr th {\n",
       "        vertical-align: top;\n",
       "    }\n",
       "\n",
       "    .dataframe thead th {\n",
       "        text-align: right;\n",
       "    }\n",
       "</style>\n",
       "<table border=\"1\" class=\"dataframe\">\n",
       "  <thead>\n",
       "    <tr style=\"text-align: right;\">\n",
       "      <th></th>\n",
       "      <th>metrics</th>\n",
       "      <th>base model</th>\n",
       "      <th>tuned model</th>\n",
       "    </tr>\n",
       "  </thead>\n",
       "  <tbody>\n",
       "    <tr>\n",
       "      <th>0</th>\n",
       "      <td>accuracy</td>\n",
       "      <td>0.802198</td>\n",
       "      <td>0.835165</td>\n",
       "    </tr>\n",
       "    <tr>\n",
       "      <th>1</th>\n",
       "      <td>precision</td>\n",
       "      <td>0.820000</td>\n",
       "      <td>0.830189</td>\n",
       "    </tr>\n",
       "    <tr>\n",
       "      <th>2</th>\n",
       "      <td>recall</td>\n",
       "      <td>0.820000</td>\n",
       "      <td>0.880000</td>\n",
       "    </tr>\n",
       "    <tr>\n",
       "      <th>3</th>\n",
       "      <td>f1</td>\n",
       "      <td>0.820000</td>\n",
       "      <td>0.854369</td>\n",
       "    </tr>\n",
       "  </tbody>\n",
       "</table>\n",
       "</div>"
      ],
      "text/plain": [
       "     metrics  base model  tuned model\n",
       "0   accuracy    0.802198     0.835165\n",
       "1  precision    0.820000     0.830189\n",
       "2     recall    0.820000     0.880000\n",
       "3         f1    0.820000     0.854369"
      ]
     },
     "execution_count": 51,
     "metadata": {},
     "output_type": "execute_result"
    }
   ],
   "source": [
    "df_compare = pd.DataFrame(dct)\n",
    "df_compare"
   ]
  },
  {
   "attachments": {},
   "cell_type": "markdown",
   "metadata": {},
   "source": [
    "### All parameters of the tuned model increases all scores. "
   ]
  },
  {
   "attachments": {},
   "cell_type": "markdown",
   "metadata": {},
   "source": [
    "# <p style=\"padding:10px;background-color:#87CEEB ;margin:10;color:#000000;font-family:newtimeroman;font-size:100%;text-align:center;border-radius: 10px 10px ;overflow:hidden;font-weight:50\">Question 8</p>"
   ]
  },
  {
   "attachments": {},
   "cell_type": "markdown",
   "metadata": {},
   "source": [
    "## Question 8 : Interpret the model by analysing the decision boundaries of the random forest classifier. Plot the decision boundaries on a scatter plot of two of the most important features. Discuss the insights and limitations of the model for predicting heart disease risk.\n",
    "---"
   ]
  },
  {
   "attachments": {},
   "cell_type": "markdown",
   "metadata": {},
   "source": [
    "## Answer :"
   ]
  },
  {
   "cell_type": "code",
   "execution_count": 52,
   "metadata": {},
   "outputs": [
    {
     "data": {
      "text/html": [
       "<style>#sk-container-id-5 {color: black;background-color: white;}#sk-container-id-5 pre{padding: 0;}#sk-container-id-5 div.sk-toggleable {background-color: white;}#sk-container-id-5 label.sk-toggleable__label {cursor: pointer;display: block;width: 100%;margin-bottom: 0;padding: 0.3em;box-sizing: border-box;text-align: center;}#sk-container-id-5 label.sk-toggleable__label-arrow:before {content: \"▸\";float: left;margin-right: 0.25em;color: #696969;}#sk-container-id-5 label.sk-toggleable__label-arrow:hover:before {color: black;}#sk-container-id-5 div.sk-estimator:hover label.sk-toggleable__label-arrow:before {color: black;}#sk-container-id-5 div.sk-toggleable__content {max-height: 0;max-width: 0;overflow: hidden;text-align: left;background-color: #f0f8ff;}#sk-container-id-5 div.sk-toggleable__content pre {margin: 0.2em;color: black;border-radius: 0.25em;background-color: #f0f8ff;}#sk-container-id-5 input.sk-toggleable__control:checked~div.sk-toggleable__content {max-height: 200px;max-width: 100%;overflow: auto;}#sk-container-id-5 input.sk-toggleable__control:checked~label.sk-toggleable__label-arrow:before {content: \"▾\";}#sk-container-id-5 div.sk-estimator input.sk-toggleable__control:checked~label.sk-toggleable__label {background-color: #d4ebff;}#sk-container-id-5 div.sk-label input.sk-toggleable__control:checked~label.sk-toggleable__label {background-color: #d4ebff;}#sk-container-id-5 input.sk-hidden--visually {border: 0;clip: rect(1px 1px 1px 1px);clip: rect(1px, 1px, 1px, 1px);height: 1px;margin: -1px;overflow: hidden;padding: 0;position: absolute;width: 1px;}#sk-container-id-5 div.sk-estimator {font-family: monospace;background-color: #f0f8ff;border: 1px dotted black;border-radius: 0.25em;box-sizing: border-box;margin-bottom: 0.5em;}#sk-container-id-5 div.sk-estimator:hover {background-color: #d4ebff;}#sk-container-id-5 div.sk-parallel-item::after {content: \"\";width: 100%;border-bottom: 1px solid gray;flex-grow: 1;}#sk-container-id-5 div.sk-label:hover label.sk-toggleable__label {background-color: #d4ebff;}#sk-container-id-5 div.sk-serial::before {content: \"\";position: absolute;border-left: 1px solid gray;box-sizing: border-box;top: 0;bottom: 0;left: 50%;z-index: 0;}#sk-container-id-5 div.sk-serial {display: flex;flex-direction: column;align-items: center;background-color: white;padding-right: 0.2em;padding-left: 0.2em;position: relative;}#sk-container-id-5 div.sk-item {position: relative;z-index: 1;}#sk-container-id-5 div.sk-parallel {display: flex;align-items: stretch;justify-content: center;background-color: white;position: relative;}#sk-container-id-5 div.sk-item::before, #sk-container-id-5 div.sk-parallel-item::before {content: \"\";position: absolute;border-left: 1px solid gray;box-sizing: border-box;top: 0;bottom: 0;left: 50%;z-index: -1;}#sk-container-id-5 div.sk-parallel-item {display: flex;flex-direction: column;z-index: 1;position: relative;background-color: white;}#sk-container-id-5 div.sk-parallel-item:first-child::after {align-self: flex-end;width: 50%;}#sk-container-id-5 div.sk-parallel-item:last-child::after {align-self: flex-start;width: 50%;}#sk-container-id-5 div.sk-parallel-item:only-child::after {width: 0;}#sk-container-id-5 div.sk-dashed-wrapped {border: 1px dashed gray;margin: 0 0.4em 0.5em 0.4em;box-sizing: border-box;padding-bottom: 0.4em;background-color: white;}#sk-container-id-5 div.sk-label label {font-family: monospace;font-weight: bold;display: inline-block;line-height: 1.2em;}#sk-container-id-5 div.sk-label-container {text-align: center;}#sk-container-id-5 div.sk-container {/* jupyter's `normalize.less` sets `[hidden] { display: none; }` but bootstrap.min.css set `[hidden] { display: none !important; }` so we also need the `!important` here to be able to override the default hidden behavior on the sphinx rendered scikit-learn.org. See: https://github.com/scikit-learn/scikit-learn/issues/21755 */display: inline-block !important;position: relative;}#sk-container-id-5 div.sk-text-repr-fallback {display: none;}</style><div id=\"sk-container-id-5\" class=\"sk-top-container\"><div class=\"sk-text-repr-fallback\"><pre>RandomForestClassifier(max_depth=8, min_samples_leaf=3, min_samples_split=10,\n",
       "                       n_estimators=50)</pre><b>In a Jupyter environment, please rerun this cell to show the HTML representation or trust the notebook. <br />On GitHub, the HTML representation is unable to render, please try loading this page with nbviewer.org.</b></div><div class=\"sk-container\" hidden><div class=\"sk-item\"><div class=\"sk-estimator sk-toggleable\"><input class=\"sk-toggleable__control sk-hidden--visually\" id=\"sk-estimator-id-9\" type=\"checkbox\" checked><label for=\"sk-estimator-id-9\" class=\"sk-toggleable__label sk-toggleable__label-arrow\">RandomForestClassifier</label><div class=\"sk-toggleable__content\"><pre>RandomForestClassifier(max_depth=8, min_samples_leaf=3, min_samples_split=10,\n",
       "                       n_estimators=50)</pre></div></div></div></div></div>"
      ],
      "text/plain": [
       "RandomForestClassifier(max_depth=8, min_samples_leaf=3, min_samples_split=10,\n",
       "                       n_estimators=50)"
      ]
     },
     "execution_count": 52,
     "metadata": {},
     "output_type": "execute_result"
    }
   ],
   "source": [
    "best_rfc = rscv.best_estimator_\n",
    "best_rfc"
   ]
  },
  {
   "cell_type": "code",
   "execution_count": 56,
   "metadata": {},
   "outputs": [
    {
     "data": {
      "text/plain": [
       "ca          0.174087\n",
       "cp          0.172375\n",
       "thal        0.129944\n",
       "oldpeak     0.109850\n",
       "exang       0.100620\n",
       "thalach     0.092619\n",
       "age         0.054958\n",
       "chol        0.042937\n",
       "slope       0.040801\n",
       "trestbps    0.036456\n",
       "sex         0.028114\n",
       "restecg     0.014542\n",
       "fbs         0.002698\n",
       "dtype: float64"
      ]
     },
     "execution_count": 56,
     "metadata": {},
     "output_type": "execute_result"
    }
   ],
   "source": [
    "imp_tuned = best_rfc.feature_importances_\n",
    "imp_tuned = pd.Series(imp_tuned)\n",
    "imp_tuned.index = best_rfc.feature_names_in_\n",
    "imp_tuned = imp_tuned.sort_values(ascending=False)\n",
    "imp_tuned"
   ]
  },
  {
   "cell_type": "code",
   "execution_count": 57,
   "metadata": {},
   "outputs": [
    {
     "data": {
      "text/plain": [
       "ca    0.174087\n",
       "cp    0.172375\n",
       "dtype: float64"
      ]
     },
     "execution_count": 57,
     "metadata": {},
     "output_type": "execute_result"
    }
   ],
   "source": [
    "imp_tuned[0:2]"
   ]
  },
  {
   "cell_type": "code",
   "execution_count": 58,
   "metadata": {},
   "outputs": [
    {
     "data": {
      "text/plain": [
       "<Axes: title={'center': 'Feature Importances for tuned model'}>"
      ]
     },
     "execution_count": 58,
     "metadata": {},
     "output_type": "execute_result"
    },
    {
     "data": {
      "image/png": "[encoded data removed]",
      "text/plain": [
       "<Figure size 1600x800 with 1 Axes>"
      ]
     },
     "metadata": {},
     "output_type": "display_data"
    }
   ],
   "source": [
    "imp_tuned.plot(kind='bar',title='Feature Importances for tuned model',figsize=(16,8))"
   ]
  },
  {
   "cell_type": "code",
   "execution_count": 60,
   "metadata": {},
   "outputs": [
    {
     "data": {
      "text/html": [
       "<div>\n",
       "<style scoped>\n",
       "    .dataframe tbody tr th:only-of-type {\n",
       "        vertical-align: middle;\n",
       "    }\n",
       "\n",
       "    .dataframe tbody tr th {\n",
       "        vertical-align: top;\n",
       "    }\n",
       "\n",
       "    .dataframe thead th {\n",
       "        text-align: right;\n",
       "    }\n",
       "</style>\n",
       "<table border=\"1\" class=\"dataframe\">\n",
       "  <thead>\n",
       "    <tr style=\"text-align: right;\">\n",
       "      <th></th>\n",
       "      <th>ca</th>\n",
       "      <th>cp</th>\n",
       "    </tr>\n",
       "  </thead>\n",
       "  <tbody>\n",
       "    <tr>\n",
       "      <th>124</th>\n",
       "      <td>0</td>\n",
       "      <td>2</td>\n",
       "    </tr>\n",
       "    <tr>\n",
       "      <th>72</th>\n",
       "      <td>0</td>\n",
       "      <td>1</td>\n",
       "    </tr>\n",
       "    <tr>\n",
       "      <th>15</th>\n",
       "      <td>0</td>\n",
       "      <td>2</td>\n",
       "    </tr>\n",
       "    <tr>\n",
       "      <th>10</th>\n",
       "      <td>0</td>\n",
       "      <td>0</td>\n",
       "    </tr>\n",
       "    <tr>\n",
       "      <th>163</th>\n",
       "      <td>4</td>\n",
       "      <td>2</td>\n",
       "    </tr>\n",
       "  </tbody>\n",
       "</table>\n",
       "</div>"
      ],
      "text/plain": [
       "     ca  cp\n",
       "124   0   2\n",
       "72    0   1\n",
       "15    0   2\n",
       "10    0   0\n",
       "163   4   2"
      ]
     },
     "execution_count": 60,
     "metadata": {},
     "output_type": "execute_result"
    }
   ],
   "source": [
    "top2 = xtrain[['ca','cp']]\n",
    "top2.head()"
   ]
  },
  {
   "cell_type": "code",
   "execution_count": 61,
   "metadata": {},
   "outputs": [
    {
     "data": {
      "text/html": [
       "<div>\n",
       "<style scoped>\n",
       "    .dataframe tbody tr th:only-of-type {\n",
       "        vertical-align: middle;\n",
       "    }\n",
       "\n",
       "    .dataframe tbody tr th {\n",
       "        vertical-align: top;\n",
       "    }\n",
       "\n",
       "    .dataframe thead th {\n",
       "        text-align: right;\n",
       "    }\n",
       "</style>\n",
       "<table border=\"1\" class=\"dataframe\">\n",
       "  <thead>\n",
       "    <tr style=\"text-align: right;\">\n",
       "      <th></th>\n",
       "      <th>ca</th>\n",
       "      <th>cp</th>\n",
       "      <th>target</th>\n",
       "    </tr>\n",
       "  </thead>\n",
       "  <tbody>\n",
       "    <tr>\n",
       "      <th>124</th>\n",
       "      <td>0</td>\n",
       "      <td>2</td>\n",
       "      <td>1</td>\n",
       "    </tr>\n",
       "    <tr>\n",
       "      <th>72</th>\n",
       "      <td>0</td>\n",
       "      <td>1</td>\n",
       "      <td>1</td>\n",
       "    </tr>\n",
       "    <tr>\n",
       "      <th>15</th>\n",
       "      <td>0</td>\n",
       "      <td>2</td>\n",
       "      <td>1</td>\n",
       "    </tr>\n",
       "    <tr>\n",
       "      <th>10</th>\n",
       "      <td>0</td>\n",
       "      <td>0</td>\n",
       "      <td>1</td>\n",
       "    </tr>\n",
       "    <tr>\n",
       "      <th>163</th>\n",
       "      <td>4</td>\n",
       "      <td>2</td>\n",
       "      <td>1</td>\n",
       "    </tr>\n",
       "  </tbody>\n",
       "</table>\n",
       "</div>"
      ],
      "text/plain": [
       "     ca  cp  target\n",
       "124   0   2       1\n",
       "72    0   1       1\n",
       "15    0   2       1\n",
       "10    0   0       1\n",
       "163   4   2       1"
      ]
     },
     "execution_count": 61,
     "metadata": {},
     "output_type": "execute_result"
    }
   ],
   "source": [
    "df_top2 =pd.concat([top2,ytrain],axis=1)\n",
    "df_top2.head()"
   ]
  },
  {
   "cell_type": "code",
   "execution_count": 65,
   "metadata": {},
   "outputs": [
    {
     "data": {
      "image/png": "[encoded data removed]",
      "text/plain": [
       "<Figure size 640x480 with 1 Axes>"
      ]
     },
     "metadata": {},
     "output_type": "display_data"
    }
   ],
   "source": [
    "import seaborn as sns\n",
    "import matplotlib.pyplot as plt\n",
    "sns.scatterplot(data=df_top2,x='ca',y='cp',hue='target')\n",
    "plt.title('Actual Class Target plot')\n",
    "plt.show()"
   ]
  },
  {
   "cell_type": "code",
   "execution_count": 70,
   "metadata": {},
   "outputs": [],
   "source": [
    "df_top2['predicted'] = best_rfc.predict(xtrain)"
   ]
  },
  {
   "cell_type": "code",
   "execution_count": 71,
   "metadata": {},
   "outputs": [
    {
     "data": {
      "image/png": "[encoded data removed]",
      "text/plain": [
       "<Figure size 640x480 with 1 Axes>"
      ]
     },
     "metadata": {},
     "output_type": "display_data"
    }
   ],
   "source": [
    "sns.scatterplot(data=df_top2,x='ca',y='cp',hue='predicted')\n",
    "plt.title('Predicted Class Target plot')\n",
    "plt.show()"
   ]
  }
 ],
 "metadata": {
  "kernelspec": {
   "display_name": "venv",
   "language": "python",
   "name": "python3"
  },
  "language_info": {
   "codemirror_mode": {
    "name": "ipython",
    "version": 3
   },
   "file_extension": ".py",
   "mimetype": "text/x-python",
   "name": "python",
   "nbconvert_exporter": "python",
   "pygments_lexer": "ipython3",
   "version": "3.10.7"
  },
  "orig_nbformat": 4
 },
 "nbformat": 4,
 "nbformat_minor": 2
}

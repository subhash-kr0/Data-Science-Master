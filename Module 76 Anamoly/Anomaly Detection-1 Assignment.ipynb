{
 "cells": [
  {
   "attachments": {},
   "cell_type": "markdown",
   "metadata": {},
   "source": [
    "[Assignment pdf link](./02%20May_AssQ.pdf)"
   ]
  },
  {
   "attachments": {},
   "cell_type": "markdown",
   "metadata": {},
   "source": [
    "# <p style=\"padding:10px;background-color:#87CEEB ;margin:10;color:#000000;font-family:newtimeroman;font-size:100%;text-align:center;border-radius: 10px 10px ;overflow:hidden;font-weight:50\">Question 1</p>"
   ]
  },
  {
   "attachments": {},
   "cell_type": "markdown",
   "metadata": {},
   "source": [
    "## Question 1: What is anomaly detection and what is its purpose?\n",
    "---"
   ]
  },
  {
   "attachments": {},
   "cell_type": "markdown",
   "metadata": {},
   "source": [
    "## Answer :"
   ]
  },
  {
   "attachments": {},
   "cell_type": "markdown",
   "metadata": {},
   "source": [
    "### Anomaly detection is a process of identifying data points, events, or patterns that deviate significantly from the expected or normal behavior of a system or process. Anomaly detection is commonly used in various fields such as finance, healthcare, cybersecurity, and industrial manufacturing to detect unusual behavior that could indicate fraud, errors, system malfunctions, or potential threats.\n",
    "\n",
    "### The purpose of anomaly detection is to identify and flag such anomalies, which could otherwise go unnoticed and cause significant problems or losses. Anomaly detection can help organizations detect and prevent fraud, optimize system performance, enhance security, and ensure regulatory compliance. By identifying and addressing anomalies early on, organizations can take proactive measures to mitigate potential risks and avoid costly consequences."
   ]
  },
  {
   "attachments": {},
   "cell_type": "markdown",
   "metadata": {},
   "source": [
    "# <p style=\"padding:10px;background-color:#87CEEB ;margin:10;color:#000000;font-family:newtimeroman;font-size:100%;text-align:center;border-radius: 10px 10px ;overflow:hidden;font-weight:50\">Question 2</p>"
   ]
  },
  {
   "attachments": {},
   "cell_type": "markdown",
   "metadata": {},
   "source": [
    "## Question 2: What are the key challenges in anomaly detection?\n",
    "---"
   ]
  },
  {
   "attachments": {},
   "cell_type": "markdown",
   "metadata": {},
   "source": [
    "## Answer :"
   ]
  },
  {
   "attachments": {},
   "cell_type": "markdown",
   "metadata": {},
   "source": [
    "### There are several key challenges in anomaly detection, including:\n",
    "\n",
    "1. `Unlabeled data`: In many cases, anomalies are rare and occur infrequently, making it difficult to have enough labeled data for model training. This makes it challenging to build accurate anomaly detection models.\n",
    "\n",
    "2. `High dimensionality`: Many datasets used in anomaly detection are high-dimensional, meaning they have a large number of features or variables. This can make it difficult to identify which features are most important and can lead to the \"curse of dimensionality\" problem.\n",
    "\n",
    "3. `Data imbalance`: Anomalies are often rare events, which can result in data imbalance, making it challenging to train models to detect them.\n",
    "\n",
    "4. `Concept drift`: The distribution of data can change over time, which can make previously trained models ineffective in detecting new anomalies. This is known as concept drift and requires frequent model retraining.\n",
    "\n",
    "5. `Interpretability`: Anomaly detection models can be complex and difficult to interpret, making it challenging to understand why a particular data point is flagged as an anomaly.\n",
    "\n",
    "6. `False positives and false negatives`: Anomaly detection models may generate false positives, flagging normal data as anomalies, or false negatives, missing actual anomalies, which can result in either costly false alarms or missed detections.\n",
    "\n",
    "### Addressing these challenges requires advanced algorithms, feature engineering, appropriate data preprocessing, and a deep understanding of the domain and the data being analyzed."
   ]
  },
  {
   "attachments": {},
   "cell_type": "markdown",
   "metadata": {},
   "source": [
    "# <p style=\"padding:10px;background-color:#87CEEB ;margin:10;color:#000000;font-family:newtimeroman;font-size:100%;text-align:center;border-radius: 10px 10px ;overflow:hidden;font-weight:50\">Question 3</p>"
   ]
  },
  {
   "attachments": {},
   "cell_type": "markdown",
   "metadata": {},
   "source": [
    "## Question 3 : How does unsupervised anomaly detection differ from supervised anomaly detection?\n",
    "---"
   ]
  },
  {
   "attachments": {},
   "cell_type": "markdown",
   "metadata": {},
   "source": [
    "## Answer :"
   ]
  },
  {
   "attachments": {},
   "cell_type": "markdown",
   "metadata": {},
   "source": [
    "### Unsupervised anomaly detection and supervised anomaly detection differ primarily in how they use labeled data for training and detecting anomalies.\n",
    "\n",
    "### In unsupervised anomaly detection, the data used for training does not contain any labeled anomalies, and the model must learn to identify anomalies based solely on the structure and distribution of the data. This means that the model must identify patterns in the data that deviate significantly from what it has learned as \"normal\" behavior. Unsupervised anomaly detection methods include clustering, density estimation, and dimensionality reduction techniques.\n",
    "\n",
    "### In contrast, supervised anomaly detection uses labeled data to train a model that can differentiate between normal and anomalous data points. The model learns to recognize the features that are most indicative of an anomaly and then uses these features to classify new data points as either normal or anomalous. Supervised anomaly detection methods include classification algorithms such as support vector machines, decision trees, and neural networks.\n",
    "\n",
    "### The key difference between the two approaches is the availability of labeled data. Supervised methods require labeled data, which may not always be available, while unsupervised methods do not require labeled data and are more appropriate for scenarios where labeled data is scarce or unavailable. However, supervised methods tend to be more accurate than unsupervised methods since they can learn from labeled data and provide more reliable classifications."
   ]
  },
  {
   "attachments": {},
   "cell_type": "markdown",
   "metadata": {},
   "source": [
    "# <p style=\"padding:10px;background-color:#87CEEB ;margin:10;color:#000000;font-family:newtimeroman;font-size:100%;text-align:center;border-radius: 10px 10px ;overflow:hidden;font-weight:50\">Question 4</p>"
   ]
  },
  {
   "attachments": {},
   "cell_type": "markdown",
   "metadata": {},
   "source": [
    "## Question 4: What are the main categories of anomaly detection algorithms?\n",
    "--- "
   ]
  },
  {
   "attachments": {},
   "cell_type": "markdown",
   "metadata": {},
   "source": [
    "## Answer :"
   ]
  },
  {
   "attachments": {},
   "cell_type": "markdown",
   "metadata": {},
   "source": [
    "### The main categories of anomaly detection algorithms include:\n",
    "\n",
    "1. `Statistical-based methods`: These methods rely on statistical models to identify data points that deviate significantly from the expected behavior. Examples of statistical-based methods include Gaussian Mixture Models (GMM), Principal Component Analysis (PCA), and Time-series Analysis.\n",
    "\n",
    "2. `Machine learning-based methods`: These methods use machine learning algorithms to learn the patterns of normal behavior in the data and detect deviations from these patterns. Examples of machine learning-based methods include Support Vector Machines (SVM), Decision Trees, Random Forests, and Neural Networks.\n",
    "\n",
    "3. `Clustering-based methods`: These methods group similar data points together and identify data points that do not belong to any cluster as anomalies. Examples of clustering-based methods include K-means, DBSCAN, and Hierarchical Clustering.\n",
    "\n",
    "4. `Density-based methods`: These methods identify anomalies based on deviations from the density of the data. Examples of density-based methods include Local Outlier Factor (LOF), Isolation Forests, and Kernel Density Estimation.\n",
    "\n",
    "5. `Rule-based methods`: These methods define rules or thresholds that identify data points that fall outside of the expected range. Examples of rule-based methods include statistical process control and expert systems.\n",
    "\n",
    "### Each category of anomaly detection methods has its strengths and weaknesses, and the appropriate method depends on the type of data, the context of the problem, and the specific requirements of the application."
   ]
  },
  {
   "attachments": {},
   "cell_type": "markdown",
   "metadata": {},
   "source": [
    "# <p style=\"padding:10px;background-color:#87CEEB ;margin:10;color:#000000;font-family:newtimeroman;font-size:100%;text-align:center;border-radius: 10px 10px ;overflow:hidden;font-weight:50\">Question 5</p>"
   ]
  },
  {
   "attachments": {},
   "cell_type": "markdown",
   "metadata": {},
   "source": [
    "## Question 5: What are the main assumptions made by distance-based anomaly detection methods?\n",
    "---"
   ]
  },
  {
   "attachments": {},
   "cell_type": "markdown",
   "metadata": {},
   "source": [
    "## Answer :"
   ]
  },
  {
   "attachments": {},
   "cell_type": "markdown",
   "metadata": {},
   "source": [
    "### Distance-based anomaly detection methods rely on the assumption that normal data points are clustered tightly together, while anomalies are far away from the normal cluster. The main assumptions made by distance-based anomaly detection methods are:\n",
    "\n",
    "1. `Normal data points are close to each other`: Distance-based methods assume that normal data points are similar to each other and form a tight cluster, while anomalies are far from the cluster. This assumption is based on the intuition that normal behavior is repetitive and predictable.\n",
    "\n",
    "2. `Anomalies are isolated`: Distance-based methods assume that anomalies are isolated data points that are far from the normal cluster. This assumption is based on the idea that anomalies are rare and occur infrequently, making them outliers in the data.\n",
    "\n",
    "3. `Distance metric is appropriate`: Distance-based methods rely on a distance metric to measure the similarity between data points. The assumption is that the distance metric used is appropriate for the data and can accurately capture the similarity between data points.\n",
    "\n",
    "4. `Data is numerical`: Distance-based methods assume that the data is numerical and can be represented as points in a high-dimensional space. This assumption makes it challenging to apply distance-based methods to categorical or text data.\n",
    "\n",
    "### It is essential to validate these assumptions before applying distance-based anomaly detection methods to a specific dataset. If the assumptions are not met, the results of the analysis may be unreliable, and other anomaly detection methods may be more appropriate."
   ]
  },
  {
   "attachments": {},
   "cell_type": "markdown",
   "metadata": {},
   "source": [
    "# <p style=\"padding:10px;background-color:#87CEEB ;margin:10;color:#000000;font-family:newtimeroman;font-size:100%;text-align:center;border-radius: 10px 10px ;overflow:hidden;font-weight:50\">Question 6</p>"
   ]
  },
  {
   "attachments": {},
   "cell_type": "markdown",
   "metadata": {},
   "source": [
    "## Question 6: How does the LOF algorithm compute anomaly scores?\n",
    "---"
   ]
  },
  {
   "attachments": {},
   "cell_type": "markdown",
   "metadata": {},
   "source": [
    "## Answer :"
   ]
  },
  {
   "attachments": {},
   "cell_type": "markdown",
   "metadata": {},
   "source": [
    "### The Local Outlier Factor (LOF) algorithm computes anomaly scores by measuring the local density of a data point with respect to its neighbors. The LOF algorithm identifies data points that have a significantly lower density than their neighbors as anomalies.\n",
    "\n",
    "### The algorithm works as follows:\n",
    "\n",
    "1. For each data point, identify its k nearest neighbors based on a distance metric (e.g., Euclidean distance). The value of k is a user-defined parameter.\n",
    "\n",
    "2. Compute the local reachability density (LRD) of the data point as the inverse of the average distance between the data point and its k nearest neighbors.\n",
    "\n",
    "3. Compute the local outlier factor (LOF) of the data point as the average LRD of its k nearest neighbors divided by its own LRD.\n",
    "\n",
    "4. Anomalies are identified as data points with an LOF score that is significantly higher than the LOF scores of their neighbors. The threshold for identifying anomalies is also a user-defined parameter.\n",
    "\n",
    "###  Intuitively, the LOF algorithm computes the density of a data point in relation to its neighbors and identifies data points that are significantly less dense than their neighbors as anomalies. This approach can detect anomalies that are not isolated, but rather exist in low-density regions of the data.\n",
    "\n",
    "### The LOF algorithm is widely used in anomaly detection applications and is especially useful for datasets with non-uniform density distributions."
   ]
  },
  {
   "attachments": {},
   "cell_type": "markdown",
   "metadata": {},
   "source": [
    "# <p style=\"padding:10px;background-color:#87CEEB ;margin:10;color:#000000;font-family:newtimeroman;font-size:100%;text-align:center;border-radius: 10px 10px ;overflow:hidden;font-weight:50\">Question 7</p>"
   ]
  },
  {
   "attachments": {},
   "cell_type": "markdown",
   "metadata": {},
   "source": [
    "## Question 7 : What are the key parameters of the Isolation Forest algorithm?\n",
    "---"
   ]
  },
  {
   "attachments": {},
   "cell_type": "markdown",
   "metadata": {},
   "source": [
    "## Answer :"
   ]
  },
  {
   "attachments": {},
   "cell_type": "markdown",
   "metadata": {},
   "source": [
    "### The Isolation Forest algorithm is a popular unsupervised anomaly detection algorithm that works by isolating anomalies in a forest of decision trees. The algorithm has two key parameters:\n",
    "\n",
    "1. `Number of trees (n_estimators)`: This parameter determines the number of decision trees to be created in the forest. Increasing the number of trees can improve the accuracy of anomaly detection, but also increases the computational cost and memory requirements of the algorithm.\n",
    "\n",
    "2. `Subsample size (max_samples)`: This parameter determines the number of data points to be randomly selected for each tree in the forest. Setting a smaller subsample size can reduce the computational cost of the algorithm and improve its ability to detect anomalies in large datasets.\n",
    "\n",
    "### In addition to these two key parameters, the Isolation Forest algorithm also has other hyperparameters that can be tuned to improve the performance of the algorithm. These hyperparameters include:\n",
    "\n",
    "3. `Maximum tree depth (max_depth)`: This parameter determines the maximum depth of each decision tree in the forest. A deeper tree can capture more complex patterns in the data, but may also overfit the data and reduce the generalizability of the algorithm.\n",
    "\n",
    "4. `Number of features to consider for each split (max_features)`: This parameter determines the number of features to consider for each split in the decision tree. A smaller value of max_features can improve the diversity of the trees in the forest and reduce overfitting.\n",
    "\n",
    "5. `Contamination`: This parameter determines the expected proportion of anomalies in the data. This parameter is used to calculate a threshold for identifying anomalies based on the anomaly score computed by the algorithm.\n",
    "\n",
    "### Choosing appropriate values for these hyperparameters is critical for the performance of the Isolation Forest algorithm. Grid search and cross-validation techniques can be used to find the optimal values of these hyperparameters for a specific dataset."
   ]
  },
  {
   "attachments": {},
   "cell_type": "markdown",
   "metadata": {},
   "source": [
    "# <p style=\"padding:10px;background-color:#87CEEB ;margin:10;color:#000000;font-family:newtimeroman;font-size:100%;text-align:center;border-radius: 10px 10px ;overflow:hidden;font-weight:50\">Question 8</p>"
   ]
  },
  {
   "attachments": {},
   "cell_type": "markdown",
   "metadata": {},
   "source": [
    "## Question 8: If a data point has only 2 neighbours of the same class within a radius of 0.5, what is its anomaly score using KNN with K=10\n",
    "---"
   ]
  },
  {
   "attachments": {},
   "cell_type": "markdown",
   "metadata": {},
   "source": [
    "## Answer :"
   ]
  },
  {
   "attachments": {},
   "cell_type": "markdown",
   "metadata": {},
   "source": [
    "### To compute the anomaly score of a data point using K-nearest neighbors (KNN) with K=10, we need to identify the distance between the data point and its 10th nearest neighbor. If the distance is large, the data point is likely to be an anomaly.\n",
    "\n",
    "### In this case, the data point has only 2 neighbors of the same class within a radius of 0.5. Since K=10, we need to find the distance between the data point and its 10th nearest neighbor. If the data point has only 2 neighbors within a radius of 0.5, it is unlikely that it will have 10 neighbors within the same radius. Therefore, we cannot compute the anomaly score of the data point using KNN with K=10.\n",
    "\n",
    "### However, if we still want to compute the anomaly score using KNN with K=10, we can extend the distance radius until we find 10 neighbors. For example, if we extend the radius to 1, we may find 10 neighbors. We can then compute the distance between the data point and its 10th nearest neighbor and use it to compute the anomaly score. The larger the distance, the higher the anomaly score.\n",
    "\n",
    "### Anomaly Score = 1 / (average distance to k nearest neighbors)"
   ]
  },
  {
   "attachments": {},
   "cell_type": "markdown",
   "metadata": {},
   "source": [
    "# <p style=\"padding:10px;background-color:#87CEEB ;margin:10;color:#000000;font-family:newtimeroman;font-size:100%;text-align:center;border-radius: 10px 10px ;overflow:hidden;font-weight:50\">Question 9</p>"
   ]
  },
  {
   "attachments": {},
   "cell_type": "markdown",
   "metadata": {},
   "source": [
    "## Question 9: Using the Isolation Forest algorithm with 100 trees and a dataset of 3000 data points, what is the anomaly score for a data point that has an average path length of 5.0 compared to the average path length of the trees?\n",
    "---"
   ]
  },
  {
   "attachments": {},
   "cell_type": "markdown",
   "metadata": {},
   "source": [
    "## Answer :"
   ]
  },
  {
   "attachments": {},
   "cell_type": "markdown",
   "metadata": {},
   "source": [
    "### The Isolation Forest algorithm generates a forest of decision trees, where each data point is isolated in a different partition of the feature space. The anomaly score of a data point is computed based on the average path length of the data point in the trees of the forest.\n",
    "\n",
    "### If a data point has an average path length of 5.0 compared to the average path length of the trees, we can compute its anomaly score using the following formula:\n",
    "\n",
    "### Anomaly Score = 2^(-average path length / c(n))\n",
    "\n",
    "### where c(n) is a constant that depends on the number of data points n in the dataset. The value of c(n) can be computed as:\n",
    "\n",
    "### c(n) = 2 * H(n-1) - (2 * (n-1) / n)\n",
    "\n",
    "### where H(n-1) is the harmonic number of n-1.\n",
    "\n",
    "### For a dataset of 3000 data points, c(n) can be computed as:\n",
    "\n",
    "### c(3000) = 2 * H(2999) - (2 * 2999 / 3000) = 11.8979\n",
    "\n",
    "### Using this value of c(n), we can compute the anomaly score of the data point with an average path length of 5.0 as:\n",
    "\n",
    "### Anomaly Score = 2^(-5.0 / 11.8979) = 0.5017\n",
    "\n",
    "### This indicates that the data point is less anomalous than a data point with an average path length that is farther from the average path length of the trees."
   ]
  },
  {
   "attachments": {},
   "cell_type": "markdown",
   "metadata": {},
   "source": [
    "### Below is manual method to calulate anomaly score in python :"
   ]
  },
  {
   "cell_type": "code",
   "execution_count": 3,
   "metadata": {},
   "outputs": [
    {
     "name": "stdout",
     "output_type": "stream",
     "text": [
      "The anomaly score of the data point is 0.7809\n"
     ]
    }
   ],
   "source": [
    "from sklearn.ensemble import IsolationForest\n",
    "import numpy as np\n",
    "\n",
    "# Generate a dataset of 3000 data points with 10 features\n",
    "X = np.random.randn(3000, 10)\n",
    "\n",
    "# Fit an Isolation Forest model with 100 trees\n",
    "clf = IsolationForest(n_estimators=100, contamination='auto', random_state=42)\n",
    "clf.fit(X)\n",
    "\n",
    "# Compute the average path length of a data point with 5.0 compared to the average path length of the trees\n",
    "avg_path_length = 5.0\n",
    "tree_path_lengths = np.zeros(clf.n_estimators)\n",
    "for i, tree in enumerate(clf.estimators_):\n",
    "    path = tree.decision_path(X)\n",
    "    tree_path_lengths[i] = path.indices.size - 1\n",
    "avg_tree_path_length = np.mean(tree_path_lengths)\n",
    "\n",
    "# Compute the anomaly score using the formula for Isolation Forest\n",
    "c = 2 * np.log(X.shape[0] - 1) - (2 * (X.shape[0] - 1) / X.shape[0])\n",
    "anomaly_score = 2 ** (-avg_path_length / c) \n",
    "\n",
    "print(f\"The anomaly score of the data point is {anomaly_score:.4f}\")"
   ]
  },
  {
   "attachments": {},
   "cell_type": "markdown",
   "metadata": {},
   "source": [
    "### Below is sklearn score_samples method to find anomaly_scores"
   ]
  },
  {
   "cell_type": "code",
   "execution_count": 5,
   "metadata": {},
   "outputs": [
    {
     "name": "stdout",
     "output_type": "stream",
     "text": [
      "[-0.42723569 -0.4619199  -0.42484869 ... -0.44804201 -0.43751311\n",
      " -0.44742063]\n",
      "\n",
      "The mean anomaly score is -0.4417\n"
     ]
    }
   ],
   "source": [
    "from sklearn.ensemble import IsolationForest\n",
    "import numpy as np\n",
    "\n",
    "# Generate a dataset of 3000 data points with 10 features\n",
    "X = np.random.randn(3000, 10)\n",
    "\n",
    "# Fit an Isolation Forest model with 100 trees\n",
    "clf = IsolationForest(n_estimators=100, contamination='auto', random_state=42)\n",
    "clf.fit(X)\n",
    "\n",
    "# Compute the anomaly scores for the data points\n",
    "anomaly_scores = clf.score_samples(X)\n",
    "\n",
    "# Print the anomaly scores\n",
    "print(anomaly_scores)\n",
    "\n",
    "\n",
    "# Compute the mean of the anomaly scores\n",
    "mean_anomaly_score = np.mean(anomaly_scores)\n",
    "\n",
    "# Print the mean anomaly score\n",
    "print(f\"\\nThe mean anomaly score is {mean_anomaly_score:.4f}\")"
   ]
  }
 ],
 "metadata": {
  "kernelspec": {
   "display_name": "venv",
   "language": "python",
   "name": "python3"
  },
  "language_info": {
   "codemirror_mode": {
    "name": "ipython",
    "version": 3
   },
   "file_extension": ".py",
   "mimetype": "text/x-python",
   "name": "python",
   "nbconvert_exporter": "python",
   "pygments_lexer": "ipython3",
   "version": "3.10.7"
  },
  "orig_nbformat": 4
 },
 "nbformat": 4,
 "nbformat_minor": 2
}

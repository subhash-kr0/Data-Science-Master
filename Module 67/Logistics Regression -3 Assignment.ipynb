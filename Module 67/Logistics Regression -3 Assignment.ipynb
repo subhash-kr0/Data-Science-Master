{
 "cells": [
  {
   "attachments": {},
   "cell_type": "markdown",
   "metadata": {},
   "source": [
    "[Assignment pdf link](03%20Apr_AssQ.pdf)"
   ]
  },
  {
   "attachments": {},
   "cell_type": "markdown",
   "metadata": {},
   "source": [
    "<a id=\"1\"></a>\n",
    "\n",
    "# <p style=\"padding:10px;background-color:#87CEEB ;margin:10;color:#000000;font-family:newtimeroman;font-size:100%;text-align:center;border-radius: 10px 10px ;overflow:hidden;font-weight:50\">Question 1</p>"
   ]
  },
  {
   "attachments": {},
   "cell_type": "markdown",
   "metadata": {},
   "source": [
    "## Question 1 : Explain the concept of precision and recall in the context of classification models.\n",
    "---"
   ]
  },
  {
   "attachments": {},
   "cell_type": "markdown",
   "metadata": {},
   "source": [
    "## Answer :"
   ]
  },
  {
   "attachments": {},
   "cell_type": "markdown",
   "metadata": {},
   "source": [
    "### Precision and recall are two important metrics used to evaluate the performance of classification models, which are used to predict a binary outcome based on input data. In the context of classification models, precision and recall refer to the accuracy of the model's predictions.\n",
    "\n",
    "### Precision is a measure of how accurate the model's positive predictions are. It is calculated as the number of true positive predictions divided by the sum of true positive and false positive predictions. In other words, precision measures the proportion of positive predictions that are actually true positives. High precision means that the model is making very few false positive predictions, or in other words, that it is highly accurate when predicting positive outcomes.\n",
    "\n",
    "### Recall, on the other hand, is a measure of how well the model is able to identify positive outcomes. It is calculated as the number of true positive predictions divided by the sum of true positive and false negative predictions. In other words, recall measures the proportion of actual positive cases that the model correctly identified. High recall means that the model is correctly identifying a large proportion of the positive cases in the dataset.\n",
    "\n",
    "### In summary, precision and recall are two important metrics used to evaluate the performance of classification models. Precision measures the accuracy of the model's positive predictions, while recall measures the ability of the model to identify positive outcomes. In general, a good classification model should have high precision and high recall, indicating that it is accurate and able to identify positive outcomes with a high degree of accuracy."
   ]
  },
  {
   "attachments": {},
   "cell_type": "markdown",
   "metadata": {},
   "source": [
    "![Precsion and Recall](https://miro.medium.com/v2/resize:fit:824/1*xMl_wkMt42Hy8i84zs2WGg.png)"
   ]
  },
  {
   "attachments": {},
   "cell_type": "markdown",
   "metadata": {},
   "source": [
    "<a id=\"2\"></a>\n",
    "\n",
    "# <p style=\"padding:10px;background-color:#87CEEB ;margin:10;color:#000000;font-family:newtimeroman;font-size:100%;text-align:center;border-radius: 10px 10px ;overflow:hidden;font-weight:50\">Question 2</p>"
   ]
  },
  {
   "attachments": {},
   "cell_type": "markdown",
   "metadata": {},
   "source": [
    "## Question 2 : What is the F1 score and how is it calculated? How is it different from precision and recall?\n",
    "---"
   ]
  },
  {
   "attachments": {},
   "cell_type": "markdown",
   "metadata": {},
   "source": [
    "### The F1 score is a single metric used to evaluate the performance of classification models that balances the trade-off between precision and recall. It is the harmonic mean of precision and recall and is a way to summarize the performance of a binary classification model in a single number.\n",
    "\n",
    "### The formula for calculating the F1 score is:\n",
    "\n",
    "`F1 score = 2 * (precision * recall) / (precision + recall)`\n",
    "\n",
    "### where precision and recall are calculated as:\n",
    "\n",
    "~~~\n",
    "Precision = TP / (TP + FP)\n",
    "Recall = TP / (TP + FN)\n",
    "~~~\n",
    "\n",
    "### In these formulas, TP refers to the number of true positives, FP refers to the number of false positives, and FN refers to the number of false negatives.\n",
    "\n",
    "### The F1 score takes into account both precision and recall, giving equal weight to both metrics. This means that the F1 score provides a more balanced view of the model's performance compared to using precision or recall alone.\n",
    "\n",
    "### Precision and recall are both important metrics, but they may be optimized at the expense of each other. For example, a model that predicts \"positive\" for every example will have perfect recall but very low precision. On the other hand, a model that predicts \"negative\" for every example will have perfect precision but very low recall. The F1 score provides a way to balance these metrics and evaluate the model's performance more comprehensively.\n",
    "\n",
    "### In summary, the F1 score is a single metric that provides a balanced view of a binary classification model's performance by taking into account both precision and recall. It is a useful metric for comparing the performance of different models or for optimizing model hyperparameters."
   ]
  },
  {
   "attachments": {},
   "cell_type": "markdown",
   "metadata": {},
   "source": [
    "![F1 score](https://images.deepai.org/glossary-terms/b9c8dec8549a4201ae358483cc6bdfa6/fscore.jpg)"
   ]
  },
  {
   "attachments": {},
   "cell_type": "markdown",
   "metadata": {},
   "source": [
    "<a id=\"3\"></a>\n",
    "\n",
    "# <p style=\"padding:10px;background-color:#87CEEB ;margin:10;color:#000000;font-family:newtimeroman;font-size:100%;text-align:center;border-radius: 10px 10px ;overflow:hidden;font-weight:50\">Question 3</p>"
   ]
  },
  {
   "attachments": {},
   "cell_type": "markdown",
   "metadata": {},
   "source": [
    "## Question 3 : What is ROC and AUC, and how are they used to evaluate the performance of classification models?\n",
    "---"
   ]
  },
  {
   "attachments": {},
   "cell_type": "markdown",
   "metadata": {},
   "source": [
    "## Answer :"
   ]
  },
  {
   "attachments": {},
   "cell_type": "markdown",
   "metadata": {},
   "source": [
    "### ROC (Receiver Operating Characteristic) and AUC (Area Under the Curve) are commonly used to evaluate the performance of classification models.\n",
    "\n",
    "### ROC is a plot that visualizes the trade-off between the true positive rate (TPR) and false positive rate (FPR) of a binary classification model at various threshold values. The true positive rate is the proportion of positive cases that are correctly identified by the model, while the false positive rate is the proportion of negative cases that are incorrectly identified as positive by the model. By varying the threshold value used to make predictions, we can plot the true positive rate against the false positive rate and visualize the performance of the model across all possible thresholds.\n",
    "\n",
    "### AUC, on the other hand, is a metric that quantifies the overall performance of a classification model across all possible thresholds. It is the area under the ROC curve and ranges from 0 to 1, with higher values indicating better performance. An AUC of 0.5 indicates that the model is no better than random guessing, while an AUC of 1.0 indicates perfect classification performance.\n",
    "\n",
    "### In general, a good classification model should have a high true positive rate and a low false positive rate, indicating that it is able to correctly identify positive cases while minimizing false positive predictions. The ROC curve and AUC provide a useful way to visualize and quantify the performance of a model across a range of threshold values.\n",
    "\n",
    "### ROC and AUC are useful for comparing the performance of different classification models or for evaluating the performance of a model with different hyperparameters. They can also be useful in scenarios where the cost of false positives and false negatives is not equal, as the ROC curve can help identify the optimal threshold value to use based on the relative cost of each type of error.\n",
    "\n",
    "### In summary, ROC and AUC are commonly used to evaluate the performance of classification models by visualizing the trade-off between true positive and false positive rates and quantifying overall model performance. They are useful for comparing the performance of different models or for optimizing model hyperparameters."
   ]
  },
  {
   "attachments": {},
   "cell_type": "markdown",
   "metadata": {},
   "source": [
    "<a id=\"4\"></a>\n",
    "\n",
    "# <p style=\"padding:10px;background-color:#87CEEB ;margin:10;color:#000000;font-family:newtimeroman;font-size:100%;text-align:center;border-radius: 10px 10px ;overflow:hidden;font-weight:50\">Question 4</p>"
   ]
  },
  {
   "attachments": {},
   "cell_type": "markdown",
   "metadata": {},
   "source": [
    "## Question 4 : How do you choose the best metric to evaluate the performance of a classification model? What is multiclass classification and how is it different from binary classification? \n",
    "---"
   ]
  },
  {
   "attachments": {},
   "cell_type": "markdown",
   "metadata": {},
   "source": [
    "## Answer :"
   ]
  },
  {
   "attachments": {},
   "cell_type": "markdown",
   "metadata": {},
   "source": [
    "### Choosing the best metric to evaluate the performance of a classification model depends on the specific problem you are trying to solve and the nature of the data. Some common metrics for evaluating classification models include accuracy, precision, recall, F1 score, ROC AUC, and confusion matrix.\n",
    "\n",
    "1. Accuracy: measures the proportion of correctly classified samples out of the total number of samples.\n",
    "\n",
    "2. Precision: measures the proportion of true positives (correctly classified positive samples) out of all positive predictions made by the model.\n",
    "\n",
    "3. Recall: measures the proportion of true positives out of all actual positive samples in the dataset.\n",
    "\n",
    "4. F1 score: combines precision and recall into a single metric, which is the harmonic mean of the two metrics.\n",
    "\n",
    "5. ROC AUC: measures the area under the ROC curve, which plots the true positive rate against the false positive rate at various threshold values.\n",
    "\n",
    "6. Confusion matrix: a table that summarizes the classification results by counting the number of true positives, true negatives, false positives, and false negatives.\n",
    "\n",
    "### The choice of metric depends on the specific problem you are trying to solve. For example, accuracy may be a suitable metric when the classes are balanced, but may be misleading when there is a class imbalance. Precision and recall may be more appropriate when there is a class imbalance, where we are more interested in correctly classifying the minority class.\n",
    "\n",
    "### Multiclass classification refers to the task of classifying data points into more than two classes. In binary classification, we have only two possible classes (e.g., true or false, yes or no). In multiclass classification, we have three or more possible classes. The evaluation metrics for multiclass classification are similar to those for binary classification, but they need to be adapted to handle multiple classes. For example, instead of a single confusion matrix, we may need to use a matrix that summarizes the number of samples classified as each combination of classes.\n",
    "\n",
    "### In summary, choosing the best metric to evaluate a classification model depends on the specific problem and the nature of the data. Multiclass classification involves classifying data points into more than two classes and requires evaluation metrics that can handle multiple classes."
   ]
  },
  {
   "attachments": {},
   "cell_type": "markdown",
   "metadata": {},
   "source": [
    "<a id=\"5\"></a>\n",
    "\n",
    "# <p style=\"padding:10px;background-color:#87CEEB ;margin:10;color:#000000;font-family:newtimeroman;font-size:100%;text-align:center;border-radius: 10px 10px ;overflow:hidden;font-weight:50\">Question 5</p>"
   ]
  },
  {
   "attachments": {},
   "cell_type": "markdown",
   "metadata": {},
   "source": [
    "## Question 5 : Explain how logistic regression can be used for multiclass classification.\n",
    "---"
   ]
  },
  {
   "attachments": {},
   "cell_type": "markdown",
   "metadata": {},
   "source": [
    "## Answer :"
   ]
  },
  {
   "attachments": {},
   "cell_type": "markdown",
   "metadata": {},
   "source": [
    "### Logistic regression is a widely used algorithm for binary classification problems, where the goal is to predict a binary outcome (e.g., yes or no, true or false). However, it can also be extended to handle multiclass classification problems.\n",
    "\n",
    "### One common approach to using logistic regression for multiclass classification is to use a technique called one-vs-all (OVA) or one-vs-rest. In OVA, we train a separate binary logistic regression model for each class, where each model is trained to distinguish between that class and all other classes combined. For example, in a multiclass problem with three classes (A, B, and C), we would train three binary logistic regression models: one to distinguish between class A and classes B and C combined, one to distinguish between class B and classes A and C combined, and one to distinguish between class C and classes A and B combined.\n",
    "\n",
    "### Once we have trained the three binary logistic regression models, we can use them to classify new samples by running them through each of the models and selecting the class with the highest probability. For example, if the probabilities output by the models for a particular sample are 0.3, 0.6, and 0.1 for classes A, B, and C, respectively, we would predict that the sample belongs to class B.\n",
    "\n",
    "### Another approach to using logistic regression for multiclass classification is to use a technique called softmax regression or multinomial logistic regression. In softmax regression, we extend the binary logistic regression model to handle multiple classes by using a softmax activation function instead of a sigmoid activation function. The softmax function maps the output of the model to a probability distribution over the possible classes.\n",
    "\n",
    "### In summary, logistic regression can be extended to handle multiclass classification problems using techniques like one-vs-all or softmax regression. One-vs-all involves training separate binary logistic regression models for each class, while softmax regression extends the binary logistic regression model to handle multiple classes by using a softmax activation function.\n",
    "\n",
    "### Below is example in python :"
   ]
  },
  {
   "cell_type": "code",
   "execution_count": 3,
   "metadata": {},
   "outputs": [
    {
     "name": "stdout",
     "output_type": "stream",
     "text": [
      "Accuracy: 0.74\n"
     ]
    }
   ],
   "source": [
    "from sklearn.datasets import make_classification\n",
    "from sklearn.linear_model import LogisticRegression\n",
    "from sklearn.model_selection import train_test_split\n",
    "\n",
    "# Generate a random multiclass classification dataset\n",
    "X, y = make_classification(n_samples=1000, n_features=10, n_classes=3, n_informative=8)\n",
    "\n",
    "# Split the data into training and testing sets\n",
    "X_train, X_test, y_train, y_test = train_test_split(X, y, test_size=0.2)\n",
    "\n",
    "# Train a logistic regression model using softmax regression\n",
    "lr = LogisticRegression(multi_class='multinomial', solver='lbfgs')\n",
    "lr.fit(X_train, y_train)\n",
    "\n",
    "# Predict the class labels for the test set\n",
    "y_pred = lr.predict(X_test)\n",
    "\n",
    "# Print the accuracy score\n",
    "accuracy = lr.score(X_test, y_test)\n",
    "print(\"Accuracy:\", accuracy)"
   ]
  },
  {
   "cell_type": "code",
   "execution_count": 4,
   "metadata": {},
   "outputs": [
    {
     "data": {
      "text/plain": [
       "<Axes: >"
      ]
     },
     "execution_count": 4,
     "metadata": {},
     "output_type": "execute_result"
    },
    {
     "data": {
      "image/png": "[encoded data removed]",
      "text/plain": [
       "<Figure size 640x480 with 2 Axes>"
      ]
     },
     "metadata": {},
     "output_type": "display_data"
    }
   ],
   "source": [
    "from sklearn.metrics import confusion_matrix\n",
    "import seaborn as sns\n",
    "cf = confusion_matrix(y_test,y_pred)\n",
    "sns.heatmap(cf,annot=True)"
   ]
  },
  {
   "attachments": {},
   "cell_type": "markdown",
   "metadata": {},
   "source": [
    "<a id=\"6\"></a>\n",
    "\n",
    "# <p style=\"padding:10px;background-color:#87CEEB ;margin:10;color:#000000;font-family:newtimeroman;font-size:100%;text-align:center;border-radius: 10px 10px ;overflow:hidden;font-weight:50\">Question 6</p>"
   ]
  },
  {
   "attachments": {},
   "cell_type": "markdown",
   "metadata": {},
   "source": [
    "## Question 6 : Describe the steps involved in an end-to-end project for multiclass classification.\n",
    "---"
   ]
  },
  {
   "attachments": {},
   "cell_type": "markdown",
   "metadata": {},
   "source": [
    "## Answer :"
   ]
  },
  {
   "attachments": {},
   "cell_type": "markdown",
   "metadata": {},
   "source": [
    "### General steps involved in an end-to-end project for multiclass classification:\n",
    "\n",
    "1. `Problem definition`: Define the problem you want to solve and the goals you want to achieve, such as predicting the type of a flower based on its features.\n",
    "\n",
    "2. `Data collection and exploration`: Collect and explore the data that will be used for the classification task. This step involves understanding the features and labels of the dataset, identifying any missing or incorrect data, and visualizing the data to gain insights.\n",
    "\n",
    "3. `Data preparation`: Prepare the data for modeling by cleaning and preprocessing it. This step includes handling missing or incorrect data, scaling and normalizing the features, and encoding the categorical features.\n",
    "\n",
    "4. `Model selection`: Select the appropriate model or models to use for classification. This step involves choosing from various algorithms such as logistic regression, decision trees, random forests, or support vector machines. Cross-validation can also be used to compare the performance of different models and to tune hyperparameters.\n",
    "\n",
    "5. `Training and evaluation`: Train the selected model on the prepared data and evaluate its performance on a validation set or through cross-validation. This step involves selecting appropriate metrics for evaluating the model's performance, such as accuracy, precision, recall, or F1 score.\n",
    "\n",
    "6. `Model tuning`: Improve the performance of the model by tuning its hyperparameters. This step involves using techniques such as grid search or random search to find the best combination of hyperparameters for the model.\n",
    "\n",
    "7. `Testing` : Test the final model on a holdout test set to estimate its performance on unseen data. This step involves using the trained and tuned model to make predictions on the test set and evaluating its performance using the selected metrics.\n",
    "\n",
    "8. `Deployment and monitoring`: Deploy the final model in a production environment and monitor its performance over time. This step involves setting up a pipeline to make predictions on new data, monitoring the performance of the model, and updating the model as needed.\n",
    "\n",
    "### These are the general steps involved in an end-to-end project for multiclass classification, although the specifics may vary depending on the particular problem and dataset."
   ]
  },
  {
   "attachments": {},
   "cell_type": "markdown",
   "metadata": {},
   "source": [
    "<a id=\"7\"></a>\n",
    "\n",
    "# <p style=\"padding:10px;background-color:#87CEEB ;margin:10;color:#000000;font-family:newtimeroman;font-size:100%;text-align:center;border-radius: 10px 10px ;overflow:hidden;font-weight:50\">Question 7</p>"
   ]
  },
  {
   "attachments": {},
   "cell_type": "markdown",
   "metadata": {},
   "source": [
    "## Question 7 : What is model deployment and why is it important?\n",
    "---"
   ]
  },
  {
   "attachments": {},
   "cell_type": "markdown",
   "metadata": {},
   "source": [
    "## Answer : "
   ]
  },
  {
   "attachments": {},
   "cell_type": "markdown",
   "metadata": {},
   "source": [
    "### Model deployment is the process of making a trained machine learning model available for use in a production environment, so that it can be used to make predictions on new, unseen data. This typically involves taking the model that was trained on a development or training set, and integrating it into a larger application or system that can make use of the model's predictions.\n",
    "\n",
    "### Deploying a machine learning model is an important step in the development and use of the model, because it allows the model to be applied to real-world problems and generate value for the organization or individual using it. Without deployment, the model remains a theoretical construct with no practical use.\n",
    "\n",
    "### Model deployment also allows for the model to be monitored and updated as needed, as new data becomes available or as changes are made to the application or system using the model. This is important because models that are not updated and monitored can become outdated or less accurate over time, leading to poor predictions and decreased value.\n",
    "\n",
    "### In summary, model deployment is an essential step in the machine learning workflow that allows a trained model to be applied to real-world problems and generate value, while also enabling it to be monitored and updated as needed to maintain its accuracy and usefulness."
   ]
  },
  {
   "attachments": {},
   "cell_type": "markdown",
   "metadata": {},
   "source": [
    "<a id=\"8\"></a>\n",
    "\n",
    "# <p style=\"padding:10px;background-color:#87CEEB ;margin:10;color:#000000;font-family:newtimeroman;font-size:100%;text-align:center;border-radius: 10px 10px ;overflow:hidden;font-weight:50\">Question 8</p>"
   ]
  },
  {
   "attachments": {},
   "cell_type": "markdown",
   "metadata": {},
   "source": [
    "## Question 8 : Explain how multi-cloud platforms are used for model deployment.\n",
    "---"
   ]
  },
  {
   "attachments": {},
   "cell_type": "markdown",
   "metadata": {},
   "source": [
    "## Answer :"
   ]
  },
  {
   "attachments": {},
   "cell_type": "markdown",
   "metadata": {},
   "source": [
    "### Multi-cloud platforms are used for model deployment to provide a flexible, scalable, and reliable environment for hosting machine learning models. These platforms enable organizations to deploy models across multiple cloud providers, reducing the risk of vendor lock-in and ensuring that the models are always available and responsive to changing demands.\n",
    "\n",
    "### Here are some key features and benefits of multi-cloud platforms for model deployment:\n",
    "\n",
    "1. Flexibility: Multi-cloud platforms allow organizations to deploy models across multiple cloud providers, giving them the flexibility to choose the best cloud services for their needs. This helps to avoid vendor lock-in and ensures that organizations can easily switch cloud providers as needed.\n",
    "\n",
    "2. Scalability: Multi-cloud platforms provide an elastic environment for hosting machine learning models, allowing organizations to scale up or down as needed to handle changing workloads. This helps to ensure that models are always available and responsive to user demands.\n",
    "\n",
    "3. Reliability: Multi-cloud platforms are designed to provide high availability and fault tolerance, ensuring that models are always accessible and can recover from failures quickly. This helps to minimize downtime and ensures that models are always available to users.\n",
    "\n",
    "4. Cost-effective: Multi-cloud platforms can help to reduce the cost of hosting machine learning models by optimizing resource utilization and providing cost-effective pricing models. This helps to ensure that organizations can achieve their goals while staying within their budget.\n",
    "\n",
    "5. Easy to use: Multi-cloud platforms typically provide a user-friendly interface for deploying and managing machine learning models, making it easy for organizations to get started and scale up quickly. This helps to ensure that organizations can focus on their core business and achieve their goals without worrying about the technical details of model deployment.\n",
    "\n",
    "### In summary, multi-cloud platforms provide a flexible, scalable, and reliable environment for model deployment, allowing organizations to deploy models across multiple cloud providers, optimize resource utilization, and achieve their goals while staying within their budget."
   ]
  },
  {
   "attachments": {},
   "cell_type": "markdown",
   "metadata": {},
   "source": [
    "<a id=\"9\"></a>\n",
    "\n",
    "# <p style=\"padding:10px;background-color:#87CEEB ;margin:10;color:#000000;font-family:newtimeroman;font-size:100%;text-align:center;border-radius: 10px 10px ;overflow:hidden;font-weight:50\">Question 9</p>"
   ]
  },
  {
   "attachments": {},
   "cell_type": "markdown",
   "metadata": {},
   "source": [
    "## Question 9 : Discuss the benefits and challenges of deploying machine learning models in a multi-cloud environment\n",
    "---"
   ]
  },
  {
   "attachments": {},
   "cell_type": "markdown",
   "metadata": {},
   "source": [
    "## Answer :"
   ]
  },
  {
   "attachments": {},
   "cell_type": "markdown",
   "metadata": {},
   "source": [
    "### Multi-cloud platforms are used for model deployment to provide a flexible, scalable, and reliable environment for hosting machine learning models. These platforms enable organizations to deploy models across multiple cloud providers, reducing the risk of vendor lock-in and ensuring that the models are always available and responsive to changing demands.\n",
    "\n",
    "### Here are some key features and benefits of multi-cloud platforms for model deployment:\n",
    "\n",
    "1. Flexibility: Multi-cloud platforms allow organizations to deploy models across multiple cloud providers, giving them the flexibility to choose the best cloud services for their needs. This helps to avoid vendor lock-in and ensures that organizations can easily switch cloud providers as needed.\n",
    "\n",
    "2. Scalability: Multi-cloud platforms provide an elastic environment for hosting machine learning models, allowing organizations to scale up or down as needed to handle changing workloads. This helps to ensure that models are always available and responsive to user demands.\n",
    "\n",
    "3. Reliability: Multi-cloud platforms are designed to provide high availability and fault tolerance, ensuring that models are always accessible and can recover from failures quickly. This helps to minimize downtime and ensures that models are always available to users.\n",
    "\n",
    "4. Cost-effective: Multi-cloud platforms can help to reduce the cost of hosting machine learning models by optimizing resource utilization and providing cost-effective pricing models. This helps to ensure that organizations can achieve their goals while staying within their budget.\n",
    "\n",
    "5. Easy to use: Multi-cloud platforms typically provide a user-friendly interface for deploying and managing machine learning models, making it easy for organizations to get started and scale up quickly. This helps to ensure that organizations can focus on their core business and achieve their goals without worrying about the technical details of model deployment.\n",
    "\n",
    "### In summary, multi-cloud platforms provide a flexible, scalable, and reliable environment for model deployment, allowing organizations to deploy models across multiple cloud providers, optimize resource utilization, and achieve their goals while staying within their budget."
   ]
  }
 ],
 "metadata": {
  "kernelspec": {
   "display_name": "venv",
   "language": "python",
   "name": "python3"
  },
  "language_info": {
   "codemirror_mode": {
    "name": "ipython",
    "version": 3
   },
   "file_extension": ".py",
   "mimetype": "text/x-python",
   "name": "python",
   "nbconvert_exporter": "python",
   "pygments_lexer": "ipython3",
   "version": "3.10.7"
  },
  "orig_nbformat": 4
 },
 "nbformat": 4,
 "nbformat_minor": 2
}

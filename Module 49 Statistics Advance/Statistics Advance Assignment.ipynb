{
 "cells": [
  {
   "cell_type": "code",
   "execution_count": null,
   "metadata": {},
   "outputs": [],
   "source": []
  },
  {
   "cell_type": "markdown",
   "metadata": {},
   "source": [
    "### Q1. Explain the assumptions required to use ANOVA and provide examples of violations that could impact the validity of the results.\n",
    "\n",
    "**Assumptions:**\n",
    "1. **Independence of Observations:** The data collected from different groups should be independent of each other.\n",
    "   - *Violation Example:* If the data from different groups are related or influenced by the same factors, the independence assumption is violated.\n",
    "2. **Normality:** The data within each group should be approximately normally distributed.\n",
    "   - *Violation Example:* If the data are heavily skewed or have outliers, the normality assumption is violated.\n",
    "3. **Homogeneity of Variances (Homoscedasticity):** The variances among the groups should be approximately equal.\n",
    "   - *Violation Example:* If one group has much larger variance compared to others, the homogeneity of variances assumption is violated.\n",
    "4. **Random Sampling:** The samples should be randomly selected from the population.\n",
    "   - *Violation Example:* If the samples are chosen based on convenience or other non-random methods, this assumption is violated.\n"
   ]
  },
  {
   "cell_type": "markdown",
   "metadata": {},
   "source": [
    "### Q2. What are the three types of ANOVA, and in what situations would each be used?\n",
    "\n",
    "1. **One-Way ANOVA:** Used to compare means of three or more independent (unrelated) groups based on one independent variable.\n",
    "   - *Situation:* Comparing test scores of students from different schools.\n",
    "2. **Two-Way ANOVA:** Used to examine the effect of two different independent variables on one dependent variable, and to understand if there is an interaction between them.\n",
    "   - *Situation:* Studying the impact of teaching method and gender on student performance.\n",
    "3. **Repeated Measures ANOVA:** Used when the same subjects are used for each treatment (e.g., multiple measurements of the same subjects over time).\n",
    "   - *Situation:* Measuring blood pressure of patients before and after treatment at multiple intervals.\n"
   ]
  },
  {
   "cell_type": "markdown",
   "metadata": {},
   "source": [
    "### Q3. What is the partitioning of variance in ANOVA, and why is it important to understand this concept?\n",
    "\n",
    "**Partitioning of Variance:**\n",
    "ANOVA works by partitioning the total variability in the data into components attributable to different sources of variation. The main components are:\n",
    "- **Total Sum of Squares (SST):** Total variability in the data.\n",
    "- **Between-Group Sum of Squares (SSB):** Variability due to differences between the groups.\n",
    "- **Within-Group Sum of Squares (SSW):** Variability within each group.\n",
    "\n",
    "**Importance:**\n",
    "Understanding the partitioning of variance helps in determining how much of the total variability is explained by the differences between the groups and how much is due to random error or within-group variability. It is crucial for interpreting the results of an ANOVA test.\n"
   ]
  },
  {
   "cell_type": "code",
   "execution_count": null,
   "metadata": {},
   "outputs": [],
   "source": [
    "### Q4. How would you calculate the total sum of squares (SST), explained sum of squares (SSE), and residual sum of squares (SSR) in a one-way ANOVA using Python?\n",
    "\n",
    "import numpy as np\n",
    "import pandas as pd\n",
    "import statsmodels.api as sm\n",
    "from statsmodels.formula.api import ols\n",
    "\n",
    "# Example data\n",
    "data = {'Group': ['A', 'A', 'A', 'B', 'B', 'B', 'C', 'C', 'C'],\n",
    "        'Value': [23, 20, 22, 30, 28, 27, 33, 35, 37]}\n",
    "df = pd.DataFrame(data)\n",
    "\n",
    "# Perform one-way ANOVA\n",
    "model = ols('Value ~ C(Group)', data=df).fit()\n",
    "anova_table = sm.stats.anova_lm(model, typ=2)\n",
    "\n",
    "# Calculate sums of squares\n",
    "SST = np.sum((df['Value'] - df['Value'].mean())**2)\n",
    "SSE = np.sum((model.fittedvalues - df['Value'].mean())**2)\n",
    "SSR = np.sum((df['Value'] - model.fittedvalues)**2)\n",
    "\n",
    "print(f'Total Sum of Squares (SST): {SST}')\n",
    "print(f'Explained Sum of Squares (SSE): {SSE}')\n",
    "print(f'Residual Sum of Squares (SSR): {SSR}')\n"
   ]
  },
  {
   "cell_type": "markdown",
   "metadata": {},
   "source": [
    "### Q5. In a two-way ANOVA, how would you calculate the main effects and interaction effects using Python?\n",
    "\n",
    "```python\n",
    "import pandas as pd\n",
    "import statsmodels.api as sm\n",
    "from statsmodels.formula.api import ols\n",
    "\n",
    "# Example data\n",
    "data = {'Factor1': ['A', 'A', 'A', 'B', 'B', 'B', 'C', 'C', 'C'],\n",
    "        'Factor2': ['X', 'X', 'Y', 'X', 'Y', 'Y', 'X', 'X', 'Y'],\n",
    "        'Value': [23, 20, 22, 30, 28, 27, 33, 35, 37]}\n",
    "df = pd.DataFrame(data)\n",
    "\n",
    "# Perform two-way ANOVA\n",
    "model = ols('Value ~ C(Factor1) + C(Factor2) + C(Factor1):C(Factor2)', data=df).fit()\n",
    "anova_table = sm.stats.anova_lm(model, typ=2)\n",
    "\n",
    "print(anova_table)\n"
   ]
  },
  {
   "cell_type": "markdown",
   "metadata": {
    "vscode": {
     "languageId": "sql"
    }
   },
   "source": [
    "\n",
    "\n",
    "### Q6. Suppose you conducted a one-way ANOVA and obtained an F-statistic of 5.23 and a p-value of 0.02. What can you conclude about the differences between the groups, and how would you interpret these results?\n",
    "\n",
    "With an F-statistic of 5.23 and a p-value of 0.02, we can reject the null hypothesis at the 5% significance level. This means there is a statistically significant difference between the means of the groups. However, it does not tell us which specific groups are different from each other. Further post-hoc tests are needed to determine the specific group differences.\n"
   ]
  },
  {
   "cell_type": "markdown",
   "metadata": {},
   "source": [
    "### Q7. In a repeated measures ANOVA, how would you handle missing data, and what are the potential consequences of using different methods to handle missing data?\n",
    "\n",
    "**Handling Missing Data:**\n",
    "1. **Listwise Deletion:** Excluding subjects with any missing data.\n",
    "   - *Consequence:* Reduces sample size and may introduce bias if the missing data are not random.\n",
    "2. **Mean Imputation:** Replacing missing values with the mean of the observed values.\n",
    "   - *Consequence:* Reduces variability and can lead to biased parameter estimates.\n",
    "3. **Multiple Imputation:** Creating multiple datasets with imputed values and combining the results.\n",
    "   - *Consequence:* More accurate and less biased estimates, but more complex to implement.\n",
    "4. **Mixed-Effects Models:** Using models that can handle missing data within subjects.\n",
    "   - *Consequence:* More flexible and can produce unbiased estimates, but requires more complex modeling.\n",
    "\n",
    "The choice of method depends on the amount and pattern of missing data, as well as the research context.\n"
   ]
  },
  {
   "cell_type": "markdown",
   "metadata": {},
   "source": [
    "### Q8. What are some common post-hoc tests used after ANOVA, and when would you use each one? Provide an example of a situation where a post-hoc test might be necessary.\n",
    "\n",
    "**Common Post-Hoc Tests:**\n",
    "1. **Tukey's HSD (Honestly Significant Difference):** Used when comparing all possible pairs of group means.\n",
    "   - *Situation:* After finding significant differences in test scores across multiple teaching methods.\n",
    "2. **Bonferroni Correction:** Adjusts p-values to control for Type I error when performing multiple comparisons.\n",
    "   - *Situation:* Comparing the effects of different diets on weight loss in a clinical trial.\n",
    "3. **Scheffé Test:** More conservative and flexible, suitable for complex comparisons.\n",
    "   - *Situation:* Comparing group means when sample sizes are unequal and multiple comparisons are needed.\n",
    "4. **Dunnett's Test:** Compares each treatment group mean to a control group mean.\n",
    "   - *Situation:* Comparing the effectiveness of several new drugs to a standard treatment.\n",
    "\n",
    "**Example:**\n",
    "After conducting a one-way ANOVA on test scores from students in different schools, a significant difference is found. A post-hoc Tukey's HSD test can be used to determine which specific schools' test scores differ from each other.\n"
   ]
  },
  {
   "cell_type": "code",
   "execution_count": null,
   "metadata": {},
   "outputs": [],
   "source": [
    "### Q9. A researcher wants to compare the mean weight loss of three diets: A, B, and C. They collect data from 50 participants who were randomly assigned to one of the diets. Conduct a one-way ANOVA using Python to determine if there are any significant differences between the mean weight loss of the three diets. Report the F-statistic and p-value, and interpret the results.\n",
    "\n",
    "import pandas as pd\n",
    "import numpy as np\n",
    "import statsmodels.api as sm\n",
    "from statsmodels.formula.api import ols\n",
    "\n",
    "# Example data\n",
    "np.random.seed(0)\n",
    "data = {\n",
    "    'Diet': np.repeat(['A', 'B', 'C'], repeats=50),\n",
    "    'WeightLoss': np.random.normal(loc=[5, 6, 7], scale=1, size=150)\n",
    "}\n",
    "df = pd.DataFrame(data)\n",
    "\n",
    "# Perform one-way ANOVA\n",
    "model = ols('WeightLoss ~ C(Diet)', data=df).fit()\n",
    "anova_table = sm.stats.anova_lm(model, typ=2)\n",
    "\n",
    "F_statistic = anova_table['F'][0]\n",
    "p_value = anova_table['PR(>F)'][0]\n",
    "\n",
    "print(f'F-statistic: {F_statistic}')\n",
    "print(f'p-value: {p_value}')\n",
    "\n",
    "# Interpretation:\n",
    "# With the F-statistic and p-value, we can determine if there are significant differences between the diets.\n",
    "# If the p-value is less than 0.05, we reject the null hypothesis and conclude that there are significant differences between the mean weight loss of the three diets.\n"
   ]
  },
  {
   "cell_type": "code",
   "execution_count": null,
   "metadata": {},
   "outputs": [],
   "source": [
    "\n",
    "\n",
    "### Q10. A company wants to know if there are any significant differences in the average time it takes to complete a task using three different software programs: Program A, Program B, and Program C. They randomly assign 30 employees to one of the programs and record the time it takes each employee to complete the task. Conduct a two-way ANOVA using Python to determine if there are any main effects or interaction effects between the software programs and employee experience level (novice vs. experienced). Report the F-statistics and p-values, and interpret the results.\n",
    "\n",
    "import pandas as pd\n",
    "import numpy as np\n",
    "import statsmodels.api as sm\n",
    "from statsmodels.formula.api import ols\n",
    "\n",
    "# Example data\n",
    "np.random.seed(0)\n",
    "data = {\n",
    "    'Program': np.repeat(['A', 'B', 'C'], repeats=30),\n",
    "    'Experience': np.tile(np.repeat(['Novice', 'Experienced'], repeats=15), 3),\n",
    "    'Time': np.random.normal(loc=[20, 18, 15, 22, 20, 17], scale=2, size=90)\n",
    "}\n",
    "df = pd.DataFrame(data)\n",
    "\n",
    "# Perform two-way ANOVA\n",
    "model = ols('Time ~ C(Program) + C(Experience) + C(Program):C(Experience)', data=df).fit()\n",
    "anova_table = sm.stats.anova_lm(model, typ=2)\n",
    "\n",
    "print(anova_table)\n",
    "\n",
    "# Interpretation:\n",
    "# The ANOVA table provides the F-statistics and p-values for the main effects of Program and Experience, as well as their interaction effect.\n",
    "# Significant p-values (less than 0.05) indicate significant effects.\n"
   ]
  },
  {
   "cell_type": "code",
   "execution_count": null,
   "metadata": {},
   "outputs": [],
   "source": [
    "\n",
    "### Q11. An educational researcher is interested in whether a new teaching method improves student test scores. They randomly assign 100 students to either the control group (traditional teaching method) or the experimental group (new teaching method) and administer a test at the end of the semester. Conduct a two-sample t-test using Python to determine if there are any significant differences in test scores between the two groups. If the results are significant, follow up with a post-hoc test to determine which group(s) differ significantly from each other.\n",
    "\n",
    "import pandas as pd\n",
    "import numpy as np\n",
    "from scipy import stats\n",
    "\n",
    "# Example data\n",
    "np.random.seed(0)\n",
    "data = {\n",
    "    'Group': np.repeat(['Control', 'Experimental'], 50),\n",
    "    'Score': np.concatenate([np.random.normal(loc=70, scale=10, size=50), np.random.normal(loc=75, scale=10, size=50)])\n",
    "}\n",
    "df = pd.DataFrame(data)\n",
    "\n",
    "# Perform two-sample t-test\n",
    "control = df[df['Group'] == 'Control']['Score']\n",
    "experimental = df[df['Group'] == 'Experimental']['Score']\n",
    "t_stat, p_value = stats.ttest_ind(control, experimental)\n",
    "\n",
    "print(f't-statistic: {t_stat}')\n",
    "print(f'p-value: {p_value}')\n",
    "\n",
    "# Interpretation:\n",
    "if p_value < 0.05:\n",
    "    print(\"There is a significant difference in test scores between the two groups.\")\n",
    "else:\n",
    "    print(\"There is no significant difference in test scores between the two groups.\")\n"
   ]
  },
  {
   "cell_type": "code",
   "execution_count": null,
   "metadata": {},
   "outputs": [],
   "source": [
    "\n",
    "### Q12. A researcher wants to know if there are any significant differences in the average daily sales of three retail stores: Store A, Store B, and Store C. They randomly select 30 days and record the sales for each store on those days. Conduct a repeated measures ANOVA using Python to determine if there are any significant differences in sales between the three stores. If the results are significant, follow up with a post-hoc test to determine which store(s) differ significantly from each other.\n",
    "\n",
    "import pandas as pd\n",
    "import numpy as np\n",
    "import statsmodels.api as sm\n",
    "from statsmodels.formula.api import ols\n",
    "from statsmodels.stats.anova import AnovaRM\n",
    "\n",
    "# Example data\n",
    "np.random.seed(0)\n",
    "days = np.tile(np.arange(1, 31), 3)\n",
    "store = np.repeat(['A', 'B', 'C'], 30)\n",
    "sales = np.random.normal(loc=[200, 220, 210], scale=20, size=90)\n",
    "data = {'Day': days, 'Store': store, 'Sales': sales}\n",
    "df = pd.DataFrame(data)\n",
    "\n",
    "# Perform repeated measures ANOVA\n",
    "aovrm = AnovaRM(df, 'Sales', 'Day', within=['Store'])\n",
    "res = aovrm.fit()\n",
    "\n",
    "print(res)\n"
   ]
  }
 ],
 "metadata": {
  "kernelspec": {
   "display_name": "Python 3",
   "language": "python",
   "name": "python3"
  },
  "language_info": {
   "codemirror_mode": {
    "name": "ipython",
    "version": 3
   },
   "file_extension": ".py",
   "mimetype": "text/x-python",
   "name": "python",
   "nbconvert_exporter": "python",
   "pygments_lexer": "ipython3",
   "version": "3.12.3"
  }
 },
 "nbformat": 4,
 "nbformat_minor": 2
}

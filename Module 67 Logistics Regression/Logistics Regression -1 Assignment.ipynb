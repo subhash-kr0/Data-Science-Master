{
 "cells": [
  {
   "attachments": {},
   "cell_type": "markdown",
   "metadata": {},
   "source": [
    "[Assignment pdf link](01%20Apr_AssQ.pdf)"
   ]
  },
  {
   "attachments": {},
   "cell_type": "markdown",
   "metadata": {},
   "source": [
    "<a id=\"1\"></a>\n",
    "\n",
    "# <p style=\"padding:10px;background-color:#87CEEB ;margin:10;color:#000000;font-family:newtimeroman;font-size:100%;text-align:center;border-radius: 10px 10px ;overflow:hidden;font-weight:50\">Question 1</p>"
   ]
  },
  {
   "attachments": {},
   "cell_type": "markdown",
   "metadata": {},
   "source": [
    "## Question 1 : Explain the difference between linear regression and logistic regression models. Provide an example of a scenario where logistic regression would be more appropriate.\n",
    "---"
   ]
  },
  {
   "attachments": {},
   "cell_type": "markdown",
   "metadata": {},
   "source": [
    "## Answer :"
   ]
  },
  {
   "attachments": {},
   "cell_type": "markdown",
   "metadata": {},
   "source": [
    "### Linear regression and logistic regression are two common types of regression models in statistics and machine learning. Linear regression is used to model the relationship between a continuous dependent variable and one or more independent variables, while logistic regression is used to model the probability of a binary outcome based on one or more independent variables.\n",
    "\n",
    "### In linear regression, the goal is to find the best line that fits the data points in a way that minimizes the sum of squared differences between the predicted values and the actual values. The output of a linear regression model is a continuous variable that can take any value within a range. For example, if we are predicting house prices based on the number of bedrooms, the output of the linear regression model could be any value greater than or equal to zero.\n",
    "\n",
    "### In logistic regression, the goal is to model the probability of a binary outcome (i.e., 0 or 1) based on one or more independent variables. The output of a logistic regression model is a probability value between 0 and 1, which represents the likelihood of the binary outcome occurring. For example, if we are predicting whether a customer will buy a product based on their age, the output of the logistic regression model could be a probability value between 0 and 1.\n",
    "\n",
    "### Logistic regression would be more appropriate than linear regression in scenarios where the dependent variable is binary or categorical. For example, if we are trying to predict whether a customer will churn (i.e., stop using a product or service) based on their demographics and usage patterns, logistic regression would be a more appropriate model than linear regression. In this case, the output of the logistic regression model would be a probability value representing the likelihood of churn, rather than a continuous variable like house prices. The probability value could then be used to make decisions, such as whether to offer the customer a retention incentive."
   ]
  },
  {
   "attachments": {},
   "cell_type": "markdown",
   "metadata": {},
   "source": [
    "| Linear Regression | Logistic Regression |\n",
    "| --- | --- |\n",
    "| Used to model the relationship between a continuous dependent variable and one or more independent variables | Used to model the probability of a binary outcome based on one or more independent variables |\n",
    "| The output is a continuous variable that can take any value within a range | The output is a probability value between 0 and 1, which represents the likelihood of the binary outcome occurring |\n",
    "| Used when the dependent variable is continuous | Used when the dependent variable is binary or categorical |\n",
    "| Example scenario: Predicting house prices based on the number of bedrooms | Example scenario: Predicting whether a customer will churn based on their demographics and usage patterns |\n",
    "| The goal is to find the best line that fits the data points in a way that minimizes the sum of squared differences between the predicted values and the actual values | The goal is to model the probability of a binary outcome by finding the coefficients that maximize the likelihood of the observed data |"
   ]
  },
  {
   "attachments": {},
   "cell_type": "markdown",
   "metadata": {},
   "source": [
    "<a id=\"2\"></a>\n",
    "\n",
    "# <p style=\"padding:10px;background-color:#87CEEB ;margin:10;color:#000000;font-family:newtimeroman;font-size:100%;text-align:center;border-radius: 10px 10px ;overflow:hidden;font-weight:50\">Question 2</p>"
   ]
  },
  {
   "attachments": {},
   "cell_type": "markdown",
   "metadata": {},
   "source": [
    "## Question 2 : What is the cost function used in logistic regression, and how is it optimized?\n",
    "---"
   ]
  },
  {
   "attachments": {},
   "cell_type": "markdown",
   "metadata": {},
   "source": [
    "## Answer :"
   ]
  },
  {
   "attachments": {},
   "cell_type": "markdown",
   "metadata": {},
   "source": [
    "### In logistic regression, the cost function is called the \"logistic loss\" or \"cross-entropy loss\" function. It measures the difference between the predicted probability values and the actual binary labels for the training data.\n",
    "\n",
    "### The logistic loss function is defined as follows:\n",
    "\n",
    "$ L(y, \\hat{y}) = -y\\log(\\hat{y}) - (1-y)\\log(1-\\hat{y}) $\n",
    "\n",
    "where y is the actual binary label (0 or 1) and $\\hat{y}$ is the predicted probability of the positive class (y=1) given the input features x.\n",
    "\n",
    "### The goal of logistic regression is to find the values of the coefficients (i.e., the parameters) that minimize the logistic loss function. This is typically done using an optimization algorithm called gradient descent. Gradient descent iteratively updates the parameter values in the direction of steepest descent, moving towards the minimum of the cost function. The steps of gradient descent are as follows:\n",
    "\n",
    "1. Initialize the coefficients to some values.\n",
    "\n",
    "2. Calculate the predicted probabilities for the training data using the current coefficients.\n",
    "\n",
    "3. Calculate the gradient of the cost function with respect to each coefficient.\n",
    "\n",
    "4. Update each coefficient by subtracting a fraction (the learning rate) of the gradient from its current value.\n",
    "\n",
    "5. Repeat steps 2-4 until convergence (i.e., until the cost function stops decreasing or a maximum number of iterations is reached).\n",
    "\n",
    "### There are also other optimization algorithms that can be used to optimize the logistic loss function, such as Newton's method and quasi-Newton methods. However, gradient descent is the most commonly used method due to its simplicity and efficiency.\n"
   ]
  },
  {
   "attachments": {},
   "cell_type": "markdown",
   "metadata": {},
   "source": [
    "### Below is python code to show gradient descent on classification"
   ]
  },
  {
   "cell_type": "code",
   "execution_count": 1,
   "metadata": {},
   "outputs": [
    {
     "name": "stdout",
     "output_type": "stream",
     "text": [
      "Gradient Descent Started :\n",
      "\n",
      "Iteration 0: Cost = 0.6931471805599454\n",
      "Iteration 100: Cost = 0.489228969945083\n",
      "Iteration 200: Cost = 0.40277355944797244\n",
      "Iteration 300: Cost = 0.3562210023881882\n",
      "Iteration 400: Cost = 0.32707966233737573\n",
      "Iteration 500: Cost = 0.30703196280507666\n",
      "Iteration 600: Cost = 0.29234129361923306\n",
      "Iteration 700: Cost = 0.2810837738856507\n",
      "Iteration 800: Cost = 0.2721663633092551\n",
      "Iteration 900: Cost = 0.26492048132802504\n",
      "Iteration 1000: Cost = 0.2589131268617424\n",
      "Iteration 1100: Cost = 0.2538508415278195\n",
      "Iteration 1200: Cost = 0.24952726646747267\n",
      "Iteration 1300: Cost = 0.24579279442177357\n",
      "Iteration 1400: Cost = 0.24253614467684476\n",
      "Iteration 1500: Cost = 0.2396727165708129\n",
      "Iteration 1600: Cost = 0.23713697076807894\n",
      "Iteration 1700: Cost = 0.2348772959361524\n",
      "Iteration 1800: Cost = 0.23285246001893026\n",
      "Iteration 1900: Cost = 0.23102910102123464\n",
      "Iteration 2000: Cost = 0.22937991706639418\n",
      "Iteration 2100: Cost = 0.22788233744757985\n",
      "Iteration 2200: Cost = 0.22651753117816423\n",
      "Iteration 2300: Cost = 0.22526965662657134\n",
      "Iteration 2400: Cost = 0.2241252861682656\n",
      "Iteration 2500: Cost = 0.22307295976996017\n",
      "Iteration 2600: Cost = 0.22210283483533882\n",
      "Iteration 2700: Cost = 0.22120640880634465\n",
      "Iteration 2800: Cost = 0.2203762973771233\n",
      "Iteration 2900: Cost = 0.21960605566126803\n",
      "Iteration 3000: Cost = 0.21889003285556324\n",
      "Iteration 3100: Cost = 0.218223253259923\n",
      "Iteration 3200: Cost = 0.2176013182085066\n",
      "Iteration 3300: Cost = 0.21702032472118488\n",
      "Iteration 3400: Cost = 0.21647679762185018\n",
      "Iteration 3500: Cost = 0.21596763257721835\n",
      "Iteration 3600: Cost = 0.2154900480480427\n",
      "Iteration 3700: Cost = 0.21504154455779814\n",
      "Iteration 3800: Cost = 0.21461987000349203\n",
      "Iteration 3900: Cost = 0.21422298998231737\n",
      "Iteration 4000: Cost = 0.21384906230331954\n",
      "Iteration 4100: Cost = 0.2134964150076505\n",
      "Iteration 4200: Cost = 0.2131635273437138\n",
      "Iteration 4300: Cost = 0.2128490132416518\n",
      "Iteration 4400: Cost = 0.21255160691054242\n",
      "Iteration 4500: Cost = 0.21227015024548268\n",
      "Iteration 4600: Cost = 0.21200358178358408\n",
      "Iteration 4700: Cost = 0.21175092699024292\n",
      "Iteration 4800: Cost = 0.2115112896917853\n",
      "Iteration 4900: Cost = 0.21128384449920445\n",
      "Iteration 5000: Cost = 0.2110678300913981\n",
      "Iteration 5100: Cost = 0.2108625432459903\n",
      "Iteration 5200: Cost = 0.21066733352224196\n",
      "Iteration 5300: Cost = 0.21048159851429732\n",
      "Iteration 5400: Cost = 0.21030477960456512\n",
      "Iteration 5500: Cost = 0.21013635815677215\n",
      "Iteration 5600: Cost = 0.20997585209646388\n",
      "Iteration 5700: Cost = 0.20982281283372253\n",
      "Iteration 5800: Cost = 0.20967682248882163\n",
      "Iteration 5900: Cost = 0.20953749138662167\n",
      "Iteration 6000: Cost = 0.20940445578986056\n",
      "Iteration 6100: Cost = 0.2092773758452309\n",
      "Iteration 6200: Cost = 0.2091559337193516\n",
      "Iteration 6300: Cost = 0.20903983190451741\n",
      "Iteration 6400: Cost = 0.20892879167651163\n",
      "Iteration 6500: Cost = 0.20882255168885222\n",
      "Iteration 6600: Cost = 0.20872086668964931\n",
      "Iteration 6700: Cost = 0.20862350634883234\n",
      "Iteration 6800: Cost = 0.20853025418488103\n",
      "Iteration 6900: Cost = 0.20844090658139944\n",
      "Iteration 7000: Cost = 0.20835527188493125\n",
      "Iteration 7100: Cost = 0.20827316957633746\n",
      "Iteration 7200: Cost = 0.2081944295088805\n",
      "Iteration 7300: Cost = 0.20811889120687493\n",
      "Iteration 7400: Cost = 0.20804640321940143\n",
      "Iteration 7500: Cost = 0.20797682252414518\n",
      "Iteration 7600: Cost = 0.20791001397691772\n",
      "Iteration 7700: Cost = 0.20784584980286344\n",
      "Iteration 7800: Cost = 0.20778420912574774\n",
      "Iteration 7900: Cost = 0.2077249775320712\n",
      "Iteration 8000: Cost = 0.2076680466670718\n",
      "Iteration 8100: Cost = 0.20761331385995016\n",
      "Iteration 8200: Cost = 0.2075606817759101\n",
      "Iteration 8300: Cost = 0.20751005809282333\n",
      "Iteration 8400: Cost = 0.20746135520053338\n",
      "Iteration 8500: Cost = 0.20741448992099096\n",
      "Iteration 8600: Cost = 0.20736938324757664\n",
      "Iteration 8700: Cost = 0.2073259601021116\n",
      "Iteration 8800: Cost = 0.20728414910818999\n",
      "Iteration 8900: Cost = 0.20724388237958394\n",
      "Iteration 9000: Cost = 0.20720509532258077\n",
      "Iteration 9100: Cost = 0.20716772645120718\n",
      "Iteration 9200: Cost = 0.20713171721438603\n",
      "Iteration 9300: Cost = 0.20709701183414728\n",
      "Iteration 9400: Cost = 0.20706355715409097\n",
      "Iteration 9500: Cost = 0.20703130249736204\n",
      "Iteration 9600: Cost = 0.20700019953345888\n",
      "Iteration 9700: Cost = 0.20697020215325226\n",
      "Iteration 9800: Cost = 0.20694126635163734\n",
      "Iteration 9900: Cost = 0.20691335011729206\n",
      "Iteration 10000: Cost = 0.20688641332905144\n",
      "\n",
      "========================================================================================\n",
      "\n",
      "Custom implementation coefficients: [0.1753046  3.26004945 0.7416051  0.26817647]\n",
      "Scikit-learn coefficients: [0.01156857 3.36537497 0.73031294 0.26007457]\n",
      "\n",
      "========================================================================================\n",
      "\n",
      "Custom implementation accuracy: 0.91\n",
      "Scikit-learn accuracy: 0.912\n"
     ]
    }
   ],
   "source": [
    "from sklearn.datasets import make_classification\n",
    "from sklearn.linear_model import LogisticRegression\n",
    "from sklearn.metrics import accuracy_score\n",
    "import numpy as np\n",
    "\n",
    "# Generate some random classification data\n",
    "X, y = make_classification(n_samples=1000, n_features=3,n_informative=3, n_redundant=0, n_classes=2, random_state=42)\n",
    "\n",
    "# Add a column of ones for the bias term\n",
    "X = np.hstack((np.ones((X.shape[0], 1)), X))\n",
    "\n",
    "# Train a logistic regression model using scikit-learn\n",
    "lr_sklearn = LogisticRegression(solver='saga',max_iter=1000)\n",
    "lr_sklearn.fit(X, y)\n",
    "\n",
    "# Define the logistic loss function\n",
    "def logistic_loss(y_true, y_pred):\n",
    "    return -np.mean(y_true * np.log(y_pred) + (1-y_true) * np.log(1-y_pred))\n",
    "\n",
    "# Initialize the coefficients to zero\n",
    "theta = np.zeros(X.shape[1])\n",
    "\n",
    "# Set the learning rate and the number of iterations\n",
    "learning_rate = 0.01\n",
    "n_iterations = 10000\n",
    "\n",
    "print('Gradient Descent Started :\\n')\n",
    "cost_function = []\n",
    "# Perform gradient descent\n",
    "for i in range(n_iterations+1):\n",
    "    # Calculate the predicted probabilities using the current coefficients\n",
    "    y_pred = 1 / (1 + np.exp(-np.dot(X, theta)))\n",
    "    \n",
    "    # Calculate the gradient of the cost function with respect to each coefficient\n",
    "    grad = np.dot(X.T, y_pred - y) / len(y)\n",
    "    \n",
    "    # Update each coefficient using the gradient and the learning rate\n",
    "    theta -= learning_rate * grad\n",
    "      \n",
    "    # Calculate the cost (logistic loss) and print it every 1000 iterations    \n",
    "    if i % 100 == 0:\n",
    "        cost = logistic_loss(y, y_pred)\n",
    "        cost_function.append(cost)\n",
    "        print(f\"Iteration {i}: Cost = {cost}\")\n",
    "\n",
    "print('\\n========================================================================================\\n')\n",
    "\n",
    "# Print the final coefficients obtained by the custom implementation\n",
    "print(\"Custom implementation coefficients:\", theta)\n",
    "\n",
    "# Print the coefficients obtained by scikit-learn\n",
    "print(\"Scikit-learn coefficients:\", lr_sklearn.coef_.flatten())\n",
    "\n",
    "# Calculate the predicted probabilities using the custom implementation\n",
    "y_pred_custom = 1 / (1 + np.exp(-np.dot(X, theta)))\n",
    "\n",
    "\n",
    "print('\\n========================================================================================\\n')\n",
    "# Calculate the accuracy using the custom implementation\n",
    "acc_custom = accuracy_score(y, np.round(y_pred_custom))\n",
    "print(\"Custom implementation accuracy:\", acc_custom)\n",
    "\n",
    "# Calculate the predicted probabilities using scikit-learn\n",
    "y_pred_sklearn = lr_sklearn.predict_proba(X)[:, 1]\n",
    "\n",
    "# Calculate the accuracy using scikit-learn\n",
    "acc_sklearn = accuracy_score(y, np.round(y_pred_sklearn))\n",
    "print(\"Scikit-learn accuracy:\", acc_sklearn)"
   ]
  },
  {
   "cell_type": "code",
   "execution_count": 2,
   "metadata": {},
   "outputs": [
    {
     "data": {
      "text/html": [
       "<div>\n",
       "<style scoped>\n",
       "    .dataframe tbody tr th:only-of-type {\n",
       "        vertical-align: middle;\n",
       "    }\n",
       "\n",
       "    .dataframe tbody tr th {\n",
       "        vertical-align: top;\n",
       "    }\n",
       "\n",
       "    .dataframe thead th {\n",
       "        text-align: right;\n",
       "    }\n",
       "</style>\n",
       "<table border=\"1\" class=\"dataframe\">\n",
       "  <thead>\n",
       "    <tr style=\"text-align: right;\">\n",
       "      <th></th>\n",
       "      <th>scikit-learn-coef</th>\n",
       "      <th>gradient-descent</th>\n",
       "    </tr>\n",
       "  </thead>\n",
       "  <tbody>\n",
       "    <tr>\n",
       "      <th>0</th>\n",
       "      <td>0.011569</td>\n",
       "      <td>0.175305</td>\n",
       "    </tr>\n",
       "    <tr>\n",
       "      <th>1</th>\n",
       "      <td>3.365375</td>\n",
       "      <td>3.260049</td>\n",
       "    </tr>\n",
       "    <tr>\n",
       "      <th>2</th>\n",
       "      <td>0.730313</td>\n",
       "      <td>0.741605</td>\n",
       "    </tr>\n",
       "    <tr>\n",
       "      <th>3</th>\n",
       "      <td>0.260075</td>\n",
       "      <td>0.268176</td>\n",
       "    </tr>\n",
       "  </tbody>\n",
       "</table>\n",
       "</div>"
      ],
      "text/plain": [
       "   scikit-learn-coef  gradient-descent\n",
       "0           0.011569          0.175305\n",
       "1           3.365375          3.260049\n",
       "2           0.730313          0.741605\n",
       "3           0.260075          0.268176"
      ]
     },
     "execution_count": 2,
     "metadata": {},
     "output_type": "execute_result"
    }
   ],
   "source": [
    "import pandas as pd\n",
    "dct = {'scikit-learn-coef':lr_sklearn.coef_.flatten(),\n",
    "       'gradient-descent':theta}\n",
    "df_compare = pd.DataFrame(dct)\n",
    "df_compare"
   ]
  },
  {
   "cell_type": "code",
   "execution_count": 3,
   "metadata": {},
   "outputs": [
    {
     "data": {
      "image/png": "[encoded data removed]",
      "text/plain": [
       "<Figure size 640x480 with 1 Axes>"
      ]
     },
     "metadata": {},
     "output_type": "display_data"
    }
   ],
   "source": [
    "import matplotlib.pyplot as plt\n",
    "epochs = range(0,n_iterations+1,100)\n",
    "plt.plot(epochs,cost_function)\n",
    "plt.title('Learning Curve for Gradient Descent')\n",
    "plt.xlabel('Iterations or Epochs')\n",
    "plt.ylabel('Logistic Loss')\n",
    "plt.grid()\n",
    "plt.show()"
   ]
  },
  {
   "attachments": {},
   "cell_type": "markdown",
   "metadata": {},
   "source": [
    "<a id=\"3\"></a>\n",
    "\n",
    "# <p style=\"padding:10px;background-color:#87CEEB ;margin:10;color:#000000;font-family:newtimeroman;font-size:100%;text-align:center;border-radius: 10px 10px ;overflow:hidden;font-weight:50\">Question 3</p>"
   ]
  },
  {
   "attachments": {},
   "cell_type": "markdown",
   "metadata": {},
   "source": [
    "## Question 3 : Explain the concept of regularization in logistic regression and how it helps prevent overfitting.\n",
    "---"
   ]
  },
  {
   "attachments": {},
   "cell_type": "markdown",
   "metadata": {},
   "source": [
    "## Answer :"
   ]
  },
  {
   "attachments": {},
   "cell_type": "markdown",
   "metadata": {},
   "source": [
    "### Regularization is a technique used to prevent overfitting in machine learning models, including logistic regression. Overfitting occurs when a model learns the noise in the training data and is unable to generalize to new, unseen data. This can happen when the model has too many parameters, which allows it to fit the training data very closely but makes it less likely to generalize well.\n",
    "\n",
    "### There are two common types of regularization used in logistic regression: L1 and L2 regularization. L1 regularization, also known as Lasso regularization, adds a penalty term to the logistic regression cost function that is proportional to the absolute value of the model's coefficients. This penalty encourages the model to have fewer non-zero coefficients, effectively performing feature selection and reducing the complexity of the model.\n",
    "\n",
    "### L2 regularization, also known as Ridge regularization, adds a penalty term to the logistic regression cost function that is proportional to the square of the model's coefficients. This penalty encourages the model to have smaller coefficients overall, effectively reducing the magnitude of the coefficients and smoothing the decision boundary.\n",
    "\n",
    "### Both L1 and L2 regularization help prevent overfitting by discouraging the model from becoming too complex and fitting the noise in the training data. By adding a penalty to the cost function, the model is encouraged to prioritize simpler solutions that generalize better to new, unseen data.\n",
    "\n",
    "### Overall, regularization is a powerful tool that can be used to improve the performance of logistic regression models and prevent overfitting."
   ]
  },
  {
   "attachments": {},
   "cell_type": "markdown",
   "metadata": {},
   "source": [
    "L1 regularization:\n",
    "\n",
    "$J(w) = -\\frac{1}{N} \\sum_{i=1}^N [y_i\\log(\\hat{y}_i) + (1-y_i)\\log(1-\\hat{y}i)] + \\lambda \\sum_{j=1}^p |w_j|$\n",
    "\n",
    "where $N$ is the number of samples, $y_i$ is the true label of the $i$-th sample, $\\hat{y}_i$ is the predicted probability of the $i$-th sample, $p$ is the number of features, $w_j$ is the weight of the $j$-th feature, and $\\lambda$ is the regularization strength.\n",
    "\n",
    "L2 regularization:\n",
    "\n",
    "$J(w) = -\\frac{1}{N} \\sum_{i=1}^N [y_i\\log(\\hat{y}_i) + (1-y_i)\\log(1-\\hat{y}i)] + \\lambda \\sum_{j=1}^p w_j^2$\n",
    "\n",
    "where $N$, $y_i$, $\\hat{y}_i$, $p$, $w_j$, and $\\lambda$ have the same meaning as in the L1 regularization loss function.\n",
    "\n",
    "### Note that the first term in both loss functions is the binary cross-entropy loss, which measures the difference between the predicted probability and the true label. The second term is the regularization penalty, which encourages the weights to be small (in the case of L2) or sparse (in the case of L1)."
   ]
  },
  {
   "attachments": {},
   "cell_type": "markdown",
   "metadata": {},
   "source": [
    "<a id=\"4\"></a>\n",
    "\n",
    "# <p style=\"padding:10px;background-color:#87CEEB ;margin:10;color:#000000;font-family:newtimeroman;font-size:100%;text-align:center;border-radius: 10px 10px ;overflow:hidden;font-weight:50\">Question 4</p>"
   ]
  },
  {
   "attachments": {},
   "cell_type": "markdown",
   "metadata": {},
   "source": [
    "## Question 4 : What is the ROC curve, and how is it used to evaluate the performance of the logistic regression model?\n",
    "---"
   ]
  },
  {
   "attachments": {},
   "cell_type": "markdown",
   "metadata": {},
   "source": [
    "## Answer :"
   ]
  },
  {
   "attachments": {},
   "cell_type": "markdown",
   "metadata": {},
   "source": [
    "### The ROC (Receiver Operating Characteristic) curve is a graphical representation of the performance of a binary classification model, such as logistic regression. It is created by plotting the true positive rate (TPR) on the y-axis and the false positive rate (FPR) on the x-axis, at various threshold settings.\n",
    "\n",
    "### The TPR is the proportion of positive cases that are correctly classified as positive by the model, while the FPR is the proportion of negative cases that are incorrectly classified as positive by the model. By varying the threshold at which we classify a case as positive or negative, we can generate a range of TPR and FPR values and plot them on the ROC curve.\n",
    "\n",
    "### A perfect classifier would have a TPR of 1 and an FPR of 0, resulting in a point at the top left corner of the ROC curve. A random classifier, on the other hand, would have a diagonal line from the bottom left corner to the top right corner, indicating that the TPR and FPR are equal at all thresholds.\n",
    "\n",
    "### In general, a better classifier will have a ROC curve that is closer to the top left corner of the plot. We can quantify the overall performance of the model by calculating the area under the curve (AUC) of the ROC curve. A perfect classifier will have an AUC of 1, while a random classifier will have an AUC of 0.5.\n",
    "\n",
    "### The ROC curve and AUC are useful tools for evaluating the performance of a logistic regression model because they provide a way to compare different models and to visualize the trade-off between sensitivity (TPR) and specificity (1 - FPR) at different thresholds. The ROC curve is also robust to imbalanced classes, unlike other evaluation metrics such as accuracy, which can be misleading in the presence of class imbalance.\n",
    "\n",
    "### Below is example in python showing ROC curve and ROC_AUC Score :"
   ]
  },
  {
   "cell_type": "code",
   "execution_count": 4,
   "metadata": {},
   "outputs": [
    {
     "name": "stdout",
     "output_type": "stream",
     "text": [
      "ROC AUC Score : 0.9253\n",
      "\n",
      "===================================================================\n",
      "\n"
     ]
    },
    {
     "data": {
      "image/png": "[encoded data removed]",
      "text/plain": [
       "<Figure size 640x480 with 1 Axes>"
      ]
     },
     "metadata": {},
     "output_type": "display_data"
    }
   ],
   "source": [
    "from sklearn.datasets import make_classification\n",
    "from sklearn.linear_model import LogisticRegression\n",
    "from sklearn.metrics import roc_curve, roc_auc_score\n",
    "import matplotlib.pyplot as plt\n",
    "\n",
    "# Generate synthetic binary classification dataset\n",
    "X, y = make_classification(n_samples=1000, n_classes=2, weights=[0.9, 0.1], random_state=42)\n",
    "\n",
    "# Fit logistic regression model\n",
    "clf = LogisticRegression()\n",
    "clf.fit(X, y)\n",
    "\n",
    "# Predict probabilities for test set\n",
    "probs = clf.predict_proba(X)[:, 1]\n",
    "\n",
    "# Calculate false positive rate, true positive rate, and thresholds\n",
    "fpr, tpr, thresholds = roc_curve(y, probs)\n",
    "\n",
    "# Calculate AUC\n",
    "auc = roc_auc_score(y, probs)\n",
    "print('ROC AUC Score : %.4f' % auc)\n",
    "\n",
    "print('\\n===================================================================\\n')\n",
    "\n",
    "# Plot ROC curve\n",
    "plt.plot(fpr, tpr,label=f\"ROC AUC Score : {auc:.4f}\")\n",
    "plt.xlabel('False Positive Rate')\n",
    "plt.ylabel('True Positive Rate')\n",
    "plt.title('ROC Curve')\n",
    "plt.legend()\n",
    "plt.show()"
   ]
  },
  {
   "attachments": {},
   "cell_type": "markdown",
   "metadata": {},
   "source": [
    "<a id=\"5\"></a>\n",
    "\n",
    "# <p style=\"padding:10px;background-color:#87CEEB ;margin:10;color:#000000;font-family:newtimeroman;font-size:100%;text-align:center;border-radius: 10px 10px ;overflow:hidden;font-weight:50\">Question 5</p>"
   ]
  },
  {
   "attachments": {},
   "cell_type": "markdown",
   "metadata": {},
   "source": [
    "## Question 5 : What are some common techniques for feature selection in logistic regression? How do these techniques help improve the model's performance?\n",
    "---"
   ]
  },
  {
   "attachments": {},
   "cell_type": "markdown",
   "metadata": {},
   "source": [
    "## Answer :"
   ]
  },
  {
   "attachments": {},
   "cell_type": "markdown",
   "metadata": {},
   "source": [
    "### Feature selection is the process of selecting a subset of relevant features (or variables) from the original set of features to use in a model. In logistic regression, feature selection techniques can help to improve the model's performance by reducing the number of irrelevant or redundant features, thereby reducing overfitting and increasing interpretability.\n",
    "\n",
    "### Here are some common techniques for feature selection in logistic regression:\n",
    "\n",
    "1. Univariate feature selection: This method evaluates each feature individually to determine its relationship with the target variable. It uses statistical tests such as chi-squared test, ANOVA, or correlation coefficient to rank the features based on their p-values or correlation strength. The top k features with the highest scores are selected for the model.\n",
    "\n",
    "2. Recursive feature elimination (RFE): This method uses an iterative process to remove features from the model one by one based on their importance scores. The importance score can be derived from the coefficients of the logistic regression model or from external methods such as random forests. RFE continues to remove features until the optimal number of features is reached.\n",
    "\n",
    "3. Lasso regularization: This method adds a penalty term to the logistic regression objective function that shrinks the coefficients of some features to zero, effectively removing them from the model. The strength of the penalty is controlled by a hyperparameter called the regularization strength. This method can select a sparse set of features that are most relevant to the target variable.\n",
    "\n",
    "4. Principal component analysis (PCA): This method transforms the original features into a new set of linearly uncorrelated variables called principal components. These components are sorted in descending order of explained variance, and the top k components are selected for the model. This method can help to reduce multicollinearity and simplify the model.\n",
    "\n",
    "5. Forward selection/backward elimination: These methods are stepwise selection algorithms that iteratively add or remove features from the model based on their contribution to the model's performance. Forward selection starts with an empty model and adds the best feature at each step until a stopping criterion is reached. Backward elimination starts with the full model and removes the least important feature at each step until a stopping criterion is reached.\n",
    "\n",
    "### These feature selection techniques help to improve the performance of logistic regression models by reducing the number of irrelevant or redundant features, which can lead to overfitting, improve interpretability, and simplify the model. By selecting a subset of the most relevant features, these techniques can also improve the model's predictive accuracy and reduce the risk of spurious correlations"
   ]
  },
  {
   "attachments": {},
   "cell_type": "markdown",
   "metadata": {},
   "source": [
    "<a id=\"6\"></a>\n",
    "\n",
    "# <p style=\"padding:10px;background-color:#87CEEB ;margin:10;color:#000000;font-family:newtimeroman;font-size:100%;text-align:center;border-radius: 10px 10px ;overflow:hidden;font-weight:50\">Question 6</p>"
   ]
  },
  {
   "attachments": {},
   "cell_type": "markdown",
   "metadata": {},
   "source": [
    "## Question 6 : How can you handle imbalanced datasets in logistic regression? What are some strategies for dealing with class imbalance?\n",
    "---"
   ]
  },
  {
   "attachments": {},
   "cell_type": "markdown",
   "metadata": {},
   "source": [
    "## Answer :"
   ]
  },
  {
   "attachments": {},
   "cell_type": "markdown",
   "metadata": {},
   "source": [
    "### Imbalanced datasets occur when one class of the target variable is much more prevalent than the other. This can cause logistic regression models to be biased towards the majority class, leading to poor performance for the minority class. Here are some strategies for handling imbalanced datasets in logistic regression:\n",
    "\n",
    "1. Resampling: This involves either oversampling the minority class (i.e., creating new synthetic samples from the minority class) or undersampling the majority class (i.e., randomly removing samples from the majority class). The goal is to balance the class distribution in the dataset. However, oversampling can lead to overfitting, and undersampling can result in loss of information.\n",
    "\n",
    "2. Cost-sensitive learning: This involves assigning different misclassification costs to each class, such that misclassifying the minority class is penalized more heavily than misclassifying the majority class. This can be achieved by adjusting the threshold for class prediction, or by modifying the logistic regression objective function to include the cost matrix.\n",
    "\n",
    "3. Class weighting: This involves assigning a higher weight to the minority class samples during model training. This can be achieved by setting the class_weight parameter in scikit-learn's LogisticRegression class to 'balanced', which automatically adjusts the weights based on the class distribution.\n",
    "\n",
    "4. Ensemble methods: This involves combining multiple logistic regression models trained on different subsets of the dataset or with different hyperparameters. This can include bagging, boosting, or stacking methods, which can help to reduce the bias towards the majority class and improve the overall performance.\n",
    "\n",
    "5. Anomaly detection: This involves treating the minority class as an anomaly or outlier detection problem, and using techniques such as one-class SVM or isolation forest to identify and classify the minority class samples.\n",
    "\n",
    "### These strategies can help to address the problem of class imbalance in logistic regression models, and improve the performance for the minority class. However, the choice of strategy may depend on the specific characteristics of the dataset and the goals of the analysis. It is important to evaluate the performance of the model using appropriate metrics such as precision, recall, F1-score, or ROC AUC, and to perform cross-validation to assess the generalization performance of the model."
   ]
  },
  {
   "attachments": {},
   "cell_type": "markdown",
   "metadata": {},
   "source": [
    "<a id=\"7\"></a>\n",
    "\n",
    "# <p style=\"padding:10px;background-color:#87CEEB ;margin:10;color:#000000;font-family:newtimeroman;font-size:100%;text-align:center;border-radius: 10px 10px ;overflow:hidden;font-weight:50\">Question 7</p>"
   ]
  },
  {
   "attachments": {},
   "cell_type": "markdown",
   "metadata": {},
   "source": [
    "## Question 7 : Can you discuss some common issues and challenges that may arise when implementing logistic regression, and how they can be addressed? For example, what can be done if there is multicollinearity among the independent variables?\n",
    "---"
   ]
  },
  {
   "attachments": {},
   "cell_type": "markdown",
   "metadata": {},
   "source": [
    "## Answer :"
   ]
  },
  {
   "attachments": {},
   "cell_type": "markdown",
   "metadata": {},
   "source": [
    "### Logistic regression is a powerful and widely used method for modeling binary or categorical outcomes. However, there are several issues and challenges that can arise when implementing logistic regression. Here are some common issues and possible solutions:\n",
    "\n",
    "1. Multicollinearity: This occurs when two or more independent variables are highly correlated with each other, which can cause unstable or biased coefficient estimates. To address multicollinearity, one option is to remove one of the correlated variables from the model. Alternatively, techniques such as principal component analysis (PCA) or ridge regression can be used to reduce the dimensionality of the data and account for the collinearity.\n",
    "\n",
    "2. Overfitting: This occurs when the model is too complex and captures noise or random fluctuations in the data, leading to poor generalization performance. To address overfitting, techniques such as regularization, cross-validation, or early stopping can be used to reduce the complexity of the model and improve its generalization performance.\n",
    "\n",
    "3. Imbalanced data: This occurs when the two classes in the binary outcome variable are not equally represented in the dataset. To address imbalanced data, techniques such as resampling, cost-sensitive learning, or class weighting can be used to balance the class distribution and improve the performance for the minority class.\n",
    "\n",
    "4. Outliers: This occurs when some observations in the dataset have extreme values or deviate significantly from the rest of the data. To address outliers, techniques such as robust regression, trimming, or Winsorization can be used to reduce the influence of the outliers on the model estimation.\n",
    "\n",
    "5. Missing data: This occurs when some observations have missing values for some of the variables in the dataset. To address missing data, techniques such as imputation, complete case analysis, or multiple imputation can be used to estimate the missing values and retain as much information as possible from the incomplete data.\n",
    "\n",
    "### Overall, logistic regression can be a powerful tool for modeling binary outcomes, but it requires careful attention to the potential issues and challenges that can arise during implementation. By addressing these issues using appropriate techniques and strategies, we can improve the performance and interpretability of logistic regression models."
   ]
  },
  {
   "attachments": {},
   "cell_type": "markdown",
   "metadata": {},
   "source": [
    "## Reducing Multicolinearity using PCA Python code"
   ]
  },
  {
   "cell_type": "code",
   "execution_count": 5,
   "metadata": {},
   "outputs": [
    {
     "name": "stdout",
     "output_type": "stream",
     "text": [
      "Accuracy: 0.8200\n",
      "ROC AUC Score : 0.9110\n"
     ]
    }
   ],
   "source": [
    "from sklearn.datasets import make_classification\n",
    "from sklearn.decomposition import PCA\n",
    "from sklearn.linear_model import LogisticRegression\n",
    "from sklearn.model_selection import train_test_split\n",
    "from sklearn.metrics import accuracy_score, roc_auc_score\n",
    "\n",
    "# Generate a binary classification dataset with 1000 samples\n",
    "X, y = make_classification(n_samples=1000, n_features=10, n_informative=5, random_state=42)\n",
    "\n",
    "# Use PCA to reduce the dimensionality of the data and account for collinearity\n",
    "pca = PCA(n_components=5)\n",
    "X_pca = pca.fit_transform(X)\n",
    "\n",
    "# Split the dataset into training and testing sets\n",
    "X_train, X_test, y_train, y_test = train_test_split(X_pca, y, test_size=0.2, random_state=42)\n",
    "\n",
    "# Train a logistic regression model on the training set\n",
    "clf = LogisticRegression(random_state=42,max_iter=1000)\n",
    "clf.fit(X_train, y_train)\n",
    "\n",
    "# Predict the labels for the testing set\n",
    "y_pred = clf.predict(X_test)\n",
    "y_pred_prob = clf.predict_proba(X_test)[:,-1]\n",
    "\n",
    "# Evaluate the accuracy of the model\n",
    "acc = accuracy_score(y_test, y_pred)\n",
    "roc = roc_auc_score(y_test,y_pred_prob)\n",
    "print(f\"Accuracy: {acc:.4f}\")\n",
    "print(f'ROC AUC Score : {roc:.4f}')\n"
   ]
  },
  {
   "cell_type": "code",
   "execution_count": 6,
   "metadata": {},
   "outputs": [
    {
     "data": {
      "image/png": "[encoded data removed]",
      "text/plain": [
       "<Figure size 640x480 with 2 Axes>"
      ]
     },
     "metadata": {},
     "output_type": "display_data"
    }
   ],
   "source": [
    "from sklearn.metrics import confusion_matrix\n",
    "import seaborn as sns\n",
    "cf = confusion_matrix(y_test,y_pred)\n",
    "sns.heatmap(cf,annot=True)\n",
    "plt.show()\n"
   ]
  },
  {
   "cell_type": "code",
   "execution_count": 7,
   "metadata": {},
   "outputs": [
    {
     "name": "stdout",
     "output_type": "stream",
     "text": [
      "              precision    recall  f1-score   support\n",
      "\n",
      "           0       0.84      0.84      0.84       112\n",
      "           1       0.80      0.80      0.80        88\n",
      "\n",
      "    accuracy                           0.82       200\n",
      "   macro avg       0.82      0.82      0.82       200\n",
      "weighted avg       0.82      0.82      0.82       200\n",
      "\n"
     ]
    }
   ],
   "source": [
    "from sklearn.metrics import classification_report\n",
    "cr = classification_report(y_test,y_pred)\n",
    "print(cr)"
   ]
  }
 ],
 "metadata": {
  "kernelspec": {
   "display_name": "venv",
   "language": "python",
   "name": "python3"
  },
  "language_info": {
   "codemirror_mode": {
    "name": "ipython",
    "version": 3
   },
   "file_extension": ".py",
   "mimetype": "text/x-python",
   "name": "python",
   "nbconvert_exporter": "python",
   "pygments_lexer": "ipython3",
   "version": "3.10.7"
  },
  "orig_nbformat": 4
 },
 "nbformat": 4,
 "nbformat_minor": 2
}

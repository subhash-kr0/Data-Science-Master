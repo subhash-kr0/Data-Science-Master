{
 "cells": [
  {
   "cell_type": "markdown",
   "metadata": {},
   "source": [
    "1. **Who developed Python Programming Language?**\n",
    "   - Guido van Rossum\n",
    "\n",
    "2. **Which type of Programming does Python support?**\n",
    "   - Python supports multiple programming paradigms, including procedural, object-oriented, and functional programming.\n",
    "\n",
    "3. **Is Python case sensitive when dealing with identifiers?**\n",
    "   - Yes, Python is case sensitive.\n",
    "\n",
    "4. **What is the correct extension of the Python file?**\n",
    "   - .py\n",
    "\n",
    "5. **Is Python code compiled or interpreted?**\n",
    "   - Python code is interpreted.\n",
    "\n",
    "6. **Name a few blocks of code used to define in Python language?**\n",
    "   - Functions, classes, loops, conditional statements.\n",
    "\n",
    "7. **State a character used to give single-line comments in Python?**\n",
    "   - `#`\n",
    "\n",
    "8. **Mention functions which can help us to find the version of python that we are currently working on?**\n",
    "   - `sys.version`, `sys.version_info`, `platform.python_version()`\n",
    "\n",
    "9. **Python supports the creation of anonymous functions at runtime, using a construct called**\n",
    "   - `lambda`\n",
    "\n",
    "10. **What does pip stand for Python?**\n",
    "    - pip installs packages\n",
    "\n",
    "11. **Mention a few built-in functions in python?**\n",
    "    - `print()`, `len()`, `type()`, `int()`, `str()`, `input()`, `range()`, `sum()`\n",
    "\n",
    "12. **What is the maximum possible length of an identifier in Python?**\n",
    "    - 79 characters (PEP 8 recommends a maximum of 79 characters for a line length)\n",
    "\n",
    "13. **What are the benefits of using Python?**\n",
    "    - Easy to learn and use, extensive libraries and frameworks, large community support, portability, readability, and maintainability.\n",
    "\n",
    "14. **How is memory managed in Python?**\n",
    "    - Memory management in Python involves a private heap containing all Python objects and data structures, managed by the Python memory manager. The built-in garbage collector recycles all the unused memory to make it available for heap space.\n",
    "\n",
    "15. **How to install Python on Windows and set path variables?**\n",
    "    - Download the Python installer from the official website, run the installer and follow the instructions. Make sure to check the option to add Python to the PATH environment variable during installation.\n",
    "\n",
    "16. **Is indentation required in python?**\n",
    "    - Yes, indentation is required in Python to define the blocks of code.\n"
   ]
  }
 ],
 "metadata": {
  "language_info": {
   "name": "python"
  }
 },
 "nbformat": 4,
 "nbformat_minor": 2
}

{
 "cells": [
  {
   "cell_type": "markdown",
   "metadata": {},
   "source": [
    "1. **Write a program to accept percentage from the user and display the grade according to the following criteria:**\n",
    "\n",
    "   | Marks      | Grade |\n",
    "   |------------|-------|\n",
    "   | >90        | A     |\n",
    "   | >80 and <=90 | B     |\n",
    "   | >=60 and <=80 | C     |\n",
    "   | below 60   | D     |\n",
    "\n",
    "2. **Write a program to accept the cost price of a bike and display the road tax to be paid according to the following criteria:**\n",
    "\n",
    "   | Tax   | Cost Price (in Rs)       |\n",
    "   |-------|--------------------------|\n",
    "   | 15%   | >100000                  |\n",
    "   | 10%   | >50000 and <= 100000     |\n",
    "   | 5%    | <= 50000                 |\n",
    "\n",
    "3. **Accept any city from the user and display monuments of that city.**\n",
    "\n",
    "   | City   | Monument  |\n",
    "   |--------|-----------|\n",
    "   | Delhi  | Red Fort  |\n",
    "   | Agra   | Taj Mahal |\n",
    "   | Jaipur | Jal Mahal |\n",
    "\n",
    "4. **Check how many times a given number can be divided by 3 before it is less than or equal to 10.**\n",
    "\n",
    "5. **Why and When to Use `while` Loop in Python? Give a detailed description with an example.**\n",
    "\n",
    "6. **Use nested `while` loop to print 3 different patterns.**\n",
    "\n",
    "7. **Reverse a `while` loop to display numbers from 10 to 1.**\n",
    "\n",
    "8. **Reverse a `while` loop to display numbers from 10 to 1.**\n"
   ]
  },
  {
   "cell_type": "code",
   "execution_count": 8,
   "metadata": {},
   "outputs": [
    {
     "name": "stdout",
     "output_type": "stream",
     "text": [
      "Your grade is: A\n"
     ]
    }
   ],
   "source": [
    "#Grade based on percentage\n",
    "\n",
    "def get_grade(percentage):\n",
    "    if percentage > 90:\n",
    "        return 'A'\n",
    "    elif percentage > 80:\n",
    "        return 'B'\n",
    "    elif percentage >= 60:\n",
    "        return 'C'\n",
    "    else:\n",
    "        return 'D'\n",
    "\n",
    "percentage = float(input(\"Enter your percentage: \"))\n",
    "print(\"Your grade is:\", get_grade(percentage))\n"
   ]
  },
  {
   "cell_type": "code",
   "execution_count": 6,
   "metadata": {},
   "outputs": [
    {
     "name": "stdout",
     "output_type": "stream",
     "text": [
      "The road tax to be paid is: Rs 150000.0\n"
     ]
    }
   ],
   "source": [
    "#Road tax based on bike cost price\n",
    "\n",
    "def calculate_tax(cost_price):\n",
    "    if cost_price > 100000:\n",
    "        return cost_price * 0.15\n",
    "    elif cost_price > 50000:\n",
    "        return cost_price * 0.10\n",
    "    else:\n",
    "        return cost_price * 0.05\n",
    "\n",
    "cost_price = float(input(\"Enter the cost price of the bike: \"))\n",
    "tax = calculate_tax(cost_price)\n",
    "print(f\"The road tax to be paid is: Rs {tax}\")\n"
   ]
  },
  {
   "cell_type": "code",
   "execution_count": 5,
   "metadata": {},
   "outputs": [
    {
     "name": "stdout",
     "output_type": "stream",
     "text": [
      "Monument: Red Fort\n"
     ]
    }
   ],
   "source": [
    "# Display monuments based on city\n",
    "\n",
    "def get_monument(city):\n",
    "    monuments = {\n",
    "        'Delhi': 'Red Fort',\n",
    "        'Agra': 'Taj Mahal',\n",
    "        'Jaipur': 'Jal Mahal'\n",
    "    }\n",
    "    return monuments.get(city, \"Monument not found\")\n",
    "\n",
    "city = input(\"Enter the name of the city: \")\n",
    "print(\"Monument:\", get_monument(city))\n"
   ]
  },
  {
   "cell_type": "code",
   "execution_count": 4,
   "metadata": {},
   "outputs": [
    {
     "name": "stdout",
     "output_type": "stream",
     "text": [
      "The number can be divided 0 times by 3 before it is <= 10\n"
     ]
    }
   ],
   "source": [
    "# Dividing a number by 3 until it is <= 10\n",
    "\n",
    "def divide_until_ten(number):\n",
    "    count = 0\n",
    "    while number > 10:\n",
    "        number /= 3\n",
    "        count += 1\n",
    "    return count\n",
    "\n",
    "number = float(input(\"Enter a number: \"))\n",
    "print(f\"The number can be divided {divide_until_ten(number)} times by 3 before it is <= 10\")\n"
   ]
  },
  {
   "cell_type": "markdown",
   "metadata": {},
   "source": [
    "# Why and when to use while loop\n",
    "\n",
    "A `while` loop in Python is used when the number of iterations is not known beforehand and depends on some condition that needs to be checked each time before the loop runs.\n",
    "\n",
    "**Example:**\n",
    "\n",
    "```python\n",
    "number = 5\n",
    "while number > 0:\n",
    "    print(number)\n",
    "    number -= 1\n"
   ]
  },
  {
   "cell_type": "code",
   "execution_count": 3,
   "metadata": {},
   "outputs": [
    {
     "name": "stdout",
     "output_type": "stream",
     "text": [
      "*\n",
      "**\n",
      "***\n",
      "****\n",
      "*****\n",
      "*****\n",
      "****\n",
      "***\n",
      "**\n",
      "*\n",
      "    *\n",
      "   ***\n",
      "  *****\n",
      " *******\n",
      "*********\n"
     ]
    }
   ],
   "source": [
    "\n",
    "### 6. Nested `while` loops to print 3 different patterns\n",
    "\n",
    "# Pattern 1: Right-angle triangle\n",
    "i = 1\n",
    "while i <= 5:\n",
    "    j = 1\n",
    "    while j <= i:\n",
    "        print('*', end='')\n",
    "        j += 1\n",
    "    print()\n",
    "    i += 1\n",
    "\n",
    "# Pattern 2: Inverted right-angle triangle\n",
    "i = 5\n",
    "while i >= 1:\n",
    "    j = 1\n",
    "    while j <= i:\n",
    "        print('*', end='')\n",
    "        j += 1\n",
    "    print()\n",
    "    i -= 1\n",
    "\n",
    "# Pattern 3: Pyramid\n",
    "i = 1\n",
    "while i <= 5:\n",
    "    # Print leading spaces\n",
    "    spaces = 5 - i\n",
    "    while spaces > 0:\n",
    "        print(' ', end='')\n",
    "        spaces -= 1\n",
    "    # Print stars\n",
    "    j = 1\n",
    "    while j <= (2 * i - 1):\n",
    "        print('*', end='')\n",
    "        j += 1\n",
    "    print()\n",
    "    i += 1\n"
   ]
  },
  {
   "cell_type": "code",
   "execution_count": 2,
   "metadata": {},
   "outputs": [
    {
     "name": "stdout",
     "output_type": "stream",
     "text": [
      "10\n",
      "9\n",
      "8\n",
      "7\n",
      "6\n",
      "5\n",
      "4\n",
      "3\n",
      "2\n",
      "1\n"
     ]
    }
   ],
   "source": [
    "# Reverse while loop to display numbers from 10 to 1\n",
    "\n",
    "i = 10\n",
    "while i >= 1:\n",
    "    print(i)\n",
    "    i -= 1\n"
   ]
  },
  {
   "cell_type": "code",
   "execution_count": 1,
   "metadata": {},
   "outputs": [
    {
     "name": "stdout",
     "output_type": "stream",
     "text": [
      "10\n",
      "9\n",
      "8\n",
      "7\n",
      "6\n",
      "5\n",
      "4\n",
      "3\n",
      "2\n",
      "1\n"
     ]
    }
   ],
   "source": [
    "# Reverse while loop to display numbers from 10 to 1\n",
    "\n",
    "i = 10\n",
    "while i >= 1:\n",
    "    print(i)\n",
    "    i -= 1\n"
   ]
  }
 ],
 "metadata": {
  "kernelspec": {
   "display_name": "Python 3",
   "language": "python",
   "name": "python3"
  },
  "language_info": {
   "codemirror_mode": {
    "name": "ipython",
    "version": 3
   },
   "file_extension": ".py",
   "mimetype": "text/x-python",
   "name": "python",
   "nbconvert_exporter": "python",
   "pygments_lexer": "ipython3",
   "version": "3.12.3"
  }
 },
 "nbformat": 4,
 "nbformat_minor": 2
}

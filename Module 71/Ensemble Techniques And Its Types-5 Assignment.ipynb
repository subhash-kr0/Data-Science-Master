{
 "cells": [
  {
   "attachments": {},
   "cell_type": "markdown",
   "metadata": {},
   "source": [
    "[Assignment pdf link](15%20Apr_AssQ.pdf)"
   ]
  },
  {
   "attachments": {},
   "cell_type": "markdown",
   "metadata": {},
   "source": [
    "# <p style=\"padding:10px;background-color:#87CEEB ;margin:10;color:#000000;font-family:newtimeroman;font-size:100%;text-align:center;border-radius: 10px 10px ;overflow:hidden;font-weight:50\">Question 1</p>"
   ]
  },
  {
   "attachments": {},
   "cell_type": "markdown",
   "metadata": {},
   "source": [
    "## Question 1 : You are working on machine learning project where you have containing numerical and categorical features. You have identified that some features are highly correlated and there are missing values in some of the columns. You want to build a pipeline that automates feature engineering process and handles missing values.\n",
    "\n",
    "### Design a Pipeline that includes following steps:\n",
    "* Use an automated method to identify important features of dataset \n",
    "* Use a numerical pipeline that includes following steps:\n",
    "    * Impute missing values in numeric columns with mean\n",
    "    * Scale the numerical columns using standardisation\n",
    "* Create a categorical pipeline that includes following steps:\n",
    "    * Impute missing values in categorical columns with most frequent data\n",
    "    * One Hot Encode the categorical columns\n",
    "* Combine the numerical and categorical pipelines using a ColumnTransformer\n",
    "* Use Random Forest Classifier to build final model\n",
    "* Evaluate accuracy of model on the test dataset\n",
    "\n",
    "### Note : Your Solution should include code snippets for each step of pipeline and a brief explaination of each step. You should also provide an interpretation of results and suggest possible improvements for pipeline\n",
    "---"
   ]
  },
  {
   "attachments": {},
   "cell_type": "markdown",
   "metadata": {},
   "source": [
    "## Answer :"
   ]
  },
  {
   "attachments": {},
   "cell_type": "markdown",
   "metadata": {},
   "source": [
    "### Used Employee Attrition dataset for performing above tasks\n",
    "Dataset link : [https://www.kaggle.com/datasets/pavansubhasht/ibm-hr-analytics-attrition-dataset/](https://www.kaggle.com/datasets/pavansubhasht/ibm-hr-analytics-attrition-dataset/)"
   ]
  },
  {
   "attachments": {},
   "cell_type": "markdown",
   "metadata": {},
   "source": [
    "Uncover the factors that lead to employee attrition and explore important questions such as ‘show me a breakdown of distance from home by job role and attrition’ or ‘compare average monthly income by education and attrition’."
   ]
  },
  {
   "attachments": {},
   "cell_type": "markdown",
   "metadata": {},
   "source": [
    "### Read the dataset "
   ]
  },
  {
   "cell_type": "code",
   "execution_count": 1,
   "metadata": {},
   "outputs": [
    {
     "data": {
      "text/html": [
       "<div>\n",
       "<style scoped>\n",
       "    .dataframe tbody tr th:only-of-type {\n",
       "        vertical-align: middle;\n",
       "    }\n",
       "\n",
       "    .dataframe tbody tr th {\n",
       "        vertical-align: top;\n",
       "    }\n",
       "\n",
       "    .dataframe thead th {\n",
       "        text-align: right;\n",
       "    }\n",
       "</style>\n",
       "<table border=\"1\" class=\"dataframe\">\n",
       "  <thead>\n",
       "    <tr style=\"text-align: right;\">\n",
       "      <th></th>\n",
       "      <th>Age</th>\n",
       "      <th>Attrition</th>\n",
       "      <th>BusinessTravel</th>\n",
       "      <th>DailyRate</th>\n",
       "      <th>Department</th>\n",
       "      <th>DistanceFromHome</th>\n",
       "      <th>Education</th>\n",
       "      <th>EducationField</th>\n",
       "      <th>EmployeeCount</th>\n",
       "      <th>EmployeeNumber</th>\n",
       "      <th>...</th>\n",
       "      <th>RelationshipSatisfaction</th>\n",
       "      <th>StandardHours</th>\n",
       "      <th>StockOptionLevel</th>\n",
       "      <th>TotalWorkingYears</th>\n",
       "      <th>TrainingTimesLastYear</th>\n",
       "      <th>WorkLifeBalance</th>\n",
       "      <th>YearsAtCompany</th>\n",
       "      <th>YearsInCurrentRole</th>\n",
       "      <th>YearsSinceLastPromotion</th>\n",
       "      <th>YearsWithCurrManager</th>\n",
       "    </tr>\n",
       "  </thead>\n",
       "  <tbody>\n",
       "    <tr>\n",
       "      <th>0</th>\n",
       "      <td>41</td>\n",
       "      <td>Yes</td>\n",
       "      <td>Travel_Rarely</td>\n",
       "      <td>1102</td>\n",
       "      <td>Sales</td>\n",
       "      <td>1</td>\n",
       "      <td>2</td>\n",
       "      <td>Life Sciences</td>\n",
       "      <td>1</td>\n",
       "      <td>1</td>\n",
       "      <td>...</td>\n",
       "      <td>1</td>\n",
       "      <td>80</td>\n",
       "      <td>0</td>\n",
       "      <td>8</td>\n",
       "      <td>0</td>\n",
       "      <td>1</td>\n",
       "      <td>6</td>\n",
       "      <td>4</td>\n",
       "      <td>0</td>\n",
       "      <td>5</td>\n",
       "    </tr>\n",
       "    <tr>\n",
       "      <th>1</th>\n",
       "      <td>49</td>\n",
       "      <td>No</td>\n",
       "      <td>Travel_Frequently</td>\n",
       "      <td>279</td>\n",
       "      <td>Research &amp; Development</td>\n",
       "      <td>8</td>\n",
       "      <td>1</td>\n",
       "      <td>Life Sciences</td>\n",
       "      <td>1</td>\n",
       "      <td>2</td>\n",
       "      <td>...</td>\n",
       "      <td>4</td>\n",
       "      <td>80</td>\n",
       "      <td>1</td>\n",
       "      <td>10</td>\n",
       "      <td>3</td>\n",
       "      <td>3</td>\n",
       "      <td>10</td>\n",
       "      <td>7</td>\n",
       "      <td>1</td>\n",
       "      <td>7</td>\n",
       "    </tr>\n",
       "    <tr>\n",
       "      <th>2</th>\n",
       "      <td>37</td>\n",
       "      <td>Yes</td>\n",
       "      <td>Travel_Rarely</td>\n",
       "      <td>1373</td>\n",
       "      <td>Research &amp; Development</td>\n",
       "      <td>2</td>\n",
       "      <td>2</td>\n",
       "      <td>Other</td>\n",
       "      <td>1</td>\n",
       "      <td>4</td>\n",
       "      <td>...</td>\n",
       "      <td>2</td>\n",
       "      <td>80</td>\n",
       "      <td>0</td>\n",
       "      <td>7</td>\n",
       "      <td>3</td>\n",
       "      <td>3</td>\n",
       "      <td>0</td>\n",
       "      <td>0</td>\n",
       "      <td>0</td>\n",
       "      <td>0</td>\n",
       "    </tr>\n",
       "    <tr>\n",
       "      <th>3</th>\n",
       "      <td>33</td>\n",
       "      <td>No</td>\n",
       "      <td>Travel_Frequently</td>\n",
       "      <td>1392</td>\n",
       "      <td>Research &amp; Development</td>\n",
       "      <td>3</td>\n",
       "      <td>4</td>\n",
       "      <td>Life Sciences</td>\n",
       "      <td>1</td>\n",
       "      <td>5</td>\n",
       "      <td>...</td>\n",
       "      <td>3</td>\n",
       "      <td>80</td>\n",
       "      <td>0</td>\n",
       "      <td>8</td>\n",
       "      <td>3</td>\n",
       "      <td>3</td>\n",
       "      <td>8</td>\n",
       "      <td>7</td>\n",
       "      <td>3</td>\n",
       "      <td>0</td>\n",
       "    </tr>\n",
       "    <tr>\n",
       "      <th>4</th>\n",
       "      <td>27</td>\n",
       "      <td>No</td>\n",
       "      <td>Travel_Rarely</td>\n",
       "      <td>591</td>\n",
       "      <td>Research &amp; Development</td>\n",
       "      <td>2</td>\n",
       "      <td>1</td>\n",
       "      <td>Medical</td>\n",
       "      <td>1</td>\n",
       "      <td>7</td>\n",
       "      <td>...</td>\n",
       "      <td>4</td>\n",
       "      <td>80</td>\n",
       "      <td>1</td>\n",
       "      <td>6</td>\n",
       "      <td>3</td>\n",
       "      <td>3</td>\n",
       "      <td>2</td>\n",
       "      <td>2</td>\n",
       "      <td>2</td>\n",
       "      <td>2</td>\n",
       "    </tr>\n",
       "  </tbody>\n",
       "</table>\n",
       "<p>5 rows × 35 columns</p>\n",
       "</div>"
      ],
      "text/plain": [
       "   Age Attrition     BusinessTravel  DailyRate              Department  \\\n",
       "0   41       Yes      Travel_Rarely       1102                   Sales   \n",
       "1   49        No  Travel_Frequently        279  Research & Development   \n",
       "2   37       Yes      Travel_Rarely       1373  Research & Development   \n",
       "3   33        No  Travel_Frequently       1392  Research & Development   \n",
       "4   27        No      Travel_Rarely        591  Research & Development   \n",
       "\n",
       "   DistanceFromHome  Education EducationField  EmployeeCount  EmployeeNumber  \\\n",
       "0                 1          2  Life Sciences              1               1   \n",
       "1                 8          1  Life Sciences              1               2   \n",
       "2                 2          2          Other              1               4   \n",
       "3                 3          4  Life Sciences              1               5   \n",
       "4                 2          1        Medical              1               7   \n",
       "\n",
       "   ...  RelationshipSatisfaction StandardHours  StockOptionLevel  \\\n",
       "0  ...                         1            80                 0   \n",
       "1  ...                         4            80                 1   \n",
       "2  ...                         2            80                 0   \n",
       "3  ...                         3            80                 0   \n",
       "4  ...                         4            80                 1   \n",
       "\n",
       "   TotalWorkingYears  TrainingTimesLastYear WorkLifeBalance  YearsAtCompany  \\\n",
       "0                  8                      0               1               6   \n",
       "1                 10                      3               3              10   \n",
       "2                  7                      3               3               0   \n",
       "3                  8                      3               3               8   \n",
       "4                  6                      3               3               2   \n",
       "\n",
       "  YearsInCurrentRole  YearsSinceLastPromotion  YearsWithCurrManager  \n",
       "0                  4                        0                     5  \n",
       "1                  7                        1                     7  \n",
       "2                  0                        0                     0  \n",
       "3                  7                        3                     0  \n",
       "4                  2                        2                     2  \n",
       "\n",
       "[5 rows x 35 columns]"
      ]
     },
     "execution_count": 1,
     "metadata": {},
     "output_type": "execute_result"
    }
   ],
   "source": [
    "import pandas as pd\n",
    "df = pd.read_csv('Attrition.csv')\n",
    "df.head()"
   ]
  },
  {
   "cell_type": "code",
   "execution_count": 2,
   "metadata": {},
   "outputs": [
    {
     "data": {
      "text/plain": [
       "(1470, 35)"
      ]
     },
     "execution_count": 2,
     "metadata": {},
     "output_type": "execute_result"
    }
   ],
   "source": [
    "df.shape"
   ]
  },
  {
   "cell_type": "code",
   "execution_count": 3,
   "metadata": {},
   "outputs": [
    {
     "name": "stdout",
     "output_type": "stream",
     "text": [
      "<class 'pandas.core.frame.DataFrame'>\n",
      "RangeIndex: 1470 entries, 0 to 1469\n",
      "Data columns (total 35 columns):\n",
      " #   Column                    Non-Null Count  Dtype \n",
      "---  ------                    --------------  ----- \n",
      " 0   Age                       1470 non-null   int64 \n",
      " 1   Attrition                 1470 non-null   object\n",
      " 2   BusinessTravel            1470 non-null   object\n",
      " 3   DailyRate                 1470 non-null   int64 \n",
      " 4   Department                1470 non-null   object\n",
      " 5   DistanceFromHome          1470 non-null   int64 \n",
      " 6   Education                 1470 non-null   int64 \n",
      " 7   EducationField            1470 non-null   object\n",
      " 8   EmployeeCount             1470 non-null   int64 \n",
      " 9   EmployeeNumber            1470 non-null   int64 \n",
      " 10  EnvironmentSatisfaction   1470 non-null   int64 \n",
      " 11  Gender                    1470 non-null   object\n",
      " 12  HourlyRate                1470 non-null   int64 \n",
      " 13  JobInvolvement            1470 non-null   int64 \n",
      " 14  JobLevel                  1470 non-null   int64 \n",
      " 15  JobRole                   1470 non-null   object\n",
      " 16  JobSatisfaction           1470 non-null   int64 \n",
      " 17  MaritalStatus             1470 non-null   object\n",
      " 18  MonthlyIncome             1470 non-null   int64 \n",
      " 19  MonthlyRate               1470 non-null   int64 \n",
      " 20  NumCompaniesWorked        1470 non-null   int64 \n",
      " 21  Over18                    1470 non-null   object\n",
      " 22  OverTime                  1470 non-null   object\n",
      " 23  PercentSalaryHike         1470 non-null   int64 \n",
      " 24  PerformanceRating         1470 non-null   int64 \n",
      " 25  RelationshipSatisfaction  1470 non-null   int64 \n",
      " 26  StandardHours             1470 non-null   int64 \n",
      " 27  StockOptionLevel          1470 non-null   int64 \n",
      " 28  TotalWorkingYears         1470 non-null   int64 \n",
      " 29  TrainingTimesLastYear     1470 non-null   int64 \n",
      " 30  WorkLifeBalance           1470 non-null   int64 \n",
      " 31  YearsAtCompany            1470 non-null   int64 \n",
      " 32  YearsInCurrentRole        1470 non-null   int64 \n",
      " 33  YearsSinceLastPromotion   1470 non-null   int64 \n",
      " 34  YearsWithCurrManager      1470 non-null   int64 \n",
      "dtypes: int64(26), object(9)\n",
      "memory usage: 402.1+ KB\n"
     ]
    }
   ],
   "source": [
    "# Checking dataset info\n",
    "df.info()"
   ]
  },
  {
   "cell_type": "code",
   "execution_count": 4,
   "metadata": {},
   "outputs": [
    {
     "data": {
      "text/plain": [
       "Age                         0\n",
       "Attrition                   0\n",
       "BusinessTravel              0\n",
       "DailyRate                   0\n",
       "Department                  0\n",
       "DistanceFromHome            0\n",
       "Education                   0\n",
       "EducationField              0\n",
       "EmployeeCount               0\n",
       "EmployeeNumber              0\n",
       "EnvironmentSatisfaction     0\n",
       "Gender                      0\n",
       "HourlyRate                  0\n",
       "JobInvolvement              0\n",
       "JobLevel                    0\n",
       "JobRole                     0\n",
       "JobSatisfaction             0\n",
       "MaritalStatus               0\n",
       "MonthlyIncome               0\n",
       "MonthlyRate                 0\n",
       "NumCompaniesWorked          0\n",
       "Over18                      0\n",
       "OverTime                    0\n",
       "PercentSalaryHike           0\n",
       "PerformanceRating           0\n",
       "RelationshipSatisfaction    0\n",
       "StandardHours               0\n",
       "StockOptionLevel            0\n",
       "TotalWorkingYears           0\n",
       "TrainingTimesLastYear       0\n",
       "WorkLifeBalance             0\n",
       "YearsAtCompany              0\n",
       "YearsInCurrentRole          0\n",
       "YearsSinceLastPromotion     0\n",
       "YearsWithCurrManager        0\n",
       "dtype: int64"
      ]
     },
     "execution_count": 4,
     "metadata": {},
     "output_type": "execute_result"
    }
   ],
   "source": [
    "# Checking missing values in dataset \n",
    "df.isnull().sum()"
   ]
  },
  {
   "attachments": {},
   "cell_type": "markdown",
   "metadata": {},
   "source": [
    "### No Missing values found in dataset "
   ]
  },
  {
   "attachments": {},
   "cell_type": "markdown",
   "metadata": {},
   "source": [
    "### Seperate X and Y "
   ]
  },
  {
   "cell_type": "code",
   "execution_count": 5,
   "metadata": {},
   "outputs": [],
   "source": [
    "X = df.drop(labels=['Attrition'],axis=1)\n",
    "Y = df[['Attrition']]"
   ]
  },
  {
   "cell_type": "code",
   "execution_count": 6,
   "metadata": {},
   "outputs": [
    {
     "data": {
      "text/html": [
       "<div>\n",
       "<style scoped>\n",
       "    .dataframe tbody tr th:only-of-type {\n",
       "        vertical-align: middle;\n",
       "    }\n",
       "\n",
       "    .dataframe tbody tr th {\n",
       "        vertical-align: top;\n",
       "    }\n",
       "\n",
       "    .dataframe thead th {\n",
       "        text-align: right;\n",
       "    }\n",
       "</style>\n",
       "<table border=\"1\" class=\"dataframe\">\n",
       "  <thead>\n",
       "    <tr style=\"text-align: right;\">\n",
       "      <th></th>\n",
       "      <th>Attrition</th>\n",
       "    </tr>\n",
       "  </thead>\n",
       "  <tbody>\n",
       "    <tr>\n",
       "      <th>0</th>\n",
       "      <td>Yes</td>\n",
       "    </tr>\n",
       "    <tr>\n",
       "      <th>1</th>\n",
       "      <td>No</td>\n",
       "    </tr>\n",
       "    <tr>\n",
       "      <th>2</th>\n",
       "      <td>Yes</td>\n",
       "    </tr>\n",
       "    <tr>\n",
       "      <th>3</th>\n",
       "      <td>No</td>\n",
       "    </tr>\n",
       "    <tr>\n",
       "      <th>4</th>\n",
       "      <td>No</td>\n",
       "    </tr>\n",
       "  </tbody>\n",
       "</table>\n",
       "</div>"
      ],
      "text/plain": [
       "  Attrition\n",
       "0       Yes\n",
       "1        No\n",
       "2       Yes\n",
       "3        No\n",
       "4        No"
      ]
     },
     "execution_count": 6,
     "metadata": {},
     "output_type": "execute_result"
    }
   ],
   "source": [
    "Y.head()"
   ]
  },
  {
   "cell_type": "code",
   "execution_count": 7,
   "metadata": {},
   "outputs": [
    {
     "data": {
      "text/html": [
       "<div>\n",
       "<style scoped>\n",
       "    .dataframe tbody tr th:only-of-type {\n",
       "        vertical-align: middle;\n",
       "    }\n",
       "\n",
       "    .dataframe tbody tr th {\n",
       "        vertical-align: top;\n",
       "    }\n",
       "\n",
       "    .dataframe thead th {\n",
       "        text-align: right;\n",
       "    }\n",
       "</style>\n",
       "<table border=\"1\" class=\"dataframe\">\n",
       "  <thead>\n",
       "    <tr style=\"text-align: right;\">\n",
       "      <th></th>\n",
       "      <th>Attrition</th>\n",
       "    </tr>\n",
       "  </thead>\n",
       "  <tbody>\n",
       "    <tr>\n",
       "      <th>0</th>\n",
       "      <td>1</td>\n",
       "    </tr>\n",
       "    <tr>\n",
       "      <th>1</th>\n",
       "      <td>0</td>\n",
       "    </tr>\n",
       "    <tr>\n",
       "      <th>2</th>\n",
       "      <td>1</td>\n",
       "    </tr>\n",
       "    <tr>\n",
       "      <th>3</th>\n",
       "      <td>0</td>\n",
       "    </tr>\n",
       "    <tr>\n",
       "      <th>4</th>\n",
       "      <td>0</td>\n",
       "    </tr>\n",
       "  </tbody>\n",
       "</table>\n",
       "</div>"
      ],
      "text/plain": [
       "   Attrition\n",
       "0          1\n",
       "1          0\n",
       "2          1\n",
       "3          0\n",
       "4          0"
      ]
     },
     "execution_count": 7,
     "metadata": {},
     "output_type": "execute_result"
    }
   ],
   "source": [
    "y_mapper = {'Yes':1,'No':0}\n",
    "Y = Y.replace(y_mapper)\n",
    "Y.head()"
   ]
  },
  {
   "cell_type": "code",
   "execution_count": 8,
   "metadata": {},
   "outputs": [],
   "source": [
    "cat_cols = list(X.select_dtypes(include='object').columns)\n",
    "num_cols = list(X.select_dtypes(exclude='object').columns)"
   ]
  },
  {
   "cell_type": "code",
   "execution_count": 9,
   "metadata": {},
   "outputs": [
    {
     "data": {
      "text/plain": [
       "['BusinessTravel',\n",
       " 'Department',\n",
       " 'EducationField',\n",
       " 'Gender',\n",
       " 'JobRole',\n",
       " 'MaritalStatus',\n",
       " 'Over18',\n",
       " 'OverTime']"
      ]
     },
     "execution_count": 9,
     "metadata": {},
     "output_type": "execute_result"
    }
   ],
   "source": [
    "cat_cols"
   ]
  },
  {
   "cell_type": "code",
   "execution_count": 10,
   "metadata": {},
   "outputs": [
    {
     "data": {
      "text/plain": [
       "['Age',\n",
       " 'DailyRate',\n",
       " 'DistanceFromHome',\n",
       " 'Education',\n",
       " 'EmployeeCount',\n",
       " 'EmployeeNumber',\n",
       " 'EnvironmentSatisfaction',\n",
       " 'HourlyRate',\n",
       " 'JobInvolvement',\n",
       " 'JobLevel',\n",
       " 'JobSatisfaction',\n",
       " 'MonthlyIncome',\n",
       " 'MonthlyRate',\n",
       " 'NumCompaniesWorked',\n",
       " 'PercentSalaryHike',\n",
       " 'PerformanceRating',\n",
       " 'RelationshipSatisfaction',\n",
       " 'StandardHours',\n",
       " 'StockOptionLevel',\n",
       " 'TotalWorkingYears',\n",
       " 'TrainingTimesLastYear',\n",
       " 'WorkLifeBalance',\n",
       " 'YearsAtCompany',\n",
       " 'YearsInCurrentRole',\n",
       " 'YearsSinceLastPromotion',\n",
       " 'YearsWithCurrManager']"
      ]
     },
     "execution_count": 10,
     "metadata": {},
     "output_type": "execute_result"
    }
   ],
   "source": [
    "num_cols"
   ]
  },
  {
   "cell_type": "code",
   "execution_count": 11,
   "metadata": {},
   "outputs": [
    {
     "data": {
      "text/plain": [
       "26"
      ]
     },
     "execution_count": 11,
     "metadata": {},
     "output_type": "execute_result"
    }
   ],
   "source": [
    "len(num_cols)"
   ]
  },
  {
   "attachments": {},
   "cell_type": "markdown",
   "metadata": {},
   "source": [
    "### Feature selection for numerical columns"
   ]
  },
  {
   "cell_type": "code",
   "execution_count": 12,
   "metadata": {},
   "outputs": [],
   "source": [
    "from warnings import filterwarnings\n",
    "filterwarnings('ignore')"
   ]
  },
  {
   "cell_type": "code",
   "execution_count": 13,
   "metadata": {},
   "outputs": [
    {
     "data": {
      "text/plain": [
       "['Age',\n",
       " 'JobInvolvement',\n",
       " 'JobLevel',\n",
       " 'JobSatisfaction',\n",
       " 'MonthlyIncome',\n",
       " 'StockOptionLevel',\n",
       " 'TotalWorkingYears',\n",
       " 'YearsAtCompany',\n",
       " 'YearsInCurrentRole',\n",
       " 'YearsWithCurrManager']"
      ]
     },
     "execution_count": 13,
     "metadata": {},
     "output_type": "execute_result"
    }
   ],
   "source": [
    "from sklearn.feature_selection import SelectKBest, f_classif\n",
    "X_num = X[num_cols]\n",
    "k_best_numerical = SelectKBest(f_classif,k=10)\n",
    "k_best_numerical.fit_transform(X_num,Y)\n",
    "selected_num_features = list(X_num.columns[k_best_numerical.get_support()])\n",
    "selected_num_features"
   ]
  },
  {
   "attachments": {},
   "cell_type": "markdown",
   "metadata": {},
   "source": [
    "### Feature Selection for categorical variables"
   ]
  },
  {
   "cell_type": "code",
   "execution_count": 14,
   "metadata": {},
   "outputs": [
    {
     "data": {
      "text/plain": [
       "['Department', 'EducationField', 'JobRole', 'MaritalStatus', 'OverTime']"
      ]
     },
     "execution_count": 14,
     "metadata": {},
     "output_type": "execute_result"
    }
   ],
   "source": [
    "from sklearn.feature_selection import SelectKBest, chi2\n",
    "X_cat = X[cat_cols]\n",
    "from sklearn.preprocessing import OrdinalEncoder\n",
    "oe = OrdinalEncoder()\n",
    "X_cat_encoded = pd.DataFrame(oe.fit_transform(X_cat),columns=oe.get_feature_names_out())\n",
    "k_best_categorical = SelectKBest(chi2,k=5)\n",
    "k_best_categorical.fit_transform(X_cat_encoded,Y)\n",
    "selected_cat_features = list(X_cat_encoded.columns[k_best_categorical.get_support()])\n",
    "selected_cat_features"
   ]
  },
  {
   "cell_type": "code",
   "execution_count": 15,
   "metadata": {},
   "outputs": [
    {
     "data": {
      "text/plain": [
       "['Age',\n",
       " 'JobInvolvement',\n",
       " 'JobLevel',\n",
       " 'JobSatisfaction',\n",
       " 'MonthlyIncome',\n",
       " 'StockOptionLevel',\n",
       " 'TotalWorkingYears',\n",
       " 'YearsAtCompany',\n",
       " 'YearsInCurrentRole',\n",
       " 'YearsWithCurrManager',\n",
       " 'Department',\n",
       " 'EducationField',\n",
       " 'JobRole',\n",
       " 'MaritalStatus',\n",
       " 'OverTime']"
      ]
     },
     "execution_count": 15,
     "metadata": {},
     "output_type": "execute_result"
    }
   ],
   "source": [
    "selected_features = selected_num_features + selected_cat_features\n",
    "selected_features"
   ]
  },
  {
   "cell_type": "code",
   "execution_count": 16,
   "metadata": {},
   "outputs": [
    {
     "data": {
      "text/html": [
       "<div>\n",
       "<style scoped>\n",
       "    .dataframe tbody tr th:only-of-type {\n",
       "        vertical-align: middle;\n",
       "    }\n",
       "\n",
       "    .dataframe tbody tr th {\n",
       "        vertical-align: top;\n",
       "    }\n",
       "\n",
       "    .dataframe thead th {\n",
       "        text-align: right;\n",
       "    }\n",
       "</style>\n",
       "<table border=\"1\" class=\"dataframe\">\n",
       "  <thead>\n",
       "    <tr style=\"text-align: right;\">\n",
       "      <th></th>\n",
       "      <th>Age</th>\n",
       "      <th>JobInvolvement</th>\n",
       "      <th>JobLevel</th>\n",
       "      <th>JobSatisfaction</th>\n",
       "      <th>MonthlyIncome</th>\n",
       "      <th>StockOptionLevel</th>\n",
       "      <th>TotalWorkingYears</th>\n",
       "      <th>YearsAtCompany</th>\n",
       "      <th>YearsInCurrentRole</th>\n",
       "      <th>YearsWithCurrManager</th>\n",
       "      <th>Department</th>\n",
       "      <th>EducationField</th>\n",
       "      <th>JobRole</th>\n",
       "      <th>MaritalStatus</th>\n",
       "      <th>OverTime</th>\n",
       "    </tr>\n",
       "  </thead>\n",
       "  <tbody>\n",
       "    <tr>\n",
       "      <th>0</th>\n",
       "      <td>41</td>\n",
       "      <td>3</td>\n",
       "      <td>2</td>\n",
       "      <td>4</td>\n",
       "      <td>5993</td>\n",
       "      <td>0</td>\n",
       "      <td>8</td>\n",
       "      <td>6</td>\n",
       "      <td>4</td>\n",
       "      <td>5</td>\n",
       "      <td>Sales</td>\n",
       "      <td>Life Sciences</td>\n",
       "      <td>Sales Executive</td>\n",
       "      <td>Single</td>\n",
       "      <td>Yes</td>\n",
       "    </tr>\n",
       "    <tr>\n",
       "      <th>1</th>\n",
       "      <td>49</td>\n",
       "      <td>2</td>\n",
       "      <td>2</td>\n",
       "      <td>2</td>\n",
       "      <td>5130</td>\n",
       "      <td>1</td>\n",
       "      <td>10</td>\n",
       "      <td>10</td>\n",
       "      <td>7</td>\n",
       "      <td>7</td>\n",
       "      <td>Research &amp; Development</td>\n",
       "      <td>Life Sciences</td>\n",
       "      <td>Research Scientist</td>\n",
       "      <td>Married</td>\n",
       "      <td>No</td>\n",
       "    </tr>\n",
       "    <tr>\n",
       "      <th>2</th>\n",
       "      <td>37</td>\n",
       "      <td>2</td>\n",
       "      <td>1</td>\n",
       "      <td>3</td>\n",
       "      <td>2090</td>\n",
       "      <td>0</td>\n",
       "      <td>7</td>\n",
       "      <td>0</td>\n",
       "      <td>0</td>\n",
       "      <td>0</td>\n",
       "      <td>Research &amp; Development</td>\n",
       "      <td>Other</td>\n",
       "      <td>Laboratory Technician</td>\n",
       "      <td>Single</td>\n",
       "      <td>Yes</td>\n",
       "    </tr>\n",
       "    <tr>\n",
       "      <th>3</th>\n",
       "      <td>33</td>\n",
       "      <td>3</td>\n",
       "      <td>1</td>\n",
       "      <td>3</td>\n",
       "      <td>2909</td>\n",
       "      <td>0</td>\n",
       "      <td>8</td>\n",
       "      <td>8</td>\n",
       "      <td>7</td>\n",
       "      <td>0</td>\n",
       "      <td>Research &amp; Development</td>\n",
       "      <td>Life Sciences</td>\n",
       "      <td>Research Scientist</td>\n",
       "      <td>Married</td>\n",
       "      <td>Yes</td>\n",
       "    </tr>\n",
       "    <tr>\n",
       "      <th>4</th>\n",
       "      <td>27</td>\n",
       "      <td>3</td>\n",
       "      <td>1</td>\n",
       "      <td>2</td>\n",
       "      <td>3468</td>\n",
       "      <td>1</td>\n",
       "      <td>6</td>\n",
       "      <td>2</td>\n",
       "      <td>2</td>\n",
       "      <td>2</td>\n",
       "      <td>Research &amp; Development</td>\n",
       "      <td>Medical</td>\n",
       "      <td>Laboratory Technician</td>\n",
       "      <td>Married</td>\n",
       "      <td>No</td>\n",
       "    </tr>\n",
       "  </tbody>\n",
       "</table>\n",
       "</div>"
      ],
      "text/plain": [
       "   Age  JobInvolvement  JobLevel  JobSatisfaction  MonthlyIncome  \\\n",
       "0   41               3         2                4           5993   \n",
       "1   49               2         2                2           5130   \n",
       "2   37               2         1                3           2090   \n",
       "3   33               3         1                3           2909   \n",
       "4   27               3         1                2           3468   \n",
       "\n",
       "   StockOptionLevel  TotalWorkingYears  YearsAtCompany  YearsInCurrentRole  \\\n",
       "0                 0                  8               6                   4   \n",
       "1                 1                 10              10                   7   \n",
       "2                 0                  7               0                   0   \n",
       "3                 0                  8               8                   7   \n",
       "4                 1                  6               2                   2   \n",
       "\n",
       "   YearsWithCurrManager              Department EducationField  \\\n",
       "0                     5                   Sales  Life Sciences   \n",
       "1                     7  Research & Development  Life Sciences   \n",
       "2                     0  Research & Development          Other   \n",
       "3                     0  Research & Development  Life Sciences   \n",
       "4                     2  Research & Development        Medical   \n",
       "\n",
       "                 JobRole MaritalStatus OverTime  \n",
       "0        Sales Executive        Single      Yes  \n",
       "1     Research Scientist       Married       No  \n",
       "2  Laboratory Technician        Single      Yes  \n",
       "3     Research Scientist       Married      Yes  \n",
       "4  Laboratory Technician       Married       No  "
      ]
     },
     "execution_count": 16,
     "metadata": {},
     "output_type": "execute_result"
    }
   ],
   "source": [
    "X_selected = X[selected_features]\n",
    "X_selected.head()"
   ]
  },
  {
   "cell_type": "code",
   "execution_count": 17,
   "metadata": {},
   "outputs": [
    {
     "data": {
      "text/plain": [
       "(1470, 15)"
      ]
     },
     "execution_count": 17,
     "metadata": {},
     "output_type": "execute_result"
    }
   ],
   "source": [
    "X_selected.shape"
   ]
  },
  {
   "attachments": {},
   "cell_type": "markdown",
   "metadata": {},
   "source": [
    "### Feature Selection is completed "
   ]
  },
  {
   "attachments": {},
   "cell_type": "markdown",
   "metadata": {},
   "source": [
    "### Train Test Split of data"
   ]
  },
  {
   "cell_type": "code",
   "execution_count": 18,
   "metadata": {},
   "outputs": [],
   "source": [
    "from sklearn.model_selection import train_test_split\n",
    "xtrain, xtest, ytrain, ytest = train_test_split(X_selected,Y,test_size=0.2,random_state=42,stratify=Y)"
   ]
  },
  {
   "cell_type": "code",
   "execution_count": 19,
   "metadata": {},
   "outputs": [
    {
     "data": {
      "text/plain": [
       "(1176, 15)"
      ]
     },
     "execution_count": 19,
     "metadata": {},
     "output_type": "execute_result"
    }
   ],
   "source": [
    "xtrain.shape"
   ]
  },
  {
   "cell_type": "code",
   "execution_count": 20,
   "metadata": {},
   "outputs": [
    {
     "data": {
      "text/plain": [
       "(294, 15)"
      ]
     },
     "execution_count": 20,
     "metadata": {},
     "output_type": "execute_result"
    }
   ],
   "source": [
    "xtest.shape"
   ]
  },
  {
   "cell_type": "code",
   "execution_count": 21,
   "metadata": {},
   "outputs": [
    {
     "data": {
      "text/plain": [
       "Attrition\n",
       "0            986\n",
       "1            190\n",
       "dtype: int64"
      ]
     },
     "execution_count": 21,
     "metadata": {},
     "output_type": "execute_result"
    }
   ],
   "source": [
    "ytrain.value_counts()"
   ]
  },
  {
   "cell_type": "code",
   "execution_count": 22,
   "metadata": {},
   "outputs": [
    {
     "data": {
      "text/plain": [
       "Attrition\n",
       "0            247\n",
       "1             47\n",
       "dtype: int64"
      ]
     },
     "execution_count": 22,
     "metadata": {},
     "output_type": "execute_result"
    }
   ],
   "source": [
    "ytest.value_counts()"
   ]
  },
  {
   "attachments": {},
   "cell_type": "markdown",
   "metadata": {},
   "source": [
    "### Creating numeric and categorical pipeline"
   ]
  },
  {
   "cell_type": "code",
   "execution_count": 23,
   "metadata": {},
   "outputs": [],
   "source": [
    "from sklearn.impute import SimpleImputer\n",
    "from sklearn.pipeline import Pipeline\n",
    "from sklearn.preprocessing import OneHotEncoder,StandardScaler\n",
    "\n",
    "# Numeric Pipeline creation\n",
    "num_pipeline = Pipeline(steps=[('imputer',SimpleImputer(strategy='mean')),\n",
    "                               ('scaler',StandardScaler())])\n",
    "\n",
    "# Categorical Pipeline creation\n",
    "cat_pipeline = Pipeline(steps=[('imputer',SimpleImputer(strategy='most_frequent')),\n",
    "                               ('one_hot_encoder',OneHotEncoder()),\n",
    "                               ('scaler',StandardScaler(with_mean=False))])"
   ]
  },
  {
   "attachments": {},
   "cell_type": "markdown",
   "metadata": {},
   "source": [
    "### ColumnTransformer to combine numeric and Categorical pipelines"
   ]
  },
  {
   "cell_type": "code",
   "execution_count": 24,
   "metadata": {},
   "outputs": [
    {
     "data": {
      "text/plain": [
       "['Age',\n",
       " 'JobInvolvement',\n",
       " 'JobLevel',\n",
       " 'JobSatisfaction',\n",
       " 'MonthlyIncome',\n",
       " 'StockOptionLevel',\n",
       " 'TotalWorkingYears',\n",
       " 'YearsAtCompany',\n",
       " 'YearsInCurrentRole',\n",
       " 'YearsWithCurrManager']"
      ]
     },
     "execution_count": 24,
     "metadata": {},
     "output_type": "execute_result"
    }
   ],
   "source": [
    "selected_num_features"
   ]
  },
  {
   "cell_type": "code",
   "execution_count": 25,
   "metadata": {},
   "outputs": [
    {
     "data": {
      "text/plain": [
       "['Department', 'EducationField', 'JobRole', 'MaritalStatus', 'OverTime']"
      ]
     },
     "execution_count": 25,
     "metadata": {},
     "output_type": "execute_result"
    }
   ],
   "source": [
    "selected_cat_features"
   ]
  },
  {
   "cell_type": "code",
   "execution_count": 26,
   "metadata": {},
   "outputs": [],
   "source": [
    "from sklearn.compose import ColumnTransformer\n",
    "preprocessor = ColumnTransformer([('num_pipeline',num_pipeline,selected_num_features),\n",
    "                                  ('cat_pipeline',cat_pipeline,selected_cat_features)])"
   ]
  },
  {
   "attachments": {},
   "cell_type": "markdown",
   "metadata": {},
   "source": [
    "### Transform the dataset with ColumnTransformer"
   ]
  },
  {
   "cell_type": "code",
   "execution_count": 27,
   "metadata": {},
   "outputs": [],
   "source": [
    "xtrain_transformed = pd.DataFrame(preprocessor.fit_transform(xtrain),columns=preprocessor.get_feature_names_out())\n",
    "xtest_transformed = pd.DataFrame(preprocessor.transform(xtest),columns=preprocessor.get_feature_names_out())"
   ]
  },
  {
   "cell_type": "code",
   "execution_count": 28,
   "metadata": {},
   "outputs": [
    {
     "data": {
      "text/plain": [
       "array(['num_pipeline__Age', 'num_pipeline__JobInvolvement',\n",
       "       'num_pipeline__JobLevel', 'num_pipeline__JobSatisfaction',\n",
       "       'num_pipeline__MonthlyIncome', 'num_pipeline__StockOptionLevel',\n",
       "       'num_pipeline__TotalWorkingYears', 'num_pipeline__YearsAtCompany',\n",
       "       'num_pipeline__YearsInCurrentRole',\n",
       "       'num_pipeline__YearsWithCurrManager',\n",
       "       'cat_pipeline__Department_Human Resources',\n",
       "       'cat_pipeline__Department_Research & Development',\n",
       "       'cat_pipeline__Department_Sales',\n",
       "       'cat_pipeline__EducationField_Human Resources',\n",
       "       'cat_pipeline__EducationField_Life Sciences',\n",
       "       'cat_pipeline__EducationField_Marketing',\n",
       "       'cat_pipeline__EducationField_Medical',\n",
       "       'cat_pipeline__EducationField_Other',\n",
       "       'cat_pipeline__EducationField_Technical Degree',\n",
       "       'cat_pipeline__JobRole_Healthcare Representative',\n",
       "       'cat_pipeline__JobRole_Human Resources',\n",
       "       'cat_pipeline__JobRole_Laboratory Technician',\n",
       "       'cat_pipeline__JobRole_Manager',\n",
       "       'cat_pipeline__JobRole_Manufacturing Director',\n",
       "       'cat_pipeline__JobRole_Research Director',\n",
       "       'cat_pipeline__JobRole_Research Scientist',\n",
       "       'cat_pipeline__JobRole_Sales Executive',\n",
       "       'cat_pipeline__JobRole_Sales Representative',\n",
       "       'cat_pipeline__MaritalStatus_Divorced',\n",
       "       'cat_pipeline__MaritalStatus_Married',\n",
       "       'cat_pipeline__MaritalStatus_Single', 'cat_pipeline__OverTime_No',\n",
       "       'cat_pipeline__OverTime_Yes'], dtype=object)"
      ]
     },
     "execution_count": 28,
     "metadata": {},
     "output_type": "execute_result"
    }
   ],
   "source": [
    "preprocessor.get_feature_names_out()"
   ]
  },
  {
   "cell_type": "code",
   "execution_count": 29,
   "metadata": {},
   "outputs": [
    {
     "data": {
      "text/html": [
       "<div>\n",
       "<style scoped>\n",
       "    .dataframe tbody tr th:only-of-type {\n",
       "        vertical-align: middle;\n",
       "    }\n",
       "\n",
       "    .dataframe tbody tr th {\n",
       "        vertical-align: top;\n",
       "    }\n",
       "\n",
       "    .dataframe thead th {\n",
       "        text-align: right;\n",
       "    }\n",
       "</style>\n",
       "<table border=\"1\" class=\"dataframe\">\n",
       "  <thead>\n",
       "    <tr style=\"text-align: right;\">\n",
       "      <th></th>\n",
       "      <th>num_pipeline__Age</th>\n",
       "      <th>num_pipeline__JobInvolvement</th>\n",
       "      <th>num_pipeline__JobLevel</th>\n",
       "      <th>num_pipeline__JobSatisfaction</th>\n",
       "      <th>num_pipeline__MonthlyIncome</th>\n",
       "      <th>num_pipeline__StockOptionLevel</th>\n",
       "      <th>num_pipeline__TotalWorkingYears</th>\n",
       "      <th>num_pipeline__YearsAtCompany</th>\n",
       "      <th>num_pipeline__YearsInCurrentRole</th>\n",
       "      <th>num_pipeline__YearsWithCurrManager</th>\n",
       "      <th>...</th>\n",
       "      <th>cat_pipeline__JobRole_Manufacturing Director</th>\n",
       "      <th>cat_pipeline__JobRole_Research Director</th>\n",
       "      <th>cat_pipeline__JobRole_Research Scientist</th>\n",
       "      <th>cat_pipeline__JobRole_Sales Executive</th>\n",
       "      <th>cat_pipeline__JobRole_Sales Representative</th>\n",
       "      <th>cat_pipeline__MaritalStatus_Divorced</th>\n",
       "      <th>cat_pipeline__MaritalStatus_Married</th>\n",
       "      <th>cat_pipeline__MaritalStatus_Single</th>\n",
       "      <th>cat_pipeline__OverTime_No</th>\n",
       "      <th>cat_pipeline__OverTime_Yes</th>\n",
       "    </tr>\n",
       "  </thead>\n",
       "  <tbody>\n",
       "    <tr>\n",
       "      <th>0</th>\n",
       "      <td>1.090194</td>\n",
       "      <td>1.795282</td>\n",
       "      <td>1.762189</td>\n",
       "      <td>-0.647997</td>\n",
       "      <td>2.026752</td>\n",
       "      <td>2.613100</td>\n",
       "      <td>2.261482</td>\n",
       "      <td>-0.665706</td>\n",
       "      <td>-0.625365</td>\n",
       "      <td>-0.616406</td>\n",
       "      <td>...</td>\n",
       "      <td>0.0</td>\n",
       "      <td>0.0</td>\n",
       "      <td>0.0</td>\n",
       "      <td>0.0</td>\n",
       "      <td>0.000000</td>\n",
       "      <td>2.399905</td>\n",
       "      <td>0.000000</td>\n",
       "      <td>0.0</td>\n",
       "      <td>2.205793</td>\n",
       "      <td>0.000000</td>\n",
       "    </tr>\n",
       "    <tr>\n",
       "      <th>1</th>\n",
       "      <td>-1.634828</td>\n",
       "      <td>0.373564</td>\n",
       "      <td>-0.986265</td>\n",
       "      <td>1.153526</td>\n",
       "      <td>-0.864408</td>\n",
       "      <td>0.247430</td>\n",
       "      <td>-1.072675</td>\n",
       "      <td>-0.830071</td>\n",
       "      <td>-0.905635</td>\n",
       "      <td>-0.897047</td>\n",
       "      <td>...</td>\n",
       "      <td>0.0</td>\n",
       "      <td>0.0</td>\n",
       "      <td>0.0</td>\n",
       "      <td>0.0</td>\n",
       "      <td>0.000000</td>\n",
       "      <td>0.000000</td>\n",
       "      <td>2.006697</td>\n",
       "      <td>0.0</td>\n",
       "      <td>2.205793</td>\n",
       "      <td>0.000000</td>\n",
       "    </tr>\n",
       "    <tr>\n",
       "      <th>2</th>\n",
       "      <td>0.981193</td>\n",
       "      <td>0.373564</td>\n",
       "      <td>1.762189</td>\n",
       "      <td>0.252765</td>\n",
       "      <td>2.347706</td>\n",
       "      <td>0.247430</td>\n",
       "      <td>1.492061</td>\n",
       "      <td>0.813578</td>\n",
       "      <td>1.336527</td>\n",
       "      <td>1.348076</td>\n",
       "      <td>...</td>\n",
       "      <td>0.0</td>\n",
       "      <td>0.0</td>\n",
       "      <td>0.0</td>\n",
       "      <td>0.0</td>\n",
       "      <td>0.000000</td>\n",
       "      <td>0.000000</td>\n",
       "      <td>2.006697</td>\n",
       "      <td>0.0</td>\n",
       "      <td>2.205793</td>\n",
       "      <td>0.000000</td>\n",
       "    </tr>\n",
       "    <tr>\n",
       "      <th>3</th>\n",
       "      <td>-1.307825</td>\n",
       "      <td>0.373564</td>\n",
       "      <td>-0.986265</td>\n",
       "      <td>0.252765</td>\n",
       "      <td>-0.956202</td>\n",
       "      <td>-0.935405</td>\n",
       "      <td>-0.559727</td>\n",
       "      <td>-0.008246</td>\n",
       "      <td>-0.064824</td>\n",
       "      <td>0.506155</td>\n",
       "      <td>...</td>\n",
       "      <td>0.0</td>\n",
       "      <td>0.0</td>\n",
       "      <td>0.0</td>\n",
       "      <td>0.0</td>\n",
       "      <td>4.544641</td>\n",
       "      <td>0.000000</td>\n",
       "      <td>2.006697</td>\n",
       "      <td>0.0</td>\n",
       "      <td>2.205793</td>\n",
       "      <td>0.000000</td>\n",
       "    </tr>\n",
       "    <tr>\n",
       "      <th>4</th>\n",
       "      <td>0.654191</td>\n",
       "      <td>0.373564</td>\n",
       "      <td>-0.070114</td>\n",
       "      <td>0.252765</td>\n",
       "      <td>-0.185956</td>\n",
       "      <td>0.247430</td>\n",
       "      <td>-0.175017</td>\n",
       "      <td>0.156119</td>\n",
       "      <td>0.775986</td>\n",
       "      <td>0.786795</td>\n",
       "      <td>...</td>\n",
       "      <td>0.0</td>\n",
       "      <td>0.0</td>\n",
       "      <td>0.0</td>\n",
       "      <td>0.0</td>\n",
       "      <td>0.000000</td>\n",
       "      <td>2.399905</td>\n",
       "      <td>0.000000</td>\n",
       "      <td>0.0</td>\n",
       "      <td>0.000000</td>\n",
       "      <td>2.205793</td>\n",
       "    </tr>\n",
       "  </tbody>\n",
       "</table>\n",
       "<p>5 rows × 33 columns</p>\n",
       "</div>"
      ],
      "text/plain": [
       "   num_pipeline__Age  num_pipeline__JobInvolvement  num_pipeline__JobLevel  \\\n",
       "0           1.090194                      1.795282                1.762189   \n",
       "1          -1.634828                      0.373564               -0.986265   \n",
       "2           0.981193                      0.373564                1.762189   \n",
       "3          -1.307825                      0.373564               -0.986265   \n",
       "4           0.654191                      0.373564               -0.070114   \n",
       "\n",
       "   num_pipeline__JobSatisfaction  num_pipeline__MonthlyIncome  \\\n",
       "0                      -0.647997                     2.026752   \n",
       "1                       1.153526                    -0.864408   \n",
       "2                       0.252765                     2.347706   \n",
       "3                       0.252765                    -0.956202   \n",
       "4                       0.252765                    -0.185956   \n",
       "\n",
       "   num_pipeline__StockOptionLevel  num_pipeline__TotalWorkingYears  \\\n",
       "0                        2.613100                         2.261482   \n",
       "1                        0.247430                        -1.072675   \n",
       "2                        0.247430                         1.492061   \n",
       "3                       -0.935405                        -0.559727   \n",
       "4                        0.247430                        -0.175017   \n",
       "\n",
       "   num_pipeline__YearsAtCompany  num_pipeline__YearsInCurrentRole  \\\n",
       "0                     -0.665706                         -0.625365   \n",
       "1                     -0.830071                         -0.905635   \n",
       "2                      0.813578                          1.336527   \n",
       "3                     -0.008246                         -0.064824   \n",
       "4                      0.156119                          0.775986   \n",
       "\n",
       "   num_pipeline__YearsWithCurrManager  ...  \\\n",
       "0                           -0.616406  ...   \n",
       "1                           -0.897047  ...   \n",
       "2                            1.348076  ...   \n",
       "3                            0.506155  ...   \n",
       "4                            0.786795  ...   \n",
       "\n",
       "   cat_pipeline__JobRole_Manufacturing Director  \\\n",
       "0                                           0.0   \n",
       "1                                           0.0   \n",
       "2                                           0.0   \n",
       "3                                           0.0   \n",
       "4                                           0.0   \n",
       "\n",
       "   cat_pipeline__JobRole_Research Director  \\\n",
       "0                                      0.0   \n",
       "1                                      0.0   \n",
       "2                                      0.0   \n",
       "3                                      0.0   \n",
       "4                                      0.0   \n",
       "\n",
       "   cat_pipeline__JobRole_Research Scientist  \\\n",
       "0                                       0.0   \n",
       "1                                       0.0   \n",
       "2                                       0.0   \n",
       "3                                       0.0   \n",
       "4                                       0.0   \n",
       "\n",
       "   cat_pipeline__JobRole_Sales Executive  \\\n",
       "0                                    0.0   \n",
       "1                                    0.0   \n",
       "2                                    0.0   \n",
       "3                                    0.0   \n",
       "4                                    0.0   \n",
       "\n",
       "   cat_pipeline__JobRole_Sales Representative  \\\n",
       "0                                    0.000000   \n",
       "1                                    0.000000   \n",
       "2                                    0.000000   \n",
       "3                                    4.544641   \n",
       "4                                    0.000000   \n",
       "\n",
       "   cat_pipeline__MaritalStatus_Divorced  cat_pipeline__MaritalStatus_Married  \\\n",
       "0                              2.399905                             0.000000   \n",
       "1                              0.000000                             2.006697   \n",
       "2                              0.000000                             2.006697   \n",
       "3                              0.000000                             2.006697   \n",
       "4                              2.399905                             0.000000   \n",
       "\n",
       "   cat_pipeline__MaritalStatus_Single  cat_pipeline__OverTime_No  \\\n",
       "0                                 0.0                   2.205793   \n",
       "1                                 0.0                   2.205793   \n",
       "2                                 0.0                   2.205793   \n",
       "3                                 0.0                   2.205793   \n",
       "4                                 0.0                   0.000000   \n",
       "\n",
       "   cat_pipeline__OverTime_Yes  \n",
       "0                    0.000000  \n",
       "1                    0.000000  \n",
       "2                    0.000000  \n",
       "3                    0.000000  \n",
       "4                    2.205793  \n",
       "\n",
       "[5 rows x 33 columns]"
      ]
     },
     "execution_count": 29,
     "metadata": {},
     "output_type": "execute_result"
    }
   ],
   "source": [
    "xtrain_transformed.head()"
   ]
  },
  {
   "cell_type": "code",
   "execution_count": 30,
   "metadata": {},
   "outputs": [
    {
     "data": {
      "text/html": [
       "<div>\n",
       "<style scoped>\n",
       "    .dataframe tbody tr th:only-of-type {\n",
       "        vertical-align: middle;\n",
       "    }\n",
       "\n",
       "    .dataframe tbody tr th {\n",
       "        vertical-align: top;\n",
       "    }\n",
       "\n",
       "    .dataframe thead th {\n",
       "        text-align: right;\n",
       "    }\n",
       "</style>\n",
       "<table border=\"1\" class=\"dataframe\">\n",
       "  <thead>\n",
       "    <tr style=\"text-align: right;\">\n",
       "      <th></th>\n",
       "      <th>num_pipeline__Age</th>\n",
       "      <th>num_pipeline__JobInvolvement</th>\n",
       "      <th>num_pipeline__JobLevel</th>\n",
       "      <th>num_pipeline__JobSatisfaction</th>\n",
       "      <th>num_pipeline__MonthlyIncome</th>\n",
       "      <th>num_pipeline__StockOptionLevel</th>\n",
       "      <th>num_pipeline__TotalWorkingYears</th>\n",
       "      <th>num_pipeline__YearsAtCompany</th>\n",
       "      <th>num_pipeline__YearsInCurrentRole</th>\n",
       "      <th>num_pipeline__YearsWithCurrManager</th>\n",
       "      <th>...</th>\n",
       "      <th>cat_pipeline__JobRole_Manufacturing Director</th>\n",
       "      <th>cat_pipeline__JobRole_Research Director</th>\n",
       "      <th>cat_pipeline__JobRole_Research Scientist</th>\n",
       "      <th>cat_pipeline__JobRole_Sales Executive</th>\n",
       "      <th>cat_pipeline__JobRole_Sales Representative</th>\n",
       "      <th>cat_pipeline__MaritalStatus_Divorced</th>\n",
       "      <th>cat_pipeline__MaritalStatus_Married</th>\n",
       "      <th>cat_pipeline__MaritalStatus_Single</th>\n",
       "      <th>cat_pipeline__OverTime_No</th>\n",
       "      <th>cat_pipeline__OverTime_Yes</th>\n",
       "    </tr>\n",
       "  </thead>\n",
       "  <tbody>\n",
       "    <tr>\n",
       "      <th>0</th>\n",
       "      <td>-1.416826</td>\n",
       "      <td>0.373564</td>\n",
       "      <td>-0.986265</td>\n",
       "      <td>-0.647997</td>\n",
       "      <td>-0.969745</td>\n",
       "      <td>0.247430</td>\n",
       "      <td>-1.329148</td>\n",
       "      <td>-0.994436</td>\n",
       "      <td>-1.185905</td>\n",
       "      <td>-1.177687</td>\n",
       "      <td>...</td>\n",
       "      <td>0.0</td>\n",
       "      <td>0.0</td>\n",
       "      <td>0.000000</td>\n",
       "      <td>0.0</td>\n",
       "      <td>4.544641</td>\n",
       "      <td>0.000000</td>\n",
       "      <td>2.006697</td>\n",
       "      <td>0.0</td>\n",
       "      <td>2.205793</td>\n",
       "      <td>0.000000</td>\n",
       "    </tr>\n",
       "    <tr>\n",
       "      <th>1</th>\n",
       "      <td>0.763191</td>\n",
       "      <td>1.795282</td>\n",
       "      <td>-0.986265</td>\n",
       "      <td>1.153526</td>\n",
       "      <td>-0.974474</td>\n",
       "      <td>0.247430</td>\n",
       "      <td>-0.175017</td>\n",
       "      <td>0.484849</td>\n",
       "      <td>0.215446</td>\n",
       "      <td>0.786795</td>\n",
       "      <td>...</td>\n",
       "      <td>0.0</td>\n",
       "      <td>0.0</td>\n",
       "      <td>2.564289</td>\n",
       "      <td>0.0</td>\n",
       "      <td>0.000000</td>\n",
       "      <td>0.000000</td>\n",
       "      <td>2.006697</td>\n",
       "      <td>0.0</td>\n",
       "      <td>2.205793</td>\n",
       "      <td>0.000000</td>\n",
       "    </tr>\n",
       "    <tr>\n",
       "      <th>2</th>\n",
       "      <td>-0.653820</td>\n",
       "      <td>-1.048155</td>\n",
       "      <td>0.846038</td>\n",
       "      <td>1.153526</td>\n",
       "      <td>1.077650</td>\n",
       "      <td>0.247430</td>\n",
       "      <td>-0.175017</td>\n",
       "      <td>-0.336976</td>\n",
       "      <td>-0.064824</td>\n",
       "      <td>-0.897047</td>\n",
       "      <td>...</td>\n",
       "      <td>0.0</td>\n",
       "      <td>0.0</td>\n",
       "      <td>0.000000</td>\n",
       "      <td>0.0</td>\n",
       "      <td>0.000000</td>\n",
       "      <td>2.399905</td>\n",
       "      <td>0.000000</td>\n",
       "      <td>0.0</td>\n",
       "      <td>2.205793</td>\n",
       "      <td>0.000000</td>\n",
       "    </tr>\n",
       "    <tr>\n",
       "      <th>3</th>\n",
       "      <td>0.763191</td>\n",
       "      <td>1.795282</td>\n",
       "      <td>2.678340</td>\n",
       "      <td>-1.548758</td>\n",
       "      <td>2.718533</td>\n",
       "      <td>1.430265</td>\n",
       "      <td>1.876772</td>\n",
       "      <td>2.950322</td>\n",
       "      <td>1.336527</td>\n",
       "      <td>2.470637</td>\n",
       "      <td>...</td>\n",
       "      <td>0.0</td>\n",
       "      <td>0.0</td>\n",
       "      <td>0.000000</td>\n",
       "      <td>0.0</td>\n",
       "      <td>0.000000</td>\n",
       "      <td>2.399905</td>\n",
       "      <td>0.000000</td>\n",
       "      <td>0.0</td>\n",
       "      <td>2.205793</td>\n",
       "      <td>0.000000</td>\n",
       "    </tr>\n",
       "    <tr>\n",
       "      <th>4</th>\n",
       "      <td>-0.108815</td>\n",
       "      <td>-1.048155</td>\n",
       "      <td>-0.986265</td>\n",
       "      <td>0.252765</td>\n",
       "      <td>-0.678457</td>\n",
       "      <td>0.247430</td>\n",
       "      <td>-1.200911</td>\n",
       "      <td>-0.994436</td>\n",
       "      <td>-1.185905</td>\n",
       "      <td>-1.177687</td>\n",
       "      <td>...</td>\n",
       "      <td>0.0</td>\n",
       "      <td>0.0</td>\n",
       "      <td>2.564289</td>\n",
       "      <td>0.0</td>\n",
       "      <td>0.000000</td>\n",
       "      <td>0.000000</td>\n",
       "      <td>2.006697</td>\n",
       "      <td>0.0</td>\n",
       "      <td>0.000000</td>\n",
       "      <td>2.205793</td>\n",
       "    </tr>\n",
       "  </tbody>\n",
       "</table>\n",
       "<p>5 rows × 33 columns</p>\n",
       "</div>"
      ],
      "text/plain": [
       "   num_pipeline__Age  num_pipeline__JobInvolvement  num_pipeline__JobLevel  \\\n",
       "0          -1.416826                      0.373564               -0.986265   \n",
       "1           0.763191                      1.795282               -0.986265   \n",
       "2          -0.653820                     -1.048155                0.846038   \n",
       "3           0.763191                      1.795282                2.678340   \n",
       "4          -0.108815                     -1.048155               -0.986265   \n",
       "\n",
       "   num_pipeline__JobSatisfaction  num_pipeline__MonthlyIncome  \\\n",
       "0                      -0.647997                    -0.969745   \n",
       "1                       1.153526                    -0.974474   \n",
       "2                       1.153526                     1.077650   \n",
       "3                      -1.548758                     2.718533   \n",
       "4                       0.252765                    -0.678457   \n",
       "\n",
       "   num_pipeline__StockOptionLevel  num_pipeline__TotalWorkingYears  \\\n",
       "0                        0.247430                        -1.329148   \n",
       "1                        0.247430                        -0.175017   \n",
       "2                        0.247430                        -0.175017   \n",
       "3                        1.430265                         1.876772   \n",
       "4                        0.247430                        -1.200911   \n",
       "\n",
       "   num_pipeline__YearsAtCompany  num_pipeline__YearsInCurrentRole  \\\n",
       "0                     -0.994436                         -1.185905   \n",
       "1                      0.484849                          0.215446   \n",
       "2                     -0.336976                         -0.064824   \n",
       "3                      2.950322                          1.336527   \n",
       "4                     -0.994436                         -1.185905   \n",
       "\n",
       "   num_pipeline__YearsWithCurrManager  ...  \\\n",
       "0                           -1.177687  ...   \n",
       "1                            0.786795  ...   \n",
       "2                           -0.897047  ...   \n",
       "3                            2.470637  ...   \n",
       "4                           -1.177687  ...   \n",
       "\n",
       "   cat_pipeline__JobRole_Manufacturing Director  \\\n",
       "0                                           0.0   \n",
       "1                                           0.0   \n",
       "2                                           0.0   \n",
       "3                                           0.0   \n",
       "4                                           0.0   \n",
       "\n",
       "   cat_pipeline__JobRole_Research Director  \\\n",
       "0                                      0.0   \n",
       "1                                      0.0   \n",
       "2                                      0.0   \n",
       "3                                      0.0   \n",
       "4                                      0.0   \n",
       "\n",
       "   cat_pipeline__JobRole_Research Scientist  \\\n",
       "0                                  0.000000   \n",
       "1                                  2.564289   \n",
       "2                                  0.000000   \n",
       "3                                  0.000000   \n",
       "4                                  2.564289   \n",
       "\n",
       "   cat_pipeline__JobRole_Sales Executive  \\\n",
       "0                                    0.0   \n",
       "1                                    0.0   \n",
       "2                                    0.0   \n",
       "3                                    0.0   \n",
       "4                                    0.0   \n",
       "\n",
       "   cat_pipeline__JobRole_Sales Representative  \\\n",
       "0                                    4.544641   \n",
       "1                                    0.000000   \n",
       "2                                    0.000000   \n",
       "3                                    0.000000   \n",
       "4                                    0.000000   \n",
       "\n",
       "   cat_pipeline__MaritalStatus_Divorced  cat_pipeline__MaritalStatus_Married  \\\n",
       "0                              0.000000                             2.006697   \n",
       "1                              0.000000                             2.006697   \n",
       "2                              2.399905                             0.000000   \n",
       "3                              2.399905                             0.000000   \n",
       "4                              0.000000                             2.006697   \n",
       "\n",
       "   cat_pipeline__MaritalStatus_Single  cat_pipeline__OverTime_No  \\\n",
       "0                                 0.0                   2.205793   \n",
       "1                                 0.0                   2.205793   \n",
       "2                                 0.0                   2.205793   \n",
       "3                                 0.0                   2.205793   \n",
       "4                                 0.0                   0.000000   \n",
       "\n",
       "   cat_pipeline__OverTime_Yes  \n",
       "0                    0.000000  \n",
       "1                    0.000000  \n",
       "2                    0.000000  \n",
       "3                    0.000000  \n",
       "4                    2.205793  \n",
       "\n",
       "[5 rows x 33 columns]"
      ]
     },
     "execution_count": 30,
     "metadata": {},
     "output_type": "execute_result"
    }
   ],
   "source": [
    "xtest_transformed.head()"
   ]
  },
  {
   "attachments": {},
   "cell_type": "markdown",
   "metadata": {},
   "source": [
    "### Training Random Forest"
   ]
  },
  {
   "cell_type": "code",
   "execution_count": 31,
   "metadata": {},
   "outputs": [
    {
     "data": {
      "text/html": [
       "<style>#sk-container-id-1 {color: black;background-color: white;}#sk-container-id-1 pre{padding: 0;}#sk-container-id-1 div.sk-toggleable {background-color: white;}#sk-container-id-1 label.sk-toggleable__label {cursor: pointer;display: block;width: 100%;margin-bottom: 0;padding: 0.3em;box-sizing: border-box;text-align: center;}#sk-container-id-1 label.sk-toggleable__label-arrow:before {content: \"▸\";float: left;margin-right: 0.25em;color: #696969;}#sk-container-id-1 label.sk-toggleable__label-arrow:hover:before {color: black;}#sk-container-id-1 div.sk-estimator:hover label.sk-toggleable__label-arrow:before {color: black;}#sk-container-id-1 div.sk-toggleable__content {max-height: 0;max-width: 0;overflow: hidden;text-align: left;background-color: #f0f8ff;}#sk-container-id-1 div.sk-toggleable__content pre {margin: 0.2em;color: black;border-radius: 0.25em;background-color: #f0f8ff;}#sk-container-id-1 input.sk-toggleable__control:checked~div.sk-toggleable__content {max-height: 200px;max-width: 100%;overflow: auto;}#sk-container-id-1 input.sk-toggleable__control:checked~label.sk-toggleable__label-arrow:before {content: \"▾\";}#sk-container-id-1 div.sk-estimator input.sk-toggleable__control:checked~label.sk-toggleable__label {background-color: #d4ebff;}#sk-container-id-1 div.sk-label input.sk-toggleable__control:checked~label.sk-toggleable__label {background-color: #d4ebff;}#sk-container-id-1 input.sk-hidden--visually {border: 0;clip: rect(1px 1px 1px 1px);clip: rect(1px, 1px, 1px, 1px);height: 1px;margin: -1px;overflow: hidden;padding: 0;position: absolute;width: 1px;}#sk-container-id-1 div.sk-estimator {font-family: monospace;background-color: #f0f8ff;border: 1px dotted black;border-radius: 0.25em;box-sizing: border-box;margin-bottom: 0.5em;}#sk-container-id-1 div.sk-estimator:hover {background-color: #d4ebff;}#sk-container-id-1 div.sk-parallel-item::after {content: \"\";width: 100%;border-bottom: 1px solid gray;flex-grow: 1;}#sk-container-id-1 div.sk-label:hover label.sk-toggleable__label {background-color: #d4ebff;}#sk-container-id-1 div.sk-serial::before {content: \"\";position: absolute;border-left: 1px solid gray;box-sizing: border-box;top: 0;bottom: 0;left: 50%;z-index: 0;}#sk-container-id-1 div.sk-serial {display: flex;flex-direction: column;align-items: center;background-color: white;padding-right: 0.2em;padding-left: 0.2em;position: relative;}#sk-container-id-1 div.sk-item {position: relative;z-index: 1;}#sk-container-id-1 div.sk-parallel {display: flex;align-items: stretch;justify-content: center;background-color: white;position: relative;}#sk-container-id-1 div.sk-item::before, #sk-container-id-1 div.sk-parallel-item::before {content: \"\";position: absolute;border-left: 1px solid gray;box-sizing: border-box;top: 0;bottom: 0;left: 50%;z-index: -1;}#sk-container-id-1 div.sk-parallel-item {display: flex;flex-direction: column;z-index: 1;position: relative;background-color: white;}#sk-container-id-1 div.sk-parallel-item:first-child::after {align-self: flex-end;width: 50%;}#sk-container-id-1 div.sk-parallel-item:last-child::after {align-self: flex-start;width: 50%;}#sk-container-id-1 div.sk-parallel-item:only-child::after {width: 0;}#sk-container-id-1 div.sk-dashed-wrapped {border: 1px dashed gray;margin: 0 0.4em 0.5em 0.4em;box-sizing: border-box;padding-bottom: 0.4em;background-color: white;}#sk-container-id-1 div.sk-label label {font-family: monospace;font-weight: bold;display: inline-block;line-height: 1.2em;}#sk-container-id-1 div.sk-label-container {text-align: center;}#sk-container-id-1 div.sk-container {/* jupyter's `normalize.less` sets `[hidden] { display: none; }` but bootstrap.min.css set `[hidden] { display: none !important; }` so we also need the `!important` here to be able to override the default hidden behavior on the sphinx rendered scikit-learn.org. See: https://github.com/scikit-learn/scikit-learn/issues/21755 */display: inline-block !important;position: relative;}#sk-container-id-1 div.sk-text-repr-fallback {display: none;}</style><div id=\"sk-container-id-1\" class=\"sk-top-container\"><div class=\"sk-text-repr-fallback\"><pre>RandomForestClassifier(max_depth=8, random_state=21)</pre><b>In a Jupyter environment, please rerun this cell to show the HTML representation or trust the notebook. <br />On GitHub, the HTML representation is unable to render, please try loading this page with nbviewer.org.</b></div><div class=\"sk-container\" hidden><div class=\"sk-item\"><div class=\"sk-estimator sk-toggleable\"><input class=\"sk-toggleable__control sk-hidden--visually\" id=\"sk-estimator-id-1\" type=\"checkbox\" checked><label for=\"sk-estimator-id-1\" class=\"sk-toggleable__label sk-toggleable__label-arrow\">RandomForestClassifier</label><div class=\"sk-toggleable__content\"><pre>RandomForestClassifier(max_depth=8, random_state=21)</pre></div></div></div></div></div>"
      ],
      "text/plain": [
       "RandomForestClassifier(max_depth=8, random_state=21)"
      ]
     },
     "execution_count": 31,
     "metadata": {},
     "output_type": "execute_result"
    }
   ],
   "source": [
    "from sklearn.ensemble import RandomForestClassifier\n",
    "rfc = RandomForestClassifier(n_estimators=100,max_depth=8,random_state=21)\n",
    "rfc.fit(xtrain_transformed,ytrain)"
   ]
  },
  {
   "cell_type": "code",
   "execution_count": 32,
   "metadata": {},
   "outputs": [
    {
     "data": {
      "text/plain": [
       "array([0.84322034, 0.84255319, 0.85957447, 0.86382979, 0.86808511])"
      ]
     },
     "execution_count": 32,
     "metadata": {},
     "output_type": "execute_result"
    }
   ],
   "source": [
    "from sklearn.model_selection import cross_val_score, StratifiedKFold\n",
    "skf = StratifiedKFold(n_splits=5, shuffle=True)\n",
    "scores = cross_val_score(rfc,xtrain_transformed,ytrain,cv=skf,scoring='accuracy')\n",
    "scores"
   ]
  },
  {
   "cell_type": "code",
   "execution_count": 33,
   "metadata": {},
   "outputs": [
    {
     "data": {
      "text/plain": [
       "0.855452578434908"
      ]
     },
     "execution_count": 33,
     "metadata": {},
     "output_type": "execute_result"
    }
   ],
   "source": [
    "import numpy as np\n",
    "np.mean(scores)"
   ]
  },
  {
   "attachments": {},
   "cell_type": "markdown",
   "metadata": {},
   "source": [
    "### Hyperparameter Tuning"
   ]
  },
  {
   "cell_type": "code",
   "execution_count": 34,
   "metadata": {},
   "outputs": [],
   "source": [
    "parameters = {\n",
    "    'n_estimators':[10,50,100,200,300,400],\n",
    "    'max_depth':[4,5,6,7,8,9,10],\n",
    "    'min_samples_leaf':[2,3,4,5,6],\n",
    "    'min_samples_split':[2,5,10]\n",
    "}"
   ]
  },
  {
   "cell_type": "code",
   "execution_count": 35,
   "metadata": {},
   "outputs": [],
   "source": [
    "from sklearn.model_selection import RandomizedSearchCV\n",
    "rscv = RandomizedSearchCV(RandomForestClassifier(),\n",
    "                          param_distributions=parameters,\n",
    "                          cv=skf,\n",
    "                          n_iter=50,\n",
    "                          scoring='accuracy',\n",
    "                          verbose=3)"
   ]
  },
  {
   "cell_type": "code",
   "execution_count": 36,
   "metadata": {},
   "outputs": [
    {
     "name": "stdout",
     "output_type": "stream",
     "text": [
      "Fitting 5 folds for each of 50 candidates, totalling 250 fits\n",
      "[CV 1/5] END max_depth=10, min_samples_leaf=5, min_samples_split=10, n_estimators=300;, score=0.852 total time=   0.4s\n",
      "[CV 2/5] END max_depth=10, min_samples_leaf=5, min_samples_split=10, n_estimators=300;, score=0.864 total time=   0.4s\n",
      "[CV 3/5] END max_depth=10, min_samples_leaf=5, min_samples_split=10, n_estimators=300;, score=0.851 total time=   0.4s\n",
      "[CV 4/5] END max_depth=10, min_samples_leaf=5, min_samples_split=10, n_estimators=300;, score=0.860 total time=   0.4s\n",
      "[CV 5/5] END max_depth=10, min_samples_leaf=5, min_samples_split=10, n_estimators=300;, score=0.860 total time=   0.5s\n",
      "[CV 1/5] END max_depth=8, min_samples_leaf=6, min_samples_split=10, n_estimators=200;, score=0.864 total time=   0.3s\n",
      "[CV 2/5] END max_depth=8, min_samples_leaf=6, min_samples_split=10, n_estimators=200;, score=0.860 total time=   0.3s\n",
      "[CV 3/5] END max_depth=8, min_samples_leaf=6, min_samples_split=10, n_estimators=200;, score=0.855 total time=   0.3s\n",
      "[CV 4/5] END max_depth=8, min_samples_leaf=6, min_samples_split=10, n_estimators=200;, score=0.860 total time=   0.3s\n",
      "[CV 5/5] END max_depth=8, min_samples_leaf=6, min_samples_split=10, n_estimators=200;, score=0.860 total time=   0.2s\n",
      "[CV 1/5] END max_depth=5, min_samples_leaf=2, min_samples_split=5, n_estimators=50;, score=0.864 total time=   0.0s\n",
      "[CV 2/5] END max_depth=5, min_samples_leaf=2, min_samples_split=5, n_estimators=50;, score=0.860 total time=   0.0s\n",
      "[CV 3/5] END max_depth=5, min_samples_leaf=2, min_samples_split=5, n_estimators=50;, score=0.851 total time=   0.0s\n",
      "[CV 4/5] END max_depth=5, min_samples_leaf=2, min_samples_split=5, n_estimators=50;, score=0.847 total time=   0.0s\n",
      "[CV 5/5] END max_depth=5, min_samples_leaf=2, min_samples_split=5, n_estimators=50;, score=0.860 total time=   0.0s\n",
      "[CV 1/5] END max_depth=6, min_samples_leaf=6, min_samples_split=2, n_estimators=10;, score=0.869 total time=   0.0s\n",
      "[CV 2/5] END max_depth=6, min_samples_leaf=6, min_samples_split=2, n_estimators=10;, score=0.855 total time=   0.0s\n",
      "[CV 3/5] END max_depth=6, min_samples_leaf=6, min_samples_split=2, n_estimators=10;, score=0.851 total time=   0.0s\n",
      "[CV 4/5] END max_depth=6, min_samples_leaf=6, min_samples_split=2, n_estimators=10;, score=0.860 total time=   0.0s\n",
      "[CV 5/5] END max_depth=6, min_samples_leaf=6, min_samples_split=2, n_estimators=10;, score=0.860 total time=   0.0s\n",
      "[CV 1/5] END max_depth=5, min_samples_leaf=5, min_samples_split=2, n_estimators=200;, score=0.856 total time=   0.2s\n",
      "[CV 2/5] END max_depth=5, min_samples_leaf=5, min_samples_split=2, n_estimators=200;, score=0.860 total time=   0.2s\n",
      "[CV 3/5] END max_depth=5, min_samples_leaf=5, min_samples_split=2, n_estimators=200;, score=0.855 total time=   0.3s\n",
      "[CV 4/5] END max_depth=5, min_samples_leaf=5, min_samples_split=2, n_estimators=200;, score=0.843 total time=   0.2s\n",
      "[CV 5/5] END max_depth=5, min_samples_leaf=5, min_samples_split=2, n_estimators=200;, score=0.860 total time=   0.2s\n",
      "[CV 1/5] END max_depth=10, min_samples_leaf=2, min_samples_split=5, n_estimators=300;, score=0.869 total time=   0.4s\n",
      "[CV 2/5] END max_depth=10, min_samples_leaf=2, min_samples_split=5, n_estimators=300;, score=0.860 total time=   0.4s\n",
      "[CV 3/5] END max_depth=10, min_samples_leaf=2, min_samples_split=5, n_estimators=300;, score=0.851 total time=   0.5s\n",
      "[CV 4/5] END max_depth=10, min_samples_leaf=2, min_samples_split=5, n_estimators=300;, score=0.851 total time=   0.4s\n",
      "[CV 5/5] END max_depth=10, min_samples_leaf=2, min_samples_split=5, n_estimators=300;, score=0.864 total time=   0.5s\n",
      "[CV 1/5] END max_depth=6, min_samples_leaf=2, min_samples_split=5, n_estimators=300;, score=0.864 total time=   0.4s\n",
      "[CV 2/5] END max_depth=6, min_samples_leaf=2, min_samples_split=5, n_estimators=300;, score=0.864 total time=   0.4s\n",
      "[CV 3/5] END max_depth=6, min_samples_leaf=2, min_samples_split=5, n_estimators=300;, score=0.860 total time=   0.5s\n",
      "[CV 4/5] END max_depth=6, min_samples_leaf=2, min_samples_split=5, n_estimators=300;, score=0.851 total time=   0.4s\n",
      "[CV 5/5] END max_depth=6, min_samples_leaf=2, min_samples_split=5, n_estimators=300;, score=0.860 total time=   0.4s\n",
      "[CV 1/5] END max_depth=9, min_samples_leaf=3, min_samples_split=2, n_estimators=100;, score=0.873 total time=   0.1s\n",
      "[CV 2/5] END max_depth=9, min_samples_leaf=3, min_samples_split=2, n_estimators=100;, score=0.864 total time=   0.1s\n",
      "[CV 3/5] END max_depth=9, min_samples_leaf=3, min_samples_split=2, n_estimators=100;, score=0.855 total time=   0.1s\n",
      "[CV 4/5] END max_depth=9, min_samples_leaf=3, min_samples_split=2, n_estimators=100;, score=0.860 total time=   0.1s\n",
      "[CV 5/5] END max_depth=9, min_samples_leaf=3, min_samples_split=2, n_estimators=100;, score=0.864 total time=   0.1s\n",
      "[CV 1/5] END max_depth=8, min_samples_leaf=5, min_samples_split=5, n_estimators=200;, score=0.864 total time=   0.2s\n",
      "[CV 2/5] END max_depth=8, min_samples_leaf=5, min_samples_split=5, n_estimators=200;, score=0.864 total time=   0.3s\n",
      "[CV 3/5] END max_depth=8, min_samples_leaf=5, min_samples_split=5, n_estimators=200;, score=0.855 total time=   0.3s\n",
      "[CV 4/5] END max_depth=8, min_samples_leaf=5, min_samples_split=5, n_estimators=200;, score=0.851 total time=   0.3s\n",
      "[CV 5/5] END max_depth=8, min_samples_leaf=5, min_samples_split=5, n_estimators=200;, score=0.860 total time=   0.3s\n",
      "[CV 1/5] END max_depth=8, min_samples_leaf=4, min_samples_split=10, n_estimators=100;, score=0.860 total time=   0.1s\n",
      "[CV 2/5] END max_depth=8, min_samples_leaf=4, min_samples_split=10, n_estimators=100;, score=0.860 total time=   0.1s\n",
      "[CV 3/5] END max_depth=8, min_samples_leaf=4, min_samples_split=10, n_estimators=100;, score=0.864 total time=   0.1s\n",
      "[CV 4/5] END max_depth=8, min_samples_leaf=4, min_samples_split=10, n_estimators=100;, score=0.851 total time=   0.2s\n",
      "[CV 5/5] END max_depth=8, min_samples_leaf=4, min_samples_split=10, n_estimators=100;, score=0.860 total time=   0.1s\n",
      "[CV 1/5] END max_depth=9, min_samples_leaf=5, min_samples_split=2, n_estimators=50;, score=0.869 total time=   0.0s\n",
      "[CV 2/5] END max_depth=9, min_samples_leaf=5, min_samples_split=2, n_estimators=50;, score=0.855 total time=   0.0s\n",
      "[CV 3/5] END max_depth=9, min_samples_leaf=5, min_samples_split=2, n_estimators=50;, score=0.851 total time=   0.0s\n",
      "[CV 4/5] END max_depth=9, min_samples_leaf=5, min_samples_split=2, n_estimators=50;, score=0.843 total time=   0.0s\n",
      "[CV 5/5] END max_depth=9, min_samples_leaf=5, min_samples_split=2, n_estimators=50;, score=0.860 total time=   0.0s\n",
      "[CV 1/5] END max_depth=5, min_samples_leaf=2, min_samples_split=10, n_estimators=100;, score=0.856 total time=   0.1s\n",
      "[CV 2/5] END max_depth=5, min_samples_leaf=2, min_samples_split=10, n_estimators=100;, score=0.860 total time=   0.1s\n",
      "[CV 3/5] END max_depth=5, min_samples_leaf=2, min_samples_split=10, n_estimators=100;, score=0.855 total time=   0.1s\n",
      "[CV 4/5] END max_depth=5, min_samples_leaf=2, min_samples_split=10, n_estimators=100;, score=0.855 total time=   0.1s\n",
      "[CV 5/5] END max_depth=5, min_samples_leaf=2, min_samples_split=10, n_estimators=100;, score=0.864 total time=   0.1s\n",
      "[CV 1/5] END max_depth=5, min_samples_leaf=5, min_samples_split=2, n_estimators=400;, score=0.856 total time=   0.5s\n",
      "[CV 2/5] END max_depth=5, min_samples_leaf=5, min_samples_split=2, n_estimators=400;, score=0.860 total time=   0.5s\n",
      "[CV 3/5] END max_depth=5, min_samples_leaf=5, min_samples_split=2, n_estimators=400;, score=0.855 total time=   0.5s\n",
      "[CV 4/5] END max_depth=5, min_samples_leaf=5, min_samples_split=2, n_estimators=400;, score=0.847 total time=   0.5s\n",
      "[CV 5/5] END max_depth=5, min_samples_leaf=5, min_samples_split=2, n_estimators=400;, score=0.860 total time=   0.5s\n",
      "[CV 1/5] END max_depth=10, min_samples_leaf=3, min_samples_split=2, n_estimators=300;, score=0.864 total time=   0.5s\n",
      "[CV 2/5] END max_depth=10, min_samples_leaf=3, min_samples_split=2, n_estimators=300;, score=0.860 total time=   0.4s\n",
      "[CV 3/5] END max_depth=10, min_samples_leaf=3, min_samples_split=2, n_estimators=300;, score=0.847 total time=   0.5s\n",
      "[CV 4/5] END max_depth=10, min_samples_leaf=3, min_samples_split=2, n_estimators=300;, score=0.855 total time=   0.5s\n",
      "[CV 5/5] END max_depth=10, min_samples_leaf=3, min_samples_split=2, n_estimators=300;, score=0.860 total time=   0.5s\n",
      "[CV 1/5] END max_depth=7, min_samples_leaf=3, min_samples_split=2, n_estimators=200;, score=0.860 total time=   0.2s\n",
      "[CV 2/5] END max_depth=7, min_samples_leaf=3, min_samples_split=2, n_estimators=200;, score=0.855 total time=   0.2s\n",
      "[CV 3/5] END max_depth=7, min_samples_leaf=3, min_samples_split=2, n_estimators=200;, score=0.847 total time=   0.2s\n",
      "[CV 4/5] END max_depth=7, min_samples_leaf=3, min_samples_split=2, n_estimators=200;, score=0.860 total time=   0.3s\n",
      "[CV 5/5] END max_depth=7, min_samples_leaf=3, min_samples_split=2, n_estimators=200;, score=0.864 total time=   0.3s\n",
      "[CV 1/5] END max_depth=9, min_samples_leaf=2, min_samples_split=10, n_estimators=50;, score=0.869 total time=   0.0s\n",
      "[CV 2/5] END max_depth=9, min_samples_leaf=2, min_samples_split=10, n_estimators=50;, score=0.868 total time=   0.0s\n",
      "[CV 3/5] END max_depth=9, min_samples_leaf=2, min_samples_split=10, n_estimators=50;, score=0.847 total time=   0.0s\n",
      "[CV 4/5] END max_depth=9, min_samples_leaf=2, min_samples_split=10, n_estimators=50;, score=0.851 total time=   0.0s\n",
      "[CV 5/5] END max_depth=9, min_samples_leaf=2, min_samples_split=10, n_estimators=50;, score=0.864 total time=   0.0s\n",
      "[CV 1/5] END max_depth=4, min_samples_leaf=3, min_samples_split=2, n_estimators=50;, score=0.869 total time=   0.0s\n",
      "[CV 2/5] END max_depth=4, min_samples_leaf=3, min_samples_split=2, n_estimators=50;, score=0.855 total time=   0.0s\n",
      "[CV 3/5] END max_depth=4, min_samples_leaf=3, min_samples_split=2, n_estimators=50;, score=0.855 total time=   0.0s\n",
      "[CV 4/5] END max_depth=4, min_samples_leaf=3, min_samples_split=2, n_estimators=50;, score=0.847 total time=   0.0s\n",
      "[CV 5/5] END max_depth=4, min_samples_leaf=3, min_samples_split=2, n_estimators=50;, score=0.864 total time=   0.0s\n",
      "[CV 1/5] END max_depth=7, min_samples_leaf=5, min_samples_split=5, n_estimators=200;, score=0.860 total time=   0.3s\n",
      "[CV 2/5] END max_depth=7, min_samples_leaf=5, min_samples_split=5, n_estimators=200;, score=0.864 total time=   0.2s\n",
      "[CV 3/5] END max_depth=7, min_samples_leaf=5, min_samples_split=5, n_estimators=200;, score=0.855 total time=   0.2s\n",
      "[CV 4/5] END max_depth=7, min_samples_leaf=5, min_samples_split=5, n_estimators=200;, score=0.851 total time=   0.3s\n",
      "[CV 5/5] END max_depth=7, min_samples_leaf=5, min_samples_split=5, n_estimators=200;, score=0.860 total time=   0.3s\n",
      "[CV 1/5] END max_depth=6, min_samples_leaf=4, min_samples_split=10, n_estimators=300;, score=0.864 total time=   0.4s\n",
      "[CV 2/5] END max_depth=6, min_samples_leaf=4, min_samples_split=10, n_estimators=300;, score=0.860 total time=   0.4s\n",
      "[CV 3/5] END max_depth=6, min_samples_leaf=4, min_samples_split=10, n_estimators=300;, score=0.855 total time=   0.4s\n",
      "[CV 4/5] END max_depth=6, min_samples_leaf=4, min_samples_split=10, n_estimators=300;, score=0.847 total time=   0.4s\n",
      "[CV 5/5] END max_depth=6, min_samples_leaf=4, min_samples_split=10, n_estimators=300;, score=0.864 total time=   0.4s\n",
      "[CV 1/5] END max_depth=10, min_samples_leaf=3, min_samples_split=10, n_estimators=100;, score=0.864 total time=   0.1s\n",
      "[CV 2/5] END max_depth=10, min_samples_leaf=3, min_samples_split=10, n_estimators=100;, score=0.860 total time=   0.1s\n",
      "[CV 3/5] END max_depth=10, min_samples_leaf=3, min_samples_split=10, n_estimators=100;, score=0.851 total time=   0.1s\n",
      "[CV 4/5] END max_depth=10, min_samples_leaf=3, min_samples_split=10, n_estimators=100;, score=0.860 total time=   0.1s\n",
      "[CV 5/5] END max_depth=10, min_samples_leaf=3, min_samples_split=10, n_estimators=100;, score=0.864 total time=   0.1s\n",
      "[CV 1/5] END max_depth=9, min_samples_leaf=4, min_samples_split=5, n_estimators=400;, score=0.864 total time=   0.6s\n",
      "[CV 2/5] END max_depth=9, min_samples_leaf=4, min_samples_split=5, n_estimators=400;, score=0.855 total time=   0.6s\n",
      "[CV 3/5] END max_depth=9, min_samples_leaf=4, min_samples_split=5, n_estimators=400;, score=0.851 total time=   0.6s\n",
      "[CV 4/5] END max_depth=9, min_samples_leaf=4, min_samples_split=5, n_estimators=400;, score=0.851 total time=   0.6s\n",
      "[CV 5/5] END max_depth=9, min_samples_leaf=4, min_samples_split=5, n_estimators=400;, score=0.864 total time=   0.6s\n",
      "[CV 1/5] END max_depth=9, min_samples_leaf=3, min_samples_split=5, n_estimators=10;, score=0.869 total time=   0.0s\n",
      "[CV 2/5] END max_depth=9, min_samples_leaf=3, min_samples_split=5, n_estimators=10;, score=0.855 total time=   0.0s\n",
      "[CV 3/5] END max_depth=9, min_samples_leaf=3, min_samples_split=5, n_estimators=10;, score=0.847 total time=   0.0s\n",
      "[CV 4/5] END max_depth=9, min_samples_leaf=3, min_samples_split=5, n_estimators=10;, score=0.847 total time=   0.0s\n",
      "[CV 5/5] END max_depth=9, min_samples_leaf=3, min_samples_split=5, n_estimators=10;, score=0.872 total time=   0.0s\n",
      "[CV 1/5] END max_depth=8, min_samples_leaf=4, min_samples_split=5, n_estimators=300;, score=0.856 total time=   0.4s\n",
      "[CV 2/5] END max_depth=8, min_samples_leaf=4, min_samples_split=5, n_estimators=300;, score=0.855 total time=   0.4s\n",
      "[CV 3/5] END max_depth=8, min_samples_leaf=4, min_samples_split=5, n_estimators=300;, score=0.851 total time=   0.4s\n",
      "[CV 4/5] END max_depth=8, min_samples_leaf=4, min_samples_split=5, n_estimators=300;, score=0.851 total time=   0.4s\n",
      "[CV 5/5] END max_depth=8, min_samples_leaf=4, min_samples_split=5, n_estimators=300;, score=0.864 total time=   0.4s\n",
      "[CV 1/5] END max_depth=9, min_samples_leaf=4, min_samples_split=2, n_estimators=100;, score=0.860 total time=   0.1s\n",
      "[CV 2/5] END max_depth=9, min_samples_leaf=4, min_samples_split=2, n_estimators=100;, score=0.855 total time=   0.1s\n",
      "[CV 3/5] END max_depth=9, min_samples_leaf=4, min_samples_split=2, n_estimators=100;, score=0.851 total time=   0.1s\n",
      "[CV 4/5] END max_depth=9, min_samples_leaf=4, min_samples_split=2, n_estimators=100;, score=0.851 total time=   0.1s\n",
      "[CV 5/5] END max_depth=9, min_samples_leaf=4, min_samples_split=2, n_estimators=100;, score=0.860 total time=   0.1s\n",
      "[CV 1/5] END max_depth=10, min_samples_leaf=4, min_samples_split=2, n_estimators=300;, score=0.864 total time=   0.5s\n",
      "[CV 2/5] END max_depth=10, min_samples_leaf=4, min_samples_split=2, n_estimators=300;, score=0.864 total time=   0.5s\n",
      "[CV 3/5] END max_depth=10, min_samples_leaf=4, min_samples_split=2, n_estimators=300;, score=0.847 total time=   0.5s\n",
      "[CV 4/5] END max_depth=10, min_samples_leaf=4, min_samples_split=2, n_estimators=300;, score=0.847 total time=   0.5s\n",
      "[CV 5/5] END max_depth=10, min_samples_leaf=4, min_samples_split=2, n_estimators=300;, score=0.860 total time=   0.5s\n",
      "[CV 1/5] END max_depth=6, min_samples_leaf=5, min_samples_split=10, n_estimators=100;, score=0.856 total time=   0.1s\n",
      "[CV 2/5] END max_depth=6, min_samples_leaf=5, min_samples_split=10, n_estimators=100;, score=0.864 total time=   0.1s\n",
      "[CV 3/5] END max_depth=6, min_samples_leaf=5, min_samples_split=10, n_estimators=100;, score=0.860 total time=   0.1s\n",
      "[CV 4/5] END max_depth=6, min_samples_leaf=5, min_samples_split=10, n_estimators=100;, score=0.855 total time=   0.1s\n",
      "[CV 5/5] END max_depth=6, min_samples_leaf=5, min_samples_split=10, n_estimators=100;, score=0.864 total time=   0.1s\n",
      "[CV 1/5] END max_depth=10, min_samples_leaf=6, min_samples_split=2, n_estimators=400;, score=0.864 total time=   0.6s\n",
      "[CV 2/5] END max_depth=10, min_samples_leaf=6, min_samples_split=2, n_estimators=400;, score=0.864 total time=   0.6s\n",
      "[CV 3/5] END max_depth=10, min_samples_leaf=6, min_samples_split=2, n_estimators=400;, score=0.855 total time=   0.6s\n",
      "[CV 4/5] END max_depth=10, min_samples_leaf=6, min_samples_split=2, n_estimators=400;, score=0.851 total time=   0.6s\n",
      "[CV 5/5] END max_depth=10, min_samples_leaf=6, min_samples_split=2, n_estimators=400;, score=0.860 total time=   0.6s\n",
      "[CV 1/5] END max_depth=8, min_samples_leaf=4, min_samples_split=10, n_estimators=300;, score=0.856 total time=   0.4s\n",
      "[CV 2/5] END max_depth=8, min_samples_leaf=4, min_samples_split=10, n_estimators=300;, score=0.855 total time=   0.4s\n",
      "[CV 3/5] END max_depth=8, min_samples_leaf=4, min_samples_split=10, n_estimators=300;, score=0.855 total time=   0.4s\n",
      "[CV 4/5] END max_depth=8, min_samples_leaf=4, min_samples_split=10, n_estimators=300;, score=0.851 total time=   0.4s\n",
      "[CV 5/5] END max_depth=8, min_samples_leaf=4, min_samples_split=10, n_estimators=300;, score=0.860 total time=   0.4s\n",
      "[CV 1/5] END max_depth=4, min_samples_leaf=4, min_samples_split=5, n_estimators=10;, score=0.864 total time=   0.0s\n",
      "[CV 2/5] END max_depth=4, min_samples_leaf=4, min_samples_split=5, n_estimators=10;, score=0.851 total time=   0.0s\n",
      "[CV 3/5] END max_depth=4, min_samples_leaf=4, min_samples_split=5, n_estimators=10;, score=0.855 total time=   0.0s\n",
      "[CV 4/5] END max_depth=4, min_samples_leaf=4, min_samples_split=5, n_estimators=10;, score=0.843 total time=   0.0s\n",
      "[CV 5/5] END max_depth=4, min_samples_leaf=4, min_samples_split=5, n_estimators=10;, score=0.860 total time=   0.0s\n",
      "[CV 1/5] END max_depth=6, min_samples_leaf=2, min_samples_split=5, n_estimators=50;, score=0.852 total time=   0.0s\n",
      "[CV 2/5] END max_depth=6, min_samples_leaf=2, min_samples_split=5, n_estimators=50;, score=0.860 total time=   0.0s\n",
      "[CV 3/5] END max_depth=6, min_samples_leaf=2, min_samples_split=5, n_estimators=50;, score=0.851 total time=   0.0s\n",
      "[CV 4/5] END max_depth=6, min_samples_leaf=2, min_samples_split=5, n_estimators=50;, score=0.855 total time=   0.0s\n",
      "[CV 5/5] END max_depth=6, min_samples_leaf=2, min_samples_split=5, n_estimators=50;, score=0.860 total time=   0.0s\n",
      "[CV 1/5] END max_depth=4, min_samples_leaf=3, min_samples_split=2, n_estimators=400;, score=0.869 total time=   0.5s\n",
      "[CV 2/5] END max_depth=4, min_samples_leaf=3, min_samples_split=2, n_estimators=400;, score=0.855 total time=   0.5s\n",
      "[CV 3/5] END max_depth=4, min_samples_leaf=3, min_samples_split=2, n_estimators=400;, score=0.855 total time=   0.5s\n",
      "[CV 4/5] END max_depth=4, min_samples_leaf=3, min_samples_split=2, n_estimators=400;, score=0.843 total time=   0.5s\n",
      "[CV 5/5] END max_depth=4, min_samples_leaf=3, min_samples_split=2, n_estimators=400;, score=0.864 total time=   0.5s\n",
      "[CV 1/5] END max_depth=7, min_samples_leaf=5, min_samples_split=10, n_estimators=100;, score=0.860 total time=   0.1s\n",
      "[CV 2/5] END max_depth=7, min_samples_leaf=5, min_samples_split=10, n_estimators=100;, score=0.855 total time=   0.1s\n",
      "[CV 3/5] END max_depth=7, min_samples_leaf=5, min_samples_split=10, n_estimators=100;, score=0.864 total time=   0.1s\n",
      "[CV 4/5] END max_depth=7, min_samples_leaf=5, min_samples_split=10, n_estimators=100;, score=0.855 total time=   0.1s\n",
      "[CV 5/5] END max_depth=7, min_samples_leaf=5, min_samples_split=10, n_estimators=100;, score=0.860 total time=   0.1s\n",
      "[CV 1/5] END max_depth=5, min_samples_leaf=2, min_samples_split=5, n_estimators=100;, score=0.877 total time=   0.1s\n",
      "[CV 2/5] END max_depth=5, min_samples_leaf=2, min_samples_split=5, n_estimators=100;, score=0.855 total time=   0.1s\n",
      "[CV 3/5] END max_depth=5, min_samples_leaf=2, min_samples_split=5, n_estimators=100;, score=0.855 total time=   0.1s\n",
      "[CV 4/5] END max_depth=5, min_samples_leaf=2, min_samples_split=5, n_estimators=100;, score=0.851 total time=   0.1s\n",
      "[CV 5/5] END max_depth=5, min_samples_leaf=2, min_samples_split=5, n_estimators=100;, score=0.855 total time=   0.1s\n",
      "[CV 1/5] END max_depth=6, min_samples_leaf=5, min_samples_split=2, n_estimators=100;, score=0.856 total time=   0.1s\n",
      "[CV 2/5] END max_depth=6, min_samples_leaf=5, min_samples_split=2, n_estimators=100;, score=0.860 total time=   0.1s\n",
      "[CV 3/5] END max_depth=6, min_samples_leaf=5, min_samples_split=2, n_estimators=100;, score=0.851 total time=   0.1s\n",
      "[CV 4/5] END max_depth=6, min_samples_leaf=5, min_samples_split=2, n_estimators=100;, score=0.851 total time=   0.1s\n",
      "[CV 5/5] END max_depth=6, min_samples_leaf=5, min_samples_split=2, n_estimators=100;, score=0.864 total time=   0.1s\n",
      "[CV 1/5] END max_depth=4, min_samples_leaf=5, min_samples_split=5, n_estimators=100;, score=0.864 total time=   0.0s\n",
      "[CV 2/5] END max_depth=4, min_samples_leaf=5, min_samples_split=5, n_estimators=100;, score=0.860 total time=   0.0s\n",
      "[CV 3/5] END max_depth=4, min_samples_leaf=5, min_samples_split=5, n_estimators=100;, score=0.855 total time=   0.1s\n",
      "[CV 4/5] END max_depth=4, min_samples_leaf=5, min_samples_split=5, n_estimators=100;, score=0.855 total time=   0.0s\n",
      "[CV 5/5] END max_depth=4, min_samples_leaf=5, min_samples_split=5, n_estimators=100;, score=0.855 total time=   0.1s\n",
      "[CV 1/5] END max_depth=4, min_samples_leaf=3, min_samples_split=10, n_estimators=200;, score=0.864 total time=   0.2s\n",
      "[CV 2/5] END max_depth=4, min_samples_leaf=3, min_samples_split=10, n_estimators=200;, score=0.860 total time=   0.2s\n",
      "[CV 3/5] END max_depth=4, min_samples_leaf=3, min_samples_split=10, n_estimators=200;, score=0.851 total time=   0.2s\n",
      "[CV 4/5] END max_depth=4, min_samples_leaf=3, min_samples_split=10, n_estimators=200;, score=0.847 total time=   0.2s\n",
      "[CV 5/5] END max_depth=4, min_samples_leaf=3, min_samples_split=10, n_estimators=200;, score=0.855 total time=   0.2s\n",
      "[CV 1/5] END max_depth=9, min_samples_leaf=4, min_samples_split=2, n_estimators=10;, score=0.873 total time=   0.0s\n",
      "[CV 2/5] END max_depth=9, min_samples_leaf=4, min_samples_split=2, n_estimators=10;, score=0.855 total time=   0.0s\n",
      "[CV 3/5] END max_depth=9, min_samples_leaf=4, min_samples_split=2, n_estimators=10;, score=0.860 total time=   0.0s\n",
      "[CV 4/5] END max_depth=9, min_samples_leaf=4, min_samples_split=2, n_estimators=10;, score=0.834 total time=   0.0s\n",
      "[CV 5/5] END max_depth=9, min_samples_leaf=4, min_samples_split=2, n_estimators=10;, score=0.855 total time=   0.0s\n",
      "[CV 1/5] END max_depth=8, min_samples_leaf=4, min_samples_split=10, n_estimators=200;, score=0.856 total time=   0.2s\n",
      "[CV 2/5] END max_depth=8, min_samples_leaf=4, min_samples_split=10, n_estimators=200;, score=0.864 total time=   0.2s\n",
      "[CV 3/5] END max_depth=8, min_samples_leaf=4, min_samples_split=10, n_estimators=200;, score=0.855 total time=   0.2s\n",
      "[CV 4/5] END max_depth=8, min_samples_leaf=4, min_samples_split=10, n_estimators=200;, score=0.851 total time=   0.2s\n",
      "[CV 5/5] END max_depth=8, min_samples_leaf=4, min_samples_split=10, n_estimators=200;, score=0.855 total time=   0.2s\n",
      "[CV 1/5] END max_depth=10, min_samples_leaf=4, min_samples_split=2, n_estimators=400;, score=0.856 total time=   0.6s\n",
      "[CV 2/5] END max_depth=10, min_samples_leaf=4, min_samples_split=2, n_estimators=400;, score=0.864 total time=   0.6s\n",
      "[CV 3/5] END max_depth=10, min_samples_leaf=4, min_samples_split=2, n_estimators=400;, score=0.851 total time=   0.6s\n",
      "[CV 4/5] END max_depth=10, min_samples_leaf=4, min_samples_split=2, n_estimators=400;, score=0.855 total time=   0.6s\n",
      "[CV 5/5] END max_depth=10, min_samples_leaf=4, min_samples_split=2, n_estimators=400;, score=0.864 total time=   0.6s\n",
      "[CV 1/5] END max_depth=6, min_samples_leaf=2, min_samples_split=2, n_estimators=10;, score=0.852 total time=   0.0s\n",
      "[CV 2/5] END max_depth=6, min_samples_leaf=2, min_samples_split=2, n_estimators=10;, score=0.851 total time=   0.0s\n",
      "[CV 3/5] END max_depth=6, min_samples_leaf=2, min_samples_split=2, n_estimators=10;, score=0.855 total time=   0.0s\n",
      "[CV 4/5] END max_depth=6, min_samples_leaf=2, min_samples_split=2, n_estimators=10;, score=0.834 total time=   0.0s\n",
      "[CV 5/5] END max_depth=6, min_samples_leaf=2, min_samples_split=2, n_estimators=10;, score=0.872 total time=   0.0s\n",
      "[CV 1/5] END max_depth=8, min_samples_leaf=5, min_samples_split=2, n_estimators=400;, score=0.856 total time=   0.6s\n",
      "[CV 2/5] END max_depth=8, min_samples_leaf=5, min_samples_split=2, n_estimators=400;, score=0.864 total time=   0.6s\n",
      "[CV 3/5] END max_depth=8, min_samples_leaf=5, min_samples_split=2, n_estimators=400;, score=0.855 total time=   0.6s\n",
      "[CV 4/5] END max_depth=8, min_samples_leaf=5, min_samples_split=2, n_estimators=400;, score=0.855 total time=   0.6s\n",
      "[CV 5/5] END max_depth=8, min_samples_leaf=5, min_samples_split=2, n_estimators=400;, score=0.860 total time=   0.6s\n",
      "[CV 1/5] END max_depth=8, min_samples_leaf=5, min_samples_split=5, n_estimators=10;, score=0.856 total time=   0.0s\n",
      "[CV 2/5] END max_depth=8, min_samples_leaf=5, min_samples_split=5, n_estimators=10;, score=0.868 total time=   0.0s\n",
      "[CV 3/5] END max_depth=8, min_samples_leaf=5, min_samples_split=5, n_estimators=10;, score=0.855 total time=   0.0s\n",
      "[CV 4/5] END max_depth=8, min_samples_leaf=5, min_samples_split=5, n_estimators=10;, score=0.864 total time=   0.0s\n",
      "[CV 5/5] END max_depth=8, min_samples_leaf=5, min_samples_split=5, n_estimators=10;, score=0.855 total time=   0.0s\n",
      "[CV 1/5] END max_depth=8, min_samples_leaf=4, min_samples_split=5, n_estimators=50;, score=0.873 total time=   0.0s\n",
      "[CV 2/5] END max_depth=8, min_samples_leaf=4, min_samples_split=5, n_estimators=50;, score=0.855 total time=   0.0s\n",
      "[CV 3/5] END max_depth=8, min_samples_leaf=4, min_samples_split=5, n_estimators=50;, score=0.855 total time=   0.0s\n",
      "[CV 4/5] END max_depth=8, min_samples_leaf=4, min_samples_split=5, n_estimators=50;, score=0.860 total time=   0.0s\n",
      "[CV 5/5] END max_depth=8, min_samples_leaf=4, min_samples_split=5, n_estimators=50;, score=0.860 total time=   0.0s\n",
      "[CV 1/5] END max_depth=5, min_samples_leaf=3, min_samples_split=2, n_estimators=200;, score=0.856 total time=   0.2s\n",
      "[CV 2/5] END max_depth=5, min_samples_leaf=3, min_samples_split=2, n_estimators=200;, score=0.864 total time=   0.2s\n",
      "[CV 3/5] END max_depth=5, min_samples_leaf=3, min_samples_split=2, n_estimators=200;, score=0.855 total time=   0.2s\n",
      "[CV 4/5] END max_depth=5, min_samples_leaf=3, min_samples_split=2, n_estimators=200;, score=0.851 total time=   0.2s\n",
      "[CV 5/5] END max_depth=5, min_samples_leaf=3, min_samples_split=2, n_estimators=200;, score=0.864 total time=   0.2s\n",
      "[CV 1/5] END max_depth=6, min_samples_leaf=5, min_samples_split=2, n_estimators=10;, score=0.864 total time=   0.0s\n",
      "[CV 2/5] END max_depth=6, min_samples_leaf=5, min_samples_split=2, n_estimators=10;, score=0.864 total time=   0.0s\n",
      "[CV 3/5] END max_depth=6, min_samples_leaf=5, min_samples_split=2, n_estimators=10;, score=0.855 total time=   0.0s\n",
      "[CV 4/5] END max_depth=6, min_samples_leaf=5, min_samples_split=2, n_estimators=10;, score=0.847 total time=   0.0s\n",
      "[CV 5/5] END max_depth=6, min_samples_leaf=5, min_samples_split=2, n_estimators=10;, score=0.868 total time=   0.0s\n",
      "[CV 1/5] END max_depth=4, min_samples_leaf=6, min_samples_split=10, n_estimators=10;, score=0.869 total time=   0.0s\n",
      "[CV 2/5] END max_depth=4, min_samples_leaf=6, min_samples_split=10, n_estimators=10;, score=0.847 total time=   0.0s\n",
      "[CV 3/5] END max_depth=4, min_samples_leaf=6, min_samples_split=10, n_estimators=10;, score=0.851 total time=   0.0s\n",
      "[CV 4/5] END max_depth=4, min_samples_leaf=6, min_samples_split=10, n_estimators=10;, score=0.843 total time=   0.0s\n",
      "[CV 5/5] END max_depth=4, min_samples_leaf=6, min_samples_split=10, n_estimators=10;, score=0.860 total time=   0.0s\n",
      "[CV 1/5] END max_depth=5, min_samples_leaf=4, min_samples_split=5, n_estimators=10;, score=0.852 total time=   0.0s\n",
      "[CV 2/5] END max_depth=5, min_samples_leaf=4, min_samples_split=5, n_estimators=10;, score=0.847 total time=   0.0s\n",
      "[CV 3/5] END max_depth=5, min_samples_leaf=4, min_samples_split=5, n_estimators=10;, score=0.834 total time=   0.0s\n",
      "[CV 4/5] END max_depth=5, min_samples_leaf=4, min_samples_split=5, n_estimators=10;, score=0.843 total time=   0.0s\n",
      "[CV 5/5] END max_depth=5, min_samples_leaf=4, min_samples_split=5, n_estimators=10;, score=0.855 total time=   0.0s\n",
      "[CV 1/5] END max_depth=5, min_samples_leaf=5, min_samples_split=5, n_estimators=10;, score=0.860 total time=   0.0s\n",
      "[CV 2/5] END max_depth=5, min_samples_leaf=5, min_samples_split=5, n_estimators=10;, score=0.864 total time=   0.0s\n",
      "[CV 3/5] END max_depth=5, min_samples_leaf=5, min_samples_split=5, n_estimators=10;, score=0.855 total time=   0.0s\n",
      "[CV 4/5] END max_depth=5, min_samples_leaf=5, min_samples_split=5, n_estimators=10;, score=0.847 total time=   0.0s\n",
      "[CV 5/5] END max_depth=5, min_samples_leaf=5, min_samples_split=5, n_estimators=10;, score=0.855 total time=   0.0s\n",
      "[CV 1/5] END max_depth=8, min_samples_leaf=5, min_samples_split=5, n_estimators=100;, score=0.860 total time=   0.1s\n",
      "[CV 2/5] END max_depth=8, min_samples_leaf=5, min_samples_split=5, n_estimators=100;, score=0.860 total time=   0.1s\n",
      "[CV 3/5] END max_depth=8, min_samples_leaf=5, min_samples_split=5, n_estimators=100;, score=0.860 total time=   0.1s\n",
      "[CV 4/5] END max_depth=8, min_samples_leaf=5, min_samples_split=5, n_estimators=100;, score=0.855 total time=   0.1s\n",
      "[CV 5/5] END max_depth=8, min_samples_leaf=5, min_samples_split=5, n_estimators=100;, score=0.864 total time=   0.1s\n",
      "[CV 1/5] END max_depth=6, min_samples_leaf=4, min_samples_split=5, n_estimators=100;, score=0.873 total time=   0.1s\n",
      "[CV 2/5] END max_depth=6, min_samples_leaf=4, min_samples_split=5, n_estimators=100;, score=0.864 total time=   0.1s\n",
      "[CV 3/5] END max_depth=6, min_samples_leaf=4, min_samples_split=5, n_estimators=100;, score=0.855 total time=   0.1s\n",
      "[CV 4/5] END max_depth=6, min_samples_leaf=4, min_samples_split=5, n_estimators=100;, score=0.851 total time=   0.1s\n",
      "[CV 5/5] END max_depth=6, min_samples_leaf=4, min_samples_split=5, n_estimators=100;, score=0.860 total time=   0.1s\n"
     ]
    },
    {
     "data": {
      "text/html": [
       "<style>#sk-container-id-2 {color: black;background-color: white;}#sk-container-id-2 pre{padding: 0;}#sk-container-id-2 div.sk-toggleable {background-color: white;}#sk-container-id-2 label.sk-toggleable__label {cursor: pointer;display: block;width: 100%;margin-bottom: 0;padding: 0.3em;box-sizing: border-box;text-align: center;}#sk-container-id-2 label.sk-toggleable__label-arrow:before {content: \"▸\";float: left;margin-right: 0.25em;color: #696969;}#sk-container-id-2 label.sk-toggleable__label-arrow:hover:before {color: black;}#sk-container-id-2 div.sk-estimator:hover label.sk-toggleable__label-arrow:before {color: black;}#sk-container-id-2 div.sk-toggleable__content {max-height: 0;max-width: 0;overflow: hidden;text-align: left;background-color: #f0f8ff;}#sk-container-id-2 div.sk-toggleable__content pre {margin: 0.2em;color: black;border-radius: 0.25em;background-color: #f0f8ff;}#sk-container-id-2 input.sk-toggleable__control:checked~div.sk-toggleable__content {max-height: 200px;max-width: 100%;overflow: auto;}#sk-container-id-2 input.sk-toggleable__control:checked~label.sk-toggleable__label-arrow:before {content: \"▾\";}#sk-container-id-2 div.sk-estimator input.sk-toggleable__control:checked~label.sk-toggleable__label {background-color: #d4ebff;}#sk-container-id-2 div.sk-label input.sk-toggleable__control:checked~label.sk-toggleable__label {background-color: #d4ebff;}#sk-container-id-2 input.sk-hidden--visually {border: 0;clip: rect(1px 1px 1px 1px);clip: rect(1px, 1px, 1px, 1px);height: 1px;margin: -1px;overflow: hidden;padding: 0;position: absolute;width: 1px;}#sk-container-id-2 div.sk-estimator {font-family: monospace;background-color: #f0f8ff;border: 1px dotted black;border-radius: 0.25em;box-sizing: border-box;margin-bottom: 0.5em;}#sk-container-id-2 div.sk-estimator:hover {background-color: #d4ebff;}#sk-container-id-2 div.sk-parallel-item::after {content: \"\";width: 100%;border-bottom: 1px solid gray;flex-grow: 1;}#sk-container-id-2 div.sk-label:hover label.sk-toggleable__label {background-color: #d4ebff;}#sk-container-id-2 div.sk-serial::before {content: \"\";position: absolute;border-left: 1px solid gray;box-sizing: border-box;top: 0;bottom: 0;left: 50%;z-index: 0;}#sk-container-id-2 div.sk-serial {display: flex;flex-direction: column;align-items: center;background-color: white;padding-right: 0.2em;padding-left: 0.2em;position: relative;}#sk-container-id-2 div.sk-item {position: relative;z-index: 1;}#sk-container-id-2 div.sk-parallel {display: flex;align-items: stretch;justify-content: center;background-color: white;position: relative;}#sk-container-id-2 div.sk-item::before, #sk-container-id-2 div.sk-parallel-item::before {content: \"\";position: absolute;border-left: 1px solid gray;box-sizing: border-box;top: 0;bottom: 0;left: 50%;z-index: -1;}#sk-container-id-2 div.sk-parallel-item {display: flex;flex-direction: column;z-index: 1;position: relative;background-color: white;}#sk-container-id-2 div.sk-parallel-item:first-child::after {align-self: flex-end;width: 50%;}#sk-container-id-2 div.sk-parallel-item:last-child::after {align-self: flex-start;width: 50%;}#sk-container-id-2 div.sk-parallel-item:only-child::after {width: 0;}#sk-container-id-2 div.sk-dashed-wrapped {border: 1px dashed gray;margin: 0 0.4em 0.5em 0.4em;box-sizing: border-box;padding-bottom: 0.4em;background-color: white;}#sk-container-id-2 div.sk-label label {font-family: monospace;font-weight: bold;display: inline-block;line-height: 1.2em;}#sk-container-id-2 div.sk-label-container {text-align: center;}#sk-container-id-2 div.sk-container {/* jupyter's `normalize.less` sets `[hidden] { display: none; }` but bootstrap.min.css set `[hidden] { display: none !important; }` so we also need the `!important` here to be able to override the default hidden behavior on the sphinx rendered scikit-learn.org. See: https://github.com/scikit-learn/scikit-learn/issues/21755 */display: inline-block !important;position: relative;}#sk-container-id-2 div.sk-text-repr-fallback {display: none;}</style><div id=\"sk-container-id-2\" class=\"sk-top-container\"><div class=\"sk-text-repr-fallback\"><pre>RandomizedSearchCV(cv=StratifiedKFold(n_splits=5, random_state=None, shuffle=True),\n",
       "                   estimator=RandomForestClassifier(), n_iter=50,\n",
       "                   param_distributions={&#x27;max_depth&#x27;: [4, 5, 6, 7, 8, 9, 10],\n",
       "                                        &#x27;min_samples_leaf&#x27;: [2, 3, 4, 5, 6],\n",
       "                                        &#x27;min_samples_split&#x27;: [2, 5, 10],\n",
       "                                        &#x27;n_estimators&#x27;: [10, 50, 100, 200, 300,\n",
       "                                                         400]},\n",
       "                   scoring=&#x27;accuracy&#x27;, verbose=3)</pre><b>In a Jupyter environment, please rerun this cell to show the HTML representation or trust the notebook. <br />On GitHub, the HTML representation is unable to render, please try loading this page with nbviewer.org.</b></div><div class=\"sk-container\" hidden><div class=\"sk-item sk-dashed-wrapped\"><div class=\"sk-label-container\"><div class=\"sk-label sk-toggleable\"><input class=\"sk-toggleable__control sk-hidden--visually\" id=\"sk-estimator-id-2\" type=\"checkbox\" ><label for=\"sk-estimator-id-2\" class=\"sk-toggleable__label sk-toggleable__label-arrow\">RandomizedSearchCV</label><div class=\"sk-toggleable__content\"><pre>RandomizedSearchCV(cv=StratifiedKFold(n_splits=5, random_state=None, shuffle=True),\n",
       "                   estimator=RandomForestClassifier(), n_iter=50,\n",
       "                   param_distributions={&#x27;max_depth&#x27;: [4, 5, 6, 7, 8, 9, 10],\n",
       "                                        &#x27;min_samples_leaf&#x27;: [2, 3, 4, 5, 6],\n",
       "                                        &#x27;min_samples_split&#x27;: [2, 5, 10],\n",
       "                                        &#x27;n_estimators&#x27;: [10, 50, 100, 200, 300,\n",
       "                                                         400]},\n",
       "                   scoring=&#x27;accuracy&#x27;, verbose=3)</pre></div></div></div><div class=\"sk-parallel\"><div class=\"sk-parallel-item\"><div class=\"sk-item\"><div class=\"sk-label-container\"><div class=\"sk-label sk-toggleable\"><input class=\"sk-toggleable__control sk-hidden--visually\" id=\"sk-estimator-id-3\" type=\"checkbox\" ><label for=\"sk-estimator-id-3\" class=\"sk-toggleable__label sk-toggleable__label-arrow\">estimator: RandomForestClassifier</label><div class=\"sk-toggleable__content\"><pre>RandomForestClassifier()</pre></div></div></div><div class=\"sk-serial\"><div class=\"sk-item\"><div class=\"sk-estimator sk-toggleable\"><input class=\"sk-toggleable__control sk-hidden--visually\" id=\"sk-estimator-id-4\" type=\"checkbox\" ><label for=\"sk-estimator-id-4\" class=\"sk-toggleable__label sk-toggleable__label-arrow\">RandomForestClassifier</label><div class=\"sk-toggleable__content\"><pre>RandomForestClassifier()</pre></div></div></div></div></div></div></div></div></div></div>"
      ],
      "text/plain": [
       "RandomizedSearchCV(cv=StratifiedKFold(n_splits=5, random_state=None, shuffle=True),\n",
       "                   estimator=RandomForestClassifier(), n_iter=50,\n",
       "                   param_distributions={'max_depth': [4, 5, 6, 7, 8, 9, 10],\n",
       "                                        'min_samples_leaf': [2, 3, 4, 5, 6],\n",
       "                                        'min_samples_split': [2, 5, 10],\n",
       "                                        'n_estimators': [10, 50, 100, 200, 300,\n",
       "                                                         400]},\n",
       "                   scoring='accuracy', verbose=3)"
      ]
     },
     "execution_count": 36,
     "metadata": {},
     "output_type": "execute_result"
    }
   ],
   "source": [
    "rscv.fit(xtrain_transformed,ytrain)"
   ]
  },
  {
   "cell_type": "code",
   "execution_count": 37,
   "metadata": {},
   "outputs": [
    {
     "data": {
      "text/plain": [
       "{'n_estimators': 100,\n",
       " 'min_samples_split': 2,\n",
       " 'min_samples_leaf': 3,\n",
       " 'max_depth': 9}"
      ]
     },
     "execution_count": 37,
     "metadata": {},
     "output_type": "execute_result"
    }
   ],
   "source": [
    "rscv.best_params_"
   ]
  },
  {
   "cell_type": "code",
   "execution_count": 38,
   "metadata": {},
   "outputs": [
    {
     "data": {
      "text/plain": [
       "0.8630869094843131"
      ]
     },
     "execution_count": 38,
     "metadata": {},
     "output_type": "execute_result"
    }
   ],
   "source": [
    "rscv.best_score_"
   ]
  },
  {
   "cell_type": "code",
   "execution_count": 39,
   "metadata": {},
   "outputs": [
    {
     "data": {
      "text/html": [
       "<style>#sk-container-id-3 {color: black;background-color: white;}#sk-container-id-3 pre{padding: 0;}#sk-container-id-3 div.sk-toggleable {background-color: white;}#sk-container-id-3 label.sk-toggleable__label {cursor: pointer;display: block;width: 100%;margin-bottom: 0;padding: 0.3em;box-sizing: border-box;text-align: center;}#sk-container-id-3 label.sk-toggleable__label-arrow:before {content: \"▸\";float: left;margin-right: 0.25em;color: #696969;}#sk-container-id-3 label.sk-toggleable__label-arrow:hover:before {color: black;}#sk-container-id-3 div.sk-estimator:hover label.sk-toggleable__label-arrow:before {color: black;}#sk-container-id-3 div.sk-toggleable__content {max-height: 0;max-width: 0;overflow: hidden;text-align: left;background-color: #f0f8ff;}#sk-container-id-3 div.sk-toggleable__content pre {margin: 0.2em;color: black;border-radius: 0.25em;background-color: #f0f8ff;}#sk-container-id-3 input.sk-toggleable__control:checked~div.sk-toggleable__content {max-height: 200px;max-width: 100%;overflow: auto;}#sk-container-id-3 input.sk-toggleable__control:checked~label.sk-toggleable__label-arrow:before {content: \"▾\";}#sk-container-id-3 div.sk-estimator input.sk-toggleable__control:checked~label.sk-toggleable__label {background-color: #d4ebff;}#sk-container-id-3 div.sk-label input.sk-toggleable__control:checked~label.sk-toggleable__label {background-color: #d4ebff;}#sk-container-id-3 input.sk-hidden--visually {border: 0;clip: rect(1px 1px 1px 1px);clip: rect(1px, 1px, 1px, 1px);height: 1px;margin: -1px;overflow: hidden;padding: 0;position: absolute;width: 1px;}#sk-container-id-3 div.sk-estimator {font-family: monospace;background-color: #f0f8ff;border: 1px dotted black;border-radius: 0.25em;box-sizing: border-box;margin-bottom: 0.5em;}#sk-container-id-3 div.sk-estimator:hover {background-color: #d4ebff;}#sk-container-id-3 div.sk-parallel-item::after {content: \"\";width: 100%;border-bottom: 1px solid gray;flex-grow: 1;}#sk-container-id-3 div.sk-label:hover label.sk-toggleable__label {background-color: #d4ebff;}#sk-container-id-3 div.sk-serial::before {content: \"\";position: absolute;border-left: 1px solid gray;box-sizing: border-box;top: 0;bottom: 0;left: 50%;z-index: 0;}#sk-container-id-3 div.sk-serial {display: flex;flex-direction: column;align-items: center;background-color: white;padding-right: 0.2em;padding-left: 0.2em;position: relative;}#sk-container-id-3 div.sk-item {position: relative;z-index: 1;}#sk-container-id-3 div.sk-parallel {display: flex;align-items: stretch;justify-content: center;background-color: white;position: relative;}#sk-container-id-3 div.sk-item::before, #sk-container-id-3 div.sk-parallel-item::before {content: \"\";position: absolute;border-left: 1px solid gray;box-sizing: border-box;top: 0;bottom: 0;left: 50%;z-index: -1;}#sk-container-id-3 div.sk-parallel-item {display: flex;flex-direction: column;z-index: 1;position: relative;background-color: white;}#sk-container-id-3 div.sk-parallel-item:first-child::after {align-self: flex-end;width: 50%;}#sk-container-id-3 div.sk-parallel-item:last-child::after {align-self: flex-start;width: 50%;}#sk-container-id-3 div.sk-parallel-item:only-child::after {width: 0;}#sk-container-id-3 div.sk-dashed-wrapped {border: 1px dashed gray;margin: 0 0.4em 0.5em 0.4em;box-sizing: border-box;padding-bottom: 0.4em;background-color: white;}#sk-container-id-3 div.sk-label label {font-family: monospace;font-weight: bold;display: inline-block;line-height: 1.2em;}#sk-container-id-3 div.sk-label-container {text-align: center;}#sk-container-id-3 div.sk-container {/* jupyter's `normalize.less` sets `[hidden] { display: none; }` but bootstrap.min.css set `[hidden] { display: none !important; }` so we also need the `!important` here to be able to override the default hidden behavior on the sphinx rendered scikit-learn.org. See: https://github.com/scikit-learn/scikit-learn/issues/21755 */display: inline-block !important;position: relative;}#sk-container-id-3 div.sk-text-repr-fallback {display: none;}</style><div id=\"sk-container-id-3\" class=\"sk-top-container\"><div class=\"sk-text-repr-fallback\"><pre>RandomForestClassifier(max_depth=9, min_samples_leaf=3)</pre><b>In a Jupyter environment, please rerun this cell to show the HTML representation or trust the notebook. <br />On GitHub, the HTML representation is unable to render, please try loading this page with nbviewer.org.</b></div><div class=\"sk-container\" hidden><div class=\"sk-item\"><div class=\"sk-estimator sk-toggleable\"><input class=\"sk-toggleable__control sk-hidden--visually\" id=\"sk-estimator-id-5\" type=\"checkbox\" checked><label for=\"sk-estimator-id-5\" class=\"sk-toggleable__label sk-toggleable__label-arrow\">RandomForestClassifier</label><div class=\"sk-toggleable__content\"><pre>RandomForestClassifier(max_depth=9, min_samples_leaf=3)</pre></div></div></div></div></div>"
      ],
      "text/plain": [
       "RandomForestClassifier(max_depth=9, min_samples_leaf=3)"
      ]
     },
     "execution_count": 39,
     "metadata": {},
     "output_type": "execute_result"
    }
   ],
   "source": [
    "best_rfc = rscv.best_estimator_\n",
    "best_rfc"
   ]
  },
  {
   "attachments": {},
   "cell_type": "markdown",
   "metadata": {},
   "source": [
    "### Evaluate model on test data"
   ]
  },
  {
   "cell_type": "code",
   "execution_count": 40,
   "metadata": {},
   "outputs": [
    {
     "data": {
      "text/plain": [
       "array([1, 0, 0, 0, 0, 0, 0, 0, 0, 0, 0, 0, 0, 0, 0, 0, 0, 0, 0, 0, 0, 0,\n",
       "       0, 0, 0, 0, 0, 0, 0, 0, 0, 0, 0, 0, 0, 0, 0, 0, 0, 0, 0, 0, 0, 0,\n",
       "       0, 0, 0, 0, 0, 0, 0, 0, 0, 0, 0, 0, 0, 0, 0, 0, 0, 0, 0, 0, 0, 0,\n",
       "       0, 0, 0, 0, 0, 0, 0, 0, 0, 0, 0, 0, 0, 0, 0, 0, 0, 0, 0, 0, 0, 0,\n",
       "       0, 0, 0, 0, 1, 0, 0, 0, 0, 0, 0, 0, 0, 0, 0, 0, 0, 0, 0, 0, 0, 0,\n",
       "       0, 0, 0, 0, 0, 0, 0, 0, 0, 0, 0, 0, 0, 0, 0, 0, 0, 1, 0, 0, 0, 0,\n",
       "       0, 0, 0, 1, 0, 0, 0, 0, 0, 0, 0, 0, 0, 0, 0, 0, 0, 0, 0, 0, 0, 0,\n",
       "       0, 0, 0, 0, 0, 0, 0, 0, 0, 0, 0, 0, 0, 0, 1, 0, 0, 0, 0, 0, 0, 0,\n",
       "       0, 0, 0, 0, 0, 0, 0, 0, 0, 0, 0, 0, 0, 1, 0, 0, 0, 0, 0, 0, 0, 0,\n",
       "       0, 1, 1, 0, 0, 0, 1, 0, 0, 0, 0, 0, 0, 0, 0, 0, 1, 0, 0, 0, 0, 0,\n",
       "       0, 0, 0, 1, 0, 0, 1, 0, 0, 0, 0, 0, 0, 0, 0, 0, 0, 0, 0, 0, 0, 0,\n",
       "       0, 0, 0, 0, 0, 0, 0, 0, 0, 0, 0, 0, 0, 0, 0, 0, 0, 0, 0, 0, 0, 0,\n",
       "       0, 0, 0, 0, 0, 0, 1, 0, 0, 0, 0, 0, 1, 0, 0, 0, 0, 0, 0, 0, 0, 0,\n",
       "       0, 0, 0, 0, 0, 0, 0, 0], dtype=int64)"
      ]
     },
     "execution_count": 40,
     "metadata": {},
     "output_type": "execute_result"
    }
   ],
   "source": [
    "ypred_test = best_rfc.predict(xtest_transformed)\n",
    "ypred_test"
   ]
  },
  {
   "cell_type": "code",
   "execution_count": 41,
   "metadata": {},
   "outputs": [
    {
     "data": {
      "text/plain": [
       "<Axes: >"
      ]
     },
     "execution_count": 41,
     "metadata": {},
     "output_type": "execute_result"
    },
    {
     "data": {
      "image/png": "[encoded data removed]",
      "text/plain": [
       "<Figure size 640x480 with 2 Axes>"
      ]
     },
     "metadata": {},
     "output_type": "display_data"
    }
   ],
   "source": [
    "from sklearn.metrics import confusion_matrix\n",
    "import seaborn as sns\n",
    "cf = confusion_matrix(ytest, ypred_test)\n",
    "sns.heatmap(cf,annot=True,fmt='d')"
   ]
  },
  {
   "cell_type": "code",
   "execution_count": 42,
   "metadata": {},
   "outputs": [
    {
     "name": "stdout",
     "output_type": "stream",
     "text": [
      "Accuracy on testing data is 0.8401\n"
     ]
    }
   ],
   "source": [
    "from sklearn.metrics import accuracy_score\n",
    "acc = accuracy_score(ytest, ypred_test)\n",
    "print(f'Accuracy on testing data is {acc:.4f}')"
   ]
  },
  {
   "attachments": {},
   "cell_type": "markdown",
   "metadata": {},
   "source": [
    "### Insights\n",
    "1. Above model has accuracy of 0.8503 on testing data\n",
    "2. However above data has imbalance data on target\n",
    "3. To deal with imbalanced techniques such as SMOTE (Synthetic Minority Oversampling TEchnique)\n",
    "4. Feature selection can also be avoided in above data and performance should be checked with all features as well"
   ]
  },
  {
   "attachments": {},
   "cell_type": "markdown",
   "metadata": {},
   "source": [
    "# <p style=\"padding:10px;background-color:#87CEEB ;margin:10;color:#000000;font-family:newtimeroman;font-size:100%;text-align:center;border-radius: 10px 10px ;overflow:hidden;font-weight:50\">Question 2</p>"
   ]
  },
  {
   "attachments": {},
   "cell_type": "markdown",
   "metadata": {},
   "source": [
    "## Question 2 : Build a pipeline that includes random forest classifier and a logistic regression classifier , and then voting classifier to combine their predictions. Train the pipeline on iris dataset and evaluate its accuracy\n",
    "---"
   ]
  },
  {
   "attachments": {},
   "cell_type": "markdown",
   "metadata": {},
   "source": [
    "## Answer :"
   ]
  },
  {
   "attachments": {},
   "cell_type": "markdown",
   "metadata": {},
   "source": [
    "### Load Iris Dataset"
   ]
  },
  {
   "cell_type": "code",
   "execution_count": 43,
   "metadata": {},
   "outputs": [],
   "source": [
    "from sklearn.datasets import load_iris\n",
    "X,Y = load_iris(return_X_y=True)"
   ]
  },
  {
   "cell_type": "code",
   "execution_count": 44,
   "metadata": {},
   "outputs": [
    {
     "data": {
      "text/plain": [
       "(150, 4)"
      ]
     },
     "execution_count": 44,
     "metadata": {},
     "output_type": "execute_result"
    }
   ],
   "source": [
    "X.shape"
   ]
  },
  {
   "cell_type": "code",
   "execution_count": 45,
   "metadata": {},
   "outputs": [
    {
     "data": {
      "text/plain": [
       "(150,)"
      ]
     },
     "execution_count": 45,
     "metadata": {},
     "output_type": "execute_result"
    }
   ],
   "source": [
    "Y.shape"
   ]
  },
  {
   "attachments": {},
   "cell_type": "markdown",
   "metadata": {},
   "source": [
    "### Train Test Split"
   ]
  },
  {
   "cell_type": "code",
   "execution_count": 46,
   "metadata": {},
   "outputs": [],
   "source": [
    "from sklearn.model_selection import train_test_split\n",
    "xtrain, xtest, ytrain, ytest = train_test_split(X,Y,test_size=0.3,random_state=42)"
   ]
  },
  {
   "cell_type": "code",
   "execution_count": 47,
   "metadata": {},
   "outputs": [
    {
     "data": {
      "text/plain": [
       "(105, 4)"
      ]
     },
     "execution_count": 47,
     "metadata": {},
     "output_type": "execute_result"
    }
   ],
   "source": [
    "xtrain.shape"
   ]
  },
  {
   "cell_type": "code",
   "execution_count": 48,
   "metadata": {},
   "outputs": [
    {
     "data": {
      "text/plain": [
       "(45, 4)"
      ]
     },
     "execution_count": 48,
     "metadata": {},
     "output_type": "execute_result"
    }
   ],
   "source": [
    "xtest.shape"
   ]
  },
  {
   "attachments": {},
   "cell_type": "markdown",
   "metadata": {},
   "source": [
    "### Standard Scaling"
   ]
  },
  {
   "cell_type": "code",
   "execution_count": 49,
   "metadata": {},
   "outputs": [],
   "source": [
    "from sklearn.preprocessing import StandardScaler\n",
    "scaler = StandardScaler()\n",
    "xtrain = scaler.fit_transform(xtrain)\n",
    "xtest = scaler.transform(xtest)"
   ]
  },
  {
   "attachments": {},
   "cell_type": "markdown",
   "metadata": {},
   "source": [
    "### Create pipeline"
   ]
  },
  {
   "cell_type": "code",
   "execution_count": 58,
   "metadata": {},
   "outputs": [],
   "source": [
    "from sklearn.pipeline import Pipeline\n",
    "from sklearn.ensemble import RandomForestClassifier\n",
    "from sklearn.linear_model import LogisticRegression\n",
    "from sklearn.ensemble import VotingClassifier\n",
    "from sklearn.preprocessing import StandardScaler\n",
    "\n",
    "# Defining Base models\n",
    "rfc = RandomForestClassifier(n_estimators=100,max_depth=4)\n",
    "lr = LogisticRegression(C=1.0)\n",
    "\n",
    "# Voting Classifier Pipeline\n",
    "vc = VotingClassifier(estimators=[('rfc',rfc),\n",
    "                                  ('lr',lr)],\n",
    "                                  voting='soft')"
   ]
  },
  {
   "cell_type": "code",
   "execution_count": 59,
   "metadata": {},
   "outputs": [
    {
     "data": {
      "text/html": [
       "<style>#sk-container-id-6 {color: black;background-color: white;}#sk-container-id-6 pre{padding: 0;}#sk-container-id-6 div.sk-toggleable {background-color: white;}#sk-container-id-6 label.sk-toggleable__label {cursor: pointer;display: block;width: 100%;margin-bottom: 0;padding: 0.3em;box-sizing: border-box;text-align: center;}#sk-container-id-6 label.sk-toggleable__label-arrow:before {content: \"▸\";float: left;margin-right: 0.25em;color: #696969;}#sk-container-id-6 label.sk-toggleable__label-arrow:hover:before {color: black;}#sk-container-id-6 div.sk-estimator:hover label.sk-toggleable__label-arrow:before {color: black;}#sk-container-id-6 div.sk-toggleable__content {max-height: 0;max-width: 0;overflow: hidden;text-align: left;background-color: #f0f8ff;}#sk-container-id-6 div.sk-toggleable__content pre {margin: 0.2em;color: black;border-radius: 0.25em;background-color: #f0f8ff;}#sk-container-id-6 input.sk-toggleable__control:checked~div.sk-toggleable__content {max-height: 200px;max-width: 100%;overflow: auto;}#sk-container-id-6 input.sk-toggleable__control:checked~label.sk-toggleable__label-arrow:before {content: \"▾\";}#sk-container-id-6 div.sk-estimator input.sk-toggleable__control:checked~label.sk-toggleable__label {background-color: #d4ebff;}#sk-container-id-6 div.sk-label input.sk-toggleable__control:checked~label.sk-toggleable__label {background-color: #d4ebff;}#sk-container-id-6 input.sk-hidden--visually {border: 0;clip: rect(1px 1px 1px 1px);clip: rect(1px, 1px, 1px, 1px);height: 1px;margin: -1px;overflow: hidden;padding: 0;position: absolute;width: 1px;}#sk-container-id-6 div.sk-estimator {font-family: monospace;background-color: #f0f8ff;border: 1px dotted black;border-radius: 0.25em;box-sizing: border-box;margin-bottom: 0.5em;}#sk-container-id-6 div.sk-estimator:hover {background-color: #d4ebff;}#sk-container-id-6 div.sk-parallel-item::after {content: \"\";width: 100%;border-bottom: 1px solid gray;flex-grow: 1;}#sk-container-id-6 div.sk-label:hover label.sk-toggleable__label {background-color: #d4ebff;}#sk-container-id-6 div.sk-serial::before {content: \"\";position: absolute;border-left: 1px solid gray;box-sizing: border-box;top: 0;bottom: 0;left: 50%;z-index: 0;}#sk-container-id-6 div.sk-serial {display: flex;flex-direction: column;align-items: center;background-color: white;padding-right: 0.2em;padding-left: 0.2em;position: relative;}#sk-container-id-6 div.sk-item {position: relative;z-index: 1;}#sk-container-id-6 div.sk-parallel {display: flex;align-items: stretch;justify-content: center;background-color: white;position: relative;}#sk-container-id-6 div.sk-item::before, #sk-container-id-6 div.sk-parallel-item::before {content: \"\";position: absolute;border-left: 1px solid gray;box-sizing: border-box;top: 0;bottom: 0;left: 50%;z-index: -1;}#sk-container-id-6 div.sk-parallel-item {display: flex;flex-direction: column;z-index: 1;position: relative;background-color: white;}#sk-container-id-6 div.sk-parallel-item:first-child::after {align-self: flex-end;width: 50%;}#sk-container-id-6 div.sk-parallel-item:last-child::after {align-self: flex-start;width: 50%;}#sk-container-id-6 div.sk-parallel-item:only-child::after {width: 0;}#sk-container-id-6 div.sk-dashed-wrapped {border: 1px dashed gray;margin: 0 0.4em 0.5em 0.4em;box-sizing: border-box;padding-bottom: 0.4em;background-color: white;}#sk-container-id-6 div.sk-label label {font-family: monospace;font-weight: bold;display: inline-block;line-height: 1.2em;}#sk-container-id-6 div.sk-label-container {text-align: center;}#sk-container-id-6 div.sk-container {/* jupyter's `normalize.less` sets `[hidden] { display: none; }` but bootstrap.min.css set `[hidden] { display: none !important; }` so we also need the `!important` here to be able to override the default hidden behavior on the sphinx rendered scikit-learn.org. See: https://github.com/scikit-learn/scikit-learn/issues/21755 */display: inline-block !important;position: relative;}#sk-container-id-6 div.sk-text-repr-fallback {display: none;}</style><div id=\"sk-container-id-6\" class=\"sk-top-container\"><div class=\"sk-text-repr-fallback\"><pre>VotingClassifier(estimators=[(&#x27;rfc&#x27;, RandomForestClassifier(max_depth=4)),\n",
       "                             (&#x27;lr&#x27;, LogisticRegression())],\n",
       "                 voting=&#x27;soft&#x27;)</pre><b>In a Jupyter environment, please rerun this cell to show the HTML representation or trust the notebook. <br />On GitHub, the HTML representation is unable to render, please try loading this page with nbviewer.org.</b></div><div class=\"sk-container\" hidden><div class=\"sk-item sk-dashed-wrapped\"><div class=\"sk-label-container\"><div class=\"sk-label sk-toggleable\"><input class=\"sk-toggleable__control sk-hidden--visually\" id=\"sk-estimator-id-13\" type=\"checkbox\" ><label for=\"sk-estimator-id-13\" class=\"sk-toggleable__label sk-toggleable__label-arrow\">VotingClassifier</label><div class=\"sk-toggleable__content\"><pre>VotingClassifier(estimators=[(&#x27;rfc&#x27;, RandomForestClassifier(max_depth=4)),\n",
       "                             (&#x27;lr&#x27;, LogisticRegression())],\n",
       "                 voting=&#x27;soft&#x27;)</pre></div></div></div><div class=\"sk-parallel\"><div class=\"sk-parallel-item\"><div class=\"sk-item\"><div class=\"sk-label-container\"><div class=\"sk-label sk-toggleable\"><label>rfc</label></div></div><div class=\"sk-serial\"><div class=\"sk-item\"><div class=\"sk-estimator sk-toggleable\"><input class=\"sk-toggleable__control sk-hidden--visually\" id=\"sk-estimator-id-14\" type=\"checkbox\" ><label for=\"sk-estimator-id-14\" class=\"sk-toggleable__label sk-toggleable__label-arrow\">RandomForestClassifier</label><div class=\"sk-toggleable__content\"><pre>RandomForestClassifier(max_depth=4)</pre></div></div></div></div></div></div><div class=\"sk-parallel-item\"><div class=\"sk-item\"><div class=\"sk-label-container\"><div class=\"sk-label sk-toggleable\"><label>lr</label></div></div><div class=\"sk-serial\"><div class=\"sk-item\"><div class=\"sk-estimator sk-toggleable\"><input class=\"sk-toggleable__control sk-hidden--visually\" id=\"sk-estimator-id-15\" type=\"checkbox\" ><label for=\"sk-estimator-id-15\" class=\"sk-toggleable__label sk-toggleable__label-arrow\">LogisticRegression</label><div class=\"sk-toggleable__content\"><pre>LogisticRegression()</pre></div></div></div></div></div></div></div></div></div></div>"
      ],
      "text/plain": [
       "VotingClassifier(estimators=[('rfc', RandomForestClassifier(max_depth=4)),\n",
       "                             ('lr', LogisticRegression())],\n",
       "                 voting='soft')"
      ]
     },
     "execution_count": 59,
     "metadata": {},
     "output_type": "execute_result"
    }
   ],
   "source": [
    "vc.fit(xtrain,ytrain)"
   ]
  },
  {
   "attachments": {},
   "cell_type": "markdown",
   "metadata": {},
   "source": [
    "### Predicting the test results"
   ]
  },
  {
   "cell_type": "code",
   "execution_count": 61,
   "metadata": {},
   "outputs": [
    {
     "data": {
      "text/plain": [
       "array([1, 0, 2, 1, 1, 0, 1, 2, 1, 1, 2, 0, 0, 0, 0, 1, 2, 1, 1, 2, 0, 2,\n",
       "       0, 2, 2, 2, 2, 2, 0, 0, 0, 0, 1, 0, 0, 2, 1, 0, 0, 0, 2, 1, 1, 0,\n",
       "       0])"
      ]
     },
     "execution_count": 61,
     "metadata": {},
     "output_type": "execute_result"
    }
   ],
   "source": [
    "ypred_test = vc.predict(xtest)\n",
    "ypred_test"
   ]
  },
  {
   "attachments": {},
   "cell_type": "markdown",
   "metadata": {},
   "source": [
    "### Evaluating the model on test data"
   ]
  },
  {
   "cell_type": "code",
   "execution_count": 62,
   "metadata": {},
   "outputs": [
    {
     "data": {
      "text/plain": [
       "<Axes: >"
      ]
     },
     "execution_count": 62,
     "metadata": {},
     "output_type": "execute_result"
    },
    {
     "data": {
      "image/png": "[encoded data removed]",
      "text/plain": [
       "<Figure size 640x480 with 2 Axes>"
      ]
     },
     "metadata": {},
     "output_type": "display_data"
    }
   ],
   "source": [
    "from sklearn.metrics import confusion_matrix\n",
    "import seaborn as sns\n",
    "cf = confusion_matrix(ytest,ypred_test)\n",
    "sns.heatmap(cf,annot=True,fmt='d')"
   ]
  },
  {
   "cell_type": "code",
   "execution_count": 63,
   "metadata": {},
   "outputs": [
    {
     "name": "stdout",
     "output_type": "stream",
     "text": [
      "              precision    recall  f1-score   support\n",
      "\n",
      "           0       1.00      1.00      1.00        19\n",
      "           1       1.00      1.00      1.00        13\n",
      "           2       1.00      1.00      1.00        13\n",
      "\n",
      "    accuracy                           1.00        45\n",
      "   macro avg       1.00      1.00      1.00        45\n",
      "weighted avg       1.00      1.00      1.00        45\n",
      "\n"
     ]
    }
   ],
   "source": [
    "# Classification Report \n",
    "from sklearn.metrics import classification_report\n",
    "print(classification_report(ytest,ypred_test))"
   ]
  },
  {
   "cell_type": "code",
   "execution_count": 64,
   "metadata": {},
   "outputs": [
    {
     "name": "stdout",
     "output_type": "stream",
     "text": [
      "Accuracy on Final Voting Classifier model is 100.00%\n"
     ]
    }
   ],
   "source": [
    "# Accuracy Score\n",
    "from sklearn.metrics import accuracy_score\n",
    "acc = accuracy_score(ytest,ypred_test)\n",
    "print(f'Accuracy on Final Voting Classifier model is {acc*100:.2f}%')"
   ]
  }
 ],
 "metadata": {
  "kernelspec": {
   "display_name": "venv",
   "language": "python",
   "name": "python3"
  },
  "language_info": {
   "codemirror_mode": {
    "name": "ipython",
    "version": 3
   },
   "file_extension": ".py",
   "mimetype": "text/x-python",
   "name": "python",
   "nbconvert_exporter": "python",
   "pygments_lexer": "ipython3",
   "version": "3.10.7"
  },
  "orig_nbformat": 4
 },
 "nbformat": 4,
 "nbformat_minor": 2
}
